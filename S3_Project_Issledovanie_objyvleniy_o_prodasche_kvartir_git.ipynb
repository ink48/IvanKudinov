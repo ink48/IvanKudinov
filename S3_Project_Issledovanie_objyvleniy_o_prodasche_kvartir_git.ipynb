{
 "cells": [
  {
   "cell_type": "markdown",
   "metadata": {
    "id": "-VFbjcb3Awb7"
   },
   "source": [
    "# Исследование объявлений о продаже квартир\n",
    "\n",
    "В вашем распоряжении данные сервиса Яндекс Недвижимость — архив объявлений о продаже квартир в Санкт-Петербурге и соседних населённых пунктах за несколько лет. Вам нужно научиться определять рыночную стоимость объектов недвижимости. Для этого проведите исследовательский анализ данных и установите параметры, влияющие на цену объектов. Это позволит построить автоматизированную систему: она отследит аномалии и мошенническую деятельность.\n",
    "\n",
    "По каждой квартире на продажу доступны два вида данных. Первые вписаны пользователем, вторые — получены автоматически на основе картографических данных. Например, расстояние до центра, аэропорта и других объектов — эти данные автоматически получены из геосервисов. Количество парков и водоёмов также заполняется без участия пользователя."
   ]
  },
  {
   "cell_type": "markdown",
   "metadata": {},
   "source": [
    "Инструкция по выполнению проекта\n",
    "\n",
    "Шаг 1. Откройте файл с данными и изучите общую информацию\n",
    "* Путь к файлу: /datasets/real_estate_data.csv\n",
    "* Загрузите данные из csv-файла в датафрейм c помощью библиотеки pandas.\n",
    "* Изучите общую информацию о полученном датафрейме.\n",
    "* Постройте гистограмму для всех числовых столбцов таблицы на одном графике. Например, для датафрейма data можно построить такую гистограмму командой data.hist(figsize=(15, 20)). Напомним, что параметр figsize задаёт размер графика.\n",
    "Шаг 2. Выполните предобработку данных\n",
    "2.1. Найдите и изучите пропущенные значения в столбцах:\n",
    "* Определите, в каких столбцах есть пропуски.\n",
    "* Заполните пропущенные значения там, где это возможно. Например, если продавец не указал число балконов, то, скорее всего, в его квартире их нет. Такие пропуски можно заменить на число 0. Если логичную замену предложить невозможно, то оставьте пропуски. Пропущенные значения — тоже важный сигнал, который нужно учитывать.\n",
    "* В ячейке с типом markdown укажите причины, которые могли привести к пропускам в данных.\n",
    "2.2. Рассмотрите типы данных в каждом столбце:\n",
    "* Найдите столбцы, в которых нужно изменить тип данных.\n",
    "* Преобразуйте тип данных в выбранных столбцах.\n",
    "* В ячейке с типом markdown поясните, почему нужно изменить тип данных.\n",
    "* Изучите уникальные значения в столбце с названиями и устраните неявные дубликаты. Например, «поселок Рябово» и «поселок городского типа Рябово», «поселок Тельмана» и «посёлок Тельмана» — это обозначения одних и тех же населённых пунктов. Вы можете заменить названия в существующем столбце или создать новый с названиями без дубликатов.\n",
    "Шаг 3. Добавьте в таблицу новые столбцы со следующими параметрами:\n",
    "* цена одного квадратного метра (нужно поделить стоимость объекта на его общую площадь, а затем округлить до двух знаков после запятой);\n",
    "* день недели публикации объявления (0 — понедельник, 1 — вторник и так далее);\n",
    "* месяц публикации объявления;\n",
    "* год публикации объявления;\n",
    "* тип этажа квартиры (значения — «‎первый», «последний», «другой»);\n",
    "* расстояние до центра города в километрах (переведите из м в км и округлите до ближайших целых значений).\n",
    "Шаг 4. Проведите исследовательский анализ данных:\n",
    "4.1. Изучите перечисленные ниже параметры объектов и постройте отдельные гистограммы для каждого из этих параметров. В некоторых параметрах встречаются редкие и выбивающиеся значения. При построении гистограмм удалите их. Например, в столбце ceiling_height может быть указана высота потолков 25 м и 32 м. Логично предположить, что на самом деле это вещественные значения: 2.5 м и 3.2 м. Попробуйте обработать аномалии в этом и других столбцах, если они есть. Если природа аномалии понятна и данные действительно искажены, то восстановите    корректное значение. В противном случае удалите редкие и выбивающиеся значения.\n",
    "* Список параметров:\n",
    "- общая площадь;\n",
    "- жилая площадь;\n",
    "- площадь кухни;\n",
    "- цена объекта;\n",
    "- количество комнат;\n",
    "- высота потолков;\n",
    "- тип этажа квартиры («первый», «последний», «другой»);\n",
    "- общее количество этажей в доме;\n",
    "- расстояние до центра города в метрах;\n",
    "- расстояние до ближайшего парка\n",
    "Опишите все ваши наблюдения по параметрам в ячейке с типом markdown.\n",
    "4.2. Изучите, как быстро продавались квартиры (столбец days_exposition). Этот параметр показывает, сколько дней было размещено каждое объявление.\n",
    "* Постройте гистограмму.\n",
    "* Посчитайте среднее и медиану.\n",
    "* В ячейке типа markdown опишите, сколько времени обычно занимает продажа. Какие продажи можно считать быстрыми, а какие — необычно долгими?\n",
    "4.3. Определите факторы, которые больше всего влияют на общую (полную) стоимость объекта.\n",
    "Изучите, зависит ли цена от:\n",
    "* общей площади;\n",
    "* жилой площади;\n",
    "* площади кухни;\n",
    "* количества комнат;\n",
    "* этажа, на котором расположена квартира (первый, последний, другой);\n",
    "* даты размещения (день недели, месяц, год).\n",
    "Постройте графики, которые покажут зависимость цены от указанных выше параметров. Для подготовки данных перед визуализацией вы можете использовать сводные таблицы.\n",
    "4.4. Посчитайте среднюю цену одного квадратного метра в 10 населённых пунктах с наибольшим числом объявлений — постройте сводную таблицу с количеством объявлений и средней ценой квадратного метра для этих населенных пунктов. Выделите населённые пункты с самой высокой и низкой стоимостью квадратного метра.\n",
    "4.5. Ранее вы посчитали расстояние до центра в километрах. Теперь выделите квартиры в Санкт-Петербурге с помощью столбца locality_name и вычислите их среднюю стоимость на разном удалении от центра. Учитывайте каждый километр расстояния: узнайте среднюю цену квартир в одном километре от центра, в двух и так далее. Опишите, как стоимость объектов зависит от расстояния до центра города — постройте график изменения средней цены для каждого километра от центра Петербурга.\n",
    "Шаг 5. Напишите общий вывод\n",
    "* Опишите полученные результаты и зафиксируйте итоговый вывод проведённого исследования.\n",
    "Оформление\n",
    "\n",
    "Описание данных\n",
    "* airports_nearest — расстояние до ближайшего аэропорта в метрах (м)\n",
    "* balcony — число балконов\n",
    "* ceiling_height — высота потолков (м)\n",
    "* cityCenters_nearest — расстояние до центра города (м)\n",
    "* days_exposition — сколько дней было размещено объявление (от публикации до снятия)\n",
    "* first_day_exposition — дата публикации\n",
    "* floor — этаж\n",
    "* floors_total — всего этажей в доме\n",
    "* is_apartment — апартаменты (булев тип)\n",
    "* kitchen_area — площадь кухни в квадратных метрах (м²)\n",
    "* last_price — цена на момент снятия с публикации\n",
    "* living_area — жилая площадь в квадратных метрах (м²)\n",
    "* locality_name — название населённого пункта\n",
    "* open_plan — свободная планировка (булев тип)\n",
    "* parks_around3000 — число парков в радиусе 3 км\n",
    "* parks_nearest — расстояние до ближайшего парка (м)\n",
    "* ponds_around3000 — число водоёмов в радиусе 3 км\n",
    "* ponds_nearest — расстояние до ближайшего водоёма (м)\n",
    "* rooms — число комнат\n",
    "* studio — квартира-студия (булев тип)\n",
    "* total_area — общая площадь квартиры в квадратных метрах (м²)\n",
    "* total_images — число фотографий квартиры в объявлении"
   ]
  },
  {
   "cell_type": "markdown",
   "metadata": {
    "id": "aeFLH07FAwb9"
   },
   "source": [
    "### Откройте файл с данными и изучите общую информацию"
   ]
  },
  {
   "cell_type": "code",
   "execution_count": 8,
   "metadata": {},
   "outputs": [],
   "source": [
    "# 1. Загружаем данные из csv-файла в датафрейм c помощью библиотеки pandas\n",
    "import pandas as pd"
   ]
  },
  {
   "cell_type": "code",
   "execution_count": 9,
   "metadata": {},
   "outputs": [],
   "source": [
    "# Импортируем библиотеку matplotlib для работы с графиками\n",
    "import matplotlib.pyplot as plt"
   ]
  },
  {
   "cell_type": "code",
   "execution_count": 10,
   "metadata": {
    "id": "7MZxY65pAwb9"
   },
   "outputs": [],
   "source": [
    "# Прочитаем файл и разобъем данные по колонкам\n",
    "data = pd.read_csv('https://code.s3.yandex.net/datasets/real_estate_data.csv', sep='\\t')"
   ]
  },
  {
   "cell_type": "code",
   "execution_count": 11,
   "metadata": {},
   "outputs": [
    {
     "name": "stdout",
     "output_type": "stream",
     "text": [
      "<class 'pandas.core.frame.DataFrame'>\n",
      "RangeIndex: 23699 entries, 0 to 23698\n",
      "Data columns (total 22 columns):\n",
      " #   Column                Non-Null Count  Dtype  \n",
      "---  ------                --------------  -----  \n",
      " 0   total_images          23699 non-null  int64  \n",
      " 1   last_price            23699 non-null  float64\n",
      " 2   total_area            23699 non-null  float64\n",
      " 3   first_day_exposition  23699 non-null  object \n",
      " 4   rooms                 23699 non-null  int64  \n",
      " 5   ceiling_height        14504 non-null  float64\n",
      " 6   floors_total          23613 non-null  float64\n",
      " 7   living_area           21796 non-null  float64\n",
      " 8   floor                 23699 non-null  int64  \n",
      " 9   is_apartment          2775 non-null   object \n",
      " 10  studio                23699 non-null  bool   \n",
      " 11  open_plan             23699 non-null  bool   \n",
      " 12  kitchen_area          21421 non-null  float64\n",
      " 13  balcony               12180 non-null  float64\n",
      " 14  locality_name         23650 non-null  object \n",
      " 15  airports_nearest      18157 non-null  float64\n",
      " 16  cityCenters_nearest   18180 non-null  float64\n",
      " 17  parks_around3000      18181 non-null  float64\n",
      " 18  parks_nearest         8079 non-null   float64\n",
      " 19  ponds_around3000      18181 non-null  float64\n",
      " 20  ponds_nearest         9110 non-null   float64\n",
      " 21  days_exposition       20518 non-null  float64\n",
      "dtypes: bool(2), float64(14), int64(3), object(3)\n",
      "memory usage: 3.7+ MB\n"
     ]
    }
   ],
   "source": [
    "# 2. Изучим типы данных и общую информацию о полученном датафрейме\n",
    "data.info()"
   ]
  },
  {
   "cell_type": "code",
   "execution_count": 12,
   "metadata": {},
   "outputs": [],
   "source": [
    "# Приведем название столбца cityCenters_nearest к правилу красивого кода:\n",
    "data.rename(columns = {'cityCenters_nearest':'city_centers_nearest'}, inplace = True )"
   ]
  },
  {
   "cell_type": "code",
   "execution_count": 13,
   "metadata": {},
   "outputs": [
    {
     "data": {
      "text/html": [
       "<div>\n",
       "<style scoped>\n",
       "    .dataframe tbody tr th:only-of-type {\n",
       "        vertical-align: middle;\n",
       "    }\n",
       "\n",
       "    .dataframe tbody tr th {\n",
       "        vertical-align: top;\n",
       "    }\n",
       "\n",
       "    .dataframe thead th {\n",
       "        text-align: right;\n",
       "    }\n",
       "</style>\n",
       "<table border=\"1\" class=\"dataframe\">\n",
       "  <thead>\n",
       "    <tr style=\"text-align: right;\">\n",
       "      <th></th>\n",
       "      <th>total_images</th>\n",
       "      <th>last_price</th>\n",
       "      <th>total_area</th>\n",
       "      <th>first_day_exposition</th>\n",
       "      <th>rooms</th>\n",
       "      <th>ceiling_height</th>\n",
       "      <th>floors_total</th>\n",
       "      <th>living_area</th>\n",
       "      <th>floor</th>\n",
       "      <th>is_apartment</th>\n",
       "      <th>...</th>\n",
       "      <th>kitchen_area</th>\n",
       "      <th>balcony</th>\n",
       "      <th>locality_name</th>\n",
       "      <th>airports_nearest</th>\n",
       "      <th>city_centers_nearest</th>\n",
       "      <th>parks_around3000</th>\n",
       "      <th>parks_nearest</th>\n",
       "      <th>ponds_around3000</th>\n",
       "      <th>ponds_nearest</th>\n",
       "      <th>days_exposition</th>\n",
       "    </tr>\n",
       "  </thead>\n",
       "  <tbody>\n",
       "    <tr>\n",
       "      <th>0</th>\n",
       "      <td>20</td>\n",
       "      <td>13000000.0</td>\n",
       "      <td>108.00</td>\n",
       "      <td>2019-03-07T00:00:00</td>\n",
       "      <td>3</td>\n",
       "      <td>2.70</td>\n",
       "      <td>16.0</td>\n",
       "      <td>51.00</td>\n",
       "      <td>8</td>\n",
       "      <td>NaN</td>\n",
       "      <td>...</td>\n",
       "      <td>25.00</td>\n",
       "      <td>NaN</td>\n",
       "      <td>Санкт-Петербург</td>\n",
       "      <td>18863.0</td>\n",
       "      <td>16028.0</td>\n",
       "      <td>1.0</td>\n",
       "      <td>482.0</td>\n",
       "      <td>2.0</td>\n",
       "      <td>755.0</td>\n",
       "      <td>NaN</td>\n",
       "    </tr>\n",
       "    <tr>\n",
       "      <th>1</th>\n",
       "      <td>7</td>\n",
       "      <td>3350000.0</td>\n",
       "      <td>40.40</td>\n",
       "      <td>2018-12-04T00:00:00</td>\n",
       "      <td>1</td>\n",
       "      <td>NaN</td>\n",
       "      <td>11.0</td>\n",
       "      <td>18.60</td>\n",
       "      <td>1</td>\n",
       "      <td>NaN</td>\n",
       "      <td>...</td>\n",
       "      <td>11.00</td>\n",
       "      <td>2.0</td>\n",
       "      <td>посёлок Шушары</td>\n",
       "      <td>12817.0</td>\n",
       "      <td>18603.0</td>\n",
       "      <td>0.0</td>\n",
       "      <td>NaN</td>\n",
       "      <td>0.0</td>\n",
       "      <td>NaN</td>\n",
       "      <td>81.0</td>\n",
       "    </tr>\n",
       "    <tr>\n",
       "      <th>2</th>\n",
       "      <td>10</td>\n",
       "      <td>5196000.0</td>\n",
       "      <td>56.00</td>\n",
       "      <td>2015-08-20T00:00:00</td>\n",
       "      <td>2</td>\n",
       "      <td>NaN</td>\n",
       "      <td>5.0</td>\n",
       "      <td>34.30</td>\n",
       "      <td>4</td>\n",
       "      <td>NaN</td>\n",
       "      <td>...</td>\n",
       "      <td>8.30</td>\n",
       "      <td>0.0</td>\n",
       "      <td>Санкт-Петербург</td>\n",
       "      <td>21741.0</td>\n",
       "      <td>13933.0</td>\n",
       "      <td>1.0</td>\n",
       "      <td>90.0</td>\n",
       "      <td>2.0</td>\n",
       "      <td>574.0</td>\n",
       "      <td>558.0</td>\n",
       "    </tr>\n",
       "    <tr>\n",
       "      <th>3</th>\n",
       "      <td>0</td>\n",
       "      <td>64900000.0</td>\n",
       "      <td>159.00</td>\n",
       "      <td>2015-07-24T00:00:00</td>\n",
       "      <td>3</td>\n",
       "      <td>NaN</td>\n",
       "      <td>14.0</td>\n",
       "      <td>NaN</td>\n",
       "      <td>9</td>\n",
       "      <td>NaN</td>\n",
       "      <td>...</td>\n",
       "      <td>NaN</td>\n",
       "      <td>0.0</td>\n",
       "      <td>Санкт-Петербург</td>\n",
       "      <td>28098.0</td>\n",
       "      <td>6800.0</td>\n",
       "      <td>2.0</td>\n",
       "      <td>84.0</td>\n",
       "      <td>3.0</td>\n",
       "      <td>234.0</td>\n",
       "      <td>424.0</td>\n",
       "    </tr>\n",
       "    <tr>\n",
       "      <th>4</th>\n",
       "      <td>2</td>\n",
       "      <td>10000000.0</td>\n",
       "      <td>100.00</td>\n",
       "      <td>2018-06-19T00:00:00</td>\n",
       "      <td>2</td>\n",
       "      <td>3.03</td>\n",
       "      <td>14.0</td>\n",
       "      <td>32.00</td>\n",
       "      <td>13</td>\n",
       "      <td>NaN</td>\n",
       "      <td>...</td>\n",
       "      <td>41.00</td>\n",
       "      <td>NaN</td>\n",
       "      <td>Санкт-Петербург</td>\n",
       "      <td>31856.0</td>\n",
       "      <td>8098.0</td>\n",
       "      <td>2.0</td>\n",
       "      <td>112.0</td>\n",
       "      <td>1.0</td>\n",
       "      <td>48.0</td>\n",
       "      <td>121.0</td>\n",
       "    </tr>\n",
       "    <tr>\n",
       "      <th>5</th>\n",
       "      <td>10</td>\n",
       "      <td>2890000.0</td>\n",
       "      <td>30.40</td>\n",
       "      <td>2018-09-10T00:00:00</td>\n",
       "      <td>1</td>\n",
       "      <td>NaN</td>\n",
       "      <td>12.0</td>\n",
       "      <td>14.40</td>\n",
       "      <td>5</td>\n",
       "      <td>NaN</td>\n",
       "      <td>...</td>\n",
       "      <td>9.10</td>\n",
       "      <td>NaN</td>\n",
       "      <td>городской посёлок Янино-1</td>\n",
       "      <td>NaN</td>\n",
       "      <td>NaN</td>\n",
       "      <td>NaN</td>\n",
       "      <td>NaN</td>\n",
       "      <td>NaN</td>\n",
       "      <td>NaN</td>\n",
       "      <td>55.0</td>\n",
       "    </tr>\n",
       "    <tr>\n",
       "      <th>6</th>\n",
       "      <td>6</td>\n",
       "      <td>3700000.0</td>\n",
       "      <td>37.30</td>\n",
       "      <td>2017-11-02T00:00:00</td>\n",
       "      <td>1</td>\n",
       "      <td>NaN</td>\n",
       "      <td>26.0</td>\n",
       "      <td>10.60</td>\n",
       "      <td>6</td>\n",
       "      <td>NaN</td>\n",
       "      <td>...</td>\n",
       "      <td>14.40</td>\n",
       "      <td>1.0</td>\n",
       "      <td>посёлок Парголово</td>\n",
       "      <td>52996.0</td>\n",
       "      <td>19143.0</td>\n",
       "      <td>0.0</td>\n",
       "      <td>NaN</td>\n",
       "      <td>0.0</td>\n",
       "      <td>NaN</td>\n",
       "      <td>155.0</td>\n",
       "    </tr>\n",
       "    <tr>\n",
       "      <th>7</th>\n",
       "      <td>5</td>\n",
       "      <td>7915000.0</td>\n",
       "      <td>71.60</td>\n",
       "      <td>2019-04-18T00:00:00</td>\n",
       "      <td>2</td>\n",
       "      <td>NaN</td>\n",
       "      <td>24.0</td>\n",
       "      <td>NaN</td>\n",
       "      <td>22</td>\n",
       "      <td>NaN</td>\n",
       "      <td>...</td>\n",
       "      <td>18.90</td>\n",
       "      <td>2.0</td>\n",
       "      <td>Санкт-Петербург</td>\n",
       "      <td>23982.0</td>\n",
       "      <td>11634.0</td>\n",
       "      <td>0.0</td>\n",
       "      <td>NaN</td>\n",
       "      <td>0.0</td>\n",
       "      <td>NaN</td>\n",
       "      <td>NaN</td>\n",
       "    </tr>\n",
       "    <tr>\n",
       "      <th>8</th>\n",
       "      <td>20</td>\n",
       "      <td>2900000.0</td>\n",
       "      <td>33.16</td>\n",
       "      <td>2018-05-23T00:00:00</td>\n",
       "      <td>1</td>\n",
       "      <td>NaN</td>\n",
       "      <td>27.0</td>\n",
       "      <td>15.43</td>\n",
       "      <td>26</td>\n",
       "      <td>NaN</td>\n",
       "      <td>...</td>\n",
       "      <td>8.81</td>\n",
       "      <td>NaN</td>\n",
       "      <td>посёлок Мурино</td>\n",
       "      <td>NaN</td>\n",
       "      <td>NaN</td>\n",
       "      <td>NaN</td>\n",
       "      <td>NaN</td>\n",
       "      <td>NaN</td>\n",
       "      <td>NaN</td>\n",
       "      <td>189.0</td>\n",
       "    </tr>\n",
       "    <tr>\n",
       "      <th>9</th>\n",
       "      <td>18</td>\n",
       "      <td>5400000.0</td>\n",
       "      <td>61.00</td>\n",
       "      <td>2017-02-26T00:00:00</td>\n",
       "      <td>3</td>\n",
       "      <td>2.50</td>\n",
       "      <td>9.0</td>\n",
       "      <td>43.60</td>\n",
       "      <td>7</td>\n",
       "      <td>NaN</td>\n",
       "      <td>...</td>\n",
       "      <td>6.50</td>\n",
       "      <td>2.0</td>\n",
       "      <td>Санкт-Петербург</td>\n",
       "      <td>50898.0</td>\n",
       "      <td>15008.0</td>\n",
       "      <td>0.0</td>\n",
       "      <td>NaN</td>\n",
       "      <td>0.0</td>\n",
       "      <td>NaN</td>\n",
       "      <td>289.0</td>\n",
       "    </tr>\n",
       "  </tbody>\n",
       "</table>\n",
       "<p>10 rows × 22 columns</p>\n",
       "</div>"
      ],
      "text/plain": [
       "   total_images  last_price  total_area first_day_exposition  rooms  \\\n",
       "0            20  13000000.0      108.00  2019-03-07T00:00:00      3   \n",
       "1             7   3350000.0       40.40  2018-12-04T00:00:00      1   \n",
       "2            10   5196000.0       56.00  2015-08-20T00:00:00      2   \n",
       "3             0  64900000.0      159.00  2015-07-24T00:00:00      3   \n",
       "4             2  10000000.0      100.00  2018-06-19T00:00:00      2   \n",
       "5            10   2890000.0       30.40  2018-09-10T00:00:00      1   \n",
       "6             6   3700000.0       37.30  2017-11-02T00:00:00      1   \n",
       "7             5   7915000.0       71.60  2019-04-18T00:00:00      2   \n",
       "8            20   2900000.0       33.16  2018-05-23T00:00:00      1   \n",
       "9            18   5400000.0       61.00  2017-02-26T00:00:00      3   \n",
       "\n",
       "   ceiling_height  floors_total  living_area  floor is_apartment  ...  \\\n",
       "0            2.70          16.0        51.00      8          NaN  ...   \n",
       "1             NaN          11.0        18.60      1          NaN  ...   \n",
       "2             NaN           5.0        34.30      4          NaN  ...   \n",
       "3             NaN          14.0          NaN      9          NaN  ...   \n",
       "4            3.03          14.0        32.00     13          NaN  ...   \n",
       "5             NaN          12.0        14.40      5          NaN  ...   \n",
       "6             NaN          26.0        10.60      6          NaN  ...   \n",
       "7             NaN          24.0          NaN     22          NaN  ...   \n",
       "8             NaN          27.0        15.43     26          NaN  ...   \n",
       "9            2.50           9.0        43.60      7          NaN  ...   \n",
       "\n",
       "   kitchen_area  balcony              locality_name  airports_nearest  \\\n",
       "0         25.00      NaN            Санкт-Петербург           18863.0   \n",
       "1         11.00      2.0             посёлок Шушары           12817.0   \n",
       "2          8.30      0.0            Санкт-Петербург           21741.0   \n",
       "3           NaN      0.0            Санкт-Петербург           28098.0   \n",
       "4         41.00      NaN            Санкт-Петербург           31856.0   \n",
       "5          9.10      NaN  городской посёлок Янино-1               NaN   \n",
       "6         14.40      1.0          посёлок Парголово           52996.0   \n",
       "7         18.90      2.0            Санкт-Петербург           23982.0   \n",
       "8          8.81      NaN             посёлок Мурино               NaN   \n",
       "9          6.50      2.0            Санкт-Петербург           50898.0   \n",
       "\n",
       "  city_centers_nearest  parks_around3000  parks_nearest  ponds_around3000  \\\n",
       "0              16028.0               1.0          482.0               2.0   \n",
       "1              18603.0               0.0            NaN               0.0   \n",
       "2              13933.0               1.0           90.0               2.0   \n",
       "3               6800.0               2.0           84.0               3.0   \n",
       "4               8098.0               2.0          112.0               1.0   \n",
       "5                  NaN               NaN            NaN               NaN   \n",
       "6              19143.0               0.0            NaN               0.0   \n",
       "7              11634.0               0.0            NaN               0.0   \n",
       "8                  NaN               NaN            NaN               NaN   \n",
       "9              15008.0               0.0            NaN               0.0   \n",
       "\n",
       "   ponds_nearest  days_exposition  \n",
       "0          755.0              NaN  \n",
       "1            NaN             81.0  \n",
       "2          574.0            558.0  \n",
       "3          234.0            424.0  \n",
       "4           48.0            121.0  \n",
       "5            NaN             55.0  \n",
       "6            NaN            155.0  \n",
       "7            NaN              NaN  \n",
       "8            NaN            189.0  \n",
       "9            NaN            289.0  \n",
       "\n",
       "[10 rows x 22 columns]"
      ]
     },
     "metadata": {},
     "output_type": "display_data"
    }
   ],
   "source": [
    "# Выводим первые 10 строк таблицы\n",
    "display(data.head(10))"
   ]
  },
  {
   "cell_type": "code",
   "execution_count": 14,
   "metadata": {},
   "outputs": [
    {
     "data": {
      "text/plain": [
       "array([[<Axes: title={'center': 'total_images'}>,\n",
       "        <Axes: title={'center': 'last_price'}>,\n",
       "        <Axes: title={'center': 'total_area'}>,\n",
       "        <Axes: title={'center': 'rooms'}>],\n",
       "       [<Axes: title={'center': 'ceiling_height'}>,\n",
       "        <Axes: title={'center': 'floors_total'}>,\n",
       "        <Axes: title={'center': 'living_area'}>,\n",
       "        <Axes: title={'center': 'floor'}>],\n",
       "       [<Axes: title={'center': 'kitchen_area'}>,\n",
       "        <Axes: title={'center': 'balcony'}>,\n",
       "        <Axes: title={'center': 'airports_nearest'}>,\n",
       "        <Axes: title={'center': 'city_centers_nearest'}>],\n",
       "       [<Axes: title={'center': 'parks_around3000'}>,\n",
       "        <Axes: title={'center': 'parks_nearest'}>,\n",
       "        <Axes: title={'center': 'ponds_around3000'}>,\n",
       "        <Axes: title={'center': 'ponds_nearest'}>],\n",
       "       [<Axes: title={'center': 'days_exposition'}>, <Axes: >, <Axes: >,\n",
       "        <Axes: >]], dtype=object)"
      ]
     },
     "execution_count": 14,
     "metadata": {},
     "output_type": "execute_result"
    },
    {
     "data": {
      "image/png": "[encoded data removed]",
      "text/plain": [
       "<Figure size 1500x2000 with 20 Axes>"
      ]
     },
     "metadata": {},
     "output_type": "display_data"
    }
   ],
   "source": [
    "# 3. Построим гистограммы\n",
    "data.hist(figsize=(15, 20))"
   ]
  },
  {
   "cell_type": "code",
   "execution_count": 15,
   "metadata": {},
   "outputs": [
    {
     "data": {
      "text/plain": [
       "0"
      ]
     },
     "execution_count": 15,
     "metadata": {},
     "output_type": "execute_result"
    }
   ],
   "source": [
    "data.duplicated().sum()"
   ]
  },
  {
   "cell_type": "markdown",
   "metadata": {},
   "source": [
    "* По полученным исходным данным привел названия столбцов к правилу \"красивого кода\". \n",
    "* В столбцах есть очень много пропусков и есть несоответствие содержимого типу данных.\n",
    "* Сделал проверку на явные дубликаты. Явных дубликатов в файле нет.\n",
    "* Построенные гистограммы позволили визуализировать значения ячеек, но выводы по ним преждевременно делать, так как нужно выполнить предобработку данных."
   ]
  },
  {
   "cell_type": "markdown",
   "metadata": {
    "id": "-O5NtivEAwb9"
   },
   "source": [
    "### Выполните предобработку данных"
   ]
  },
  {
   "cell_type": "code",
   "execution_count": 16,
   "metadata": {
    "id": "7v3vAeTuAwb-"
   },
   "outputs": [
    {
     "data": {
      "text/plain": [
       "is_apartment            20924\n",
       "parks_nearest           15620\n",
       "ponds_nearest           14589\n",
       "balcony                 11519\n",
       "ceiling_height           9195\n",
       "airports_nearest         5542\n",
       "city_centers_nearest     5519\n",
       "ponds_around3000         5518\n",
       "parks_around3000         5518\n",
       "days_exposition          3181\n",
       "kitchen_area             2278\n",
       "living_area              1903\n",
       "floors_total               86\n",
       "locality_name              49\n",
       "total_images                0\n",
       "last_price                  0\n",
       "studio                      0\n",
       "floor                       0\n",
       "rooms                       0\n",
       "first_day_exposition        0\n",
       "total_area                  0\n",
       "open_plan                   0\n",
       "dtype: int64"
      ]
     },
     "execution_count": 16,
     "metadata": {},
     "output_type": "execute_result"
    }
   ],
   "source": [
    "# 1. Найдем и изучим пропущенные значения в столбцах:\n",
    "# Определяем в каких столбцах есть пропуски\n",
    "data.isna().sum().sort_values(ascending=False)"
   ]
  },
  {
   "cell_type": "code",
   "execution_count": 17,
   "metadata": {},
   "outputs": [
    {
     "data": {
      "text/plain": [
       "is_apartment            0.88\n",
       "parks_nearest           0.66\n",
       "ponds_nearest           0.62\n",
       "balcony                 0.49\n",
       "ceiling_height          0.39\n",
       "airports_nearest        0.23\n",
       "city_centers_nearest    0.23\n",
       "ponds_around3000        0.23\n",
       "parks_around3000        0.23\n",
       "days_exposition         0.13\n",
       "kitchen_area            0.10\n",
       "living_area             0.08\n",
       "floors_total            0.00\n",
       "locality_name           0.00\n",
       "total_images            0.00\n",
       "last_price              0.00\n",
       "studio                  0.00\n",
       "floor                   0.00\n",
       "rooms                   0.00\n",
       "first_day_exposition    0.00\n",
       "total_area              0.00\n",
       "open_plan               0.00\n",
       "dtype: float64"
      ]
     },
     "execution_count": 17,
     "metadata": {},
     "output_type": "execute_result"
    }
   ],
   "source": [
    "# Проверим пропуски в процентном отношении от общего числа данных\n",
    "data_pass = data.isna().sum().sort_values(ascending=False)\n",
    "data_total = 23699 \n",
    "data_percentage_ratio = data_pass / data_total\n",
    "data_percentage_ratio.round(2)"
   ]
  },
  {
   "cell_type": "code",
   "execution_count": 18,
   "metadata": {},
   "outputs": [
    {
     "data": {
      "text/plain": [
       "ceiling_height\n",
       "2.50    3515\n",
       "2.60    1646\n",
       "2.70    1574\n",
       "3.00    1112\n",
       "2.80     993\n",
       "        ... \n",
       "5.00       1\n",
       "2.20       1\n",
       "2.34       1\n",
       "3.93       1\n",
       "3.59       1\n",
       "Name: count, Length: 183, dtype: int64"
      ]
     },
     "execution_count": 18,
     "metadata": {},
     "output_type": "execute_result"
    }
   ],
   "source": [
    "# Начнём заполнение пропусков по названиям столбцов сверху вниз.\n",
    "# Столбец ceiling_height\n",
    "# Изучим значения столбца\n",
    "data['ceiling_height'].value_counts()"
   ]
  },
  {
   "cell_type": "code",
   "execution_count": 19,
   "metadata": {},
   "outputs": [
    {
     "data": {
      "text/plain": [
       "count    14504.000000\n",
       "mean         2.771499\n",
       "std          1.261056\n",
       "min          1.000000\n",
       "25%          2.520000\n",
       "50%          2.650000\n",
       "75%          2.800000\n",
       "max        100.000000\n",
       "Name: ceiling_height, dtype: float64"
      ]
     },
     "execution_count": 19,
     "metadata": {},
     "output_type": "execute_result"
    }
   ],
   "source": [
    "# Продолжаем изучать значения столбца\n",
    "data['ceiling_height'].describe()"
   ]
  },
  {
   "cell_type": "code",
   "execution_count": 20,
   "metadata": {},
   "outputs": [
    {
     "data": {
      "text/plain": [
       "2.65"
      ]
     },
     "execution_count": 20,
     "metadata": {},
     "output_type": "execute_result"
    }
   ],
   "source": [
    "# Рассчитаем медианное значение высоты потолка\n",
    "data['ceiling_height'].median()"
   ]
  },
  {
   "cell_type": "code",
   "execution_count": 21,
   "metadata": {},
   "outputs": [],
   "source": [
    "# Так как в данных есть большие значения выбросов, создадим функцию, которая поставит запятую в нужное место\n",
    "def ceiling_anomaly(row):\n",
    "    if row['ceiling_height'] > 25:\n",
    "        return row['ceiling_height'] / 10\n",
    "    else:\n",
    "        return row['ceiling_height']\n",
    "data['ceiling_height'] = data.apply(ceiling_anomaly, axis=1) "
   ]
  },
  {
   "cell_type": "code",
   "execution_count": 22,
   "metadata": {},
   "outputs": [
    {
     "data": {
      "text/plain": [
       "count    14504.000000\n",
       "mean         2.744599\n",
       "std          0.648355\n",
       "min          1.000000\n",
       "25%          2.520000\n",
       "50%          2.650000\n",
       "75%          2.800000\n",
       "max         25.000000\n",
       "Name: ceiling_height, dtype: float64"
      ]
     },
     "execution_count": 22,
     "metadata": {},
     "output_type": "execute_result"
    }
   ],
   "source": [
    "# Проверим обработанные данные\n",
    "data['ceiling_height'].describe()"
   ]
  },
  {
   "cell_type": "code",
   "execution_count": 23,
   "metadata": {},
   "outputs": [],
   "source": [
    "# Повторно рассчитаем медианное значение высоты потолка\n",
    "heught = data['ceiling_height'].median()"
   ]
  },
  {
   "cell_type": "markdown",
   "metadata": {},
   "source": [
    "После обработки данных, значения стали чище. Средняя высота потолка совсем незначительно уменьшилась (на 0,03 м). Медианное значение не изменилось. Заполним пропуски медианным значением."
   ]
  },
  {
   "cell_type": "code",
   "execution_count": 24,
   "metadata": {},
   "outputs": [],
   "source": [
    "# Заменим высоту потолка медианным значением, чтобы исключить влияние выбросов на высоту потолка\n",
    "data['ceiling_height'] = data['ceiling_height'].fillna(heught)"
   ]
  },
  {
   "cell_type": "code",
   "execution_count": 25,
   "metadata": {},
   "outputs": [
    {
     "data": {
      "text/plain": [
       "floors_total\n",
       "5.0     5788\n",
       "9.0     3761\n",
       "16.0    1376\n",
       "12.0    1362\n",
       "4.0     1200\n",
       "10.0    1174\n",
       "25.0    1075\n",
       "6.0      914\n",
       "17.0     833\n",
       "3.0      668\n",
       "7.0      592\n",
       "14.0     553\n",
       "18.0     505\n",
       "24.0     469\n",
       "8.0      390\n",
       "2.0      383\n",
       "15.0     365\n",
       "23.0     352\n",
       "19.0     339\n",
       "22.0     286\n",
       "20.0     271\n",
       "13.0     229\n",
       "11.0     203\n",
       "27.0     164\n",
       "21.0     158\n",
       "26.0     124\n",
       "1.0       25\n",
       "35.0      24\n",
       "28.0      21\n",
       "36.0       3\n",
       "34.0       1\n",
       "60.0       1\n",
       "29.0       1\n",
       "33.0       1\n",
       "52.0       1\n",
       "37.0       1\n",
       "Name: count, dtype: int64"
      ]
     },
     "execution_count": 25,
     "metadata": {},
     "output_type": "execute_result"
    }
   ],
   "source": [
    "# Столбец floors_total\n",
    "data['floors_total'].value_counts()"
   ]
  },
  {
   "cell_type": "code",
   "execution_count": 26,
   "metadata": {},
   "outputs": [
    {
     "data": {
      "text/plain": [
       "count    23613.000000\n",
       "mean        10.673824\n",
       "std          6.597173\n",
       "min          1.000000\n",
       "25%          5.000000\n",
       "50%          9.000000\n",
       "75%         16.000000\n",
       "max         60.000000\n",
       "Name: floors_total, dtype: float64"
      ]
     },
     "execution_count": 26,
     "metadata": {},
     "output_type": "execute_result"
    }
   ],
   "source": [
    "data['floors_total'].describe()"
   ]
  },
  {
   "cell_type": "code",
   "execution_count": 27,
   "metadata": {},
   "outputs": [
    {
     "data": {
      "text/plain": [
       "9.0"
      ]
     },
     "execution_count": 27,
     "metadata": {},
     "output_type": "execute_result"
    }
   ],
   "source": [
    "# Рассчитаем медианное значение общего количества этажей в доме\n",
    "floors = data['floors_total'].median()\n",
    "floors"
   ]
  },
  {
   "cell_type": "code",
   "execution_count": 28,
   "metadata": {},
   "outputs": [
    {
     "data": {
      "text/plain": [
       "33"
      ]
     },
     "execution_count": 28,
     "metadata": {},
     "output_type": "execute_result"
    }
   ],
   "source": [
    "# Проверим максимальный этаж в объявлениях\n",
    "data['floor'].max()"
   ]
  },
  {
   "cell_type": "code",
   "execution_count": 29,
   "metadata": {},
   "outputs": [
    {
     "data": {
      "text/plain": [
       "array([0.5 , 0.09, 0.8 , 0.64, 0.93, 0.42, 0.23, 0.92, 0.96, 0.78, 0.25,\n",
       "       1.  , 0.17, 0.36, 0.2 , 0.41, 0.4 , 0.6 , 0.33, 0.65, 0.79, 0.22,\n",
       "       0.56, 0.19, 0.85, 0.57, 0.14, 0.38, 0.75, 0.52, 0.9 , 0.67, 0.47,\n",
       "       0.89, 0.1 , 0.83, 0.32, 0.07, 0.27, 0.44, 0.3 , 0.11, 0.7 , 0.88,\n",
       "       0.24, 0.18, 0.08, 0.31, 0.86, 0.35, 0.04, 0.48, 0.39, 0.43, 0.68,\n",
       "       0.12, 0.29, 0.69, 0.82, 0.71, 0.73, 0.94, 0.21, 0.58, 0.81, 0.55,\n",
       "       0.84, 0.62, 0.76, 0.61, 0.28, 0.77, 0.16, 0.46, 1.33, 0.06, 0.45,\n",
       "       0.59, 0.54, 0.91, 0.95, 0.72, 0.15, 0.53, 0.74, 0.66, 0.05, 0.37,\n",
       "       0.26, 0.87, 0.13, 0.63, 2.44, 1.67, 2.  , 1.44, 2.67, 0.34, 2.33,\n",
       "       1.22, 0.49, 2.11, 2.22, 1.56, 0.97, 1.89, 2.56, 1.11])"
      ]
     },
     "execution_count": 29,
     "metadata": {},
     "output_type": "execute_result"
    }
   ],
   "source": [
    "# Проверим отношение этажа расположения квартиры к общему количеству этажей, заполненных медианой\n",
    "data_percentage_floor = data['floor'] / data['floors_total'].fillna(floors)\n",
    "data_percentage_floor.round(2).unique()"
   ]
  },
  {
   "cell_type": "markdown",
   "metadata": {},
   "source": [
    "Как видим из полученных результатов, есть отношения этажа расположения квартиры к общему количеству этажей, заполненных медианой, превышающие единицу, то есть квартира располагается на этаже, выше чем количество этажей в доме.\n",
    "Оставим данные пропуски как есть."
   ]
  },
  {
   "cell_type": "code",
   "execution_count": 30,
   "metadata": {},
   "outputs": [
    {
     "data": {
      "text/plain": [
       "living_area\n",
       "18.00     882\n",
       "17.00     675\n",
       "30.00     598\n",
       "16.00     486\n",
       "20.00     481\n",
       "         ... \n",
       "76.70       1\n",
       "39.41       1\n",
       "124.90      1\n",
       "36.07       1\n",
       "42.55       1\n",
       "Name: count, Length: 1782, dtype: int64"
      ]
     },
     "execution_count": 30,
     "metadata": {},
     "output_type": "execute_result"
    }
   ],
   "source": [
    "# Столбец living_area\n",
    "data['living_area'].value_counts()"
   ]
  },
  {
   "cell_type": "code",
   "execution_count": 31,
   "metadata": {},
   "outputs": [
    {
     "data": {
      "text/plain": [
       "count    21796.000000\n",
       "mean        34.457852\n",
       "std         22.030445\n",
       "min          2.000000\n",
       "25%         18.600000\n",
       "50%         30.000000\n",
       "75%         42.300000\n",
       "max        409.700000\n",
       "Name: living_area, dtype: float64"
      ]
     },
     "execution_count": 31,
     "metadata": {},
     "output_type": "execute_result"
    }
   ],
   "source": [
    "data['living_area'].describe()"
   ]
  },
  {
   "cell_type": "code",
   "execution_count": 32,
   "metadata": {},
   "outputs": [
    {
     "name": "stdout",
     "output_type": "stream",
     "text": [
      "30.0\n"
     ]
    }
   ],
   "source": [
    "# Рассчитаем медианное значение жилой площади\n",
    "living = data['living_area'].median()\n",
    "print(living)"
   ]
  },
  {
   "cell_type": "code",
   "execution_count": 33,
   "metadata": {},
   "outputs": [
    {
     "data": {
      "text/plain": [
       "array([51.  , 18.6 , 34.3 , ..., 31.65, 13.59, 42.55])"
      ]
     },
     "execution_count": 33,
     "metadata": {},
     "output_type": "execute_result"
    }
   ],
   "source": [
    "# Проверим уникальные значения жилой площади\n",
    "data['living_area'].unique()"
   ]
  },
  {
   "cell_type": "code",
   "execution_count": 34,
   "metadata": {},
   "outputs": [
    {
     "data": {
      "text/plain": [
       "19540    409.7\n",
       "5358     409.0\n",
       "12401    347.5\n",
       "4237     332.0\n",
       "12859    322.3\n",
       "660      312.5\n",
       "8018     301.5\n",
       "14088    300.0\n",
       "20273    279.6\n",
       "22494    274.0\n",
       "14498    264.5\n",
       "19865    260.0\n",
       "15651    258.0\n",
       "1085     255.7\n",
       "15701    250.0\n",
       "15151    250.0\n",
       "1494     250.0\n",
       "793      250.0\n",
       "12971    250.0\n",
       "6221     248.7\n",
       "15607    248.5\n",
       "20314    239.4\n",
       "2580     230.0\n",
       "16915    225.9\n",
       "866      222.0\n",
       "7857     220.0\n",
       "21955    220.0\n",
       "13749    218.0\n",
       "6621     216.0\n",
       "21685    211.0\n",
       "14706    204.0\n",
       "22907    200.0\n",
       "10246    200.0\n",
       "13397    199.0\n",
       "5042     198.0\n",
       "6728     195.0\n",
       "7939     194.0\n",
       "4199     193.5\n",
       "7694     193.0\n",
       "1026     190.0\n",
       "Name: living_area, dtype: float64"
      ]
     },
     "execution_count": 34,
     "metadata": {},
     "output_type": "execute_result"
    }
   ],
   "source": [
    "# Отсортируем жилую площадь по убыванию\n",
    "data['living_area'].sort_values(ascending=False).head(40)"
   ]
  },
  {
   "cell_type": "code",
   "execution_count": 35,
   "metadata": {},
   "outputs": [],
   "source": [
    "# Сильных и явных выбросов в данных не вижу. Большие значения жилой площади есть, но возможно это большие частные дома или дачи.\n",
    "# Среднее и медианное значения очень близки, но заполним пропуски медианным значением, чтобы исключить выбросы.\n",
    "data['living_area'] = data['living_area'].fillna(living)"
   ]
  },
  {
   "cell_type": "code",
   "execution_count": 36,
   "metadata": {},
   "outputs": [
    {
     "data": {
      "text/plain": [
       "is_apartment\n",
       "False    2725\n",
       "True       50\n",
       "Name: count, dtype: int64"
      ]
     },
     "execution_count": 36,
     "metadata": {},
     "output_type": "execute_result"
    }
   ],
   "source": [
    "# Столбец is_apartment\n",
    "data['is_apartment'].value_counts()"
   ]
  },
  {
   "cell_type": "code",
   "execution_count": 37,
   "metadata": {},
   "outputs": [
    {
     "name": "stderr",
     "output_type": "stream",
     "text": [
      "C:\\Users\\Ivan\\AppData\\Local\\Temp\\ipykernel_2652\\1997086093.py:3: FutureWarning: Downcasting object dtype arrays on .fillna, .ffill, .bfill is deprecated and will change in a future version. Call result.infer_objects(copy=False) instead. To opt-in to the future behavior, set `pd.set_option('future.no_silent_downcasting', True)`\n",
      "  data['is_apartment'] = data['is_apartment'].fillna(False)\n"
     ]
    }
   ],
   "source": [
    "# У столбца апартаменты очень много пропущенных значений, возможно этого столбца изначально не было\n",
    "# Заполним пропущенные значения \n",
    "data['is_apartment'] = data['is_apartment'].fillna(False)"
   ]
  },
  {
   "cell_type": "code",
   "execution_count": 38,
   "metadata": {},
   "outputs": [
    {
     "data": {
      "text/plain": [
       "kitchen_area\n",
       "6.00     1300\n",
       "10.00    1262\n",
       "8.00     1110\n",
       "9.00     1101\n",
       "7.00     1062\n",
       "         ... \n",
       "53.10       1\n",
       "12.56       1\n",
       "11.84       1\n",
       "13.27       1\n",
       "13.83       1\n",
       "Name: count, Length: 971, dtype: int64"
      ]
     },
     "execution_count": 38,
     "metadata": {},
     "output_type": "execute_result"
    }
   ],
   "source": [
    "# Столбец kitchen_area\n",
    "data['kitchen_area'].value_counts()"
   ]
  },
  {
   "cell_type": "code",
   "execution_count": 39,
   "metadata": {},
   "outputs": [
    {
     "data": {
      "text/plain": [
       "count    21421.000000\n",
       "mean        10.569807\n",
       "std          5.905438\n",
       "min          1.300000\n",
       "25%          7.000000\n",
       "50%          9.100000\n",
       "75%         12.000000\n",
       "max        112.000000\n",
       "Name: kitchen_area, dtype: float64"
      ]
     },
     "execution_count": 39,
     "metadata": {},
     "output_type": "execute_result"
    }
   ],
   "source": [
    "data['kitchen_area'].describe()"
   ]
  },
  {
   "cell_type": "code",
   "execution_count": 40,
   "metadata": {},
   "outputs": [
    {
     "data": {
      "text/plain": [
       "9.1"
      ]
     },
     "execution_count": 40,
     "metadata": {},
     "output_type": "execute_result"
    }
   ],
   "source": [
    "data_kitchen_area_median = data['kitchen_area'].median()\n",
    "data_kitchen_area_median"
   ]
  },
  {
   "cell_type": "code",
   "execution_count": 41,
   "metadata": {},
   "outputs": [
    {
     "data": {
      "text/plain": [
       "19540    112.0\n",
       "20215    107.0\n",
       "2489     100.7\n",
       "5358     100.0\n",
       "16239     93.2\n",
       "16797     93.0\n",
       "10867     87.2\n",
       "4394      77.0\n",
       "492       77.0\n",
       "14644     75.0\n",
       "16647     72.0\n",
       "15651     70.0\n",
       "6193      70.0\n",
       "1085      66.0\n",
       "22980     65.0\n",
       "18447     65.0\n",
       "15780     64.0\n",
       "17912     64.0\n",
       "19499     64.0\n",
       "7543      63.4\n",
       "19130     63.0\n",
       "1026      63.0\n",
       "14900     62.5\n",
       "13139     62.0\n",
       "3117      60.0\n",
       "3561      60.0\n",
       "13845     60.0\n",
       "8261      58.4\n",
       "20871     58.0\n",
       "4320      56.2\n",
       "14088     56.0\n",
       "10789     56.0\n",
       "17038     56.0\n",
       "16964     55.7\n",
       "20273     55.5\n",
       "14794     54.3\n",
       "17563     54.2\n",
       "19977     54.0\n",
       "8559      53.1\n",
       "19382     53.0\n",
       "Name: kitchen_area, dtype: float64"
      ]
     },
     "execution_count": 41,
     "metadata": {},
     "output_type": "execute_result"
    }
   ],
   "source": [
    "# Отсортируем площадь кухни по убыванию\n",
    "data['kitchen_area'].sort_values(ascending=False).head(40)"
   ]
  },
  {
   "cell_type": "code",
   "execution_count": 42,
   "metadata": {},
   "outputs": [
    {
     "data": {
      "text/plain": [
       "array([0.23, 0.27, 0.15, 0.06, 0.41, 0.3 , 0.39, 0.26, 0.11, 0.21, 0.14,\n",
       "       0.17, 0.12, 0.22, 0.19, 0.31, 0.18, 0.1 , 0.2 , 0.13, 0.28, 0.09,\n",
       "       0.24, 0.29, 0.16, 0.08, 0.4 , 0.33, 0.34, 0.25, 0.35, 0.5 , 0.32,\n",
       "       0.03, 0.07, 0.36, 0.38, 0.45, 0.72, 0.02, 0.47, 0.05, 0.53, 0.04,\n",
       "       0.68, 0.54, 0.49, 0.42, 0.44, 0.43, 0.62, 0.46, 0.74, 0.37, 0.66,\n",
       "       0.52, 0.48, 0.55, 0.59, 0.51, 0.57, 0.58, 0.6 , 0.56, 0.79, 0.61,\n",
       "       0.64, 0.7 , 0.69, 0.76])"
      ]
     },
     "execution_count": 42,
     "metadata": {},
     "output_type": "execute_result"
    }
   ],
   "source": [
    "# Проверим отношение площади кухни к общей квартиры, заполненных медианой\n",
    "data_percentage_kitchen_area = data['kitchen_area'].fillna(data_kitchen_area_median) / data['total_area']\n",
    "data_percentage_kitchen_area.round(2).unique()"
   ]
  },
  {
   "cell_type": "markdown",
   "metadata": {},
   "source": [
    "Как видим из полученных результатов, отношений площади кухни, заполненных медианой, к общей площади не превышают единицу.\n",
    "Значит данные можно заполнить медианой."
   ]
  },
  {
   "cell_type": "code",
   "execution_count": 43,
   "metadata": {},
   "outputs": [],
   "source": [
    "# Сильных и явных выбросов в данных не вижу. Большие значения площади кухни есть, но возможно это большие частные дома или дачи.\n",
    "# Среднее и медианное значения очень близки, но заполним пропуски медианным значением, чтобы исключить выбросы.\n",
    "data['kitchen_area'] = data['kitchen_area'].fillna(data['kitchen_area'].median())"
   ]
  },
  {
   "cell_type": "code",
   "execution_count": 44,
   "metadata": {},
   "outputs": [
    {
     "data": {
      "text/plain": [
       "balcony\n",
       "1.0    4195\n",
       "0.0    3758\n",
       "2.0    3659\n",
       "5.0     304\n",
       "4.0     183\n",
       "3.0      81\n",
       "Name: count, dtype: int64"
      ]
     },
     "execution_count": 44,
     "metadata": {},
     "output_type": "execute_result"
    }
   ],
   "source": [
    "# Столбец balcony\n",
    "data['balcony'].value_counts()"
   ]
  },
  {
   "cell_type": "code",
   "execution_count": 45,
   "metadata": {},
   "outputs": [],
   "source": [
    "# Заполняем пропущенные значения в колонке balcony на ноль\n",
    "# так как если продавец их не указал, то скорее всего балконов в кваритре нет\n",
    "data['balcony'] = data['balcony'].fillna(value='0')"
   ]
  },
  {
   "cell_type": "markdown",
   "metadata": {},
   "source": [
    "Значения в столбцах airports_nearest, city_centers_nearest, parks_around3000, parks_nearest, ponds_around3000, ponds_nearest заполнены автоматически. Раз данных нет, значит по заданным условиям нет объектов инфраструктуры."
   ]
  },
  {
   "cell_type": "code",
   "execution_count": 46,
   "metadata": {},
   "outputs": [],
   "source": [
    "# Присвоим пропущенным данным нулевое значение, чтобы убрать пропуски\n",
    "data['airports_nearest'] = data['airports_nearest'].fillna(value='0')\n",
    "data['city_centers_nearest'] = data['city_centers_nearest'].fillna(value='0')\n",
    "data['parks_around3000'] = data['parks_around3000'].fillna(value='0')\n",
    "data['parks_nearest'] = data['parks_nearest'].fillna(value='0')\n",
    "data['ponds_around3000'] = data['ponds_around3000'].fillna(value='0')\n",
    "data['ponds_nearest'] = data['ponds_nearest'].fillna(value='0')"
   ]
  },
  {
   "cell_type": "code",
   "execution_count": 47,
   "metadata": {},
   "outputs": [
    {
     "data": {
      "text/plain": [
       "days_exposition\n",
       "45.0      880\n",
       "60.0      538\n",
       "7.0       234\n",
       "30.0      208\n",
       "90.0      204\n",
       "         ... \n",
       "1021.0      1\n",
       "1362.0      1\n",
       "1105.0      1\n",
       "795.0       1\n",
       "971.0       1\n",
       "Name: count, Length: 1141, dtype: int64"
      ]
     },
     "execution_count": 47,
     "metadata": {},
     "output_type": "execute_result"
    }
   ],
   "source": [
    "# Столбец days_exposition\n",
    "data['days_exposition'].value_counts()"
   ]
  },
  {
   "cell_type": "code",
   "execution_count": 48,
   "metadata": {},
   "outputs": [
    {
     "data": {
      "text/plain": [
       "count    20518.000000\n",
       "mean       180.888634\n",
       "std        219.727988\n",
       "min          1.000000\n",
       "25%         45.000000\n",
       "50%         95.000000\n",
       "75%        232.000000\n",
       "max       1580.000000\n",
       "Name: days_exposition, dtype: float64"
      ]
     },
     "execution_count": 48,
     "metadata": {},
     "output_type": "execute_result"
    }
   ],
   "source": [
    "data['days_exposition'].describe()"
   ]
  },
  {
   "cell_type": "code",
   "execution_count": 49,
   "metadata": {},
   "outputs": [
    {
     "data": {
      "text/plain": [
       "95.0"
      ]
     },
     "execution_count": 49,
     "metadata": {},
     "output_type": "execute_result"
    }
   ],
   "source": [
    "data['days_exposition'].median()"
   ]
  },
  {
   "cell_type": "code",
   "execution_count": 50,
   "metadata": {},
   "outputs": [
    {
     "data": {
      "text/plain": [
       "18843    1580.0\n",
       "1109     1572.0\n",
       "9553     1553.0\n",
       "1885     1513.0\n",
       "20969    1512.0\n",
       "6691     1512.0\n",
       "14093    1497.0\n",
       "15313    1489.0\n",
       "19123    1485.0\n",
       "11955    1484.0\n",
       "4736     1477.0\n",
       "2941     1458.0\n",
       "6006     1452.0\n",
       "521      1441.0\n",
       "9555     1434.0\n",
       "14873    1430.0\n",
       "11985    1417.0\n",
       "20996    1413.0\n",
       "6726     1406.0\n",
       "18262    1396.0\n",
       "3725     1395.0\n",
       "10364    1391.0\n",
       "12047    1375.0\n",
       "16169    1375.0\n",
       "4110     1373.0\n",
       "12201    1368.0\n",
       "18848    1365.0\n",
       "12209    1363.0\n",
       "11421    1362.0\n",
       "17930    1361.0\n",
       "23426    1360.0\n",
       "9501     1355.0\n",
       "12487    1350.0\n",
       "21755    1349.0\n",
       "17759    1346.0\n",
       "21860    1346.0\n",
       "398      1345.0\n",
       "7020     1344.0\n",
       "13246    1341.0\n",
       "749      1336.0\n",
       "Name: days_exposition, dtype: float64"
      ]
     },
     "execution_count": 50,
     "metadata": {},
     "output_type": "execute_result"
    }
   ],
   "source": [
    "# Отсортируем дни продажи по убыванию\n",
    "data['days_exposition'].sort_values(ascending=False).head(40)"
   ]
  },
  {
   "cell_type": "code",
   "execution_count": 51,
   "metadata": {},
   "outputs": [
    {
     "data": {
      "text/plain": [
       "0.13"
      ]
     },
     "execution_count": 51,
     "metadata": {},
     "output_type": "execute_result"
    }
   ],
   "source": [
    "data_percentage_ratio['days_exposition'].round(2)"
   ]
  },
  {
   "cell_type": "markdown",
   "metadata": {},
   "source": [
    "Пропуски в столбце количество дней продажи составляют 13% от общего количества данных. Это конечно не мало, но данные по дням продажам очень сильно разняться. Лучше оставить пропуски не заполненными."
   ]
  },
  {
   "cell_type": "code",
   "execution_count": 52,
   "metadata": {},
   "outputs": [],
   "source": [
    "# Оставшимся пропускам названий населенных пунктов в столбце locality_name присвоем название unknown\n",
    "data['locality_name'] = data['locality_name'].fillna('unknown')"
   ]
  },
  {
   "cell_type": "code",
   "execution_count": 53,
   "metadata": {},
   "outputs": [
    {
     "data": {
      "text/plain": [
       "total_images               0\n",
       "last_price                 0\n",
       "total_area                 0\n",
       "first_day_exposition       0\n",
       "rooms                      0\n",
       "ceiling_height             0\n",
       "floors_total              86\n",
       "living_area                0\n",
       "floor                      0\n",
       "is_apartment               0\n",
       "studio                     0\n",
       "open_plan                  0\n",
       "kitchen_area               0\n",
       "balcony                    0\n",
       "locality_name              0\n",
       "airports_nearest           0\n",
       "city_centers_nearest       0\n",
       "parks_around3000           0\n",
       "parks_nearest              0\n",
       "ponds_around3000           0\n",
       "ponds_nearest              0\n",
       "days_exposition         3181\n",
       "dtype: int64"
      ]
     },
     "execution_count": 53,
     "metadata": {},
     "output_type": "execute_result"
    }
   ],
   "source": [
    "# Проверяем обработанные данные\n",
    "data.isna().sum()"
   ]
  },
  {
   "cell_type": "markdown",
   "metadata": {},
   "source": [
    "Вывод. \n",
    "Я заполнил почти все пропуски.\n",
    "* В столбце locality_name с пропущенными названиями населенных пунктов присвоил название unknown.\n",
    "* В столбце balcony пропущенным значениям присвоил значение ноль, так как если продавец их не указал, то скорее всего балконов в кваритре нет.\n",
    "* В столбцах, заполненных автоматически, где отстутсвуют данные, пропуски связаны с тем, что заданные объекты инфраструктуры отсутствуют, поэтому там указал нулевые значения.\n",
    "* Столбец апартаменты очень странный ,так как там очень много пропусков, возожно этого столбца изначально не было в таблице.\n",
    "* Оставил пропуски в столбце floors_total, т.к. заполнив по среднему или медианному значению пропуски, можно получить данные, когда этаж расположения квартиры будет выше общего количества этажей.\n",
    "* Пропуски в столбце количество дней продажи также оставил не заполненными. Они составляют 13% от общего количества данных, - это конечно не мало, но данные по дням продажам очень сильно разняться, поэтому лучше оставить пропуски не заполненными."
   ]
  },
  {
   "cell_type": "code",
   "execution_count": 54,
   "metadata": {},
   "outputs": [
    {
     "name": "stdout",
     "output_type": "stream",
     "text": [
      "<class 'pandas.core.frame.DataFrame'>\n",
      "RangeIndex: 23699 entries, 0 to 23698\n",
      "Data columns (total 22 columns):\n",
      " #   Column                Non-Null Count  Dtype  \n",
      "---  ------                --------------  -----  \n",
      " 0   total_images          23699 non-null  int64  \n",
      " 1   last_price            23699 non-null  float64\n",
      " 2   total_area            23699 non-null  float64\n",
      " 3   first_day_exposition  23699 non-null  object \n",
      " 4   rooms                 23699 non-null  int64  \n",
      " 5   ceiling_height        23699 non-null  float64\n",
      " 6   floors_total          23613 non-null  float64\n",
      " 7   living_area           23699 non-null  float64\n",
      " 8   floor                 23699 non-null  int64  \n",
      " 9   is_apartment          23699 non-null  bool   \n",
      " 10  studio                23699 non-null  bool   \n",
      " 11  open_plan             23699 non-null  bool   \n",
      " 12  kitchen_area          23699 non-null  float64\n",
      " 13  balcony               23699 non-null  object \n",
      " 14  locality_name         23699 non-null  object \n",
      " 15  airports_nearest      23699 non-null  object \n",
      " 16  city_centers_nearest  23699 non-null  object \n",
      " 17  parks_around3000      23699 non-null  object \n",
      " 18  parks_nearest         23699 non-null  object \n",
      " 19  ponds_around3000      23699 non-null  object \n",
      " 20  ponds_nearest         23699 non-null  object \n",
      " 21  days_exposition       20518 non-null  float64\n",
      "dtypes: bool(3), float64(7), int64(3), object(9)\n",
      "memory usage: 3.5+ MB\n"
     ]
    }
   ],
   "source": [
    "# 2. Рассмотрите типы данных в каждом столбце\n",
    "data.info()"
   ]
  },
  {
   "cell_type": "code",
   "execution_count": 55,
   "metadata": {},
   "outputs": [
    {
     "data": {
      "text/html": [
       "<div>\n",
       "<style scoped>\n",
       "    .dataframe tbody tr th:only-of-type {\n",
       "        vertical-align: middle;\n",
       "    }\n",
       "\n",
       "    .dataframe tbody tr th {\n",
       "        vertical-align: top;\n",
       "    }\n",
       "\n",
       "    .dataframe thead th {\n",
       "        text-align: right;\n",
       "    }\n",
       "</style>\n",
       "<table border=\"1\" class=\"dataframe\">\n",
       "  <thead>\n",
       "    <tr style=\"text-align: right;\">\n",
       "      <th></th>\n",
       "      <th>total_images</th>\n",
       "      <th>last_price</th>\n",
       "      <th>total_area</th>\n",
       "      <th>first_day_exposition</th>\n",
       "      <th>rooms</th>\n",
       "      <th>ceiling_height</th>\n",
       "      <th>floors_total</th>\n",
       "      <th>living_area</th>\n",
       "      <th>floor</th>\n",
       "      <th>is_apartment</th>\n",
       "      <th>...</th>\n",
       "      <th>kitchen_area</th>\n",
       "      <th>balcony</th>\n",
       "      <th>locality_name</th>\n",
       "      <th>airports_nearest</th>\n",
       "      <th>city_centers_nearest</th>\n",
       "      <th>parks_around3000</th>\n",
       "      <th>parks_nearest</th>\n",
       "      <th>ponds_around3000</th>\n",
       "      <th>ponds_nearest</th>\n",
       "      <th>days_exposition</th>\n",
       "    </tr>\n",
       "  </thead>\n",
       "  <tbody>\n",
       "    <tr>\n",
       "      <th>0</th>\n",
       "      <td>20</td>\n",
       "      <td>13000000.0</td>\n",
       "      <td>108.00</td>\n",
       "      <td>2019-03-07T00:00:00</td>\n",
       "      <td>3</td>\n",
       "      <td>2.70</td>\n",
       "      <td>16.0</td>\n",
       "      <td>51.00</td>\n",
       "      <td>8</td>\n",
       "      <td>False</td>\n",
       "      <td>...</td>\n",
       "      <td>25.00</td>\n",
       "      <td>0</td>\n",
       "      <td>Санкт-Петербург</td>\n",
       "      <td>18863.0</td>\n",
       "      <td>16028.0</td>\n",
       "      <td>1.0</td>\n",
       "      <td>482.0</td>\n",
       "      <td>2.0</td>\n",
       "      <td>755.0</td>\n",
       "      <td>NaN</td>\n",
       "    </tr>\n",
       "    <tr>\n",
       "      <th>1</th>\n",
       "      <td>7</td>\n",
       "      <td>3350000.0</td>\n",
       "      <td>40.40</td>\n",
       "      <td>2018-12-04T00:00:00</td>\n",
       "      <td>1</td>\n",
       "      <td>2.65</td>\n",
       "      <td>11.0</td>\n",
       "      <td>18.60</td>\n",
       "      <td>1</td>\n",
       "      <td>False</td>\n",
       "      <td>...</td>\n",
       "      <td>11.00</td>\n",
       "      <td>2.0</td>\n",
       "      <td>посёлок Шушары</td>\n",
       "      <td>12817.0</td>\n",
       "      <td>18603.0</td>\n",
       "      <td>0.0</td>\n",
       "      <td>0</td>\n",
       "      <td>0.0</td>\n",
       "      <td>0</td>\n",
       "      <td>81.0</td>\n",
       "    </tr>\n",
       "    <tr>\n",
       "      <th>2</th>\n",
       "      <td>10</td>\n",
       "      <td>5196000.0</td>\n",
       "      <td>56.00</td>\n",
       "      <td>2015-08-20T00:00:00</td>\n",
       "      <td>2</td>\n",
       "      <td>2.65</td>\n",
       "      <td>5.0</td>\n",
       "      <td>34.30</td>\n",
       "      <td>4</td>\n",
       "      <td>False</td>\n",
       "      <td>...</td>\n",
       "      <td>8.30</td>\n",
       "      <td>0.0</td>\n",
       "      <td>Санкт-Петербург</td>\n",
       "      <td>21741.0</td>\n",
       "      <td>13933.0</td>\n",
       "      <td>1.0</td>\n",
       "      <td>90.0</td>\n",
       "      <td>2.0</td>\n",
       "      <td>574.0</td>\n",
       "      <td>558.0</td>\n",
       "    </tr>\n",
       "    <tr>\n",
       "      <th>3</th>\n",
       "      <td>0</td>\n",
       "      <td>64900000.0</td>\n",
       "      <td>159.00</td>\n",
       "      <td>2015-07-24T00:00:00</td>\n",
       "      <td>3</td>\n",
       "      <td>2.65</td>\n",
       "      <td>14.0</td>\n",
       "      <td>30.00</td>\n",
       "      <td>9</td>\n",
       "      <td>False</td>\n",
       "      <td>...</td>\n",
       "      <td>9.10</td>\n",
       "      <td>0.0</td>\n",
       "      <td>Санкт-Петербург</td>\n",
       "      <td>28098.0</td>\n",
       "      <td>6800.0</td>\n",
       "      <td>2.0</td>\n",
       "      <td>84.0</td>\n",
       "      <td>3.0</td>\n",
       "      <td>234.0</td>\n",
       "      <td>424.0</td>\n",
       "    </tr>\n",
       "    <tr>\n",
       "      <th>4</th>\n",
       "      <td>2</td>\n",
       "      <td>10000000.0</td>\n",
       "      <td>100.00</td>\n",
       "      <td>2018-06-19T00:00:00</td>\n",
       "      <td>2</td>\n",
       "      <td>3.03</td>\n",
       "      <td>14.0</td>\n",
       "      <td>32.00</td>\n",
       "      <td>13</td>\n",
       "      <td>False</td>\n",
       "      <td>...</td>\n",
       "      <td>41.00</td>\n",
       "      <td>0</td>\n",
       "      <td>Санкт-Петербург</td>\n",
       "      <td>31856.0</td>\n",
       "      <td>8098.0</td>\n",
       "      <td>2.0</td>\n",
       "      <td>112.0</td>\n",
       "      <td>1.0</td>\n",
       "      <td>48.0</td>\n",
       "      <td>121.0</td>\n",
       "    </tr>\n",
       "    <tr>\n",
       "      <th>5</th>\n",
       "      <td>10</td>\n",
       "      <td>2890000.0</td>\n",
       "      <td>30.40</td>\n",
       "      <td>2018-09-10T00:00:00</td>\n",
       "      <td>1</td>\n",
       "      <td>2.65</td>\n",
       "      <td>12.0</td>\n",
       "      <td>14.40</td>\n",
       "      <td>5</td>\n",
       "      <td>False</td>\n",
       "      <td>...</td>\n",
       "      <td>9.10</td>\n",
       "      <td>0</td>\n",
       "      <td>городской посёлок Янино-1</td>\n",
       "      <td>0</td>\n",
       "      <td>0</td>\n",
       "      <td>0</td>\n",
       "      <td>0</td>\n",
       "      <td>0</td>\n",
       "      <td>0</td>\n",
       "      <td>55.0</td>\n",
       "    </tr>\n",
       "    <tr>\n",
       "      <th>6</th>\n",
       "      <td>6</td>\n",
       "      <td>3700000.0</td>\n",
       "      <td>37.30</td>\n",
       "      <td>2017-11-02T00:00:00</td>\n",
       "      <td>1</td>\n",
       "      <td>2.65</td>\n",
       "      <td>26.0</td>\n",
       "      <td>10.60</td>\n",
       "      <td>6</td>\n",
       "      <td>False</td>\n",
       "      <td>...</td>\n",
       "      <td>14.40</td>\n",
       "      <td>1.0</td>\n",
       "      <td>посёлок Парголово</td>\n",
       "      <td>52996.0</td>\n",
       "      <td>19143.0</td>\n",
       "      <td>0.0</td>\n",
       "      <td>0</td>\n",
       "      <td>0.0</td>\n",
       "      <td>0</td>\n",
       "      <td>155.0</td>\n",
       "    </tr>\n",
       "    <tr>\n",
       "      <th>7</th>\n",
       "      <td>5</td>\n",
       "      <td>7915000.0</td>\n",
       "      <td>71.60</td>\n",
       "      <td>2019-04-18T00:00:00</td>\n",
       "      <td>2</td>\n",
       "      <td>2.65</td>\n",
       "      <td>24.0</td>\n",
       "      <td>30.00</td>\n",
       "      <td>22</td>\n",
       "      <td>False</td>\n",
       "      <td>...</td>\n",
       "      <td>18.90</td>\n",
       "      <td>2.0</td>\n",
       "      <td>Санкт-Петербург</td>\n",
       "      <td>23982.0</td>\n",
       "      <td>11634.0</td>\n",
       "      <td>0.0</td>\n",
       "      <td>0</td>\n",
       "      <td>0.0</td>\n",
       "      <td>0</td>\n",
       "      <td>NaN</td>\n",
       "    </tr>\n",
       "    <tr>\n",
       "      <th>8</th>\n",
       "      <td>20</td>\n",
       "      <td>2900000.0</td>\n",
       "      <td>33.16</td>\n",
       "      <td>2018-05-23T00:00:00</td>\n",
       "      <td>1</td>\n",
       "      <td>2.65</td>\n",
       "      <td>27.0</td>\n",
       "      <td>15.43</td>\n",
       "      <td>26</td>\n",
       "      <td>False</td>\n",
       "      <td>...</td>\n",
       "      <td>8.81</td>\n",
       "      <td>0</td>\n",
       "      <td>посёлок Мурино</td>\n",
       "      <td>0</td>\n",
       "      <td>0</td>\n",
       "      <td>0</td>\n",
       "      <td>0</td>\n",
       "      <td>0</td>\n",
       "      <td>0</td>\n",
       "      <td>189.0</td>\n",
       "    </tr>\n",
       "    <tr>\n",
       "      <th>9</th>\n",
       "      <td>18</td>\n",
       "      <td>5400000.0</td>\n",
       "      <td>61.00</td>\n",
       "      <td>2017-02-26T00:00:00</td>\n",
       "      <td>3</td>\n",
       "      <td>2.50</td>\n",
       "      <td>9.0</td>\n",
       "      <td>43.60</td>\n",
       "      <td>7</td>\n",
       "      <td>False</td>\n",
       "      <td>...</td>\n",
       "      <td>6.50</td>\n",
       "      <td>2.0</td>\n",
       "      <td>Санкт-Петербург</td>\n",
       "      <td>50898.0</td>\n",
       "      <td>15008.0</td>\n",
       "      <td>0.0</td>\n",
       "      <td>0</td>\n",
       "      <td>0.0</td>\n",
       "      <td>0</td>\n",
       "      <td>289.0</td>\n",
       "    </tr>\n",
       "  </tbody>\n",
       "</table>\n",
       "<p>10 rows × 22 columns</p>\n",
       "</div>"
      ],
      "text/plain": [
       "   total_images  last_price  total_area first_day_exposition  rooms  \\\n",
       "0            20  13000000.0      108.00  2019-03-07T00:00:00      3   \n",
       "1             7   3350000.0       40.40  2018-12-04T00:00:00      1   \n",
       "2            10   5196000.0       56.00  2015-08-20T00:00:00      2   \n",
       "3             0  64900000.0      159.00  2015-07-24T00:00:00      3   \n",
       "4             2  10000000.0      100.00  2018-06-19T00:00:00      2   \n",
       "5            10   2890000.0       30.40  2018-09-10T00:00:00      1   \n",
       "6             6   3700000.0       37.30  2017-11-02T00:00:00      1   \n",
       "7             5   7915000.0       71.60  2019-04-18T00:00:00      2   \n",
       "8            20   2900000.0       33.16  2018-05-23T00:00:00      1   \n",
       "9            18   5400000.0       61.00  2017-02-26T00:00:00      3   \n",
       "\n",
       "   ceiling_height  floors_total  living_area  floor  is_apartment  ...  \\\n",
       "0            2.70          16.0        51.00      8         False  ...   \n",
       "1            2.65          11.0        18.60      1         False  ...   \n",
       "2            2.65           5.0        34.30      4         False  ...   \n",
       "3            2.65          14.0        30.00      9         False  ...   \n",
       "4            3.03          14.0        32.00     13         False  ...   \n",
       "5            2.65          12.0        14.40      5         False  ...   \n",
       "6            2.65          26.0        10.60      6         False  ...   \n",
       "7            2.65          24.0        30.00     22         False  ...   \n",
       "8            2.65          27.0        15.43     26         False  ...   \n",
       "9            2.50           9.0        43.60      7         False  ...   \n",
       "\n",
       "   kitchen_area  balcony              locality_name airports_nearest  \\\n",
       "0         25.00        0            Санкт-Петербург          18863.0   \n",
       "1         11.00      2.0             посёлок Шушары          12817.0   \n",
       "2          8.30      0.0            Санкт-Петербург          21741.0   \n",
       "3          9.10      0.0            Санкт-Петербург          28098.0   \n",
       "4         41.00        0            Санкт-Петербург          31856.0   \n",
       "5          9.10        0  городской посёлок Янино-1                0   \n",
       "6         14.40      1.0          посёлок Парголово          52996.0   \n",
       "7         18.90      2.0            Санкт-Петербург          23982.0   \n",
       "8          8.81        0             посёлок Мурино                0   \n",
       "9          6.50      2.0            Санкт-Петербург          50898.0   \n",
       "\n",
       "  city_centers_nearest parks_around3000 parks_nearest ponds_around3000  \\\n",
       "0              16028.0              1.0         482.0              2.0   \n",
       "1              18603.0              0.0             0              0.0   \n",
       "2              13933.0              1.0          90.0              2.0   \n",
       "3               6800.0              2.0          84.0              3.0   \n",
       "4               8098.0              2.0         112.0              1.0   \n",
       "5                    0                0             0                0   \n",
       "6              19143.0              0.0             0              0.0   \n",
       "7              11634.0              0.0             0              0.0   \n",
       "8                    0                0             0                0   \n",
       "9              15008.0              0.0             0              0.0   \n",
       "\n",
       "  ponds_nearest days_exposition  \n",
       "0         755.0             NaN  \n",
       "1             0            81.0  \n",
       "2         574.0           558.0  \n",
       "3         234.0           424.0  \n",
       "4          48.0           121.0  \n",
       "5             0            55.0  \n",
       "6             0           155.0  \n",
       "7             0             NaN  \n",
       "8             0           189.0  \n",
       "9             0           289.0  \n",
       "\n",
       "[10 rows x 22 columns]"
      ]
     },
     "execution_count": 55,
     "metadata": {},
     "output_type": "execute_result"
    }
   ],
   "source": [
    "data.head(10)"
   ]
  },
  {
   "cell_type": "code",
   "execution_count": 56,
   "metadata": {},
   "outputs": [],
   "source": [
    "# Изменим типы данных\n",
    "data['balcony'] = data['balcony'].astype('int')\n",
    "data['parks_around3000'] = data['parks_around3000'].astype('int')\n",
    "data['ponds_around3000'] = data['ponds_around3000'].astype('int')\n",
    "data['city_centers_nearest'] = data['city_centers_nearest'].astype('float')\n",
    "data['airports_nearest'] = data['airports_nearest'].astype('float')\n",
    "data['parks_nearest'] = data['parks_nearest'].astype('float')\n",
    "data['ponds_nearest'] = data['ponds_nearest'].astype('float')"
   ]
  },
  {
   "cell_type": "code",
   "execution_count": 57,
   "metadata": {},
   "outputs": [],
   "source": [
    "# столбец is_apartment когда заполнили пропуски изменил тип данных на bool, но для уверенности все равно пропишем формулу \n",
    "data['is_apartment'] = data['is_apartment'].astype('bool')"
   ]
  },
  {
   "cell_type": "code",
   "execution_count": 58,
   "metadata": {},
   "outputs": [
    {
     "ename": "ValueError",
     "evalue": "unconverted data remains when parsing with format \"%Y-%m-%d\": \"T00:00:00\", at position 0. You might want to try:\n    - passing `format` if your strings have a consistent format;\n    - passing `format='ISO8601'` if your strings are all ISO8601 but not necessarily in exactly the same format;\n    - passing `format='mixed'`, and the format will be inferred for each element individually. You might want to use `dayfirst` alongside this.",
     "output_type": "error",
     "traceback": [
      "\u001b[1;31m---------------------------------------------------------------------------\u001b[0m",
      "\u001b[1;31mValueError\u001b[0m                                Traceback (most recent call last)",
      "Cell \u001b[1;32mIn[58], line 2\u001b[0m\n\u001b[0;32m      1\u001b[0m \u001b[38;5;66;03m# переведем столбец с датой в формат даты без времени, т.к. время не указано\u001b[39;00m\n\u001b[1;32m----> 2\u001b[0m data[\u001b[38;5;124m'\u001b[39m\u001b[38;5;124mfirst_day_exposition\u001b[39m\u001b[38;5;124m'\u001b[39m] \u001b[38;5;241m=\u001b[39m pd\u001b[38;5;241m.\u001b[39mto_datetime(data[\u001b[38;5;124m'\u001b[39m\u001b[38;5;124mfirst_day_exposition\u001b[39m\u001b[38;5;124m'\u001b[39m], \u001b[38;5;28mformat\u001b[39m \u001b[38;5;241m=\u001b[39m \u001b[38;5;124m'\u001b[39m\u001b[38;5;124m%\u001b[39m\u001b[38;5;124mY-\u001b[39m\u001b[38;5;124m%\u001b[39m\u001b[38;5;124mm-\u001b[39m\u001b[38;5;132;01m%d\u001b[39;00m\u001b[38;5;124m'\u001b[39m)\n",
      "File \u001b[1;32m~\\anaconda3\\Lib\\site-packages\\pandas\\core\\tools\\datetimes.py:1067\u001b[0m, in \u001b[0;36mto_datetime\u001b[1;34m(arg, errors, dayfirst, yearfirst, utc, format, exact, unit, infer_datetime_format, origin, cache)\u001b[0m\n\u001b[0;32m   1065\u001b[0m         result \u001b[38;5;241m=\u001b[39m arg\u001b[38;5;241m.\u001b[39mmap(cache_array)\n\u001b[0;32m   1066\u001b[0m     \u001b[38;5;28;01melse\u001b[39;00m:\n\u001b[1;32m-> 1067\u001b[0m         values \u001b[38;5;241m=\u001b[39m convert_listlike(arg\u001b[38;5;241m.\u001b[39m_values, \u001b[38;5;28mformat\u001b[39m)\n\u001b[0;32m   1068\u001b[0m         result \u001b[38;5;241m=\u001b[39m arg\u001b[38;5;241m.\u001b[39m_constructor(values, index\u001b[38;5;241m=\u001b[39marg\u001b[38;5;241m.\u001b[39mindex, name\u001b[38;5;241m=\u001b[39marg\u001b[38;5;241m.\u001b[39mname)\n\u001b[0;32m   1069\u001b[0m \u001b[38;5;28;01melif\u001b[39;00m \u001b[38;5;28misinstance\u001b[39m(arg, (ABCDataFrame, abc\u001b[38;5;241m.\u001b[39mMutableMapping)):\n",
      "File \u001b[1;32m~\\anaconda3\\Lib\\site-packages\\pandas\\core\\tools\\datetimes.py:433\u001b[0m, in \u001b[0;36m_convert_listlike_datetimes\u001b[1;34m(arg, format, name, utc, unit, errors, dayfirst, yearfirst, exact)\u001b[0m\n\u001b[0;32m    431\u001b[0m \u001b[38;5;66;03m# `format` could be inferred, or user didn't ask for mixed-format parsing.\u001b[39;00m\n\u001b[0;32m    432\u001b[0m \u001b[38;5;28;01mif\u001b[39;00m \u001b[38;5;28mformat\u001b[39m \u001b[38;5;129;01mis\u001b[39;00m \u001b[38;5;129;01mnot\u001b[39;00m \u001b[38;5;28;01mNone\u001b[39;00m \u001b[38;5;129;01mand\u001b[39;00m \u001b[38;5;28mformat\u001b[39m \u001b[38;5;241m!=\u001b[39m \u001b[38;5;124m\"\u001b[39m\u001b[38;5;124mmixed\u001b[39m\u001b[38;5;124m\"\u001b[39m:\n\u001b[1;32m--> 433\u001b[0m     \u001b[38;5;28;01mreturn\u001b[39;00m _array_strptime_with_fallback(arg, name, utc, \u001b[38;5;28mformat\u001b[39m, exact, errors)\n\u001b[0;32m    435\u001b[0m result, tz_parsed \u001b[38;5;241m=\u001b[39m objects_to_datetime64(\n\u001b[0;32m    436\u001b[0m     arg,\n\u001b[0;32m    437\u001b[0m     dayfirst\u001b[38;5;241m=\u001b[39mdayfirst,\n\u001b[1;32m   (...)\u001b[0m\n\u001b[0;32m    441\u001b[0m     allow_object\u001b[38;5;241m=\u001b[39m\u001b[38;5;28;01mTrue\u001b[39;00m,\n\u001b[0;32m    442\u001b[0m )\n\u001b[0;32m    444\u001b[0m \u001b[38;5;28;01mif\u001b[39;00m tz_parsed \u001b[38;5;129;01mis\u001b[39;00m \u001b[38;5;129;01mnot\u001b[39;00m \u001b[38;5;28;01mNone\u001b[39;00m:\n\u001b[0;32m    445\u001b[0m     \u001b[38;5;66;03m# We can take a shortcut since the datetime64 numpy array\u001b[39;00m\n\u001b[0;32m    446\u001b[0m     \u001b[38;5;66;03m# is in UTC\u001b[39;00m\n",
      "File \u001b[1;32m~\\anaconda3\\Lib\\site-packages\\pandas\\core\\tools\\datetimes.py:467\u001b[0m, in \u001b[0;36m_array_strptime_with_fallback\u001b[1;34m(arg, name, utc, fmt, exact, errors)\u001b[0m\n\u001b[0;32m    456\u001b[0m \u001b[38;5;28;01mdef\u001b[39;00m \u001b[38;5;21m_array_strptime_with_fallback\u001b[39m(\n\u001b[0;32m    457\u001b[0m     arg,\n\u001b[0;32m    458\u001b[0m     name,\n\u001b[1;32m   (...)\u001b[0m\n\u001b[0;32m    462\u001b[0m     errors: \u001b[38;5;28mstr\u001b[39m,\n\u001b[0;32m    463\u001b[0m ) \u001b[38;5;241m-\u001b[39m\u001b[38;5;241m>\u001b[39m Index:\n\u001b[0;32m    464\u001b[0m \u001b[38;5;250m    \u001b[39m\u001b[38;5;124;03m\"\"\"\u001b[39;00m\n\u001b[0;32m    465\u001b[0m \u001b[38;5;124;03m    Call array_strptime, with fallback behavior depending on 'errors'.\u001b[39;00m\n\u001b[0;32m    466\u001b[0m \u001b[38;5;124;03m    \"\"\"\u001b[39;00m\n\u001b[1;32m--> 467\u001b[0m     result, tz_out \u001b[38;5;241m=\u001b[39m array_strptime(arg, fmt, exact\u001b[38;5;241m=\u001b[39mexact, errors\u001b[38;5;241m=\u001b[39merrors, utc\u001b[38;5;241m=\u001b[39mutc)\n\u001b[0;32m    468\u001b[0m     \u001b[38;5;28;01mif\u001b[39;00m tz_out \u001b[38;5;129;01mis\u001b[39;00m \u001b[38;5;129;01mnot\u001b[39;00m \u001b[38;5;28;01mNone\u001b[39;00m:\n\u001b[0;32m    469\u001b[0m         unit \u001b[38;5;241m=\u001b[39m np\u001b[38;5;241m.\u001b[39mdatetime_data(result\u001b[38;5;241m.\u001b[39mdtype)[\u001b[38;5;241m0\u001b[39m]\n",
      "File \u001b[1;32mstrptime.pyx:501\u001b[0m, in \u001b[0;36mpandas._libs.tslibs.strptime.array_strptime\u001b[1;34m()\u001b[0m\n",
      "File \u001b[1;32mstrptime.pyx:451\u001b[0m, in \u001b[0;36mpandas._libs.tslibs.strptime.array_strptime\u001b[1;34m()\u001b[0m\n",
      "File \u001b[1;32mstrptime.pyx:587\u001b[0m, in \u001b[0;36mpandas._libs.tslibs.strptime._parse_with_format\u001b[1;34m()\u001b[0m\n",
      "\u001b[1;31mValueError\u001b[0m: unconverted data remains when parsing with format \"%Y-%m-%d\": \"T00:00:00\", at position 0. You might want to try:\n    - passing `format` if your strings have a consistent format;\n    - passing `format='ISO8601'` if your strings are all ISO8601 but not necessarily in exactly the same format;\n    - passing `format='mixed'`, and the format will be inferred for each element individually. You might want to use `dayfirst` alongside this."
     ]
    }
   ],
   "source": [
    "# переведем столбец с датой в формат даты без времени, т.к. время не указано\n",
    "data['first_day_exposition'] = pd.to_datetime(data['first_day_exposition'], format = '%Y-%m-%d')"
   ]
  },
  {
   "cell_type": "code",
   "execution_count": null,
   "metadata": {},
   "outputs": [],
   "source": [
    "# Проверим полученные данные\n",
    "data.info()"
   ]
  },
  {
   "cell_type": "code",
   "execution_count": null,
   "metadata": {},
   "outputs": [],
   "source": [
    "data.head(10)"
   ]
  },
  {
   "cell_type": "markdown",
   "metadata": {},
   "source": [
    "По проделанной работе, отмечаем следующее:\n",
    "Пропусков в таблице много, они были в следующих столбцах:\n",
    "* ceiling_height\n",
    "* floors_total \n",
    "* is_apartment\n",
    "* living_area \n",
    "* kitchen_area \n",
    "* balcony\n",
    "* locality_name\n",
    "* airports_nearest \n",
    "* cityCenters_nearest\n",
    "* parks_around3000 \n",
    "* parks_nearest\n",
    "* ponds_around3000\n",
    "* ponds_nearest\n",
    "* days_exposition\n",
    "\n",
    "Изменение типа данных осуществили в следующих столбцах:\n",
    "* first_day_exposition - изначально тип данных object, изменили на правильный тип данных datetime64;\n",
    "* is_apartment - изначально тип данных object, изменили на правильный тип данныхп bool;\n",
    "* parks_around3000 - изначально тип данных float64, изменили на правильный тип данных int64, т.к. количество парков это целое значение;\n",
    "* ponds_around3000 - изначально тип данных float64, изменили на правильный тип данных int64, т.к. количество водоемов это целое значение;\n",
    "* cityCenters_nearest - изначально тип данных object, изменили на правильный тип данных float64, т.к. расстояние это числовое значение;\n",
    "* airports_nearest - изначально тип данных object, изменили на правильный тип данных float64, т.к. расстояние это числовое значение;\n",
    "* parks_nearest - изначально тип данных object, изменили на правильный тип данных float64, т.к. расстояние это числовое значение;\n",
    "* ponds_nearest - изначально тип данных object, изменили на правильный тип данных float64, т.к. расстояние это числовое значение."
   ]
  },
  {
   "cell_type": "code",
   "execution_count": null,
   "metadata": {},
   "outputs": [],
   "source": [
    "# 3. Устраним неявные дубликаты\n",
    "data['locality_name'].unique()"
   ]
  },
  {
   "cell_type": "code",
   "execution_count": null,
   "metadata": {},
   "outputs": [],
   "source": [
    "print(data['locality_name'].value_counts())"
   ]
  },
  {
   "cell_type": "code",
   "execution_count": null,
   "metadata": {},
   "outputs": [],
   "source": [
    "# Приведем к нижнему регистру\n",
    "data['locality_name'] = data['locality_name'].str.lower()"
   ]
  },
  {
   "cell_type": "code",
   "execution_count": null,
   "metadata": {},
   "outputs": [],
   "source": [
    "# Работаем с уникальными значениями\n",
    "data['locality_name'] = (\n",
    "    data['locality_name']\n",
    "    .str.replace('ё', 'е')\n",
    "    .replace(['петергоф'], 'санкт-петербург', regex=True)\n",
    "    .replace(['кудрово'], 'деревня кудрово', regex=True)\n",
    "    .replace(['коммунар'], 'поселок коммунары', regex=True)\n",
    "    .replace(['поселок рябово'], 'поселок городского типа рябово', regex=True)\n",
    "    .replace(['городской посёлок советский'], 'поселок городского типа советский', regex=True)\n",
    ")"
   ]
  },
  {
   "cell_type": "code",
   "execution_count": null,
   "metadata": {},
   "outputs": [],
   "source": [
    "# Проверим полученные значения\n",
    "data['locality_name'].unique()"
   ]
  },
  {
   "cell_type": "code",
   "execution_count": null,
   "metadata": {},
   "outputs": [],
   "source": [
    "print(data['locality_name'].value_counts())"
   ]
  },
  {
   "cell_type": "markdown",
   "metadata": {},
   "source": [
    "Вывод по второй части.\n",
    "\n",
    "В результате предобработки данных, было сделано следующее:\n",
    "* Переименовал название столбца cityCenters_nearest на city_centers_nearest;\n",
    "* Заполнил пропуски в таблице;\n",
    "* Изменил тип данных, в соответствии с данными находяшимися в столбцах;\n",
    "* Изучил уникальные значения в столбце locality_name и устранил неявные дубликаты."
   ]
  },
  {
   "cell_type": "markdown",
   "metadata": {
    "id": "QCcvyY6YAwb-"
   },
   "source": [
    "### Добавьте в таблицу новые столбцы"
   ]
  },
  {
   "cell_type": "code",
   "execution_count": null,
   "metadata": {
    "id": "Z8eJek3IAwb-"
   },
   "outputs": [],
   "source": [
    "# Добавим в таблицу новые столбцы со следующими параметрами:\n",
    "# цена одного квадратного метра\n",
    "data['price_metr'] = (data['last_price'] / data['total_area']).round(2)\n",
    "print(data['price_metr'].head(10))"
   ]
  },
  {
   "cell_type": "code",
   "execution_count": null,
   "metadata": {},
   "outputs": [],
   "source": [
    "# день недели публикации объявления\n",
    "data['exposition_weekday'] = data['first_day_exposition'].dt.weekday\n",
    "print(data['exposition_weekday'].head(10))"
   ]
  },
  {
   "cell_type": "code",
   "execution_count": null,
   "metadata": {},
   "outputs": [],
   "source": [
    "# месяц публикации объявления\n",
    "data['exposition_month'] = data['first_day_exposition'].dt.month\n",
    "print(data['exposition_month'].head(10))"
   ]
  },
  {
   "cell_type": "code",
   "execution_count": null,
   "metadata": {},
   "outputs": [],
   "source": [
    "# год публикации объявления\n",
    "data['exposition_year'] = data['first_day_exposition'].dt.year\n",
    "print(data['exposition_year'].head(10))"
   ]
  },
  {
   "cell_type": "code",
   "execution_count": null,
   "metadata": {},
   "outputs": [],
   "source": [
    "# Для заполнения типа этажа квартиры, напишем функцию:\n",
    "def type_floor(row):\n",
    "    floors_total = row['floors_total']\n",
    "    floor = row['floor']\n",
    "    if floor == 1:\n",
    "        return 'первый'\n",
    "    elif floor == floors_total:\n",
    "        return 'последний'\n",
    "    elif 1 < floor < floors_total:\n",
    "        return 'другой'"
   ]
  },
  {
   "cell_type": "code",
   "execution_count": null,
   "metadata": {},
   "outputs": [],
   "source": [
    "# Категоризуем этажи используя метод apply \n",
    "data['type_floor'] = data.apply(type_floor, axis = 1)\n",
    "print(data['type_floor'].head(10))"
   ]
  },
  {
   "cell_type": "code",
   "execution_count": null,
   "metadata": {},
   "outputs": [],
   "source": [
    "# Ппереведем из м в км и округлим до ближайших целых значений расстояние до центра города в километрах \n",
    "data['city_centers_nearest_km'] = (data['city_centers_nearest'] / 1000).astype('int')\n",
    "print(data['city_centers_nearest_km'].head(10))"
   ]
  },
  {
   "cell_type": "code",
   "execution_count": null,
   "metadata": {},
   "outputs": [],
   "source": [
    "data"
   ]
  },
  {
   "cell_type": "markdown",
   "metadata": {
    "id": "pPyxrKWTAwb-"
   },
   "source": [
    "### Проведите исследовательский анализ данных"
   ]
  },
  {
   "cell_type": "markdown",
   "metadata": {
    "id": "V2f0D3kLAwb-"
   },
   "source": [
    "1. Изучим перечисленные ниже параметры объектов и построим отдельные гистограммы для каждого из этих параметров. "
   ]
  },
  {
   "cell_type": "code",
   "execution_count": null,
   "metadata": {},
   "outputs": [],
   "source": [
    "# Общая площадь\n",
    "data['total_area'].describe()"
   ]
  },
  {
   "cell_type": "code",
   "execution_count": null,
   "metadata": {},
   "outputs": [],
   "source": [
    "# Построим гистограммы по полученным данным, сначала на весь массив данных, а затем отберем массив данных для анализа\n",
    "data.plot(y = 'total_area', kind = 'hist', bins = 100, grid=True, figsize = (5,5), range = (12,900))\n",
    "data.plot(y = 'total_area', kind = 'hist', bins = 100, grid=True, figsize = (5,5), range = (12,100))"
   ]
  },
  {
   "cell_type": "markdown",
   "metadata": {},
   "source": [
    "Распределение данных по общей гистограмме нормальное. Выбросы есть, но они сильно не влияют на данные.\n",
    "Самое большое предложение квартир с общей площадью от 30 до 65 кв. метров с максимумом около 45 кв. метров."
   ]
  },
  {
   "cell_type": "code",
   "execution_count": null,
   "metadata": {},
   "outputs": [],
   "source": [
    "# Жилая площадь\n",
    "data['living_area'].describe()"
   ]
  },
  {
   "cell_type": "code",
   "execution_count": null,
   "metadata": {},
   "outputs": [],
   "source": [
    "# Построим гистограммы по полученным данным, сначала на весь массив данных, а затем отберем массив данных для анализа\n",
    "data.plot(y = 'living_area', kind = 'hist', bins = 100, grid=True, figsize = (5,5), range = (2,410))\n",
    "data.plot(y = 'living_area', kind = 'hist', bins = 100, grid=True, figsize = (5,5), range = (2,100))"
   ]
  },
  {
   "cell_type": "markdown",
   "metadata": {},
   "source": [
    "Распределение данных по общей гистограмме нормальное. Выбросы есть, но они сильно не влияют на данные.\n",
    "Самое большое предложение квартир с жилой площадью от 15 до 50 кв. метров с двумя пиками 18 и 35 кв. метров."
   ]
  },
  {
   "cell_type": "code",
   "execution_count": null,
   "metadata": {},
   "outputs": [],
   "source": [
    "# Площадь кухни\n",
    "data['kitchen_area'].describe()"
   ]
  },
  {
   "cell_type": "code",
   "execution_count": null,
   "metadata": {},
   "outputs": [],
   "source": [
    "# Построим гистограммы по полученным данным, сначала на весь массив данных, а затем отберем массив данных для анализа\n",
    "data.plot(y = 'kitchen_area', kind = 'hist', bins = 100, grid=True, figsize = (5,5), range = (1,112))\n",
    "data.plot(y = 'kitchen_area', kind = 'hist', bins = 50, grid=True, figsize = (5,5), range = (1,30))"
   ]
  },
  {
   "cell_type": "markdown",
   "metadata": {},
   "source": [
    "Распределение данных по общей гистограмме нормальное. Выбросы есть, но они сильно не влияют на данные.\n",
    "Самое большое предложение квартир с площадью кухни от 6 до 12 кв. метров с максимумом около 11 кв. метров."
   ]
  },
  {
   "cell_type": "code",
   "execution_count": null,
   "metadata": {},
   "outputs": [],
   "source": [
    "# Цена объекта\n",
    "print(data['last_price'].describe())"
   ]
  },
  {
   "cell_type": "code",
   "execution_count": null,
   "metadata": {},
   "outputs": [],
   "source": [
    "# Построим гистограммы по полученным данным, сначала на весь массив данных, а затем отберем массив данных для анализа\n",
    "data.plot(y = 'last_price', kind = 'hist', bins = 1000, grid=True, figsize = (5,5), range = (0,100000000))\n",
    "data.plot(y = 'last_price', kind = 'hist', bins = 100, grid=True, figsize = (5,5), range = (0,15000000))"
   ]
  },
  {
   "cell_type": "markdown",
   "metadata": {},
   "source": [
    "Распределение данных по общей гистограмме нормальное. Выбросы есть, но они сильно не влияют на данные.\n",
    "Самое большое предложение квартир с ценой от 2 до 7 млн.рублей с максимумом около 4 млн.рублей"
   ]
  },
  {
   "cell_type": "code",
   "execution_count": null,
   "metadata": {},
   "outputs": [],
   "source": [
    "# Количество комнат\n",
    "data['rooms'].describe()"
   ]
  },
  {
   "cell_type": "code",
   "execution_count": null,
   "metadata": {},
   "outputs": [],
   "source": [
    "# Построим гистограммы по полученным данным, сначала на весь массив данных, а затем отберем массив данных для анализа\n",
    "data.plot(y = 'rooms', kind = 'hist', bins = 50, grid=True, figsize = (5,5), range = (0,20))\n",
    "data.plot(y = 'rooms', kind = 'hist', bins = 50, grid=True, figsize = (5,5), range = (0,6))"
   ]
  },
  {
   "cell_type": "markdown",
   "metadata": {},
   "source": [
    "Распределение данных по общей гистограмме нормальное. Выбросы есть, но они сильно не влияют на данные.\n",
    "Самое большое предложение квартир с количеством комнат от 1 до 3 с двумя максимальными пиками 1 и 2 комнаты."
   ]
  },
  {
   "cell_type": "code",
   "execution_count": null,
   "metadata": {},
   "outputs": [],
   "source": [
    "# Высота потолков\n",
    "data['ceiling_height'].describe()"
   ]
  },
  {
   "cell_type": "code",
   "execution_count": null,
   "metadata": {},
   "outputs": [],
   "source": [
    "# Построим гистограммы по полученным данным, сначала на весь массив данных, а затем отберем массив данных для анализа\n",
    "data.plot(y = 'ceiling_height', kind = 'hist', bins = 50, grid=True, figsize = (5,5), range = (1,10))\n",
    "data.plot(y = 'ceiling_height', kind = 'hist', bins = 30, grid=True, figsize = (5,5), range = (1,4))"
   ]
  },
  {
   "cell_type": "markdown",
   "metadata": {},
   "source": [
    "Распределение данных по общей гистограмме нормальное. Выбросы есть, но они сильно не влияют на данные.\n",
    "Самое большое предложение квартир с высотой потолков от 2,5 до 2,8 метра с максимумом около 2,8 метра"
   ]
  },
  {
   "cell_type": "code",
   "execution_count": null,
   "metadata": {},
   "outputs": [],
   "source": [
    "# Тип этажа квартиры («первый», «последний», «другой»)\n",
    "data['type_floor'].describe()"
   ]
  },
  {
   "cell_type": "code",
   "execution_count": null,
   "metadata": {},
   "outputs": [],
   "source": [
    "type_floor_value = data['type_floor'].value_counts()"
   ]
  },
  {
   "cell_type": "code",
   "execution_count": null,
   "metadata": {},
   "outputs": [],
   "source": [
    "type_floor_value"
   ]
  },
  {
   "cell_type": "code",
   "execution_count": null,
   "metadata": {},
   "outputs": [],
   "source": [
    "type_floor_value.plot(kind = 'pie', grid=True, figsize = (5,5))"
   ]
  },
  {
   "cell_type": "markdown",
   "metadata": {},
   "source": [
    "Первый и последний этаж составляют 26% от общего количества этажей.\n",
    "По этому поводу есть 2 предположения: Первое, количество первых и последних этажей в целом меньше чем количество остальных этажей. Второе, данные этажи меньше ценятся, поэтому их количество в продаже гораздо меньше остальных."
   ]
  },
  {
   "cell_type": "code",
   "execution_count": null,
   "metadata": {},
   "outputs": [],
   "source": [
    "# Общее количество этажей в доме\n",
    "data['floors_total'].describe()"
   ]
  },
  {
   "cell_type": "code",
   "execution_count": null,
   "metadata": {},
   "outputs": [],
   "source": [
    "# Построим гистограммы по полученным данным, сначала на весь массив данных, а затем отберем массив данных для анализа\n",
    "data.plot(y = 'floors_total', kind = 'hist', bins = 50, grid=True, figsize = (5,5), range = (1,60))\n",
    "data.plot(y = 'floors_total', kind = 'hist', bins = 30, grid=True, figsize = (5,5), range = (1,30))"
   ]
  },
  {
   "cell_type": "markdown",
   "metadata": {},
   "source": [
    "Распределение данных по общей гистограмме нормальное. Выбросы есть, но они сильно не влияют на данные.\n",
    "Самое большое предложение квартир с общи количеством этажей в доме от 5 до 25.\n",
    "На гистограмме наблюдаются несколько пиков, что скорее всего связано с типовым значением этажей в доме.\n",
    "Максимальный пик составляет 6 этажей."
   ]
  },
  {
   "cell_type": "code",
   "execution_count": null,
   "metadata": {},
   "outputs": [],
   "source": [
    "# Расстояние до центра города в метрах\n",
    "data['city_centers_nearest'].describe()"
   ]
  },
  {
   "cell_type": "code",
   "execution_count": null,
   "metadata": {},
   "outputs": [],
   "source": [
    "# Построим гистограммы по полученным данным, сначала на весь массив данных, а затем отберем массив данных для анализа\n",
    "data.plot(y = 'city_centers_nearest', kind = 'hist', bins = 100, grid=True, figsize = (5,5), range = (0,66000))\n",
    "data.plot(y = 'city_centers_nearest', kind = 'hist', bins = 100, grid=True, figsize = (5,5), range = (1,40000))"
   ]
  },
  {
   "cell_type": "markdown",
   "metadata": {},
   "source": [
    "Мы присвоили пропущенным значениям нулевое значение, поэтому у нас в начале общей гистограммы получился такой пик.\n",
    "Распределение данных по гистограмме нормальное. \n",
    "Выбросы есть, но они сильно не влияют на данные.\n",
    "Самое большое предложение квартир с расстоянием до центра города от 5 до 17км с максимальным пиком около 15км."
   ]
  },
  {
   "cell_type": "code",
   "execution_count": null,
   "metadata": {},
   "outputs": [],
   "source": [
    "# Расстояние до ближайшего парка\n",
    "data['parks_nearest'].describe()"
   ]
  },
  {
   "cell_type": "code",
   "execution_count": null,
   "metadata": {},
   "outputs": [],
   "source": [
    "# Построим гистограммы по полученным данным, сначала на весь массив данных, а затем отберем массив данных для анализа\n",
    "data.plot(y = 'parks_nearest', kind = 'hist', bins = 100, grid=True, figsize = (5,5), range = (0,3190))\n",
    "data.plot(y = 'parks_nearest', kind = 'hist', bins = 100, grid=True, figsize = (5,5), range = (1,2000))"
   ]
  },
  {
   "cell_type": "markdown",
   "metadata": {},
   "source": [
    "Мы присвоили пропущенным значениям нулевое значение, поэтому у нас в начале общей гистограммы получился такой пик.\n",
    "Распределение данных по гистограмме нормальное. \n",
    "Выбросы есть, но они сильно не влияют на данные.\n",
    "Самое большое предложение квартир с расстоянием до ближайшего парка до 750м с максимальным пиком около 500 метров."
   ]
  },
  {
   "cell_type": "markdown",
   "metadata": {},
   "source": [
    "Общий вывод по проделанному анализу:\n",
    "* Самое большое предложение квартир с общей площадью от 30 до 65 кв. метров с максимумом около 45 кв. метров.\n",
    "* Самое большое предложение квартир с жилой площадью от 15 до 50 кв. метров с двумя пиками 18 и 35 кв. метров.\n",
    "* Самое большое предложение квартир с площадью кухни от 6 до 12 кв. метров с максимумом около 11 кв. метров.\n",
    "* Самое большое предложение квартир с ценой от 2 до 7 млн.рублей с максимумом около 4 млн.рублей\n",
    "* Самое большое предложение квартир с количеством комнат от 1 до 3 с двумя максимальными пиками 1 и 2 комнаты.\n",
    "* Самое большое предложение квартир с высотой потолков от 2,5 до 2,8 метра с максимумом около 2,8 метра\n",
    "* Первый и последний этаж составляют 26% от общего количества этажей. По этому поводу есть 2 предположения: Первое, количество первых и последних этажей в целом меньше чем количество остальных этажей. Второе, данные этажи меньше ценятся, поэтому их количество в продаже гораздо меньше остальных.\n",
    "* Самое большое предложение квартир с общим количеством этажей в доме от 5 до 25. На гистограмме наблюдаются несколько пиков, что скорее всего связано с типовым значением этажей в доме. Максимальный пик составляет 6 этажей.\n",
    "* Самое большое предложение квартир с расстоянием до центра города от 5 до 17км с максимальным пиком около 15км.\n",
    "* Самое большое предложение квартир с расстоянием до ближайшего парка до 750м с максимальным пиком около 500 метров.\n",
    "\n",
    "Составим картину идеальной квартиры с точки зрения рынка:\n",
    "Это квартира с общей площадью 45 кв.м, с жилой площадью 18 или 35 кв.м, с площадью кухни около 11 кв.м, стоимостью около 4 млн.рублей с 1 или 2 количеством комнат, с высотой потолков около 2,8 метра, не первый и не последний этаж, с общим количеством этажей в доме 6 этажей, с расстоянием до центра города около 15км и с расстоянием до ближайшего парка около 500 метров."
   ]
  },
  {
   "cell_type": "code",
   "execution_count": null,
   "metadata": {},
   "outputs": [],
   "source": [
    "# 2 Изучите, как быстро продавались квартиры (столбец days_exposition). Этот параметр показывает, \n",
    "# сколько дней было размещено каждое объявление.\n",
    "data['days_exposition'].describe()"
   ]
  },
  {
   "cell_type": "code",
   "execution_count": null,
   "metadata": {},
   "outputs": [],
   "source": [
    "data['days_exposition'].value_counts()"
   ]
  },
  {
   "cell_type": "code",
   "execution_count": null,
   "metadata": {},
   "outputs": [],
   "source": [
    "print('Среднее время продажи')\n",
    "print(data['days_exposition'].mean().round(0))\n",
    "print('Медианное время продажи')\n",
    "print(data['days_exposition'].median())"
   ]
  },
  {
   "cell_type": "code",
   "execution_count": null,
   "metadata": {},
   "outputs": [],
   "source": [
    "# Построим гистограммы по полученным данным, сначала на весь массив данных, а затем отберем массив данных для анализа\n",
    "data.plot(y = 'days_exposition', kind = 'hist', bins = 100, grid=True, figsize = (5,5), range = (1,1580))\n",
    "data.plot(y = 'days_exposition', kind = 'hist', bins = 100, grid=True, figsize = (5,5), range = (1,500))"
   ]
  },
  {
   "cell_type": "markdown",
   "metadata": {},
   "source": [
    "Распределение данных по гистограмме нормальное. \n",
    "Выбросы есть, но они сильно не влияют на данные.\n",
    "Наблюдается очень сильный пик продаж на 95 день.\n",
    "Большая часть продаж квартиры происходит до 200 дней.\n",
    "Среднее время продажи составляет 169 дней\n",
    "Медианное время продажи составляет 95 дней.\n",
    "Медианное время продажи более точно характеризует сколько дней было размещено каждое объявление, так как не зависит от выбрасов и нестандартных значений.\n",
    "Быстрыми продажами можно считать продажи состоявшиеся за 45 дней (1-е самое частое значение и 1-ый квартиль).\n",
    "Необычно долгие продажи после 232 дней (3-квартиль, 75% продаж происходит до этой даты)."
   ]
  },
  {
   "cell_type": "markdown",
   "metadata": {},
   "source": [
    "3 Определим факторы, которые больше всего влияют на общую (полную) стоимость объекта."
   ]
  },
  {
   "cell_type": "code",
   "execution_count": null,
   "metadata": {},
   "outputs": [],
   "source": [
    "# Изучим, зависит ли цена от общей площади:\n",
    "total_area_pivot_table = data.pivot_table(index = 'total_area', values = 'price_metr', aggfunc = ['mean', 'median', 'count'])"
   ]
  },
  {
   "cell_type": "code",
   "execution_count": null,
   "metadata": {},
   "outputs": [],
   "source": [
    "total_area_pivot_table"
   ]
  },
  {
   "cell_type": "code",
   "execution_count": null,
   "metadata": {},
   "outputs": [],
   "source": [
    "# Поработаем с мультииндексом — превратим двухэтажные названия столбцов в одноэтажные.\n",
    "total_area_pivot_table.columns = ['mean', 'median', 'count']"
   ]
  },
  {
   "cell_type": "code",
   "execution_count": null,
   "metadata": {},
   "outputs": [],
   "source": [
    "total_area_pivot_table"
   ]
  },
  {
   "cell_type": "code",
   "execution_count": null,
   "metadata": {},
   "outputs": [],
   "source": [
    "total_area_pivot_table.plot(y = 'median', style = 'o')"
   ]
  },
  {
   "cell_type": "code",
   "execution_count": null,
   "metadata": {},
   "outputs": [],
   "source": [
    "total_area_pivot_table.sort_values('median', ascending = False)"
   ]
  },
  {
   "cell_type": "code",
   "execution_count": null,
   "metadata": {},
   "outputs": [],
   "source": [
    "data['total_area'].corr(data['price_metr'])"
   ]
  },
  {
   "cell_type": "markdown",
   "metadata": {},
   "source": [
    "Взаимосвязь цены от общей площади очень слабая. Коэффициент корреляции Пирсона равен 0.3, т.е. чем больше общая площадь тем немного выше стоимость."
   ]
  },
  {
   "cell_type": "code",
   "execution_count": null,
   "metadata": {},
   "outputs": [],
   "source": [
    "# Изучим, зависит ли цена от жилой площади:\n",
    "living_area_pivot_table = data.pivot_table(index = 'living_area', values = 'price_metr', aggfunc = ['mean', 'median', 'count'])\n",
    "living_area_pivot_table.columns = ['mean', 'median', 'count']"
   ]
  },
  {
   "cell_type": "code",
   "execution_count": null,
   "metadata": {},
   "outputs": [],
   "source": [
    "living_area_pivot_table"
   ]
  },
  {
   "cell_type": "code",
   "execution_count": null,
   "metadata": {},
   "outputs": [],
   "source": [
    "living_area_pivot_table.plot(y = 'median',  style = 'o')"
   ]
  },
  {
   "cell_type": "code",
   "execution_count": null,
   "metadata": {},
   "outputs": [],
   "source": [
    "living_area_pivot_table.sort_values('median', ascending = False)"
   ]
  },
  {
   "cell_type": "code",
   "execution_count": null,
   "metadata": {},
   "outputs": [],
   "source": [
    "data['living_area'].corr(data['price_metr'])"
   ]
  },
  {
   "cell_type": "markdown",
   "metadata": {},
   "source": [
    "Взаимосвязь цены от жилой площади также очень слабая. Коэффициент корреляции Пирсона равен 0.21, т.е. чем больше жилой площадь тем немного выше стоимость."
   ]
  },
  {
   "cell_type": "code",
   "execution_count": null,
   "metadata": {},
   "outputs": [],
   "source": [
    "# Изучим, зависит ли цена от площади кухни\n",
    "kitchen_area_pivot_table = data.pivot_table(index = 'kitchen_area', values = 'price_metr', aggfunc = ['mean', 'median', 'count'])\n",
    "kitchen_area_pivot_table.columns = ['mean', 'median', 'count']\n",
    "kitchen_area_pivot_table.sort_values('median', ascending = False)"
   ]
  },
  {
   "cell_type": "code",
   "execution_count": null,
   "metadata": {},
   "outputs": [],
   "source": [
    "kitchen_area_pivot_table.plot(y = 'median',  style = 'o')"
   ]
  },
  {
   "cell_type": "code",
   "execution_count": null,
   "metadata": {},
   "outputs": [],
   "source": [
    "data['kitchen_area'].corr(data['price_metr'])"
   ]
  },
  {
   "cell_type": "markdown",
   "metadata": {},
   "source": [
    "Взаимосвязь цены от площади кухни также очень слабая. Коэффициент корреляции Пирсона равен 0.36, т.е. чем больше площадь кухни тем немного выше стоимость."
   ]
  },
  {
   "cell_type": "code",
   "execution_count": null,
   "metadata": {},
   "outputs": [],
   "source": [
    "# Изучим, зависит ли цена от количества комнат\n",
    "rooms_pivot_table = data.pivot_table(index = 'rooms', values = 'price_metr', aggfunc = ['mean', 'median', 'count'])\n",
    "rooms_pivot_table.columns = ['mean', 'median', 'count']\n",
    "rooms_pivot_table.sort_values('median', ascending = False)"
   ]
  },
  {
   "cell_type": "code",
   "execution_count": null,
   "metadata": {},
   "outputs": [],
   "source": [
    "rooms_pivot_table.plot(y = 'median', style = 'o')"
   ]
  },
  {
   "cell_type": "code",
   "execution_count": null,
   "metadata": {},
   "outputs": [],
   "source": [
    "# Очистим данные от вбросов через срез данных методом query()\n",
    "rooms_pivot_table_sort = rooms_pivot_table.query('count > 30').sort_values('median', ascending = False)"
   ]
  },
  {
   "cell_type": "code",
   "execution_count": null,
   "metadata": {},
   "outputs": [],
   "source": [
    "rooms_pivot_table_sort.plot(y = 'median', style = 'o')"
   ]
  },
  {
   "cell_type": "code",
   "execution_count": null,
   "metadata": {},
   "outputs": [],
   "source": [
    "data['rooms'].corr(data['price_metr'])"
   ]
  },
  {
   "cell_type": "markdown",
   "metadata": {},
   "source": [
    "Линейная взаимосвязь цены от количества комнат полностью отсутствует. Коэффициент корреляции Пирсона равен 0.05.\n",
    "Из графика же все таки видна закономерность ,что чем ближе количество комнат к 3 тем ниже стоимость квадратного метра."
   ]
  },
  {
   "cell_type": "code",
   "execution_count": null,
   "metadata": {},
   "outputs": [],
   "source": [
    "# Изучим, зависит ли цена от этажа, на котором расположена квартира (первый, последний, другой)\n",
    "type_floor_pivot_table = data.pivot_table(index = 'type_floor', values = 'price_metr', aggfunc = ['mean', 'median', 'count'])\n",
    "type_floor_pivot_table.columns = ['mean', 'median', 'count']\n",
    "type_floor_pivot_table.sort_values('median', ascending = False)"
   ]
  },
  {
   "cell_type": "code",
   "execution_count": null,
   "metadata": {},
   "outputs": [],
   "source": [
    "type_floor_pivot_table.plot(y = 'median', style = 'o-')"
   ]
  },
  {
   "cell_type": "markdown",
   "metadata": {},
   "source": [
    "Этаж квартиры явно влияет на стоимость квадратного метра. Самая низкая стоимость квадратного метра на первом этаже. Последний этаж продается на 5 тыс. дороже. Наибольшая стоимость у квартир, которые расположенны не на 1-ом и не на последнем этаже."
   ]
  },
  {
   "cell_type": "code",
   "execution_count": null,
   "metadata": {},
   "outputs": [],
   "source": [
    "# Изучим, зависит ли цена от даты размещения (день недели, месяц, год)\n",
    "# день недели\n",
    "exposition_weekday_pivot_table = data.pivot_table(index = 'exposition_weekday', values = 'price_metr', aggfunc = ['mean', 'median', 'count'])\n",
    "exposition_weekday_pivot_table.columns = ['mean', 'median', 'count']\n",
    "exposition_weekday_pivot_table.sort_values('median', ascending = False)"
   ]
  },
  {
   "cell_type": "code",
   "execution_count": null,
   "metadata": {},
   "outputs": [],
   "source": [
    "exposition_weekday_pivot_table.plot(y = 'median', style = 'o-')"
   ]
  },
  {
   "cell_type": "code",
   "execution_count": null,
   "metadata": {},
   "outputs": [],
   "source": [
    "data['exposition_weekday'].corr(data['price_metr'])"
   ]
  },
  {
   "cell_type": "markdown",
   "metadata": {},
   "source": [
    "Самая высокая стоимость квадратного метра наблюдается по вторникам. По субботам стоимость самая низкая.\n",
    "Линейная взаимосвязь цены от дня недели полностью отсутствует. Коэффициент корреляции Пирсона равен нулю."
   ]
  },
  {
   "cell_type": "code",
   "execution_count": null,
   "metadata": {},
   "outputs": [],
   "source": [
    "# месяц\n",
    "exposition_month_pivot_table = data.pivot_table(index = 'exposition_month', values = 'price_metr', aggfunc = ['mean', 'median', 'count'])\n",
    "exposition_month_pivot_table.columns = ['mean', 'median', 'count']\n",
    "exposition_month_pivot_table.sort_values('median', ascending = False)"
   ]
  },
  {
   "cell_type": "code",
   "execution_count": null,
   "metadata": {},
   "outputs": [],
   "source": [
    "exposition_month_pivot_table.plot(y = 'median', style = 'o-')"
   ]
  },
  {
   "cell_type": "code",
   "execution_count": null,
   "metadata": {},
   "outputs": [],
   "source": [
    "data['exposition_month'].corr(data['price_metr'])"
   ]
  },
  {
   "cell_type": "markdown",
   "metadata": {},
   "source": [
    "Самая высокая стоимость квадратного метра наблюдается в апреле и августе. В мае и июне стоимость самая низкая.\n",
    "Линейная взаимосвязь цены от месяцаи полностью отсутствует. Коэффициент корреляции Пирсона равен нулю."
   ]
  },
  {
   "cell_type": "code",
   "execution_count": null,
   "metadata": {},
   "outputs": [],
   "source": [
    "# год\n",
    "exposition_year_pivot_table = data.pivot_table(index = 'exposition_year', values = 'price_metr', aggfunc = ['mean', 'median', 'count'])\n",
    "exposition_year_pivot_table.columns = ['mean', 'median', 'count']\n",
    "exposition_year_pivot_table.sort_values('median', ascending = False)"
   ]
  },
  {
   "cell_type": "code",
   "execution_count": null,
   "metadata": {},
   "outputs": [],
   "source": [
    "exposition_year_pivot_table.plot(y = 'median', style = 'o-')"
   ]
  },
  {
   "cell_type": "code",
   "execution_count": null,
   "metadata": {},
   "outputs": [],
   "source": [
    "data['exposition_year'].corr(data['price_metr'])"
   ]
  },
  {
   "cell_type": "markdown",
   "metadata": {},
   "source": [
    "Самая высокая стоимость квадратного метра наблюдается в 2014г. и в 2019г. С 2015г. по 2018г. наблюдался спад и потом незначительный подъем стоимости квадратного метра.\n",
    "Линейная взаимосвязь цены от месяца полностью отсутствует. Коэффициент корреляции Пирсона равен нулю."
   ]
  },
  {
   "cell_type": "markdown",
   "metadata": {},
   "source": [
    "Общий вывод.\n",
    "Линейной взаимосвязи по всем анализируемым параметрам не наблюдается. Коэффициент корреляции Пирсона либо чуть выше нуль, либо практически равен нулю.\n",
    "Однако определенные вывода все таки можно сделать:\n",
    "* Чем больше общая площадь тем немного выше стоимость.\n",
    "* Чем больше жилой площадь тем также немного выше стоимость.\n",
    "* Чем больше площадь кухне тем немного выше стоимость.\n",
    "* Из графика же все таки видна закономерность ,что чем ближе количество комнат к 3 тем ниже стоимость квадратного метра.\n",
    "* Самая низкая стоимость квадратного метра на первом этаже. Последний этаж продается на 5 тыс. дороже. Наибольшая стоимость у квартир, которые расположены не на 1-ом и не на последнем этаже.\n",
    "* Самая высокая стоимость квадратного метра наблюдается по вторникам. По субботам стоимость самая низкая.\n",
    "* Самая высокая стоимость квадратного метра наблюдается в апреле и августе. В мае и июне стоимость самая низкая.\n",
    "* Самая высокая стоимость квадратного метра наблюдается в 2014г. и в 2019г. С 2015г. по 2018г. наблюдался спад и потом незначительный подъем стоимости квадратного метра.\n",
    "\n",
    "Таким образом, самая выгодную покупку можно было сделать, купив 3-х комнатную квартиру на первом этаже в субботу в июне 2016г. на первом или последнем этаже дома."
   ]
  },
  {
   "cell_type": "markdown",
   "metadata": {},
   "source": [
    "4 Посчитайте среднюю цену одного квадратного метра в 10 населённых пунктах с наибольшим числом объявлений — постройте сводную таблицу с количеством объявлений и средней ценой квадратного метра для этих населенных пунктов. \n",
    "Выделите населённые пункты с самой высокой и низкой стоимостью квадратного метра."
   ]
  },
  {
   "cell_type": "code",
   "execution_count": null,
   "metadata": {},
   "outputs": [],
   "source": [
    "# Построим сводную таблицу\n",
    "locality_name_pivot_table = data.pivot_table(index = 'locality_name', values = 'price_metr', aggfunc=['count', 'mean'])\n",
    "locality_name_pivot_table.columns = ['count', 'mean']\n",
    "locality_name_pivot_table = locality_name_pivot_table.sort_values('count', ascending = False).head(10)\n",
    "locality_name_pivot_table"
   ]
  },
  {
   "cell_type": "code",
   "execution_count": null,
   "metadata": {},
   "outputs": [],
   "source": [
    "# Самая высокая стоимость\n",
    "locality_name_pivot_table[locality_name_pivot_table['mean']==locality_name_pivot_table['mean'].max()]"
   ]
  },
  {
   "cell_type": "code",
   "execution_count": null,
   "metadata": {},
   "outputs": [],
   "source": [
    "# Самая низкая стоимость\n",
    "locality_name_pivot_table[locality_name_pivot_table['mean']==locality_name_pivot_table['mean'].min()]"
   ]
  },
  {
   "cell_type": "markdown",
   "metadata": {},
   "source": [
    "Самая высокая средняя цена квадратного метра из 10 населённых пунктов с самым большим числом объявлений приходится на город Санкт-Петербург. Самая низкая средняя цена квадратного метра в Выборге."
   ]
  },
  {
   "cell_type": "markdown",
   "metadata": {},
   "source": [
    "5 Ранее вы посчитали расстояние до центра в километрах. Теперь выделите квартиры в Санкт-Петербурге с помощью столбца locality_name и вычислите их среднюю стоимость на разном удалении от центра. \n",
    "Учитывайте каждый километр расстояния: узнайте среднюю цену квартир в одном километре от центра, в двух и так далее. \n",
    "Опишите, как стоимость объектов зависит от расстояния до центра города — постройте график изменения средней цены для каждого километра от центра Петербурга."
   ]
  },
  {
   "cell_type": "code",
   "execution_count": null,
   "metadata": {},
   "outputs": [],
   "source": [
    "# Получим срез данных методом query() и сгруппируем данные методом pivot_table()\n",
    "km_pivot_table = data.query('locality_name == \"санкт-петербург\"').pivot_table(index = 'city_centers_nearest_km', values = 'price_metr', aggfunc = 'mean')"
   ]
  },
  {
   "cell_type": "code",
   "execution_count": null,
   "metadata": {},
   "outputs": [],
   "source": [
    "km_pivot_table"
   ]
  },
  {
   "cell_type": "code",
   "execution_count": null,
   "metadata": {},
   "outputs": [],
   "source": [
    "# Построим график\n",
    "km_pivot_table.plot(style = 'o-')"
   ]
  },
  {
   "cell_type": "markdown",
   "metadata": {},
   "source": [
    "Максимальная стоимость квадратного метра квартиры находится в центре города.\n",
    "Чем дальше от центра, тем стоимость дешевле.\n",
    "На опредленных расстояниях от центра наблюдаются скачки цены квадратного метра, что возможно связано с удобным расположением и находящимеся рядом объектам инфраструктуры/парками."
   ]
  },
  {
   "cell_type": "markdown",
   "metadata": {
    "id": "h7VpzkIDAwb-"
   },
   "source": [
    "### Напишите общий вывод"
   ]
  },
  {
   "cell_type": "markdown",
   "metadata": {
    "id": "3H4lnp_KAwb-"
   },
   "source": [
    "1. Изучил общую информацию о данных. Сразу выявил, что в столбцах есть очень много пропусков и есть несоответствие содержимого типу данных.\n",
    "2. В результате предобработки данных, было сделано следующее:\n",
    "* Переименовал название столбца cityCenters_nearest на city_centers_nearest;\n",
    "* Заполнил пропуски в таблице;\n",
    "* Изменил тип данных, в соответствии с данными находяшимися в столбцах;\n",
    "* Изучил уникальные значения в столбце locality_name и устранил неявные дубликаты.\n",
    "3. Добавил в таблицу новые столбцы:\n",
    "* цена одного квадратного метра ;\n",
    "* день недели публикации объявления (0 — понедельник, 1 — вторник и так далее);\n",
    "* месяц публикации объявления;\n",
    "* год публикации объявления;\n",
    "* тип этажа квартиры (значения — «первый», «последний», «другой»);\n",
    "* расстояние до центра города в километрах.\n",
    "4.1. Общий вывод по проделанному анализу:\n",
    "* Самое большое предложение квартир с общей площадью от 30 до 65 кв. метров с максимумом около 45 кв. метров.\n",
    "* Самое большое предложение квартир с жилой площадью от 15 до 50 кв. метров с двумя пиками 18 и 35 кв. метров.\n",
    "* Самое большое предложение квартир с площадью кухни от 6 до 12 кв. метров с максимумом около 11 кв. метров.\n",
    "* Самое большое предложение квартир с ценой от 2 до 7 млн.рублей с максимумом около 4 млн.рублей\n",
    "* Самое большое предложение квартир с количеством комнат от 1 до 3 с двумя максимальными пиками 1 и 2 комнаты.\n",
    "* Самое большое предложение квартир с высотой потолков от 2,5 до 2,8 метра с максимумом около 2,8 метра\n",
    "* Первый и последний этаж составляют 26% от общего количества этажей. По этому поводу есть 2 предположения: Первое, количество первых и последних этажей в целом меньше чем количество остальных этажей. Второе, данные этажи меньше ценятся, поэтому их количество в продаже гораздо меньше остальных.\n",
    "* Самое большое предложение квартир с общим количеством этажей в доме от 5 до 25. На гистограмме наблюдаются несколько пиков, что скорее всего связано с типовым значением этажей в доме. Максимальный пик составляет 6 этажей.\n",
    "* Самое большое предложение квартир с расстоянием до центра города от 5 до 17км с максимальным пиком около 15км.\n",
    "* Самое большое предложение квартир с расстоянием до ближайшего парка до 750м с максимальным пиком около 500 метров.\n",
    "Картина идеальной квартиры с точки зрения рынка:\n",
    "Это квартира с общей площадью 45 кв.м, с жилой площадью 18 или 35 кв.м, с площадью кухни около 11 кв.м, стоимостью около 4 млн.рублей с 1 или 2 количеством комнат, с высотой потолков около 2,8 метра, не первый и не последний этаж, с общим количеством этажей в доме 6 этажей, с расстоянием до центра города около 15км и с расстоянием до ближайшего парка около 500 метров.\n",
    "4.2. Наблюдается очень сильный пик продаж на 95 день.\n",
    "Большая часть продаж квартиры происходит до 200 дней.\n",
    "Среднее время продажи составляет 169 дней\n",
    "Медианное время продажи составляет 95 дней.\n",
    "Медианное время продажи более точно характеризует сколько дней было размещено каждое объявление, так как не зависит от выбрасов и нестандартных значений.\n",
    "Быстрыми продажами можно считать продажи состоявшиеся за 45 дней (1-е самое частое значение и 1-ый квартиль).\n",
    "Необычно долгие продажи после 232 дней (3-квартиль, 75% продаж происходит до этой даты).\n",
    "4.3. Изучил, зависимость цены от общей площади, жилой площади, площади кухни, количества комнат, этажа, на котором расположена квартира (первый, последний, другой), даты размещения (день недели, месяц, год).\n",
    "Линейной взаимосвязи по всем анализируемым параметрам не наблюдается. Коэффициент корреляции Пирсона либо чуть выше нуля, либо практически равен нулю.\n",
    "Однако определенные вывода все таки можно сделать:\n",
    "* Чем больше общая площадь тем немного выше стоимость.\n",
    "* Чем больше жилой площадь тем также немного выше стоимость.\n",
    "* Чем больше площадь кухне тем немного выше стоимость.\n",
    "* Из графика же все таки видна закономерность ,что чем ближе количество комнат к 3 тем ниже стоимость квадратного метра.\n",
    "* Самая низкая стоимость квадратного метра на первом этаже. Последний этаж продается на 5 тыс. дороже. Наибольшая стоимость у квартир, которые расположены не на 1-ом и не на последнем этаже.\n",
    "* Самая высокая стоимость квадратного метра наблюдается по вторникам. По субботам стоимость самая низкая.\n",
    "* Самая высокая стоимость квадратного метра наблюдается в апреле и августе. В мае и июне стоимость самая низкая.\n",
    "* Самая высокая стоимость квадратного метра наблюдается в 2014г. и в 2019г. С 2015г. по 2018г. наблюдался спад и потом незначительный подъем стоимости квадратного метра.\n",
    "Таким образом, самая выгодную покупку можно было сделать, купив 3-х комнатную квартиру на первом этаже в субботу в июне 2016г. на первом или последнем этаже дома.\n",
    "4.4. Самая высокая средняя цена квадратного метра из 10 населённых пунктов с самым большим числом объявлений приходится на город Санкт-Петербург. Самая низкая средняя цена квадратного метра в Выборге.\n",
    "4.5. Максимальная стоимость квадратного метра квартиры находится в центре города.\n",
    "Чем дальше от центра, тем стоимость дешевле.\n",
    "На опредленных расстояниях от центра наблюдаются скачки цены квадратного метра, что возможно связано с удобным расположением и находящимеся рядом объектам инфраструктуры/парками."
   ]
  },
  {
   "cell_type": "markdown",
   "metadata": {
    "id": "A90mc0BgAwb-"
   },
   "source": [
    "**Чек-лист готовности проекта**\n",
    "\n",
    "Поставьте 'x' в выполненных пунктах. Далее нажмите Shift+Enter."
   ]
  },
  {
   "cell_type": "markdown",
   "metadata": {
    "id": "ME3sTWm6Awb-"
   },
   "source": [
    "- [x]  Файл с данными открыт.\n",
    "- [x]  Файл с данными изучен: выведены первые строки, использован метод `info()`, построены гистограммы.\n",
    "- [x]  Найдены пропущенные значения.\n",
    "- [x]  Пропущенные значения заполнены там, где это возможно.\n",
    "- [x]  Объяснено, какие пропущенные значения обнаружены.\n",
    "- [x]  В каждом столбце установлен корректный тип данных.\n",
    "- [x]  Объяснено, в каких столбцах изменён тип данных и почему.\n",
    "- [x]  Устранены неявные дубликаты в названиях населённых пунктов.\n",
    "- [x]  Обработаны редкие и выбивающиеся значения (аномалии).\n",
    "- [x]  В таблицу добавлены новые параметры:\n",
    "       – цена одного квадратного метра;\n",
    "       – день публикации объявления (0 - понедельник, 1 - вторник и т. д.);\n",
    "       – месяц публикации объявления;\n",
    "       – год публикации объявления;\n",
    "       – тип этажа квартиры (значения — «первый», «последний», «другой»);\n",
    "       – расстояние до центра города в километрах.\n",
    "- [x]  Изучены и описаны параметры:\n",
    "        - общая площадь;\n",
    "        - жилая площадь;\n",
    "        - площадь кухни;\n",
    "        - цена объекта;\n",
    "        - количество комнат;\n",
    "        - высота потолков;\n",
    "        - тип этажа квартиры («первый», «последний», «другой»);\n",
    "        - общее количество этажей в доме;\n",
    "        - расстояние до центра города в метрах;\n",
    "        - расстояние до ближайшего парка.\n",
    "- [x]  Выполнено задание «Изучите, как быстро продавались квартиры (столбец `days_exposition`)»:\n",
    "    - построена гистограмма;\n",
    "    - рассчитаны среднее и медиана;\n",
    "    - описано, сколько обычно занимает продажа и указано, какие продажи можно считать быстрыми, а какие — необычно долгими.\n",
    "- [x]  Выполнено задание «Определите факторы, которые больше всего влияют на общую (полную) стоимость объекта». Построены графики, которые показывают зависимость цены от параметров:\n",
    "        - общая площадь;\n",
    "        - жилая площадь;\n",
    "        - площадь кухни;\n",
    "        - количество комнат;\n",
    "        - тип этажа, на котором расположена квартира (первый, последний, другой);\n",
    "        - дата размещения (день недели, месяц, год).\n",
    "- [x]  Выполнено задание «Посчитайте среднюю цену одного квадратного метра в 10 населённых пунктах с наибольшим числом объявлений»:\n",
    "    - выделены населённые пункты с самой высокой и низкой стоимостью квадратного метра.\n",
    "- [x]  Выполнено задание «Выделите квартиры в Санкт-Петербурге с помощью столбца `locality_name` и вычислите их среднюю стоимость на разном удалении от центра»:\n",
    "    -  учтён каждый километр расстояния, известны средние цены квартир в одном километре от центра, в двух и так далее;\n",
    "    -  описано, как стоимость объекта зависит от расстояния до центра города;\n",
    "    -  построен график изменения средней цены для каждого километра от центра Петербурга.\n",
    "- [x]  На каждом этапе сделаны промежуточные выводы.\n",
    "- [x]  В конце проекта сделан общий вывод."
   ]
  }
 ],
 "metadata": {
  "ExecuteTimeLog": [
   {
    "duration": 49,
    "start_time": "2024-05-31T05:58:32.115Z"
   },
   {
    "duration": 685,
    "start_time": "2024-05-31T05:58:46.992Z"
   },
   {
    "duration": 95,
    "start_time": "2024-05-31T06:00:37.271Z"
   },
   {
    "duration": 468,
    "start_time": "2024-05-31T06:01:25.751Z"
   },
   {
    "duration": 98,
    "start_time": "2024-05-31T06:01:41.615Z"
   },
   {
    "duration": 89,
    "start_time": "2024-05-31T06:01:56.035Z"
   },
   {
    "duration": 95,
    "start_time": "2024-05-31T06:02:48.838Z"
   },
   {
    "duration": 94,
    "start_time": "2024-05-31T06:02:55.781Z"
   },
   {
    "duration": 3,
    "start_time": "2024-05-31T06:06:44.547Z"
   },
   {
    "duration": 92,
    "start_time": "2024-05-31T06:06:55.249Z"
   },
   {
    "duration": 94,
    "start_time": "2024-05-31T06:07:23.938Z"
   },
   {
    "duration": 102,
    "start_time": "2024-05-31T06:28:27.210Z"
   },
   {
    "duration": 89,
    "start_time": "2024-05-31T06:34:21.122Z"
   },
   {
    "duration": 87,
    "start_time": "2024-05-31T06:36:06.543Z"
   },
   {
    "duration": 45,
    "start_time": "2024-05-31T06:36:40.974Z"
   },
   {
    "duration": 58,
    "start_time": "2024-05-31T06:36:50.005Z"
   },
   {
    "duration": 102,
    "start_time": "2024-05-31T06:37:12.526Z"
   },
   {
    "duration": 89,
    "start_time": "2024-05-31T06:37:42.612Z"
   },
   {
    "duration": 89,
    "start_time": "2024-05-31T06:39:06.242Z"
   },
   {
    "duration": 86,
    "start_time": "2024-05-31T06:39:21.314Z"
   },
   {
    "duration": 82,
    "start_time": "2024-05-31T06:40:53.832Z"
   },
   {
    "duration": 45,
    "start_time": "2024-05-31T06:40:59.831Z"
   },
   {
    "duration": 83,
    "start_time": "2024-05-31T06:41:09.655Z"
   },
   {
    "duration": 84,
    "start_time": "2024-05-31T06:42:38.205Z"
   },
   {
    "duration": 81,
    "start_time": "2024-05-31T06:42:45.556Z"
   },
   {
    "duration": 107,
    "start_time": "2024-05-31T06:43:43.907Z"
   },
   {
    "duration": 123,
    "start_time": "2024-05-31T06:44:35.466Z"
   },
   {
    "duration": 2041,
    "start_time": "2024-05-31T06:48:51.182Z"
   },
   {
    "duration": 1930,
    "start_time": "2024-05-31T06:49:17.363Z"
   },
   {
    "duration": 3809,
    "start_time": "2024-05-31T06:50:01.282Z"
   },
   {
    "duration": 3022,
    "start_time": "2024-05-31T06:50:19.674Z"
   },
   {
    "duration": 2806,
    "start_time": "2024-05-31T06:50:44.273Z"
   },
   {
    "duration": 2025,
    "start_time": "2024-05-31T06:52:23.463Z"
   },
   {
    "duration": 885,
    "start_time": "2024-05-31T06:55:43.186Z"
   },
   {
    "duration": 155,
    "start_time": "2024-05-31T06:57:05.866Z"
   },
   {
    "duration": 914,
    "start_time": "2024-05-31T06:59:15.591Z"
   },
   {
    "duration": 1021,
    "start_time": "2024-05-31T07:11:28.021Z"
   },
   {
    "duration": 31,
    "start_time": "2024-05-31T07:14:06.487Z"
   },
   {
    "duration": 9,
    "start_time": "2024-05-31T07:20:47.924Z"
   },
   {
    "duration": 25,
    "start_time": "2024-05-31T07:20:54.612Z"
   },
   {
    "duration": 9,
    "start_time": "2024-05-31T07:22:25.747Z"
   },
   {
    "duration": 27,
    "start_time": "2024-05-31T07:22:55.297Z"
   },
   {
    "duration": 8,
    "start_time": "2024-05-31T07:23:04.145Z"
   },
   {
    "duration": 81,
    "start_time": "2024-05-31T07:31:15.292Z"
   },
   {
    "duration": 193,
    "start_time": "2024-05-31T07:31:20.980Z"
   },
   {
    "duration": 75,
    "start_time": "2024-05-31T07:31:40.387Z"
   },
   {
    "duration": 11,
    "start_time": "2024-05-31T07:32:02.332Z"
   },
   {
    "duration": 69,
    "start_time": "2024-05-31T07:32:13.220Z"
   },
   {
    "duration": 11,
    "start_time": "2024-05-31T07:32:30.330Z"
   },
   {
    "duration": 11,
    "start_time": "2024-05-31T07:34:10.266Z"
   },
   {
    "duration": 11,
    "start_time": "2024-05-31T07:34:19.560Z"
   },
   {
    "duration": 10,
    "start_time": "2024-05-31T07:34:26.738Z"
   },
   {
    "duration": 9,
    "start_time": "2024-05-31T07:35:39.959Z"
   },
   {
    "duration": 9,
    "start_time": "2024-05-31T07:36:11.423Z"
   },
   {
    "duration": 10,
    "start_time": "2024-05-31T07:36:33.261Z"
   },
   {
    "duration": 9,
    "start_time": "2024-05-31T07:36:47.028Z"
   },
   {
    "duration": 8,
    "start_time": "2024-05-31T07:38:29.170Z"
   },
   {
    "duration": 5,
    "start_time": "2024-05-31T07:38:35.482Z"
   },
   {
    "duration": 850,
    "start_time": "2024-05-31T07:38:42.706Z"
   },
   {
    "duration": 12,
    "start_time": "2024-05-31T07:38:47.033Z"
   },
   {
    "duration": 7,
    "start_time": "2024-05-31T07:39:10.017Z"
   },
   {
    "duration": 13,
    "start_time": "2024-05-31T07:39:18.121Z"
   },
   {
    "duration": 12,
    "start_time": "2024-05-31T07:39:25.256Z"
   },
   {
    "duration": 39,
    "start_time": "2024-05-31T07:41:34.766Z"
   },
   {
    "duration": 87,
    "start_time": "2024-05-31T07:47:08.836Z"
   },
   {
    "duration": 43,
    "start_time": "2024-05-31T07:50:04.993Z"
   },
   {
    "duration": 77,
    "start_time": "2024-05-31T07:50:27.441Z"
   },
   {
    "duration": 52,
    "start_time": "2024-05-31T08:03:44.316Z"
   },
   {
    "duration": 19,
    "start_time": "2024-05-31T08:05:35.376Z"
   },
   {
    "duration": 15,
    "start_time": "2024-05-31T08:06:55.400Z"
   },
   {
    "duration": 19,
    "start_time": "2024-05-31T08:07:24.880Z"
   },
   {
    "duration": 15,
    "start_time": "2024-05-31T08:09:06.822Z"
   },
   {
    "duration": 8,
    "start_time": "2024-05-31T08:09:19.269Z"
   },
   {
    "duration": 10,
    "start_time": "2024-05-31T08:09:35.245Z"
   },
   {
    "duration": 28,
    "start_time": "2024-05-31T08:12:15.963Z"
   },
   {
    "duration": 28,
    "start_time": "2024-05-31T08:25:54.728Z"
   },
   {
    "duration": 19,
    "start_time": "2024-05-31T08:26:14.528Z"
   },
   {
    "duration": 73,
    "start_time": "2024-05-31T11:22:35.281Z"
   },
   {
    "duration": 35,
    "start_time": "2024-05-31T11:28:01.496Z"
   },
   {
    "duration": 51,
    "start_time": "2024-05-31T11:39:28.233Z"
   },
   {
    "duration": 16,
    "start_time": "2024-05-31T11:39:46.470Z"
   },
   {
    "duration": 50,
    "start_time": "2024-05-31T12:09:11.471Z"
   },
   {
    "duration": 528,
    "start_time": "2024-05-31T12:09:31.094Z"
   },
   {
    "duration": 21,
    "start_time": "2024-05-31T12:15:51.217Z"
   },
   {
    "duration": 2151,
    "start_time": "2024-06-03T07:06:13.601Z"
   },
   {
    "duration": 152,
    "start_time": "2024-06-03T07:06:21.986Z"
   },
   {
    "duration": 19,
    "start_time": "2024-06-03T07:06:28.608Z"
   },
   {
    "duration": 2023,
    "start_time": "2024-06-05T05:15:58.750Z"
   },
   {
    "duration": 1007,
    "start_time": "2024-06-05T05:22:51.292Z"
   },
   {
    "duration": 2141,
    "start_time": "2024-06-05T05:43:10.207Z"
   },
   {
    "duration": 1988,
    "start_time": "2024-06-05T05:44:37.012Z"
   },
   {
    "duration": 2060,
    "start_time": "2024-06-05T05:45:16.595Z"
   },
   {
    "duration": 2047,
    "start_time": "2024-06-05T06:46:00.499Z"
   },
   {
    "duration": 4,
    "start_time": "2024-06-05T07:31:55.217Z"
   },
   {
    "duration": 8,
    "start_time": "2024-06-05T07:34:35.539Z"
   },
   {
    "duration": 19,
    "start_time": "2024-06-05T07:36:04.347Z"
   },
   {
    "duration": 9,
    "start_time": "2024-06-05T07:36:17.889Z"
   },
   {
    "duration": 13,
    "start_time": "2024-06-05T07:40:35.868Z"
   },
   {
    "duration": 19,
    "start_time": "2024-06-05T07:41:27.427Z"
   },
   {
    "duration": 2279,
    "start_time": "2024-06-05T07:42:29.355Z"
   },
   {
    "duration": 2331,
    "start_time": "2024-06-05T07:42:46.049Z"
   },
   {
    "duration": 2042,
    "start_time": "2024-06-05T07:43:16.169Z"
   },
   {
    "duration": 16,
    "start_time": "2024-06-05T07:47:31.804Z"
   },
   {
    "duration": 22,
    "start_time": "2024-06-05T07:54:04.496Z"
   },
   {
    "duration": 94,
    "start_time": "2024-06-05T08:03:45.355Z"
   },
   {
    "duration": 2347,
    "start_time": "2024-06-05T08:05:10.357Z"
   },
   {
    "duration": 34,
    "start_time": "2024-06-05T08:05:23.259Z"
   },
   {
    "duration": 25,
    "start_time": "2024-06-05T10:49:57.120Z"
   },
   {
    "duration": 324,
    "start_time": "2024-06-05T10:55:39.727Z"
   },
   {
    "duration": 1003,
    "start_time": "2024-06-05T10:56:15.230Z"
   },
   {
    "duration": 1522,
    "start_time": "2024-06-05T10:57:25.642Z"
   },
   {
    "duration": 1816,
    "start_time": "2024-06-05T10:57:52.116Z"
   },
   {
    "duration": 1998,
    "start_time": "2024-06-05T10:58:51.076Z"
   },
   {
    "duration": 2529,
    "start_time": "2024-06-05T10:59:27.978Z"
   },
   {
    "duration": 2296,
    "start_time": "2024-06-05T10:59:55.491Z"
   },
   {
    "duration": 2866,
    "start_time": "2024-06-05T11:00:17.241Z"
   },
   {
    "duration": 2614,
    "start_time": "2024-06-05T11:00:37.273Z"
   },
   {
    "duration": 3183,
    "start_time": "2024-06-05T11:00:48.912Z"
   },
   {
    "duration": 2904,
    "start_time": "2024-06-05T11:01:16.777Z"
   },
   {
    "duration": 3516,
    "start_time": "2024-06-05T11:01:30.464Z"
   },
   {
    "duration": 3152,
    "start_time": "2024-06-05T11:01:53.397Z"
   },
   {
    "duration": 3691,
    "start_time": "2024-06-05T11:02:17.288Z"
   },
   {
    "duration": 4572,
    "start_time": "2024-06-05T11:04:00.564Z"
   },
   {
    "duration": 27,
    "start_time": "2024-06-05T11:31:47.297Z"
   },
   {
    "duration": 15,
    "start_time": "2024-06-05T11:33:04.860Z"
   },
   {
    "duration": 2977,
    "start_time": "2024-06-05T11:33:25.523Z"
   },
   {
    "duration": 110,
    "start_time": "2024-06-05T11:33:57.498Z"
   },
   {
    "duration": 107,
    "start_time": "2024-06-05T11:34:06.810Z"
   },
   {
    "duration": 144,
    "start_time": "2024-06-05T11:36:40.584Z"
   },
   {
    "duration": 17,
    "start_time": "2024-06-05T11:36:50.918Z"
   },
   {
    "duration": 2385,
    "start_time": "2024-06-05T11:36:58.046Z"
   },
   {
    "duration": 14,
    "start_time": "2024-06-05T11:39:40.283Z"
   },
   {
    "duration": 177,
    "start_time": "2024-06-05T11:53:28.262Z"
   },
   {
    "duration": 15,
    "start_time": "2024-06-05T11:58:45.516Z"
   },
   {
    "duration": 16,
    "start_time": "2024-06-05T11:59:08.210Z"
   },
   {
    "duration": 197,
    "start_time": "2024-06-05T12:04:10.165Z"
   },
   {
    "duration": 16,
    "start_time": "2024-06-05T12:05:27.466Z"
   },
   {
    "duration": 7,
    "start_time": "2024-06-05T12:06:07.618Z"
   },
   {
    "duration": 22,
    "start_time": "2024-06-05T12:06:30.250Z"
   },
   {
    "duration": 21,
    "start_time": "2024-06-05T12:07:01.744Z"
   },
   {
    "duration": 13,
    "start_time": "2024-06-05T12:08:10.023Z"
   },
   {
    "duration": 13,
    "start_time": "2024-06-05T12:09:14.700Z"
   },
   {
    "duration": 13,
    "start_time": "2024-06-05T12:15:15.119Z"
   },
   {
    "duration": 8,
    "start_time": "2024-06-05T12:42:50.475Z"
   },
   {
    "duration": 10,
    "start_time": "2024-06-05T12:43:24.641Z"
   },
   {
    "duration": 55,
    "start_time": "2024-06-05T16:34:03.533Z"
   },
   {
    "duration": 1121,
    "start_time": "2024-06-05T16:34:27.027Z"
   },
   {
    "duration": 17,
    "start_time": "2024-06-05T16:34:34.336Z"
   },
   {
    "duration": 2168,
    "start_time": "2024-06-05T16:34:42.412Z"
   },
   {
    "duration": 10,
    "start_time": "2024-06-05T16:34:52.447Z"
   },
   {
    "duration": 9,
    "start_time": "2024-06-05T16:34:56.609Z"
   },
   {
    "duration": 10,
    "start_time": "2024-06-05T16:34:59.403Z"
   },
   {
    "duration": 4,
    "start_time": "2024-06-05T16:35:02.201Z"
   },
   {
    "duration": 38,
    "start_time": "2024-06-05T16:35:17.712Z"
   },
   {
    "duration": 6,
    "start_time": "2024-06-05T16:35:42.018Z"
   },
   {
    "duration": 4,
    "start_time": "2024-06-05T16:37:20.070Z"
   },
   {
    "duration": 9,
    "start_time": "2024-06-05T16:38:13.067Z"
   },
   {
    "duration": 8,
    "start_time": "2024-06-05T16:40:47.308Z"
   },
   {
    "duration": 7,
    "start_time": "2024-06-05T16:42:44.054Z"
   },
   {
    "duration": 9,
    "start_time": "2024-06-05T16:44:16.894Z"
   },
   {
    "duration": 5,
    "start_time": "2024-06-05T16:48:38.988Z"
   },
   {
    "duration": 4,
    "start_time": "2024-06-05T16:49:36.527Z"
   },
   {
    "duration": 4,
    "start_time": "2024-06-05T16:51:56.421Z"
   },
   {
    "duration": 10,
    "start_time": "2024-06-05T16:52:32.143Z"
   },
   {
    "duration": 7,
    "start_time": "2024-06-05T16:54:46.913Z"
   },
   {
    "duration": 12,
    "start_time": "2024-06-05T16:55:26.171Z"
   },
   {
    "duration": 5,
    "start_time": "2024-06-05T16:55:55.230Z"
   },
   {
    "duration": 5,
    "start_time": "2024-06-05T16:56:06.803Z"
   },
   {
    "duration": 5,
    "start_time": "2024-06-05T17:01:17.413Z"
   },
   {
    "duration": 10,
    "start_time": "2024-06-05T17:01:40.447Z"
   },
   {
    "duration": 8,
    "start_time": "2024-06-05T17:03:42.124Z"
   },
   {
    "duration": 8,
    "start_time": "2024-06-05T17:03:53.053Z"
   },
   {
    "duration": 6,
    "start_time": "2024-06-05T17:05:45.440Z"
   },
   {
    "duration": 9,
    "start_time": "2024-06-05T17:05:49.719Z"
   },
   {
    "duration": 10,
    "start_time": "2024-06-05T17:07:33.416Z"
   },
   {
    "duration": 11,
    "start_time": "2024-06-05T17:07:56.814Z"
   },
   {
    "duration": 4,
    "start_time": "2024-06-05T17:09:10.827Z"
   },
   {
    "duration": 4,
    "start_time": "2024-06-05T17:10:33.512Z"
   },
   {
    "duration": 8,
    "start_time": "2024-06-05T17:10:40.181Z"
   },
   {
    "duration": 6,
    "start_time": "2024-06-05T17:12:33.213Z"
   },
   {
    "duration": 9,
    "start_time": "2024-06-05T17:14:35.800Z"
   },
   {
    "duration": 10,
    "start_time": "2024-06-05T17:14:41.166Z"
   },
   {
    "duration": 9,
    "start_time": "2024-06-05T17:15:50.484Z"
   },
   {
    "duration": 7,
    "start_time": "2024-06-05T17:17:32.382Z"
   },
   {
    "duration": 10,
    "start_time": "2024-06-05T17:18:21.252Z"
   },
   {
    "duration": 9,
    "start_time": "2024-06-05T17:18:46.096Z"
   },
   {
    "duration": 10,
    "start_time": "2024-06-05T17:19:11.792Z"
   },
   {
    "duration": 5,
    "start_time": "2024-06-05T17:19:44.536Z"
   },
   {
    "duration": 11,
    "start_time": "2024-06-05T17:19:48.318Z"
   },
   {
    "duration": 8,
    "start_time": "2024-06-05T17:21:04.286Z"
   },
   {
    "duration": 10,
    "start_time": "2024-06-05T17:21:20.261Z"
   },
   {
    "duration": 10,
    "start_time": "2024-06-05T17:22:27.536Z"
   },
   {
    "duration": 4,
    "start_time": "2024-06-05T17:22:42.377Z"
   },
   {
    "duration": 5,
    "start_time": "2024-06-05T17:22:54.914Z"
   },
   {
    "duration": 11,
    "start_time": "2024-06-05T17:22:57.416Z"
   },
   {
    "duration": 11,
    "start_time": "2024-06-05T17:23:59.649Z"
   },
   {
    "duration": 11,
    "start_time": "2024-06-05T17:24:33.124Z"
   },
   {
    "duration": 7,
    "start_time": "2024-06-05T17:25:26.324Z"
   },
   {
    "duration": 9,
    "start_time": "2024-06-05T17:26:13.898Z"
   },
   {
    "duration": 10,
    "start_time": "2024-06-05T17:26:17.026Z"
   },
   {
    "duration": 11,
    "start_time": "2024-06-05T17:27:01.923Z"
   },
   {
    "duration": 16,
    "start_time": "2024-06-05T17:27:32.240Z"
   },
   {
    "duration": 4,
    "start_time": "2024-06-05T17:27:58.828Z"
   },
   {
    "duration": 11,
    "start_time": "2024-06-05T17:28:02.385Z"
   },
   {
    "duration": 5,
    "start_time": "2024-06-05T17:28:22.453Z"
   },
   {
    "duration": 8,
    "start_time": "2024-06-05T17:29:06.175Z"
   },
   {
    "duration": 12,
    "start_time": "2024-06-05T17:29:08.403Z"
   },
   {
    "duration": 13,
    "start_time": "2024-06-05T17:29:48.399Z"
   },
   {
    "duration": 5,
    "start_time": "2024-06-05T17:30:11.051Z"
   },
   {
    "duration": 12,
    "start_time": "2024-06-05T17:30:13.626Z"
   },
   {
    "duration": 13,
    "start_time": "2024-06-05T17:30:41.177Z"
   },
   {
    "duration": 4,
    "start_time": "2024-06-05T17:34:14.685Z"
   },
   {
    "duration": 13,
    "start_time": "2024-06-05T17:34:16.622Z"
   },
   {
    "duration": 12,
    "start_time": "2024-06-05T17:34:58.591Z"
   },
   {
    "duration": 20,
    "start_time": "2024-06-05T17:41:31.348Z"
   },
   {
    "duration": 14,
    "start_time": "2024-06-05T17:46:14.024Z"
   },
   {
    "duration": 9,
    "start_time": "2024-06-05T17:46:38.526Z"
   },
   {
    "duration": 6,
    "start_time": "2024-06-05T17:48:29.691Z"
   },
   {
    "duration": 12,
    "start_time": "2024-06-05T17:48:31.848Z"
   },
   {
    "duration": 15,
    "start_time": "2024-06-05T17:48:56.657Z"
   },
   {
    "duration": 12,
    "start_time": "2024-06-05T17:53:39.760Z"
   },
   {
    "duration": 64,
    "start_time": "2024-06-05T17:54:30.718Z"
   },
   {
    "duration": 6,
    "start_time": "2024-06-05T17:56:54.527Z"
   },
   {
    "duration": 7,
    "start_time": "2024-06-05T17:59:50.525Z"
   },
   {
    "duration": 10,
    "start_time": "2024-06-05T18:00:15.132Z"
   },
   {
    "duration": 7,
    "start_time": "2024-06-05T18:00:22.419Z"
   },
   {
    "duration": 7,
    "start_time": "2024-06-05T18:01:05.334Z"
   },
   {
    "duration": 10,
    "start_time": "2024-06-05T18:15:58.384Z"
   },
   {
    "duration": 10,
    "start_time": "2024-06-05T18:16:03.250Z"
   },
   {
    "duration": 7,
    "start_time": "2024-06-05T18:16:15.449Z"
   },
   {
    "duration": 16,
    "start_time": "2024-06-05T18:16:21.955Z"
   },
   {
    "duration": 17,
    "start_time": "2024-06-05T18:32:41.923Z"
   },
   {
    "duration": 276,
    "start_time": "2024-06-05T18:32:44.048Z"
   },
   {
    "duration": 27,
    "start_time": "2024-06-05T18:32:46.759Z"
   },
   {
    "duration": 8,
    "start_time": "2024-06-05T18:33:18.126Z"
   },
   {
    "duration": 9,
    "start_time": "2024-06-05T18:35:38.089Z"
   },
   {
    "duration": 1027,
    "start_time": "2024-06-06T07:26:03.682Z"
   },
   {
    "duration": 16,
    "start_time": "2024-06-06T07:26:10.161Z"
   },
   {
    "duration": 8,
    "start_time": "2024-06-06T07:26:18.082Z"
   },
   {
    "duration": 8,
    "start_time": "2024-06-06T07:26:21.531Z"
   },
   {
    "duration": 96,
    "start_time": "2024-06-06T07:26:32.991Z"
   },
   {
    "duration": 15,
    "start_time": "2024-06-06T07:26:36.496Z"
   },
   {
    "duration": 1733,
    "start_time": "2024-06-06T07:26:44.897Z"
   },
   {
    "duration": 8,
    "start_time": "2024-06-06T07:26:52.009Z"
   },
   {
    "duration": 5,
    "start_time": "2024-06-06T07:26:57.680Z"
   },
   {
    "duration": 9,
    "start_time": "2024-06-06T07:27:04.033Z"
   },
   {
    "duration": 5,
    "start_time": "2024-06-06T07:27:12.889Z"
   },
   {
    "duration": 3,
    "start_time": "2024-06-06T07:27:15.832Z"
   },
   {
    "duration": 4,
    "start_time": "2024-06-06T07:27:23.080Z"
   },
   {
    "duration": 3,
    "start_time": "2024-06-06T07:27:25.360Z"
   },
   {
    "duration": 7,
    "start_time": "2024-06-06T07:27:32.375Z"
   },
   {
    "duration": 7,
    "start_time": "2024-06-06T07:27:35.512Z"
   },
   {
    "duration": 4,
    "start_time": "2024-06-06T07:27:38.960Z"
   },
   {
    "duration": 3,
    "start_time": "2024-06-06T07:27:41.655Z"
   },
   {
    "duration": 5,
    "start_time": "2024-06-06T07:27:47.072Z"
   },
   {
    "duration": 8,
    "start_time": "2024-06-06T07:27:51.219Z"
   },
   {
    "duration": 4,
    "start_time": "2024-06-06T07:28:00.143Z"
   },
   {
    "duration": 4,
    "start_time": "2024-06-06T07:28:05.231Z"
   },
   {
    "duration": 5,
    "start_time": "2024-06-06T07:28:08.912Z"
   },
   {
    "duration": 5,
    "start_time": "2024-06-06T07:28:12.839Z"
   },
   {
    "duration": 6,
    "start_time": "2024-06-06T07:28:17.445Z"
   },
   {
    "duration": 8,
    "start_time": "2024-06-06T07:28:57.002Z"
   },
   {
    "duration": 4,
    "start_time": "2024-06-06T07:29:09.486Z"
   },
   {
    "duration": 3,
    "start_time": "2024-06-06T07:29:12.934Z"
   },
   {
    "duration": 5,
    "start_time": "2024-06-06T07:29:17.678Z"
   },
   {
    "duration": 6,
    "start_time": "2024-06-06T07:29:20.838Z"
   },
   {
    "duration": 29,
    "start_time": "2024-06-06T07:29:24.117Z"
   },
   {
    "duration": 10,
    "start_time": "2024-06-06T07:29:41.189Z"
   },
   {
    "duration": 4,
    "start_time": "2024-06-06T07:29:55.164Z"
   },
   {
    "duration": 14,
    "start_time": "2024-06-06T07:29:57.389Z"
   },
   {
    "duration": 10,
    "start_time": "2024-06-06T07:31:22.810Z"
   },
   {
    "duration": 5,
    "start_time": "2024-06-06T07:31:26.506Z"
   },
   {
    "duration": 15,
    "start_time": "2024-06-06T07:31:27.427Z"
   },
   {
    "duration": 19,
    "start_time": "2024-06-06T07:43:49.167Z"
   },
   {
    "duration": 10,
    "start_time": "2024-06-06T07:43:55.991Z"
   },
   {
    "duration": 8,
    "start_time": "2024-06-06T07:44:00.454Z"
   },
   {
    "duration": 20,
    "start_time": "2024-06-06T07:44:03.518Z"
   },
   {
    "duration": 6,
    "start_time": "2024-06-06T08:00:07.804Z"
   },
   {
    "duration": 6,
    "start_time": "2024-06-06T08:00:11.699Z"
   },
   {
    "duration": 13,
    "start_time": "2024-06-06T08:00:15.459Z"
   },
   {
    "duration": 113,
    "start_time": "2024-06-06T08:00:25.379Z"
   },
   {
    "duration": 7,
    "start_time": "2024-06-06T08:00:31.179Z"
   },
   {
    "duration": 7,
    "start_time": "2024-06-06T08:00:38.963Z"
   },
   {
    "duration": 5,
    "start_time": "2024-06-06T08:45:55.383Z"
   },
   {
    "duration": 5,
    "start_time": "2024-06-06T08:46:13.645Z"
   },
   {
    "duration": 5,
    "start_time": "2024-06-06T08:46:43.758Z"
   },
   {
    "duration": 5,
    "start_time": "2024-06-06T08:47:07.510Z"
   },
   {
    "duration": 7,
    "start_time": "2024-06-06T08:47:23.565Z"
   },
   {
    "duration": 5,
    "start_time": "2024-06-06T08:47:45.237Z"
   },
   {
    "duration": 6,
    "start_time": "2024-06-06T08:48:10.484Z"
   },
   {
    "duration": 3,
    "start_time": "2024-06-06T08:48:57.979Z"
   },
   {
    "duration": 71,
    "start_time": "2024-06-06T08:48:59.619Z"
   },
   {
    "duration": 7,
    "start_time": "2024-06-06T08:49:15.122Z"
   },
   {
    "duration": 301,
    "start_time": "2024-06-06T08:49:32.129Z"
   },
   {
    "duration": 287,
    "start_time": "2024-06-06T08:49:43.131Z"
   },
   {
    "duration": 5,
    "start_time": "2024-06-06T08:50:51.833Z"
   },
   {
    "duration": 38,
    "start_time": "2024-06-06T08:52:50.847Z"
   },
   {
    "duration": 363,
    "start_time": "2024-06-06T08:53:13.927Z"
   },
   {
    "duration": 4,
    "start_time": "2024-06-06T08:55:15.813Z"
   },
   {
    "duration": 288,
    "start_time": "2024-06-06T08:55:21.093Z"
   },
   {
    "duration": 3,
    "start_time": "2024-06-06T08:55:28.661Z"
   },
   {
    "duration": 281,
    "start_time": "2024-06-06T08:55:30.533Z"
   },
   {
    "duration": 61,
    "start_time": "2024-06-06T08:59:43.567Z"
   },
   {
    "duration": 7,
    "start_time": "2024-06-06T08:59:48.545Z"
   },
   {
    "duration": 7,
    "start_time": "2024-06-06T09:00:23.206Z"
   },
   {
    "duration": 6,
    "start_time": "2024-06-06T09:00:48.630Z"
   },
   {
    "duration": 7,
    "start_time": "2024-06-06T09:01:20.437Z"
   },
   {
    "duration": 6,
    "start_time": "2024-06-06T09:01:39.054Z"
   },
   {
    "duration": 3,
    "start_time": "2024-06-06T09:01:50.221Z"
   },
   {
    "duration": 5,
    "start_time": "2024-06-06T09:02:09.540Z"
   },
   {
    "duration": 8,
    "start_time": "2024-06-06T09:02:21.004Z"
   },
   {
    "duration": 16,
    "start_time": "2024-06-06T09:02:47.532Z"
   },
   {
    "duration": 16,
    "start_time": "2024-06-06T09:03:06.235Z"
   },
   {
    "duration": 8,
    "start_time": "2024-06-06T09:04:32.835Z"
   },
   {
    "duration": 11,
    "start_time": "2024-06-06T09:04:34.465Z"
   },
   {
    "duration": 19,
    "start_time": "2024-06-06T09:04:38.433Z"
   },
   {
    "duration": 6,
    "start_time": "2024-06-06T09:04:47.677Z"
   },
   {
    "duration": 7,
    "start_time": "2024-06-06T09:04:49.401Z"
   },
   {
    "duration": 13,
    "start_time": "2024-06-06T09:04:50.577Z"
   },
   {
    "duration": 117,
    "start_time": "2024-06-06T09:04:52.977Z"
   },
   {
    "duration": 8,
    "start_time": "2024-06-06T09:04:53.985Z"
   },
   {
    "duration": 10,
    "start_time": "2024-06-06T09:04:55.225Z"
   },
   {
    "duration": 5,
    "start_time": "2024-06-06T09:05:00.241Z"
   },
   {
    "duration": 7,
    "start_time": "2024-06-06T09:05:01.401Z"
   },
   {
    "duration": 5,
    "start_time": "2024-06-06T09:05:02.243Z"
   },
   {
    "duration": 5,
    "start_time": "2024-06-06T09:05:04.457Z"
   },
   {
    "duration": 3,
    "start_time": "2024-06-06T09:05:05.250Z"
   },
   {
    "duration": 348,
    "start_time": "2024-06-06T09:05:07.202Z"
   },
   {
    "duration": 7,
    "start_time": "2024-06-06T09:05:11.201Z"
   },
   {
    "duration": 5,
    "start_time": "2024-06-06T09:05:54.264Z"
   },
   {
    "duration": 37,
    "start_time": "2024-06-06T09:06:21.152Z"
   },
   {
    "duration": 262,
    "start_time": "2024-06-06T10:42:27.594Z"
   },
   {
    "duration": 265,
    "start_time": "2024-06-06T11:33:34.934Z"
   },
   {
    "duration": 242,
    "start_time": "2024-06-06T11:43:49.385Z"
   },
   {
    "duration": 254,
    "start_time": "2024-06-06T11:44:29.481Z"
   },
   {
    "duration": 237,
    "start_time": "2024-06-06T11:45:07.503Z"
   },
   {
    "duration": 297,
    "start_time": "2024-06-06T11:46:12.401Z"
   },
   {
    "duration": 235,
    "start_time": "2024-06-06T11:47:09.821Z"
   },
   {
    "duration": 15,
    "start_time": "2024-06-06T11:48:26.468Z"
   },
   {
    "duration": 9,
    "start_time": "2024-06-06T11:50:22.923Z"
   },
   {
    "duration": 242,
    "start_time": "2024-06-06T11:51:11.415Z"
   },
   {
    "duration": 253,
    "start_time": "2024-06-06T11:52:03.530Z"
   },
   {
    "duration": 15,
    "start_time": "2024-06-06T11:52:43.928Z"
   },
   {
    "duration": 9,
    "start_time": "2024-06-06T11:53:00.689Z"
   },
   {
    "duration": 79,
    "start_time": "2024-06-06T11:55:20.092Z"
   },
   {
    "duration": 503,
    "start_time": "2024-06-06T11:55:54.399Z"
   },
   {
    "duration": 14,
    "start_time": "2024-06-06T11:56:06.597Z"
   },
   {
    "duration": 33,
    "start_time": "2024-06-06T11:56:14.437Z"
   },
   {
    "duration": 12,
    "start_time": "2024-06-06T11:56:30.939Z"
   },
   {
    "duration": 77,
    "start_time": "2024-06-06T11:56:45.499Z"
   },
   {
    "duration": 418,
    "start_time": "2024-06-06T11:56:59.195Z"
   },
   {
    "duration": 8,
    "start_time": "2024-06-06T11:57:32.988Z"
   },
   {
    "duration": 249,
    "start_time": "2024-06-06T12:08:16.893Z"
   },
   {
    "duration": 246,
    "start_time": "2024-06-06T12:08:37.467Z"
   },
   {
    "duration": 134,
    "start_time": "2024-06-06T12:09:10.379Z"
   },
   {
    "duration": 312,
    "start_time": "2024-06-06T12:09:17.301Z"
   },
   {
    "duration": 280,
    "start_time": "2024-06-06T12:09:27.979Z"
   },
   {
    "duration": 265,
    "start_time": "2024-06-06T12:09:41.731Z"
   },
   {
    "duration": 1545,
    "start_time": "2024-06-06T12:09:55.179Z"
   },
   {
    "duration": 1488,
    "start_time": "2024-06-06T12:10:33.978Z"
   },
   {
    "duration": 1776,
    "start_time": "2024-06-06T12:10:48.697Z"
   },
   {
    "duration": 1551,
    "start_time": "2024-06-06T12:11:03.848Z"
   },
   {
    "duration": 1579,
    "start_time": "2024-06-06T12:11:17.736Z"
   },
   {
    "duration": 269,
    "start_time": "2024-06-06T12:12:13.022Z"
   },
   {
    "duration": 277,
    "start_time": "2024-06-06T12:12:26.878Z"
   },
   {
    "duration": 755,
    "start_time": "2024-06-06T12:12:41.003Z"
   },
   {
    "duration": 957,
    "start_time": "2024-06-06T12:12:59.493Z"
   },
   {
    "duration": 515,
    "start_time": "2024-06-06T12:13:07.511Z"
   },
   {
    "duration": 274,
    "start_time": "2024-06-06T12:13:15.281Z"
   },
   {
    "duration": 384,
    "start_time": "2024-06-06T12:13:20.496Z"
   },
   {
    "duration": 248,
    "start_time": "2024-06-06T12:13:58.452Z"
   },
   {
    "duration": 265,
    "start_time": "2024-06-06T12:14:18.876Z"
   },
   {
    "duration": 243,
    "start_time": "2024-06-06T12:14:58.810Z"
   },
   {
    "duration": 252,
    "start_time": "2024-06-06T12:15:07.066Z"
   },
   {
    "duration": 144,
    "start_time": "2024-06-06T12:15:26.402Z"
   },
   {
    "duration": 152,
    "start_time": "2024-06-06T12:15:58.713Z"
   },
   {
    "duration": 155,
    "start_time": "2024-06-06T12:16:06.217Z"
   },
   {
    "duration": 168,
    "start_time": "2024-06-06T12:16:12.496Z"
   },
   {
    "duration": 1636,
    "start_time": "2024-06-06T12:16:18.104Z"
   },
   {
    "duration": 1686,
    "start_time": "2024-06-06T12:16:39.000Z"
   },
   {
    "duration": 251,
    "start_time": "2024-06-06T12:17:20.736Z"
   },
   {
    "duration": 261,
    "start_time": "2024-06-06T12:17:30.263Z"
   },
   {
    "duration": 154,
    "start_time": "2024-06-06T12:17:38.999Z"
   },
   {
    "duration": 152,
    "start_time": "2024-06-06T12:17:47.798Z"
   },
   {
    "duration": 173,
    "start_time": "2024-06-06T12:17:59.863Z"
   },
   {
    "duration": 243,
    "start_time": "2024-06-06T12:18:33.790Z"
   },
   {
    "duration": 249,
    "start_time": "2024-06-06T12:18:46.749Z"
   },
   {
    "duration": 133,
    "start_time": "2024-06-06T12:18:54.047Z"
   },
   {
    "duration": 247,
    "start_time": "2024-06-06T12:19:38.940Z"
   },
   {
    "duration": 260,
    "start_time": "2024-06-06T12:19:47.101Z"
   },
   {
    "duration": 150,
    "start_time": "2024-06-06T12:20:03.765Z"
   },
   {
    "duration": 252,
    "start_time": "2024-06-06T12:20:35.362Z"
   },
   {
    "duration": 253,
    "start_time": "2024-06-06T12:20:42.490Z"
   },
   {
    "duration": 2043,
    "start_time": "2024-06-06T12:21:03.553Z"
   },
   {
    "duration": 273,
    "start_time": "2024-06-06T12:21:16.386Z"
   },
   {
    "duration": 9,
    "start_time": "2024-06-06T12:21:44.898Z"
   },
   {
    "duration": 28,
    "start_time": "2024-06-06T12:21:51.562Z"
   },
   {
    "duration": 15,
    "start_time": "2024-06-06T12:33:52.897Z"
   },
   {
    "duration": 22,
    "start_time": "2024-06-06T12:34:35.753Z"
   },
   {
    "duration": 8,
    "start_time": "2024-06-06T12:34:43.360Z"
   },
   {
    "duration": 7,
    "start_time": "2024-06-06T12:34:59.839Z"
   },
   {
    "duration": 7,
    "start_time": "2024-06-06T12:35:02.927Z"
   },
   {
    "duration": 14,
    "start_time": "2024-06-06T12:40:05.218Z"
   },
   {
    "duration": 10,
    "start_time": "2024-06-06T12:40:21.907Z"
   },
   {
    "duration": 19,
    "start_time": "2024-06-06T12:40:35.224Z"
   },
   {
    "duration": 19,
    "start_time": "2024-06-06T12:41:37.022Z"
   },
   {
    "duration": 1030,
    "start_time": "2024-06-06T16:36:56.634Z"
   },
   {
    "duration": 17,
    "start_time": "2024-06-06T16:36:57.667Z"
   },
   {
    "duration": 2115,
    "start_time": "2024-06-06T16:36:57.686Z"
   },
   {
    "duration": 13,
    "start_time": "2024-06-06T16:36:59.804Z"
   },
   {
    "duration": 15,
    "start_time": "2024-06-06T16:36:59.819Z"
   },
   {
    "duration": 12,
    "start_time": "2024-06-06T16:36:59.836Z"
   },
   {
    "duration": 11,
    "start_time": "2024-06-06T16:36:59.850Z"
   },
   {
    "duration": 4,
    "start_time": "2024-06-06T16:36:59.863Z"
   },
   {
    "duration": 15,
    "start_time": "2024-06-06T16:36:59.868Z"
   },
   {
    "duration": 12,
    "start_time": "2024-06-06T16:36:59.887Z"
   },
   {
    "duration": 5,
    "start_time": "2024-06-06T16:36:59.901Z"
   },
   {
    "duration": 4,
    "start_time": "2024-06-06T16:36:59.908Z"
   },
   {
    "duration": 6,
    "start_time": "2024-06-06T16:36:59.914Z"
   },
   {
    "duration": 8,
    "start_time": "2024-06-06T16:36:59.922Z"
   },
   {
    "duration": 4,
    "start_time": "2024-06-06T16:36:59.932Z"
   },
   {
    "duration": 4,
    "start_time": "2024-06-06T16:36:59.983Z"
   },
   {
    "duration": 14,
    "start_time": "2024-06-06T16:36:59.988Z"
   },
   {
    "duration": 21,
    "start_time": "2024-06-06T16:37:00.004Z"
   },
   {
    "duration": 52,
    "start_time": "2024-06-06T16:37:00.026Z"
   },
   {
    "duration": 21,
    "start_time": "2024-06-06T16:37:00.079Z"
   },
   {
    "duration": 40,
    "start_time": "2024-06-06T16:37:00.102Z"
   },
   {
    "duration": 43,
    "start_time": "2024-06-06T16:37:00.144Z"
   },
   {
    "duration": 33,
    "start_time": "2024-06-06T16:37:00.188Z"
   },
   {
    "duration": 36,
    "start_time": "2024-06-06T16:37:00.222Z"
   },
   {
    "duration": 74,
    "start_time": "2024-06-06T16:37:00.260Z"
   },
   {
    "duration": 136,
    "start_time": "2024-06-06T16:37:00.336Z"
   },
   {
    "duration": 29,
    "start_time": "2024-06-06T16:37:00.473Z"
   },
   {
    "duration": 53,
    "start_time": "2024-06-06T16:37:00.506Z"
   },
   {
    "duration": 52,
    "start_time": "2024-06-06T16:37:00.560Z"
   },
   {
    "duration": 71,
    "start_time": "2024-06-06T16:37:00.614Z"
   },
   {
    "duration": 56,
    "start_time": "2024-06-06T16:37:00.686Z"
   },
   {
    "duration": 215,
    "start_time": "2024-06-06T16:37:00.743Z"
   },
   {
    "duration": 195,
    "start_time": "2024-06-06T16:37:00.959Z"
   },
   {
    "duration": 44,
    "start_time": "2024-06-06T16:37:01.155Z"
   },
   {
    "duration": 68,
    "start_time": "2024-06-06T16:37:01.201Z"
   },
   {
    "duration": 157,
    "start_time": "2024-06-06T16:37:01.272Z"
   },
   {
    "duration": 8,
    "start_time": "2024-06-06T16:37:01.430Z"
   },
   {
    "duration": 38,
    "start_time": "2024-06-06T16:37:01.440Z"
   },
   {
    "duration": 38,
    "start_time": "2024-06-06T16:37:01.480Z"
   },
   {
    "duration": 16,
    "start_time": "2024-06-06T16:37:01.519Z"
   },
   {
    "duration": 36,
    "start_time": "2024-06-06T16:37:01.537Z"
   },
   {
    "duration": 27,
    "start_time": "2024-06-06T16:37:01.576Z"
   },
   {
    "duration": 33,
    "start_time": "2024-06-06T16:37:01.605Z"
   },
   {
    "duration": 316,
    "start_time": "2024-06-06T16:37:01.639Z"
   },
   {
    "duration": 6,
    "start_time": "2024-06-06T16:37:01.957Z"
   },
   {
    "duration": 61,
    "start_time": "2024-06-06T16:37:01.965Z"
   },
   {
    "duration": 1049,
    "start_time": "2024-06-06T16:37:02.027Z"
   },
   {
    "duration": 494,
    "start_time": "2024-06-06T16:37:03.081Z"
   },
   {
    "duration": 334,
    "start_time": "2024-06-06T16:37:03.577Z"
   },
   {
    "duration": 1992,
    "start_time": "2024-06-06T16:37:03.913Z"
   },
   {
    "duration": 289,
    "start_time": "2024-06-06T16:37:05.907Z"
   },
   {
    "duration": 200,
    "start_time": "2024-06-06T16:37:06.197Z"
   },
   {
    "duration": 11,
    "start_time": "2024-06-06T16:37:06.399Z"
   },
   {
    "duration": 207,
    "start_time": "2024-06-06T16:37:06.412Z"
   },
   {
    "duration": 322,
    "start_time": "2024-06-06T16:37:06.620Z"
   },
   {
    "duration": 96,
    "start_time": "2024-06-06T16:37:06.943Z"
   },
   {
    "duration": 0,
    "start_time": "2024-06-06T16:37:07.040Z"
   },
   {
    "duration": 0,
    "start_time": "2024-06-06T16:37:07.042Z"
   },
   {
    "duration": 0,
    "start_time": "2024-06-06T16:37:07.043Z"
   },
   {
    "duration": 0,
    "start_time": "2024-06-06T16:37:07.044Z"
   },
   {
    "duration": 0,
    "start_time": "2024-06-06T16:37:07.045Z"
   },
   {
    "duration": 0,
    "start_time": "2024-06-06T16:37:07.046Z"
   },
   {
    "duration": 1,
    "start_time": "2024-06-06T16:37:07.046Z"
   },
   {
    "duration": 0,
    "start_time": "2024-06-06T16:37:07.047Z"
   },
   {
    "duration": 0,
    "start_time": "2024-06-06T16:37:07.049Z"
   },
   {
    "duration": 0,
    "start_time": "2024-06-06T16:37:07.049Z"
   },
   {
    "duration": 0,
    "start_time": "2024-06-06T16:37:07.051Z"
   },
   {
    "duration": 0,
    "start_time": "2024-06-06T16:37:07.052Z"
   },
   {
    "duration": 0,
    "start_time": "2024-06-06T16:37:07.052Z"
   },
   {
    "duration": 0,
    "start_time": "2024-06-06T16:37:07.054Z"
   },
   {
    "duration": 34,
    "start_time": "2024-06-06T16:54:13.161Z"
   },
   {
    "duration": 16,
    "start_time": "2024-06-06T16:54:48.593Z"
   },
   {
    "duration": 27,
    "start_time": "2024-06-06T16:54:56.193Z"
   },
   {
    "duration": 155,
    "start_time": "2024-06-06T16:55:06.048Z"
   },
   {
    "duration": 21,
    "start_time": "2024-06-06T16:55:06.206Z"
   },
   {
    "duration": 2415,
    "start_time": "2024-06-06T16:55:06.229Z"
   },
   {
    "duration": 9,
    "start_time": "2024-06-06T16:55:08.647Z"
   },
   {
    "duration": 25,
    "start_time": "2024-06-06T16:55:08.657Z"
   },
   {
    "duration": 14,
    "start_time": "2024-06-06T16:55:08.684Z"
   },
   {
    "duration": 38,
    "start_time": "2024-06-06T16:55:08.700Z"
   },
   {
    "duration": 22,
    "start_time": "2024-06-06T16:55:08.740Z"
   },
   {
    "duration": 10,
    "start_time": "2024-06-06T16:55:08.764Z"
   },
   {
    "duration": 25,
    "start_time": "2024-06-06T16:55:08.777Z"
   },
   {
    "duration": 4,
    "start_time": "2024-06-06T16:55:08.805Z"
   },
   {
    "duration": 3,
    "start_time": "2024-06-06T16:55:08.811Z"
   },
   {
    "duration": 7,
    "start_time": "2024-06-06T16:55:08.816Z"
   },
   {
    "duration": 11,
    "start_time": "2024-06-06T16:55:08.824Z"
   },
   {
    "duration": 4,
    "start_time": "2024-06-06T16:55:08.836Z"
   },
   {
    "duration": 26,
    "start_time": "2024-06-06T16:55:08.841Z"
   },
   {
    "duration": 7,
    "start_time": "2024-06-06T16:55:08.868Z"
   },
   {
    "duration": 10,
    "start_time": "2024-06-06T16:55:08.882Z"
   },
   {
    "duration": 19,
    "start_time": "2024-06-06T16:55:08.894Z"
   },
   {
    "duration": 9,
    "start_time": "2024-06-06T16:55:08.915Z"
   },
   {
    "duration": 5,
    "start_time": "2024-06-06T16:55:08.925Z"
   },
   {
    "duration": 4,
    "start_time": "2024-06-06T16:55:08.932Z"
   },
   {
    "duration": 6,
    "start_time": "2024-06-06T16:55:08.937Z"
   },
   {
    "duration": 43,
    "start_time": "2024-06-06T16:55:08.945Z"
   },
   {
    "duration": 31,
    "start_time": "2024-06-06T16:55:08.991Z"
   },
   {
    "duration": 14,
    "start_time": "2024-06-06T16:55:09.024Z"
   },
   {
    "duration": 4,
    "start_time": "2024-06-06T16:55:09.040Z"
   },
   {
    "duration": 49,
    "start_time": "2024-06-06T16:55:09.048Z"
   },
   {
    "duration": 48,
    "start_time": "2024-06-06T16:55:09.099Z"
   },
   {
    "duration": 29,
    "start_time": "2024-06-06T16:55:09.149Z"
   },
   {
    "duration": 26,
    "start_time": "2024-06-06T16:55:09.181Z"
   },
   {
    "duration": 9,
    "start_time": "2024-06-06T16:55:09.210Z"
   },
   {
    "duration": 33,
    "start_time": "2024-06-06T16:55:09.220Z"
   },
   {
    "duration": 25,
    "start_time": "2024-06-06T16:55:09.255Z"
   },
   {
    "duration": 33,
    "start_time": "2024-06-06T16:55:09.282Z"
   },
   {
    "duration": 21,
    "start_time": "2024-06-06T16:55:09.316Z"
   },
   {
    "duration": 203,
    "start_time": "2024-06-06T16:55:09.338Z"
   },
   {
    "duration": 11,
    "start_time": "2024-06-06T16:55:09.543Z"
   },
   {
    "duration": 54,
    "start_time": "2024-06-06T16:55:09.556Z"
   },
   {
    "duration": 11,
    "start_time": "2024-06-06T16:55:09.612Z"
   },
   {
    "duration": 9,
    "start_time": "2024-06-06T16:55:09.625Z"
   },
   {
    "duration": 6,
    "start_time": "2024-06-06T16:55:09.636Z"
   },
   {
    "duration": 11,
    "start_time": "2024-06-06T16:55:09.644Z"
   },
   {
    "duration": 11,
    "start_time": "2024-06-06T16:55:09.657Z"
   },
   {
    "duration": 543,
    "start_time": "2024-06-06T16:55:09.670Z"
   },
   {
    "duration": 8,
    "start_time": "2024-06-06T16:55:10.216Z"
   },
   {
    "duration": 86,
    "start_time": "2024-06-06T16:55:10.226Z"
   },
   {
    "duration": 1205,
    "start_time": "2024-06-06T16:55:10.313Z"
   },
   {
    "duration": 574,
    "start_time": "2024-06-06T16:55:11.520Z"
   },
   {
    "duration": 333,
    "start_time": "2024-06-06T16:55:12.098Z"
   },
   {
    "duration": 2183,
    "start_time": "2024-06-06T16:55:12.433Z"
   },
   {
    "duration": 232,
    "start_time": "2024-06-06T16:55:14.617Z"
   },
   {
    "duration": 203,
    "start_time": "2024-06-06T16:55:14.851Z"
   },
   {
    "duration": 11,
    "start_time": "2024-06-06T16:55:15.055Z"
   },
   {
    "duration": 246,
    "start_time": "2024-06-06T16:55:15.068Z"
   },
   {
    "duration": 628,
    "start_time": "2024-06-06T16:55:15.316Z"
   },
   {
    "duration": 25,
    "start_time": "2024-06-06T16:55:15.945Z"
   },
   {
    "duration": 0,
    "start_time": "2024-06-06T16:55:15.983Z"
   },
   {
    "duration": 0,
    "start_time": "2024-06-06T16:55:15.985Z"
   },
   {
    "duration": 0,
    "start_time": "2024-06-06T16:55:15.987Z"
   },
   {
    "duration": 0,
    "start_time": "2024-06-06T16:55:15.989Z"
   },
   {
    "duration": 0,
    "start_time": "2024-06-06T16:55:15.991Z"
   },
   {
    "duration": 0,
    "start_time": "2024-06-06T16:55:15.993Z"
   },
   {
    "duration": 0,
    "start_time": "2024-06-06T16:55:15.994Z"
   },
   {
    "duration": 0,
    "start_time": "2024-06-06T16:55:15.996Z"
   },
   {
    "duration": 0,
    "start_time": "2024-06-06T16:55:15.998Z"
   },
   {
    "duration": 0,
    "start_time": "2024-06-06T16:55:16.000Z"
   },
   {
    "duration": 0,
    "start_time": "2024-06-06T16:55:16.002Z"
   },
   {
    "duration": 0,
    "start_time": "2024-06-06T16:55:16.004Z"
   },
   {
    "duration": 0,
    "start_time": "2024-06-06T16:55:16.005Z"
   },
   {
    "duration": 0,
    "start_time": "2024-06-06T16:55:16.006Z"
   },
   {
    "duration": 124,
    "start_time": "2024-06-06T16:57:25.366Z"
   },
   {
    "duration": 22,
    "start_time": "2024-06-06T16:57:25.493Z"
   },
   {
    "duration": 2289,
    "start_time": "2024-06-06T16:57:25.517Z"
   },
   {
    "duration": 9,
    "start_time": "2024-06-06T16:57:27.808Z"
   },
   {
    "duration": 38,
    "start_time": "2024-06-06T16:57:27.819Z"
   },
   {
    "duration": 11,
    "start_time": "2024-06-06T16:57:27.859Z"
   },
   {
    "duration": 11,
    "start_time": "2024-06-06T16:57:27.872Z"
   },
   {
    "duration": 6,
    "start_time": "2024-06-06T16:57:27.885Z"
   },
   {
    "duration": 20,
    "start_time": "2024-06-06T16:57:27.893Z"
   },
   {
    "duration": 10,
    "start_time": "2024-06-06T16:57:27.915Z"
   },
   {
    "duration": 5,
    "start_time": "2024-06-06T16:57:27.927Z"
   },
   {
    "duration": 3,
    "start_time": "2024-06-06T16:57:27.934Z"
   },
   {
    "duration": 18,
    "start_time": "2024-06-06T16:57:27.939Z"
   },
   {
    "duration": 14,
    "start_time": "2024-06-06T16:57:27.984Z"
   },
   {
    "duration": 9,
    "start_time": "2024-06-06T16:57:28.001Z"
   },
   {
    "duration": 9,
    "start_time": "2024-06-06T16:57:28.012Z"
   },
   {
    "duration": 10,
    "start_time": "2024-06-06T16:57:28.023Z"
   },
   {
    "duration": 23,
    "start_time": "2024-06-06T16:57:28.035Z"
   },
   {
    "duration": 23,
    "start_time": "2024-06-06T16:57:28.059Z"
   },
   {
    "duration": 10,
    "start_time": "2024-06-06T16:57:28.085Z"
   },
   {
    "duration": 4,
    "start_time": "2024-06-06T16:57:28.097Z"
   },
   {
    "duration": 7,
    "start_time": "2024-06-06T16:57:28.103Z"
   },
   {
    "duration": 12,
    "start_time": "2024-06-06T16:57:28.112Z"
   },
   {
    "duration": 8,
    "start_time": "2024-06-06T16:57:28.126Z"
   },
   {
    "duration": 68,
    "start_time": "2024-06-06T16:57:28.135Z"
   },
   {
    "duration": 12,
    "start_time": "2024-06-06T16:57:28.205Z"
   },
   {
    "duration": 4,
    "start_time": "2024-06-06T16:57:28.219Z"
   },
   {
    "duration": 25,
    "start_time": "2024-06-06T16:57:28.224Z"
   },
   {
    "duration": 64,
    "start_time": "2024-06-06T16:57:28.251Z"
   },
   {
    "duration": 27,
    "start_time": "2024-06-06T16:57:28.316Z"
   },
   {
    "duration": 33,
    "start_time": "2024-06-06T16:57:28.345Z"
   },
   {
    "duration": 14,
    "start_time": "2024-06-06T16:57:28.380Z"
   },
   {
    "duration": 23,
    "start_time": "2024-06-06T16:57:28.397Z"
   },
   {
    "duration": 9,
    "start_time": "2024-06-06T16:57:28.421Z"
   },
   {
    "duration": 22,
    "start_time": "2024-06-06T16:57:28.431Z"
   },
   {
    "duration": 37,
    "start_time": "2024-06-06T16:57:28.455Z"
   },
   {
    "duration": 149,
    "start_time": "2024-06-06T16:57:28.495Z"
   },
   {
    "duration": 7,
    "start_time": "2024-06-06T16:57:28.646Z"
   },
   {
    "duration": 10,
    "start_time": "2024-06-06T16:57:28.655Z"
   },
   {
    "duration": 11,
    "start_time": "2024-06-06T16:57:28.685Z"
   },
   {
    "duration": 7,
    "start_time": "2024-06-06T16:57:28.704Z"
   },
   {
    "duration": 6,
    "start_time": "2024-06-06T16:57:28.713Z"
   },
   {
    "duration": 9,
    "start_time": "2024-06-06T16:57:28.720Z"
   },
   {
    "duration": 13,
    "start_time": "2024-06-06T16:57:28.731Z"
   },
   {
    "duration": 392,
    "start_time": "2024-06-06T16:57:28.745Z"
   },
   {
    "duration": 6,
    "start_time": "2024-06-06T16:57:29.139Z"
   },
   {
    "duration": 63,
    "start_time": "2024-06-06T16:57:29.147Z"
   },
   {
    "duration": 1241,
    "start_time": "2024-06-06T16:57:29.212Z"
   },
   {
    "duration": 541,
    "start_time": "2024-06-06T16:57:30.455Z"
   },
   {
    "duration": 391,
    "start_time": "2024-06-06T16:57:30.998Z"
   },
   {
    "duration": 774,
    "start_time": "2024-06-06T17:07:55.206Z"
   },
   {
    "duration": 21,
    "start_time": "2024-06-06T17:08:02.733Z"
   },
   {
    "duration": 10,
    "start_time": "2024-06-06T17:08:17.511Z"
   },
   {
    "duration": 7,
    "start_time": "2024-06-06T17:08:22.032Z"
   },
   {
    "duration": 110,
    "start_time": "2024-06-06T17:08:30.936Z"
   },
   {
    "duration": 17,
    "start_time": "2024-06-06T17:08:36.583Z"
   },
   {
    "duration": 2030,
    "start_time": "2024-06-06T17:08:47.586Z"
   },
   {
    "duration": 9,
    "start_time": "2024-06-06T17:08:59.821Z"
   },
   {
    "duration": 8,
    "start_time": "2024-06-06T17:09:03.074Z"
   },
   {
    "duration": 12,
    "start_time": "2024-06-06T17:09:06.445Z"
   },
   {
    "duration": 5,
    "start_time": "2024-06-06T17:09:09.693Z"
   },
   {
    "duration": 3,
    "start_time": "2024-06-06T17:09:10.568Z"
   },
   {
    "duration": 6,
    "start_time": "2024-06-06T17:09:11.804Z"
   },
   {
    "duration": 9,
    "start_time": "2024-06-06T17:09:12.633Z"
   },
   {
    "duration": 5,
    "start_time": "2024-06-06T17:09:14.349Z"
   },
   {
    "duration": 4,
    "start_time": "2024-06-06T17:09:15.253Z"
   },
   {
    "duration": 6,
    "start_time": "2024-06-06T17:09:17.129Z"
   },
   {
    "duration": 10,
    "start_time": "2024-06-06T17:09:18.890Z"
   },
   {
    "duration": 5,
    "start_time": "2024-06-06T17:09:21.216Z"
   },
   {
    "duration": 4,
    "start_time": "2024-06-06T17:09:23.191Z"
   },
   {
    "duration": 7,
    "start_time": "2024-06-06T17:09:24.670Z"
   },
   {
    "duration": 6,
    "start_time": "2024-06-06T17:09:26.532Z"
   },
   {
    "duration": 8,
    "start_time": "2024-06-06T17:09:30.792Z"
   },
   {
    "duration": 10,
    "start_time": "2024-06-06T17:09:34.980Z"
   },
   {
    "duration": 5,
    "start_time": "2024-06-06T17:09:37.243Z"
   },
   {
    "duration": 5,
    "start_time": "2024-06-06T17:09:39.204Z"
   },
   {
    "duration": 5,
    "start_time": "2024-06-06T17:09:43.989Z"
   },
   {
    "duration": 10,
    "start_time": "2024-06-06T17:09:46.476Z"
   },
   {
    "duration": 40,
    "start_time": "2024-06-06T17:09:50.936Z"
   },
   {
    "duration": 11,
    "start_time": "2024-06-06T17:09:58.153Z"
   },
   {
    "duration": 5,
    "start_time": "2024-06-06T17:09:59.991Z"
   },
   {
    "duration": 17,
    "start_time": "2024-06-06T17:10:03.991Z"
   },
   {
    "duration": 25,
    "start_time": "2024-06-06T17:10:13.889Z"
   },
   {
    "duration": 30,
    "start_time": "2024-06-06T17:10:44.191Z"
   },
   {
    "duration": 14,
    "start_time": "2024-06-06T17:19:32.762Z"
   },
   {
    "duration": 8,
    "start_time": "2024-06-06T17:19:38.204Z"
   },
   {
    "duration": 18,
    "start_time": "2024-06-06T17:19:41.461Z"
   },
   {
    "duration": 29,
    "start_time": "2024-06-06T17:19:56.552Z"
   },
   {
    "duration": 13,
    "start_time": "2024-06-06T17:21:32.929Z"
   },
   {
    "duration": 12,
    "start_time": "2024-06-06T17:21:35.893Z"
   },
   {
    "duration": 16,
    "start_time": "2024-06-06T17:21:37.170Z"
   },
   {
    "duration": 45,
    "start_time": "2024-06-06T17:21:52.436Z"
   },
   {
    "duration": 9,
    "start_time": "2024-06-06T17:28:14.365Z"
   },
   {
    "duration": 8,
    "start_time": "2024-06-06T17:28:52.309Z"
   },
   {
    "duration": 15,
    "start_time": "2024-06-06T17:28:56.537Z"
   },
   {
    "duration": 153,
    "start_time": "2024-06-06T17:29:07.920Z"
   },
   {
    "duration": 12,
    "start_time": "2024-06-06T17:29:12.990Z"
   },
   {
    "duration": 10,
    "start_time": "2024-06-06T17:29:18.219Z"
   },
   {
    "duration": 8,
    "start_time": "2024-06-06T17:30:08.646Z"
   },
   {
    "duration": 8,
    "start_time": "2024-06-06T17:30:16.174Z"
   },
   {
    "duration": 9,
    "start_time": "2024-06-06T17:30:21.056Z"
   },
   {
    "duration": 9,
    "start_time": "2024-06-06T17:30:24.066Z"
   },
   {
    "duration": 4,
    "start_time": "2024-06-06T17:30:27.968Z"
   },
   {
    "duration": 298,
    "start_time": "2024-06-06T17:30:38.037Z"
   },
   {
    "duration": 8,
    "start_time": "2024-06-06T17:30:53.983Z"
   },
   {
    "duration": 39,
    "start_time": "2024-06-06T17:31:14.941Z"
   },
   {
    "duration": 1030,
    "start_time": "2024-06-06T17:32:02.552Z"
   },
   {
    "duration": 1043,
    "start_time": "2024-06-06T17:38:41.837Z"
   },
   {
    "duration": 10,
    "start_time": "2024-06-06T17:39:25.391Z"
   },
   {
    "duration": 973,
    "start_time": "2024-06-06T17:39:29.929Z"
   },
   {
    "duration": 1034,
    "start_time": "2024-06-06T17:40:03.208Z"
   },
   {
    "duration": 1040,
    "start_time": "2024-06-06T17:40:16.745Z"
   },
   {
    "duration": 9,
    "start_time": "2024-06-06T17:44:43.641Z"
   },
   {
    "duration": 896,
    "start_time": "2024-06-06T17:44:47.008Z"
   },
   {
    "duration": 9,
    "start_time": "2024-06-06T17:45:12.570Z"
   },
   {
    "duration": 614,
    "start_time": "2024-06-06T17:45:18.468Z"
   },
   {
    "duration": 482,
    "start_time": "2024-06-06T17:45:38.004Z"
   },
   {
    "duration": 9,
    "start_time": "2024-06-06T17:47:09.178Z"
   },
   {
    "duration": 289,
    "start_time": "2024-06-06T17:47:21.373Z"
   },
   {
    "duration": 8,
    "start_time": "2024-06-06T17:48:30.101Z"
   },
   {
    "duration": 1935,
    "start_time": "2024-06-06T17:48:33.442Z"
   },
   {
    "duration": 2044,
    "start_time": "2024-06-06T17:49:22.933Z"
   },
   {
    "duration": 2047,
    "start_time": "2024-06-06T17:49:30.693Z"
   },
   {
    "duration": 8,
    "start_time": "2024-06-06T17:50:36.038Z"
   },
   {
    "duration": 204,
    "start_time": "2024-06-06T17:50:42.745Z"
   },
   {
    "duration": 71,
    "start_time": "2024-06-06T17:51:02.062Z"
   },
   {
    "duration": 182,
    "start_time": "2024-06-06T17:51:12.588Z"
   },
   {
    "duration": 213,
    "start_time": "2024-06-06T17:51:20.228Z"
   },
   {
    "duration": 246,
    "start_time": "2024-06-06T17:51:43.358Z"
   },
   {
    "duration": 5,
    "start_time": "2024-06-06T17:52:49.454Z"
   },
   {
    "duration": 5,
    "start_time": "2024-06-06T17:53:54.569Z"
   },
   {
    "duration": 9,
    "start_time": "2024-06-06T17:54:57.788Z"
   },
   {
    "duration": 175,
    "start_time": "2024-06-06T17:55:25.858Z"
   },
   {
    "duration": 7,
    "start_time": "2024-06-06T17:57:22.258Z"
   },
   {
    "duration": 5,
    "start_time": "2024-06-06T19:00:50.759Z"
   },
   {
    "duration": 10,
    "start_time": "2024-06-06T19:01:01.737Z"
   },
   {
    "duration": 745,
    "start_time": "2024-06-06T19:01:41.856Z"
   },
   {
    "duration": 8,
    "start_time": "2024-06-06T19:01:45.389Z"
   },
   {
    "duration": 4,
    "start_time": "2024-06-06T19:17:36.217Z"
   },
   {
    "duration": 3,
    "start_time": "2024-06-06T19:17:39.883Z"
   },
   {
    "duration": 8,
    "start_time": "2024-06-06T19:17:56.076Z"
   },
   {
    "duration": 10,
    "start_time": "2024-06-06T19:18:03.558Z"
   },
   {
    "duration": 5,
    "start_time": "2024-06-06T19:18:09.337Z"
   },
   {
    "duration": 79,
    "start_time": "2024-06-06T19:19:23.040Z"
   },
   {
    "duration": 7,
    "start_time": "2024-06-06T19:19:42.640Z"
   },
   {
    "duration": 11,
    "start_time": "2024-06-06T19:19:47.140Z"
   },
   {
    "duration": 9,
    "start_time": "2024-06-06T19:22:01.533Z"
   },
   {
    "duration": 17,
    "start_time": "2024-06-06T19:22:06.786Z"
   },
   {
    "duration": 27,
    "start_time": "2024-06-06T19:22:43.961Z"
   },
   {
    "duration": 9,
    "start_time": "2024-06-06T19:23:14.388Z"
   },
   {
    "duration": 12,
    "start_time": "2024-06-06T19:23:18.154Z"
   },
   {
    "duration": 15,
    "start_time": "2024-06-06T19:23:24.541Z"
   },
   {
    "duration": 27,
    "start_time": "2024-06-06T19:23:35.540Z"
   },
   {
    "duration": 10,
    "start_time": "2024-06-06T19:24:02.140Z"
   },
   {
    "duration": 8,
    "start_time": "2024-06-06T19:24:05.541Z"
   },
   {
    "duration": 15,
    "start_time": "2024-06-06T19:24:08.451Z"
   },
   {
    "duration": 149,
    "start_time": "2024-06-06T19:24:15.041Z"
   },
   {
    "duration": 9,
    "start_time": "2024-06-06T19:24:18.354Z"
   },
   {
    "duration": 10,
    "start_time": "2024-06-06T19:24:28.882Z"
   },
   {
    "duration": 6,
    "start_time": "2024-06-06T19:24:35.710Z"
   },
   {
    "duration": 8,
    "start_time": "2024-06-06T19:24:41.377Z"
   },
   {
    "duration": 7,
    "start_time": "2024-06-06T19:24:44.641Z"
   },
   {
    "duration": 7,
    "start_time": "2024-06-06T19:24:51.924Z"
   },
   {
    "duration": 3,
    "start_time": "2024-06-06T19:24:55.503Z"
   },
   {
    "duration": 292,
    "start_time": "2024-06-06T19:24:57.325Z"
   },
   {
    "duration": 7,
    "start_time": "2024-06-06T19:25:21.463Z"
   },
   {
    "duration": 36,
    "start_time": "2024-06-06T19:25:25.770Z"
   },
   {
    "duration": 11,
    "start_time": "2024-06-06T19:25:41.841Z"
   },
   {
    "duration": 888,
    "start_time": "2024-06-06T19:30:08.455Z"
   },
   {
    "duration": 309,
    "start_time": "2024-06-06T19:30:24.127Z"
   },
   {
    "duration": 311,
    "start_time": "2024-06-06T19:30:33.449Z"
   },
   {
    "duration": 310,
    "start_time": "2024-06-06T19:30:43.175Z"
   },
   {
    "duration": 304,
    "start_time": "2024-06-06T19:30:51.646Z"
   },
   {
    "duration": 468,
    "start_time": "2024-06-06T19:31:00.486Z"
   },
   {
    "duration": 806,
    "start_time": "2024-06-06T19:31:29.260Z"
   },
   {
    "duration": 313,
    "start_time": "2024-06-06T19:31:43.083Z"
   },
   {
    "duration": 220,
    "start_time": "2024-06-06T19:31:52.804Z"
   },
   {
    "duration": 925,
    "start_time": "2024-06-06T19:31:57.843Z"
   },
   {
    "duration": 664,
    "start_time": "2024-06-06T19:32:05.034Z"
   },
   {
    "duration": 544,
    "start_time": "2024-06-06T19:32:14.121Z"
   },
   {
    "duration": 435,
    "start_time": "2024-06-06T19:32:20.842Z"
   },
   {
    "duration": 461,
    "start_time": "2024-06-06T19:34:37.609Z"
   },
   {
    "duration": 781,
    "start_time": "2024-06-06T19:34:47.888Z"
   },
   {
    "duration": 308,
    "start_time": "2024-06-06T19:35:00.260Z"
   },
   {
    "duration": 1206,
    "start_time": "2024-06-07T05:12:16.831Z"
   },
   {
    "duration": 27,
    "start_time": "2024-06-07T05:12:22.394Z"
   },
   {
    "duration": 2122,
    "start_time": "2024-06-07T05:12:30.963Z"
   },
   {
    "duration": 9,
    "start_time": "2024-06-07T05:12:52.002Z"
   },
   {
    "duration": 7,
    "start_time": "2024-06-07T05:13:31.881Z"
   },
   {
    "duration": 9,
    "start_time": "2024-06-07T05:13:34.729Z"
   },
   {
    "duration": 5,
    "start_time": "2024-06-07T05:13:39.336Z"
   },
   {
    "duration": 4,
    "start_time": "2024-06-07T05:13:45.320Z"
   },
   {
    "duration": 7,
    "start_time": "2024-06-07T05:13:49.777Z"
   },
   {
    "duration": 10,
    "start_time": "2024-06-07T05:13:55.440Z"
   },
   {
    "duration": 6,
    "start_time": "2024-06-07T05:13:57.367Z"
   },
   {
    "duration": 6,
    "start_time": "2024-06-07T05:15:14.959Z"
   },
   {
    "duration": 4,
    "start_time": "2024-06-07T05:15:19.527Z"
   },
   {
    "duration": 5,
    "start_time": "2024-06-07T05:15:37.532Z"
   },
   {
    "duration": 4,
    "start_time": "2024-06-07T05:15:45.925Z"
   },
   {
    "duration": 6,
    "start_time": "2024-06-07T05:15:47.095Z"
   },
   {
    "duration": 10,
    "start_time": "2024-06-07T05:15:48.478Z"
   },
   {
    "duration": 6,
    "start_time": "2024-06-07T05:15:50.550Z"
   },
   {
    "duration": 4,
    "start_time": "2024-06-07T05:15:54.471Z"
   },
   {
    "duration": 7,
    "start_time": "2024-06-07T05:15:57.046Z"
   },
   {
    "duration": 6,
    "start_time": "2024-06-07T05:15:58.709Z"
   },
   {
    "duration": 7,
    "start_time": "2024-06-07T05:16:58.377Z"
   },
   {
    "duration": 13,
    "start_time": "2024-06-07T05:17:01.116Z"
   },
   {
    "duration": 5,
    "start_time": "2024-06-07T05:17:06.061Z"
   },
   {
    "duration": 5,
    "start_time": "2024-06-07T05:17:08.557Z"
   },
   {
    "duration": 7,
    "start_time": "2024-06-07T05:17:10.244Z"
   },
   {
    "duration": 8,
    "start_time": "2024-06-07T05:17:17.596Z"
   },
   {
    "duration": 3,
    "start_time": "2024-06-07T05:17:42.899Z"
   },
   {
    "duration": 38,
    "start_time": "2024-06-07T05:18:35.875Z"
   },
   {
    "duration": 12,
    "start_time": "2024-06-07T05:18:55.211Z"
   },
   {
    "duration": 5,
    "start_time": "2024-06-07T05:19:03.811Z"
   },
   {
    "duration": 12,
    "start_time": "2024-06-07T05:20:10.305Z"
   },
   {
    "duration": 18,
    "start_time": "2024-06-07T05:20:29.208Z"
   },
   {
    "duration": 25,
    "start_time": "2024-06-07T05:23:51.645Z"
   },
   {
    "duration": 22,
    "start_time": "2024-06-07T05:24:27.947Z"
   },
   {
    "duration": 35,
    "start_time": "2024-06-07T05:24:31.713Z"
   },
   {
    "duration": 23,
    "start_time": "2024-06-07T05:25:18.082Z"
   },
   {
    "duration": 4,
    "start_time": "2024-06-07T05:25:19.858Z"
   },
   {
    "duration": 9,
    "start_time": "2024-06-07T05:25:23.962Z"
   },
   {
    "duration": 16,
    "start_time": "2024-06-07T05:25:26.985Z"
   },
   {
    "duration": 33,
    "start_time": "2024-06-07T05:25:34.395Z"
   },
   {
    "duration": 8,
    "start_time": "2024-06-07T05:26:21.321Z"
   },
   {
    "duration": 9,
    "start_time": "2024-06-07T05:26:31.264Z"
   },
   {
    "duration": 17,
    "start_time": "2024-06-07T05:26:44.505Z"
   },
   {
    "duration": 130,
    "start_time": "2024-06-07T05:26:51.161Z"
   },
   {
    "duration": 9,
    "start_time": "2024-06-07T05:26:54.592Z"
   },
   {
    "duration": 9,
    "start_time": "2024-06-07T05:26:59.296Z"
   },
   {
    "duration": 8,
    "start_time": "2024-06-07T05:30:39.797Z"
   },
   {
    "duration": 8,
    "start_time": "2024-06-07T05:31:02.578Z"
   },
   {
    "duration": 7,
    "start_time": "2024-06-07T05:31:07.323Z"
   },
   {
    "duration": 7,
    "start_time": "2024-06-07T05:31:13.698Z"
   },
   {
    "duration": 3,
    "start_time": "2024-06-07T05:31:52.482Z"
   },
   {
    "duration": 313,
    "start_time": "2024-06-07T05:31:54.025Z"
   },
   {
    "duration": 7,
    "start_time": "2024-06-07T05:32:37.648Z"
   },
   {
    "duration": 43,
    "start_time": "2024-06-07T05:32:44.985Z"
   },
   {
    "duration": 9,
    "start_time": "2024-06-07T05:35:29.109Z"
   },
   {
    "duration": 703,
    "start_time": "2024-06-07T05:40:06.599Z"
   },
   {
    "duration": 596,
    "start_time": "2024-06-07T05:40:21.804Z"
   },
   {
    "duration": 635,
    "start_time": "2024-06-07T05:41:59.774Z"
   },
   {
    "duration": 740,
    "start_time": "2024-06-07T05:42:22.076Z"
   },
   {
    "duration": 2160,
    "start_time": "2024-06-07T05:42:49.957Z"
   },
   {
    "duration": 608,
    "start_time": "2024-06-07T05:42:57.013Z"
   },
   {
    "duration": 5,
    "start_time": "2024-06-07T05:44:57.497Z"
   },
   {
    "duration": 10,
    "start_time": "2024-06-07T05:48:04.933Z"
   },
   {
    "duration": 1121,
    "start_time": "2024-06-07T05:49:07.171Z"
   },
   {
    "duration": 752,
    "start_time": "2024-06-07T05:49:27.026Z"
   },
   {
    "duration": 771,
    "start_time": "2024-06-07T05:49:36.315Z"
   },
   {
    "duration": 611,
    "start_time": "2024-06-07T05:52:00.441Z"
   },
   {
    "duration": 10,
    "start_time": "2024-06-07T05:52:11.232Z"
   },
   {
    "duration": 625,
    "start_time": "2024-06-07T05:55:29.652Z"
   },
   {
    "duration": 982,
    "start_time": "2024-06-07T05:55:43.522Z"
   },
   {
    "duration": 547,
    "start_time": "2024-06-07T05:55:52.075Z"
   },
   {
    "duration": 544,
    "start_time": "2024-06-07T05:58:09.442Z"
   },
   {
    "duration": 9,
    "start_time": "2024-06-07T06:02:17.603Z"
   },
   {
    "duration": 4004,
    "start_time": "2024-06-07T06:07:15.590Z"
   },
   {
    "duration": 2493,
    "start_time": "2024-06-07T06:07:24.325Z"
   },
   {
    "duration": 2704,
    "start_time": "2024-06-07T06:07:42.085Z"
   },
   {
    "duration": 9,
    "start_time": "2024-06-07T06:15:34.164Z"
   },
   {
    "duration": 531,
    "start_time": "2024-06-07T06:16:49.625Z"
   },
   {
    "duration": 9,
    "start_time": "2024-06-07T06:19:33.360Z"
   },
   {
    "duration": 521,
    "start_time": "2024-06-07T06:20:21.211Z"
   },
   {
    "duration": 9,
    "start_time": "2024-06-07T06:20:25.677Z"
   },
   {
    "duration": 348,
    "start_time": "2024-06-07T06:20:35.764Z"
   },
   {
    "duration": 698,
    "start_time": "2024-06-07T06:20:43.549Z"
   },
   {
    "duration": 4442,
    "start_time": "2024-06-07T06:20:54.037Z"
   },
   {
    "duration": 377,
    "start_time": "2024-06-07T06:21:07.927Z"
   },
   {
    "duration": 344,
    "start_time": "2024-06-07T06:21:16.572Z"
   },
   {
    "duration": 521,
    "start_time": "2024-06-07T06:22:30.667Z"
   },
   {
    "duration": 870,
    "start_time": "2024-06-07T06:22:38.218Z"
   },
   {
    "duration": 993,
    "start_time": "2024-06-07T06:22:46.634Z"
   },
   {
    "duration": 331,
    "start_time": "2024-06-07T06:27:18.229Z"
   },
   {
    "duration": 315,
    "start_time": "2024-06-07T06:27:42.900Z"
   },
   {
    "duration": 12,
    "start_time": "2024-06-07T06:29:06.491Z"
   },
   {
    "duration": 578,
    "start_time": "2024-06-07T06:29:56.763Z"
   },
   {
    "duration": 547,
    "start_time": "2024-06-07T06:30:19.449Z"
   },
   {
    "duration": 461,
    "start_time": "2024-06-07T06:30:58.648Z"
   },
   {
    "duration": 419,
    "start_time": "2024-06-07T06:31:05.048Z"
   },
   {
    "duration": 420,
    "start_time": "2024-06-07T06:31:12.633Z"
   },
   {
    "duration": 428,
    "start_time": "2024-06-07T06:31:21.647Z"
   },
   {
    "duration": 443,
    "start_time": "2024-06-07T06:31:28.672Z"
   },
   {
    "duration": 11,
    "start_time": "2024-06-07T06:41:38.891Z"
   },
   {
    "duration": 8,
    "start_time": "2024-06-07T06:42:25.113Z"
   },
   {
    "duration": 89,
    "start_time": "2024-06-07T06:43:53.824Z"
   },
   {
    "duration": 6,
    "start_time": "2024-06-07T06:44:47.118Z"
   },
   {
    "duration": 677,
    "start_time": "2024-06-07T06:45:01.408Z"
   },
   {
    "duration": 142,
    "start_time": "2024-06-07T06:45:20.428Z"
   },
   {
    "duration": 131,
    "start_time": "2024-06-07T06:45:31.367Z"
   },
   {
    "duration": 90,
    "start_time": "2024-06-07T06:45:41.505Z"
   },
   {
    "duration": 6,
    "start_time": "2024-06-07T06:46:32.332Z"
   },
   {
    "duration": 84,
    "start_time": "2024-06-07T06:46:35.580Z"
   },
   {
    "duration": 5,
    "start_time": "2024-06-07T06:49:14.033Z"
   },
   {
    "duration": 5,
    "start_time": "2024-06-07T06:49:56.970Z"
   },
   {
    "duration": 85,
    "start_time": "2024-06-07T06:50:00.914Z"
   },
   {
    "duration": 11,
    "start_time": "2024-06-07T07:08:55.944Z"
   },
   {
    "duration": 364,
    "start_time": "2024-06-07T07:09:55.727Z"
   },
   {
    "duration": 508,
    "start_time": "2024-06-07T07:10:06.095Z"
   },
   {
    "duration": 406,
    "start_time": "2024-06-07T07:10:12.113Z"
   },
   {
    "duration": 482,
    "start_time": "2024-06-07T07:10:22.344Z"
   },
   {
    "duration": 4114,
    "start_time": "2024-06-07T07:14:08.993Z"
   },
   {
    "duration": 9,
    "start_time": "2024-06-07T07:14:42.425Z"
   },
   {
    "duration": 649,
    "start_time": "2024-06-07T07:15:53.311Z"
   },
   {
    "duration": 686,
    "start_time": "2024-06-07T07:16:08.456Z"
   },
   {
    "duration": 656,
    "start_time": "2024-06-07T07:16:33.247Z"
   },
   {
    "duration": 9,
    "start_time": "2024-06-07T07:22:11.080Z"
   },
   {
    "duration": 602,
    "start_time": "2024-06-07T07:22:26.815Z"
   },
   {
    "duration": 959,
    "start_time": "2024-06-07T07:23:17.535Z"
   },
   {
    "duration": 628,
    "start_time": "2024-06-07T07:23:23.663Z"
   },
   {
    "duration": 604,
    "start_time": "2024-06-07T07:23:36.222Z"
   },
   {
    "duration": 635,
    "start_time": "2024-06-07T07:23:43.813Z"
   },
   {
    "duration": 14,
    "start_time": "2024-06-07T07:38:58.370Z"
   },
   {
    "duration": 7,
    "start_time": "2024-06-07T07:39:52.217Z"
   },
   {
    "duration": 6,
    "start_time": "2024-06-07T07:41:06.999Z"
   },
   {
    "duration": 6,
    "start_time": "2024-06-07T07:42:55.101Z"
   },
   {
    "duration": 5,
    "start_time": "2024-06-07T07:43:10.854Z"
   },
   {
    "duration": 5,
    "start_time": "2024-06-07T07:43:22.973Z"
   },
   {
    "duration": 611,
    "start_time": "2024-06-07T07:44:08.612Z"
   },
   {
    "duration": 750,
    "start_time": "2024-06-07T07:44:20.692Z"
   },
   {
    "duration": 528,
    "start_time": "2024-06-07T07:44:27.092Z"
   },
   {
    "duration": 1083,
    "start_time": "2024-06-07T07:44:34.075Z"
   },
   {
    "duration": 109,
    "start_time": "2024-06-07T07:56:53.716Z"
   },
   {
    "duration": 727,
    "start_time": "2024-06-07T07:57:25.508Z"
   },
   {
    "duration": 719,
    "start_time": "2024-06-07T07:57:37.443Z"
   },
   {
    "duration": 9,
    "start_time": "2024-06-07T07:58:19.483Z"
   },
   {
    "duration": 31,
    "start_time": "2024-06-07T08:28:51.037Z"
   },
   {
    "duration": 17,
    "start_time": "2024-06-07T08:29:17.789Z"
   },
   {
    "duration": 9,
    "start_time": "2024-06-07T08:29:45.172Z"
   },
   {
    "duration": 26,
    "start_time": "2024-06-07T08:30:54.834Z"
   },
   {
    "duration": 26,
    "start_time": "2024-06-07T08:31:07.640Z"
   },
   {
    "duration": 4,
    "start_time": "2024-06-07T08:31:34.738Z"
   },
   {
    "duration": 14,
    "start_time": "2024-06-07T08:31:42.755Z"
   },
   {
    "duration": 9,
    "start_time": "2024-06-07T08:34:32.589Z"
   },
   {
    "duration": 151,
    "start_time": "2024-06-07T08:34:42.357Z"
   },
   {
    "duration": 19,
    "start_time": "2024-06-07T08:36:57.834Z"
   },
   {
    "duration": 8,
    "start_time": "2024-06-07T08:37:24.010Z"
   },
   {
    "duration": 24,
    "start_time": "2024-06-07T08:51:56.729Z"
   },
   {
    "duration": 23,
    "start_time": "2024-06-07T08:52:07.223Z"
   },
   {
    "duration": 16,
    "start_time": "2024-06-07T08:52:15.575Z"
   },
   {
    "duration": 22,
    "start_time": "2024-06-07T08:52:45.431Z"
   },
   {
    "duration": 13,
    "start_time": "2024-06-07T08:52:48.716Z"
   },
   {
    "duration": 178,
    "start_time": "2024-06-07T08:54:16.669Z"
   },
   {
    "duration": 14,
    "start_time": "2024-06-07T08:54:37.252Z"
   },
   {
    "duration": 6,
    "start_time": "2024-06-07T08:55:34.357Z"
   },
   {
    "duration": 182,
    "start_time": "2024-06-07T08:56:09.353Z"
   },
   {
    "duration": 5,
    "start_time": "2024-06-07T08:56:24.674Z"
   },
   {
    "duration": 164,
    "start_time": "2024-06-07T08:59:38.454Z"
   },
   {
    "duration": 162,
    "start_time": "2024-06-07T08:59:52.478Z"
   },
   {
    "duration": 45,
    "start_time": "2024-06-07T10:00:23.989Z"
   },
   {
    "duration": 167,
    "start_time": "2024-06-07T10:02:36.048Z"
   },
   {
    "duration": 6,
    "start_time": "2024-06-07T10:02:55.024Z"
   },
   {
    "duration": 167,
    "start_time": "2024-06-07T10:03:22.533Z"
   },
   {
    "duration": 159,
    "start_time": "2024-06-07T10:03:35.334Z"
   },
   {
    "duration": 6,
    "start_time": "2024-06-07T10:03:39.901Z"
   },
   {
    "duration": 44,
    "start_time": "2024-06-07T10:07:52.625Z"
   },
   {
    "duration": 164,
    "start_time": "2024-06-07T10:08:27.008Z"
   },
   {
    "duration": 162,
    "start_time": "2024-06-07T10:08:37.264Z"
   },
   {
    "duration": 101,
    "start_time": "2024-06-07T11:07:31.636Z"
   },
   {
    "duration": 21,
    "start_time": "2024-06-07T11:07:39.244Z"
   },
   {
    "duration": 178,
    "start_time": "2024-06-07T11:07:44.955Z"
   },
   {
    "duration": 7,
    "start_time": "2024-06-07T11:08:15.873Z"
   },
   {
    "duration": 184,
    "start_time": "2024-06-07T11:08:24.898Z"
   },
   {
    "duration": 177,
    "start_time": "2024-06-07T11:08:48.043Z"
   },
   {
    "duration": 186,
    "start_time": "2024-06-07T11:09:53.633Z"
   },
   {
    "duration": 167,
    "start_time": "2024-06-07T11:10:04.016Z"
   },
   {
    "duration": 169,
    "start_time": "2024-06-07T11:45:12.240Z"
   },
   {
    "duration": 129,
    "start_time": "2024-06-07T11:47:23.490Z"
   },
   {
    "duration": 164,
    "start_time": "2024-06-07T11:47:26.987Z"
   },
   {
    "duration": 154,
    "start_time": "2024-06-07T11:47:32.889Z"
   },
   {
    "duration": 156,
    "start_time": "2024-06-07T11:47:53.889Z"
   },
   {
    "duration": 9,
    "start_time": "2024-06-07T11:48:49.576Z"
   },
   {
    "duration": 171,
    "start_time": "2024-06-07T11:48:52.672Z"
   },
   {
    "duration": 6,
    "start_time": "2024-06-07T11:53:27.179Z"
   },
   {
    "duration": 34,
    "start_time": "2024-06-07T12:08:24.280Z"
   },
   {
    "duration": 158,
    "start_time": "2024-06-07T12:08:55.841Z"
   },
   {
    "duration": 151,
    "start_time": "2024-06-07T12:09:04.007Z"
   },
   {
    "duration": 432,
    "start_time": "2024-06-07T12:09:46.814Z"
   },
   {
    "duration": 27,
    "start_time": "2024-06-07T12:20:46.017Z"
   },
   {
    "duration": 139,
    "start_time": "2024-06-07T12:21:19.657Z"
   },
   {
    "duration": 138,
    "start_time": "2024-06-07T12:21:24.457Z"
   },
   {
    "duration": 6,
    "start_time": "2024-06-07T12:21:53.136Z"
   },
   {
    "duration": 28,
    "start_time": "2024-06-07T12:22:44.158Z"
   },
   {
    "duration": 148,
    "start_time": "2024-06-07T12:23:11.310Z"
   },
   {
    "duration": 6,
    "start_time": "2024-06-07T12:23:34.126Z"
   },
   {
    "duration": 6,
    "start_time": "2024-06-07T12:23:44.637Z"
   },
   {
    "duration": 26,
    "start_time": "2024-06-07T12:27:42.312Z"
   },
   {
    "duration": 158,
    "start_time": "2024-06-07T12:28:04.487Z"
   },
   {
    "duration": 6,
    "start_time": "2024-06-07T12:28:14.648Z"
   },
   {
    "duration": 6,
    "start_time": "2024-06-07T12:28:25.951Z"
   },
   {
    "duration": 28,
    "start_time": "2024-06-07T12:41:00.895Z"
   },
   {
    "duration": 25,
    "start_time": "2024-06-07T12:41:14.271Z"
   },
   {
    "duration": 8,
    "start_time": "2024-06-07T12:41:55.566Z"
   },
   {
    "duration": 9,
    "start_time": "2024-06-07T12:42:01.319Z"
   },
   {
    "duration": 24,
    "start_time": "2024-06-07T12:48:53.910Z"
   },
   {
    "duration": 160,
    "start_time": "2024-06-07T12:49:22.222Z"
   },
   {
    "duration": 163,
    "start_time": "2024-06-07T12:50:39.546Z"
   },
   {
    "duration": 145,
    "start_time": "2024-06-07T12:51:41.083Z"
   },
   {
    "duration": 176,
    "start_time": "2024-06-07T14:22:56.136Z"
   },
   {
    "duration": 20,
    "start_time": "2024-06-07T14:24:37.572Z"
   },
   {
    "duration": 160,
    "start_time": "2024-06-07T14:24:58.042Z"
   },
   {
    "duration": 151,
    "start_time": "2024-06-07T14:25:17.294Z"
   },
   {
    "duration": 8,
    "start_time": "2024-06-07T14:25:27.381Z"
   },
   {
    "duration": 12,
    "start_time": "2024-06-07T14:25:36.924Z"
   },
   {
    "duration": 9,
    "start_time": "2024-06-07T14:25:47.923Z"
   },
   {
    "duration": 162,
    "start_time": "2024-06-07T14:28:01.038Z"
   },
   {
    "duration": 9,
    "start_time": "2024-06-07T14:28:04.054Z"
   },
   {
    "duration": 81,
    "start_time": "2024-06-07T14:31:46.612Z"
   },
   {
    "duration": 150,
    "start_time": "2024-06-07T14:32:19.873Z"
   },
   {
    "duration": 157,
    "start_time": "2024-06-07T14:32:28.137Z"
   },
   {
    "duration": 157,
    "start_time": "2024-06-07T14:32:46.890Z"
   },
   {
    "duration": 164,
    "start_time": "2024-06-07T14:33:35.541Z"
   },
   {
    "duration": 651,
    "start_time": "2024-06-07T14:37:32.820Z"
   },
   {
    "duration": 160,
    "start_time": "2024-06-07T14:37:45.658Z"
   },
   {
    "duration": 145,
    "start_time": "2024-06-07T14:37:57.437Z"
   },
   {
    "duration": 13,
    "start_time": "2024-06-07T14:38:41.667Z"
   },
   {
    "duration": 10,
    "start_time": "2024-06-07T14:39:20.946Z"
   },
   {
    "duration": 9,
    "start_time": "2024-06-07T14:40:03.756Z"
   },
   {
    "duration": 49,
    "start_time": "2024-06-07T14:40:06.049Z"
   },
   {
    "duration": 89,
    "start_time": "2024-06-07T14:41:22.180Z"
   },
   {
    "duration": 15,
    "start_time": "2024-06-07T14:42:55.927Z"
   },
   {
    "duration": 16,
    "start_time": "2024-06-07T14:43:55.914Z"
   },
   {
    "duration": 20,
    "start_time": "2024-06-07T14:44:09.796Z"
   },
   {
    "duration": 169,
    "start_time": "2024-06-07T14:44:31.653Z"
   },
   {
    "duration": 162,
    "start_time": "2024-06-07T14:44:53.177Z"
   },
   {
    "duration": 160,
    "start_time": "2024-06-07T14:46:47.671Z"
   },
   {
    "duration": 161,
    "start_time": "2024-06-07T14:47:20.244Z"
   },
   {
    "duration": 14,
    "start_time": "2024-06-07T14:49:55.105Z"
   },
   {
    "duration": 9,
    "start_time": "2024-06-07T14:50:32.928Z"
   },
   {
    "duration": 9,
    "start_time": "2024-06-07T14:50:52.184Z"
   },
   {
    "duration": 149,
    "start_time": "2024-06-07T14:50:59.899Z"
   },
   {
    "duration": 338,
    "start_time": "2024-06-08T06:13:14.447Z"
   },
   {
    "duration": 375,
    "start_time": "2024-06-08T06:13:38.997Z"
   },
   {
    "duration": 261,
    "start_time": "2024-06-08T06:14:14.318Z"
   },
   {
    "duration": 13,
    "start_time": "2024-06-08T06:14:18.116Z"
   },
   {
    "duration": 14,
    "start_time": "2024-06-08T06:16:29.782Z"
   },
   {
    "duration": 27,
    "start_time": "2024-06-08T06:17:09.411Z"
   },
   {
    "duration": 13,
    "start_time": "2024-06-08T06:17:30.743Z"
   },
   {
    "duration": 35,
    "start_time": "2024-06-08T06:17:45.338Z"
   },
   {
    "duration": 24,
    "start_time": "2024-06-08T06:17:55.038Z"
   },
   {
    "duration": 25,
    "start_time": "2024-06-08T06:18:06.726Z"
   },
   {
    "duration": 1714,
    "start_time": "2024-06-08T06:21:00.060Z"
   },
   {
    "duration": 23,
    "start_time": "2024-06-08T06:30:11.688Z"
   },
   {
    "duration": 28,
    "start_time": "2024-06-08T06:30:39.239Z"
   },
   {
    "duration": 19,
    "start_time": "2024-06-08T06:30:48.808Z"
   },
   {
    "duration": 3,
    "start_time": "2024-06-08T06:33:17.312Z"
   },
   {
    "duration": 24,
    "start_time": "2024-06-08T06:34:35.853Z"
   },
   {
    "duration": 1656,
    "start_time": "2024-06-08T06:34:54.681Z"
   },
   {
    "duration": 25,
    "start_time": "2024-06-08T06:35:05.525Z"
   },
   {
    "duration": 7,
    "start_time": "2024-06-08T06:43:25.396Z"
   },
   {
    "duration": 9,
    "start_time": "2024-06-08T06:43:45.058Z"
   },
   {
    "duration": 8,
    "start_time": "2024-06-08T06:44:12.419Z"
   },
   {
    "duration": 107,
    "start_time": "2024-06-08T06:57:19.601Z"
   },
   {
    "duration": 6,
    "start_time": "2024-06-08T07:01:22.305Z"
   },
   {
    "duration": 8,
    "start_time": "2024-06-08T07:03:26.168Z"
   },
   {
    "duration": 13,
    "start_time": "2024-06-08T07:03:39.262Z"
   },
   {
    "duration": 10,
    "start_time": "2024-06-08T07:05:29.714Z"
   },
   {
    "duration": 10,
    "start_time": "2024-06-08T07:05:43.193Z"
   },
   {
    "duration": 7,
    "start_time": "2024-06-08T07:09:46.086Z"
   },
   {
    "duration": 9,
    "start_time": "2024-06-08T07:09:55.082Z"
   },
   {
    "duration": 9,
    "start_time": "2024-06-08T07:10:03.522Z"
   },
   {
    "duration": 586,
    "start_time": "2024-06-08T07:10:47.247Z"
   },
   {
    "duration": 48,
    "start_time": "2024-06-08T07:11:01.071Z"
   },
   {
    "duration": 10,
    "start_time": "2024-06-08T07:11:04.789Z"
   },
   {
    "duration": 12,
    "start_time": "2024-06-08T07:11:21.420Z"
   },
   {
    "duration": 9,
    "start_time": "2024-06-08T07:11:34.012Z"
   },
   {
    "duration": 9,
    "start_time": "2024-06-08T07:13:44.707Z"
   },
   {
    "duration": 10,
    "start_time": "2024-06-08T07:13:53.137Z"
   },
   {
    "duration": 3,
    "start_time": "2024-06-08T07:15:22.563Z"
   },
   {
    "duration": 11,
    "start_time": "2024-06-08T07:15:30.222Z"
   },
   {
    "duration": 10,
    "start_time": "2024-06-08T07:22:27.323Z"
   },
   {
    "duration": 6,
    "start_time": "2024-06-08T07:26:03.962Z"
   },
   {
    "duration": 8,
    "start_time": "2024-06-08T07:26:55.003Z"
   },
   {
    "duration": 4,
    "start_time": "2024-06-08T07:27:51.967Z"
   },
   {
    "duration": 4,
    "start_time": "2024-06-08T07:28:15.891Z"
   },
   {
    "duration": 9,
    "start_time": "2024-06-08T07:28:41.409Z"
   },
   {
    "duration": 4,
    "start_time": "2024-06-08T07:28:44.454Z"
   },
   {
    "duration": 9,
    "start_time": "2024-06-08T07:32:19.022Z"
   },
   {
    "duration": 4,
    "start_time": "2024-06-08T07:32:23.601Z"
   },
   {
    "duration": 9,
    "start_time": "2024-06-08T07:32:34.420Z"
   },
   {
    "duration": 4,
    "start_time": "2024-06-08T07:32:35.603Z"
   },
   {
    "duration": 213,
    "start_time": "2024-06-08T07:33:27.719Z"
   },
   {
    "duration": 5,
    "start_time": "2024-06-08T07:33:49.024Z"
   },
   {
    "duration": 9,
    "start_time": "2024-06-08T07:34:02.752Z"
   },
   {
    "duration": 10,
    "start_time": "2024-06-08T07:37:08.837Z"
   },
   {
    "duration": 5,
    "start_time": "2024-06-08T07:37:59.019Z"
   },
   {
    "duration": 6,
    "start_time": "2024-06-08T07:38:29.698Z"
   },
   {
    "duration": 11,
    "start_time": "2024-06-08T07:38:35.482Z"
   },
   {
    "duration": 2,
    "start_time": "2024-06-08T07:38:52.725Z"
   },
   {
    "duration": 2,
    "start_time": "2024-06-08T07:38:53.897Z"
   },
   {
    "duration": 80,
    "start_time": "2024-06-08T07:38:54.817Z"
   },
   {
    "duration": 12,
    "start_time": "2024-06-08T07:38:56.035Z"
   },
   {
    "duration": 3,
    "start_time": "2024-06-08T07:38:57.559Z"
   },
   {
    "duration": 26,
    "start_time": "2024-06-08T07:39:01.045Z"
   },
   {
    "duration": 1662,
    "start_time": "2024-06-08T07:39:07.569Z"
   },
   {
    "duration": 21,
    "start_time": "2024-06-08T07:39:09.695Z"
   },
   {
    "duration": 9,
    "start_time": "2024-06-08T07:39:18.417Z"
   },
   {
    "duration": 9,
    "start_time": "2024-06-08T07:39:21.324Z"
   },
   {
    "duration": 5,
    "start_time": "2024-06-08T07:39:29.202Z"
   },
   {
    "duration": 8,
    "start_time": "2024-06-08T07:39:31.748Z"
   },
   {
    "duration": 5,
    "start_time": "2024-06-08T07:39:37.439Z"
   },
   {
    "duration": 207,
    "start_time": "2024-06-08T07:39:40.260Z"
   },
   {
    "duration": 8,
    "start_time": "2024-06-08T07:39:42.437Z"
   },
   {
    "duration": 5,
    "start_time": "2024-06-08T07:39:43.867Z"
   },
   {
    "duration": 3,
    "start_time": "2024-06-08T07:41:18.360Z"
   },
   {
    "duration": 3,
    "start_time": "2024-06-08T07:41:22.386Z"
   },
   {
    "duration": 3,
    "start_time": "2024-06-08T07:42:32.795Z"
   },
   {
    "duration": 5,
    "start_time": "2024-06-08T07:43:02.038Z"
   },
   {
    "duration": 6,
    "start_time": "2024-06-08T07:47:59.848Z"
   },
   {
    "duration": 8,
    "start_time": "2024-06-08T07:48:04.824Z"
   },
   {
    "duration": 4,
    "start_time": "2024-06-08T07:48:13.715Z"
   },
   {
    "duration": 6,
    "start_time": "2024-06-08T07:56:39.301Z"
   },
   {
    "duration": 5,
    "start_time": "2024-06-08T07:56:49.098Z"
   },
   {
    "duration": 4,
    "start_time": "2024-06-08T08:01:10.579Z"
   },
   {
    "duration": 4,
    "start_time": "2024-06-08T08:01:29.564Z"
   },
   {
    "duration": 7,
    "start_time": "2024-06-08T08:13:10.598Z"
   },
   {
    "duration": 6,
    "start_time": "2024-06-08T08:13:30.574Z"
   },
   {
    "duration": 6,
    "start_time": "2024-06-08T08:14:05.227Z"
   },
   {
    "duration": 5,
    "start_time": "2024-06-08T08:16:59.614Z"
   },
   {
    "duration": 4,
    "start_time": "2024-06-08T08:19:36.135Z"
   },
   {
    "duration": 8,
    "start_time": "2024-06-08T08:20:34.745Z"
   },
   {
    "duration": 6,
    "start_time": "2024-06-08T08:20:46.834Z"
   },
   {
    "duration": 6,
    "start_time": "2024-06-08T08:20:54.116Z"
   },
   {
    "duration": 4,
    "start_time": "2024-06-08T08:25:00.033Z"
   },
   {
    "duration": 3,
    "start_time": "2024-06-08T08:25:54.964Z"
   },
   {
    "duration": 6,
    "start_time": "2024-06-08T08:27:30.742Z"
   },
   {
    "duration": 6,
    "start_time": "2024-06-08T08:28:07.932Z"
   },
   {
    "duration": 6,
    "start_time": "2024-06-08T08:28:21.325Z"
   },
   {
    "duration": 5,
    "start_time": "2024-06-08T08:28:33.105Z"
   },
   {
    "duration": 5,
    "start_time": "2024-06-08T08:29:54.897Z"
   },
   {
    "duration": 7,
    "start_time": "2024-06-08T08:30:26.086Z"
   },
   {
    "duration": 5,
    "start_time": "2024-06-08T08:31:23.407Z"
   },
   {
    "duration": 7,
    "start_time": "2024-06-08T08:34:22.620Z"
   },
   {
    "duration": 2,
    "start_time": "2024-06-08T08:35:18.704Z"
   },
   {
    "duration": 2,
    "start_time": "2024-06-08T08:35:20.376Z"
   },
   {
    "duration": 80,
    "start_time": "2024-06-08T08:35:22.448Z"
   },
   {
    "duration": 20,
    "start_time": "2024-06-08T08:35:24.338Z"
   },
   {
    "duration": 4,
    "start_time": "2024-06-08T08:35:26.237Z"
   },
   {
    "duration": 26,
    "start_time": "2024-06-08T08:35:29.850Z"
   },
   {
    "duration": 1588,
    "start_time": "2024-06-08T08:35:37.364Z"
   },
   {
    "duration": 20,
    "start_time": "2024-06-08T08:35:40.748Z"
   },
   {
    "duration": 9,
    "start_time": "2024-06-08T08:35:53.626Z"
   },
   {
    "duration": 10,
    "start_time": "2024-06-08T08:35:56.782Z"
   },
   {
    "duration": 7,
    "start_time": "2024-06-08T08:36:04.065Z"
   },
   {
    "duration": 7,
    "start_time": "2024-06-08T08:36:05.899Z"
   },
   {
    "duration": 4,
    "start_time": "2024-06-08T08:36:07.729Z"
   },
   {
    "duration": 222,
    "start_time": "2024-06-08T08:36:09.005Z"
   },
   {
    "duration": 11,
    "start_time": "2024-06-08T08:36:10.377Z"
   },
   {
    "duration": 4,
    "start_time": "2024-06-08T08:36:11.859Z"
   },
   {
    "duration": 3,
    "start_time": "2024-06-08T08:36:13.407Z"
   },
   {
    "duration": 8,
    "start_time": "2024-06-08T08:36:20.353Z"
   },
   {
    "duration": 8,
    "start_time": "2024-06-08T08:36:22.087Z"
   },
   {
    "duration": 5,
    "start_time": "2024-06-08T08:36:24.714Z"
   },
   {
    "duration": 4,
    "start_time": "2024-06-08T08:36:25.937Z"
   },
   {
    "duration": 6,
    "start_time": "2024-06-08T08:36:31.569Z"
   },
   {
    "duration": 8,
    "start_time": "2024-06-08T08:36:55.710Z"
   },
   {
    "duration": 6,
    "start_time": "2024-06-08T08:42:37.965Z"
   },
   {
    "duration": 9,
    "start_time": "2024-06-08T08:42:41.825Z"
   },
   {
    "duration": 3,
    "start_time": "2024-06-08T08:42:47.514Z"
   },
   {
    "duration": 4,
    "start_time": "2024-06-08T08:43:59.033Z"
   },
   {
    "duration": 8,
    "start_time": "2024-06-08T08:44:19.981Z"
   },
   {
    "duration": 6,
    "start_time": "2024-06-08T08:44:34.038Z"
   },
   {
    "duration": 3,
    "start_time": "2024-06-08T08:44:41.070Z"
   },
   {
    "duration": 9,
    "start_time": "2024-06-08T08:46:01.482Z"
   },
   {
    "duration": 10,
    "start_time": "2024-06-08T08:47:03.509Z"
   },
   {
    "duration": 7,
    "start_time": "2024-06-08T08:54:36.316Z"
   },
   {
    "duration": 3,
    "start_time": "2024-06-08T08:54:42.864Z"
   },
   {
    "duration": 6,
    "start_time": "2024-06-08T09:04:23.819Z"
   },
   {
    "duration": 7,
    "start_time": "2024-06-08T09:04:27.489Z"
   },
   {
    "duration": 6,
    "start_time": "2024-06-08T09:04:32.240Z"
   },
   {
    "duration": 8,
    "start_time": "2024-06-08T09:04:34.922Z"
   },
   {
    "duration": 4,
    "start_time": "2024-06-08T09:04:46.880Z"
   },
   {
    "duration": 8,
    "start_time": "2024-06-08T09:05:55.625Z"
   },
   {
    "duration": 6,
    "start_time": "2024-06-08T09:09:49.733Z"
   },
   {
    "duration": 7,
    "start_time": "2024-06-08T09:10:46.742Z"
   },
   {
    "duration": 8,
    "start_time": "2024-06-08T09:10:58.310Z"
   },
   {
    "duration": 3,
    "start_time": "2024-06-08T09:10:59.429Z"
   },
   {
    "duration": 8,
    "start_time": "2024-06-08T09:11:02.564Z"
   },
   {
    "duration": 5,
    "start_time": "2024-06-08T09:11:05.339Z"
   },
   {
    "duration": 6,
    "start_time": "2024-06-08T09:11:33.133Z"
   },
   {
    "duration": 5,
    "start_time": "2024-06-08T09:12:32.903Z"
   },
   {
    "duration": 10,
    "start_time": "2024-06-08T09:12:34.080Z"
   },
   {
    "duration": 3,
    "start_time": "2024-06-08T09:12:34.895Z"
   },
   {
    "duration": 8,
    "start_time": "2024-06-08T09:12:43.532Z"
   },
   {
    "duration": 6,
    "start_time": "2024-06-08T09:12:52.661Z"
   },
   {
    "duration": 5,
    "start_time": "2024-06-08T09:14:34.328Z"
   },
   {
    "duration": 7,
    "start_time": "2024-06-08T09:14:39.314Z"
   },
   {
    "duration": 6,
    "start_time": "2024-06-08T09:14:42.799Z"
   },
   {
    "duration": 4,
    "start_time": "2024-06-08T09:17:31.241Z"
   },
   {
    "duration": 7,
    "start_time": "2024-06-08T09:19:01.492Z"
   },
   {
    "duration": 6,
    "start_time": "2024-06-08T09:19:09.379Z"
   },
   {
    "duration": 24,
    "start_time": "2024-06-08T09:21:50.709Z"
   },
   {
    "duration": 5,
    "start_time": "2024-06-08T09:22:25.781Z"
   },
   {
    "duration": 8,
    "start_time": "2024-06-08T09:22:30.683Z"
   },
   {
    "duration": 4,
    "start_time": "2024-06-08T09:22:35.982Z"
   },
   {
    "duration": 8,
    "start_time": "2024-06-08T09:26:02.650Z"
   },
   {
    "duration": 4,
    "start_time": "2024-06-08T09:28:04.721Z"
   },
   {
    "duration": 4,
    "start_time": "2024-06-08T09:31:52.756Z"
   },
   {
    "duration": 19,
    "start_time": "2024-06-08T09:31:56.213Z"
   },
   {
    "duration": 19,
    "start_time": "2024-06-08T09:36:56.856Z"
   },
   {
    "duration": 23,
    "start_time": "2024-06-08T09:37:00.243Z"
   },
   {
    "duration": 14,
    "start_time": "2024-06-08T09:37:03.362Z"
   },
   {
    "duration": 17,
    "start_time": "2024-06-08T09:38:05.386Z"
   },
   {
    "duration": 21,
    "start_time": "2024-06-08T09:38:50.008Z"
   },
   {
    "duration": 3,
    "start_time": "2024-06-08T09:38:52.593Z"
   },
   {
    "duration": 7,
    "start_time": "2024-06-08T09:38:53.887Z"
   },
   {
    "duration": 17,
    "start_time": "2024-06-08T09:38:55.161Z"
   },
   {
    "duration": 26,
    "start_time": "2024-06-08T09:39:00.661Z"
   },
   {
    "duration": 6,
    "start_time": "2024-06-08T09:39:10.561Z"
   },
   {
    "duration": 6,
    "start_time": "2024-06-08T09:39:15.969Z"
   },
   {
    "duration": 14,
    "start_time": "2024-06-08T09:39:17.569Z"
   },
   {
    "duration": 110,
    "start_time": "2024-06-08T09:39:18.490Z"
   },
   {
    "duration": 8,
    "start_time": "2024-06-08T09:39:22.954Z"
   },
   {
    "duration": 11,
    "start_time": "2024-06-08T09:39:27.216Z"
   },
   {
    "duration": 5,
    "start_time": "2024-06-08T09:39:30.434Z"
   },
   {
    "duration": 6,
    "start_time": "2024-06-08T09:39:35.274Z"
   },
   {
    "duration": 5,
    "start_time": "2024-06-08T09:39:37.256Z"
   },
   {
    "duration": 5,
    "start_time": "2024-06-08T09:39:38.466Z"
   },
   {
    "duration": 3,
    "start_time": "2024-06-08T09:39:46.760Z"
   },
   {
    "duration": 370,
    "start_time": "2024-06-08T09:39:48.346Z"
   },
   {
    "duration": 5,
    "start_time": "2024-06-08T09:39:52.410Z"
   },
   {
    "duration": 32,
    "start_time": "2024-06-08T09:39:54.203Z"
   },
   {
    "duration": 9,
    "start_time": "2024-06-08T09:39:58.147Z"
   },
   {
    "duration": 464,
    "start_time": "2024-06-08T09:40:02.338Z"
   },
   {
    "duration": 7,
    "start_time": "2024-06-08T09:40:14.387Z"
   },
   {
    "duration": 474,
    "start_time": "2024-06-08T09:40:18.466Z"
   },
   {
    "duration": 7,
    "start_time": "2024-06-08T09:40:31.355Z"
   },
   {
    "duration": 401,
    "start_time": "2024-06-08T09:40:36.027Z"
   },
   {
    "duration": 9,
    "start_time": "2024-06-08T09:40:46.905Z"
   },
   {
    "duration": 1802,
    "start_time": "2024-06-08T09:40:55.922Z"
   },
   {
    "duration": 7,
    "start_time": "2024-06-08T09:41:09.514Z"
   },
   {
    "duration": 386,
    "start_time": "2024-06-08T09:41:15.756Z"
   },
   {
    "duration": 7,
    "start_time": "2024-06-08T09:41:20.099Z"
   },
   {
    "duration": 398,
    "start_time": "2024-06-08T09:41:51.676Z"
   },
   {
    "duration": 7,
    "start_time": "2024-06-08T09:42:54.772Z"
   },
   {
    "duration": 346,
    "start_time": "2024-06-08T09:44:58.277Z"
   },
   {
    "duration": 9,
    "start_time": "2024-06-08T09:46:02.990Z"
   },
   {
    "duration": 4,
    "start_time": "2024-06-08T09:46:05.118Z"
   },
   {
    "duration": 4,
    "start_time": "2024-06-08T09:46:05.895Z"
   },
   {
    "duration": 68,
    "start_time": "2024-06-08T09:46:07.510Z"
   },
   {
    "duration": 9,
    "start_time": "2024-06-08T09:46:09.118Z"
   },
   {
    "duration": 520,
    "start_time": "2024-06-08T09:46:09.766Z"
   },
   {
    "duration": 9,
    "start_time": "2024-06-08T09:46:11.948Z"
   },
   {
    "duration": 493,
    "start_time": "2024-06-08T09:46:12.878Z"
   },
   {
    "duration": 9,
    "start_time": "2024-06-08T09:46:15.485Z"
   },
   {
    "duration": 477,
    "start_time": "2024-06-08T09:46:16.358Z"
   },
   {
    "duration": 8,
    "start_time": "2024-06-08T09:46:29.781Z"
   },
   {
    "duration": 5,
    "start_time": "2024-06-08T09:46:31.054Z"
   },
   {
    "duration": 5,
    "start_time": "2024-06-08T09:46:32.359Z"
   },
   {
    "duration": 462,
    "start_time": "2024-06-08T09:46:41.709Z"
   },
   {
    "duration": 19,
    "start_time": "2024-06-08T09:46:46.797Z"
   },
   {
    "duration": 14,
    "start_time": "2024-06-08T09:46:48.647Z"
   },
   {
    "duration": 3,
    "start_time": "2024-06-08T09:46:49.865Z"
   },
   {
    "duration": 17,
    "start_time": "2024-06-08T09:49:42.089Z"
   },
   {
    "duration": 12,
    "start_time": "2024-06-08T09:49:42.847Z"
   },
   {
    "duration": 12,
    "start_time": "2024-06-08T09:50:07.652Z"
   },
   {
    "duration": 117,
    "start_time": "2024-06-08T09:50:09.667Z"
   },
   {
    "duration": 10,
    "start_time": "2024-06-08T09:50:11.393Z"
   },
   {
    "duration": 112,
    "start_time": "2024-06-08T09:52:50.961Z"
   },
   {
    "duration": 10,
    "start_time": "2024-06-08T09:52:56.697Z"
   },
   {
    "duration": 3,
    "start_time": "2024-06-08T09:53:19.739Z"
   },
   {
    "duration": 10,
    "start_time": "2024-06-08T09:53:21.729Z"
   },
   {
    "duration": 116,
    "start_time": "2024-06-08T09:53:23.123Z"
   },
   {
    "duration": 11,
    "start_time": "2024-06-08T09:53:24.507Z"
   },
   {
    "duration": 4,
    "start_time": "2024-06-08T09:53:30.460Z"
   },
   {
    "duration": 20,
    "start_time": "2024-06-08T09:53:33.506Z"
   },
   {
    "duration": 11,
    "start_time": "2024-06-08T09:53:35.404Z"
   },
   {
    "duration": 126,
    "start_time": "2024-06-08T09:53:39.098Z"
   },
   {
    "duration": 10,
    "start_time": "2024-06-08T09:53:41.492Z"
   },
   {
    "duration": 6,
    "start_time": "2024-06-08T09:53:44.554Z"
   },
   {
    "duration": 25,
    "start_time": "2024-06-08T09:53:50.810Z"
   },
   {
    "duration": 109,
    "start_time": "2024-06-08T09:53:54.874Z"
   },
   {
    "duration": 5,
    "start_time": "2024-06-08T09:53:58.106Z"
   },
   {
    "duration": 23,
    "start_time": "2024-06-08T09:54:04.651Z"
   },
   {
    "duration": 303,
    "start_time": "2024-06-08T09:54:08.477Z"
   },
   {
    "duration": 5,
    "start_time": "2024-06-08T09:54:11.755Z"
   },
   {
    "duration": 124,
    "start_time": "2024-06-08T09:54:13.187Z"
   },
   {
    "duration": 5,
    "start_time": "2024-06-08T09:54:16.379Z"
   },
   {
    "duration": 24,
    "start_time": "2024-06-08T09:54:19.091Z"
   },
   {
    "duration": 116,
    "start_time": "2024-06-08T09:54:20.683Z"
   },
   {
    "duration": 21,
    "start_time": "2024-06-08T09:54:24.004Z"
   },
   {
    "duration": 112,
    "start_time": "2024-06-08T09:54:26.677Z"
   },
   {
    "duration": 4,
    "start_time": "2024-06-08T09:54:28.699Z"
   },
   {
    "duration": 22,
    "start_time": "2024-06-08T09:54:30.371Z"
   },
   {
    "duration": 120,
    "start_time": "2024-06-08T09:54:32.547Z"
   },
   {
    "duration": 6,
    "start_time": "2024-06-08T09:54:34.619Z"
   },
   {
    "duration": 22,
    "start_time": "2024-06-08T09:54:35.891Z"
   },
   {
    "duration": 143,
    "start_time": "2024-06-08T09:54:37.141Z"
   },
   {
    "duration": 6,
    "start_time": "2024-06-08T09:54:39.437Z"
   },
   {
    "duration": 22,
    "start_time": "2024-06-08T09:54:50.811Z"
   },
   {
    "duration": 10,
    "start_time": "2024-06-08T09:54:53.899Z"
   },
   {
    "duration": 7,
    "start_time": "2024-06-08T09:54:55.211Z"
   },
   {
    "duration": 13,
    "start_time": "2024-06-08T09:55:04.238Z"
   },
   {
    "duration": 6,
    "start_time": "2024-06-08T09:55:06.654Z"
   },
   {
    "duration": 145,
    "start_time": "2024-06-08T09:55:09.884Z"
   },
   {
    "duration": 2,
    "start_time": "2024-06-08T10:10:49.203Z"
   },
   {
    "duration": 17,
    "start_time": "2024-06-08T10:10:49.207Z"
   },
   {
    "duration": 97,
    "start_time": "2024-06-08T10:10:49.226Z"
   },
   {
    "duration": 12,
    "start_time": "2024-06-08T10:10:49.325Z"
   },
   {
    "duration": 6,
    "start_time": "2024-06-08T10:10:49.339Z"
   },
   {
    "duration": 27,
    "start_time": "2024-06-08T10:10:49.346Z"
   },
   {
    "duration": 1706,
    "start_time": "2024-06-08T10:10:49.374Z"
   },
   {
    "duration": 28,
    "start_time": "2024-06-08T10:10:51.082Z"
   },
   {
    "duration": 8,
    "start_time": "2024-06-08T10:10:51.111Z"
   },
   {
    "duration": 9,
    "start_time": "2024-06-08T10:10:51.121Z"
   },
   {
    "duration": 5,
    "start_time": "2024-06-08T10:10:51.132Z"
   },
   {
    "duration": 8,
    "start_time": "2024-06-08T10:10:51.139Z"
   },
   {
    "duration": 4,
    "start_time": "2024-06-08T10:10:51.149Z"
   },
   {
    "duration": 241,
    "start_time": "2024-06-08T10:10:51.154Z"
   },
   {
    "duration": 8,
    "start_time": "2024-06-08T10:10:51.397Z"
   },
   {
    "duration": 21,
    "start_time": "2024-06-08T10:10:51.409Z"
   },
   {
    "duration": 3,
    "start_time": "2024-06-08T10:10:51.432Z"
   },
   {
    "duration": 7,
    "start_time": "2024-06-08T10:10:51.436Z"
   },
   {
    "duration": 28,
    "start_time": "2024-06-08T10:10:51.444Z"
   },
   {
    "duration": 4,
    "start_time": "2024-06-08T10:10:51.473Z"
   },
   {
    "duration": 16,
    "start_time": "2024-06-08T10:10:51.478Z"
   },
   {
    "duration": 26,
    "start_time": "2024-06-08T10:10:51.496Z"
   },
   {
    "duration": 6,
    "start_time": "2024-06-08T10:10:51.524Z"
   },
   {
    "duration": 8,
    "start_time": "2024-06-08T10:10:51.531Z"
   },
   {
    "duration": 18,
    "start_time": "2024-06-08T10:10:51.541Z"
   },
   {
    "duration": 5,
    "start_time": "2024-06-08T10:10:51.560Z"
   },
   {
    "duration": 8,
    "start_time": "2024-06-08T10:10:51.566Z"
   },
   {
    "duration": 2,
    "start_time": "2024-06-08T10:10:51.575Z"
   },
   {
    "duration": 5,
    "start_time": "2024-06-08T10:10:51.581Z"
   },
   {
    "duration": 6,
    "start_time": "2024-06-08T10:10:51.587Z"
   },
   {
    "duration": 5,
    "start_time": "2024-06-08T10:10:51.609Z"
   },
   {
    "duration": 13,
    "start_time": "2024-06-08T10:10:51.615Z"
   },
   {
    "duration": 4,
    "start_time": "2024-06-08T10:10:51.629Z"
   },
   {
    "duration": 12,
    "start_time": "2024-06-08T10:10:51.634Z"
   },
   {
    "duration": 26,
    "start_time": "2024-06-08T10:10:51.647Z"
   },
   {
    "duration": 28,
    "start_time": "2024-06-08T10:10:51.674Z"
   },
   {
    "duration": 8,
    "start_time": "2024-06-08T10:10:51.703Z"
   },
   {
    "duration": 5,
    "start_time": "2024-06-08T10:10:51.712Z"
   },
   {
    "duration": 20,
    "start_time": "2024-06-08T10:10:51.719Z"
   },
   {
    "duration": 6,
    "start_time": "2024-06-08T10:10:51.740Z"
   },
   {
    "duration": 13,
    "start_time": "2024-06-08T10:10:51.747Z"
   },
   {
    "duration": 9,
    "start_time": "2024-06-08T10:10:51.762Z"
   },
   {
    "duration": 19,
    "start_time": "2024-06-08T10:10:51.773Z"
   },
   {
    "duration": 4,
    "start_time": "2024-06-08T10:10:51.793Z"
   },
   {
    "duration": 17,
    "start_time": "2024-06-08T10:10:51.799Z"
   },
   {
    "duration": 33,
    "start_time": "2024-06-08T10:10:51.818Z"
   },
   {
    "duration": 25,
    "start_time": "2024-06-08T10:10:51.852Z"
   },
   {
    "duration": 22,
    "start_time": "2024-06-08T10:10:51.878Z"
   },
   {
    "duration": 15,
    "start_time": "2024-06-08T10:10:51.902Z"
   },
   {
    "duration": 17,
    "start_time": "2024-06-08T10:10:51.918Z"
   },
   {
    "duration": 16,
    "start_time": "2024-06-08T10:10:51.936Z"
   },
   {
    "duration": 18,
    "start_time": "2024-06-08T10:10:51.953Z"
   },
   {
    "duration": 25,
    "start_time": "2024-06-08T10:10:51.972Z"
   },
   {
    "duration": 6,
    "start_time": "2024-06-08T10:10:51.998Z"
   },
   {
    "duration": 6,
    "start_time": "2024-06-08T10:10:52.005Z"
   },
   {
    "duration": 27,
    "start_time": "2024-06-08T10:10:52.012Z"
   },
   {
    "duration": 112,
    "start_time": "2024-06-08T10:10:52.041Z"
   },
   {
    "duration": 8,
    "start_time": "2024-06-08T10:10:52.155Z"
   },
   {
    "duration": 14,
    "start_time": "2024-06-08T10:10:52.164Z"
   },
   {
    "duration": 13,
    "start_time": "2024-06-08T10:10:52.179Z"
   },
   {
    "duration": 18,
    "start_time": "2024-06-08T10:10:52.193Z"
   },
   {
    "duration": 24,
    "start_time": "2024-06-08T10:10:52.212Z"
   },
   {
    "duration": 11,
    "start_time": "2024-06-08T10:10:52.237Z"
   },
   {
    "duration": 4,
    "start_time": "2024-06-08T10:10:52.249Z"
   },
   {
    "duration": 446,
    "start_time": "2024-06-08T10:10:52.254Z"
   },
   {
    "duration": 10,
    "start_time": "2024-06-08T10:10:52.701Z"
   },
   {
    "duration": 49,
    "start_time": "2024-06-08T10:10:52.712Z"
   },
   {
    "duration": 7,
    "start_time": "2024-06-08T10:10:52.762Z"
   },
   {
    "duration": 490,
    "start_time": "2024-06-08T10:10:52.770Z"
   },
   {
    "duration": 7,
    "start_time": "2024-06-08T10:10:53.261Z"
   },
   {
    "duration": 514,
    "start_time": "2024-06-08T10:10:53.269Z"
   },
   {
    "duration": 7,
    "start_time": "2024-06-08T10:10:53.785Z"
   },
   {
    "duration": 444,
    "start_time": "2024-06-08T10:10:53.793Z"
   },
   {
    "duration": 7,
    "start_time": "2024-06-08T10:10:54.239Z"
   },
   {
    "duration": 1792,
    "start_time": "2024-06-08T10:10:54.247Z"
   },
   {
    "duration": 7,
    "start_time": "2024-06-08T10:10:56.040Z"
   },
   {
    "duration": 386,
    "start_time": "2024-06-08T10:10:56.049Z"
   },
   {
    "duration": 7,
    "start_time": "2024-06-08T10:10:56.436Z"
   },
   {
    "duration": 343,
    "start_time": "2024-06-08T10:10:56.444Z"
   },
   {
    "duration": 8,
    "start_time": "2024-06-08T10:10:56.789Z"
   },
   {
    "duration": 22,
    "start_time": "2024-06-08T10:10:56.798Z"
   },
   {
    "duration": 30,
    "start_time": "2024-06-08T10:10:56.821Z"
   },
   {
    "duration": 79,
    "start_time": "2024-06-08T10:10:56.857Z"
   },
   {
    "duration": 7,
    "start_time": "2024-06-08T10:10:56.938Z"
   },
   {
    "duration": 371,
    "start_time": "2024-06-08T10:10:56.946Z"
   },
   {
    "duration": 8,
    "start_time": "2024-06-08T10:10:57.318Z"
   },
   {
    "duration": 504,
    "start_time": "2024-06-08T10:10:57.328Z"
   },
   {
    "duration": 8,
    "start_time": "2024-06-08T10:10:57.833Z"
   },
   {
    "duration": 736,
    "start_time": "2024-06-08T10:10:57.842Z"
   },
   {
    "duration": 8,
    "start_time": "2024-06-08T10:10:58.579Z"
   },
   {
    "duration": 46,
    "start_time": "2024-06-08T10:10:58.588Z"
   },
   {
    "duration": 23,
    "start_time": "2024-06-08T10:10:58.635Z"
   },
   {
    "duration": 536,
    "start_time": "2024-06-08T10:10:58.659Z"
   },
   {
    "duration": 23,
    "start_time": "2024-06-08T10:10:59.196Z"
   },
   {
    "duration": 13,
    "start_time": "2024-06-08T10:10:59.220Z"
   },
   {
    "duration": 5,
    "start_time": "2024-06-08T10:10:59.234Z"
   },
   {
    "duration": 14,
    "start_time": "2024-06-08T10:10:59.240Z"
   },
   {
    "duration": 128,
    "start_time": "2024-06-08T10:10:59.256Z"
   },
   {
    "duration": 10,
    "start_time": "2024-06-08T10:10:59.386Z"
   },
   {
    "duration": 13,
    "start_time": "2024-06-08T10:10:59.398Z"
   },
   {
    "duration": 25,
    "start_time": "2024-06-08T10:10:59.412Z"
   },
   {
    "duration": 10,
    "start_time": "2024-06-08T10:10:59.439Z"
   },
   {
    "duration": 152,
    "start_time": "2024-06-08T10:10:59.450Z"
   },
   {
    "duration": 14,
    "start_time": "2024-06-08T10:10:59.603Z"
   },
   {
    "duration": 4,
    "start_time": "2024-06-08T10:10:59.618Z"
   },
   {
    "duration": 35,
    "start_time": "2024-06-08T10:10:59.623Z"
   },
   {
    "duration": 128,
    "start_time": "2024-06-08T10:10:59.660Z"
   },
   {
    "duration": 5,
    "start_time": "2024-06-08T10:10:59.789Z"
   },
   {
    "duration": 42,
    "start_time": "2024-06-08T10:10:59.795Z"
   },
   {
    "duration": 125,
    "start_time": "2024-06-08T10:10:59.838Z"
   },
   {
    "duration": 5,
    "start_time": "2024-06-08T10:10:59.965Z"
   },
   {
    "duration": 138,
    "start_time": "2024-06-08T10:10:59.971Z"
   },
   {
    "duration": 5,
    "start_time": "2024-06-08T10:11:00.110Z"
   },
   {
    "duration": 86,
    "start_time": "2024-06-08T10:11:00.116Z"
   },
   {
    "duration": 134,
    "start_time": "2024-06-08T10:11:00.204Z"
   },
   {
    "duration": 23,
    "start_time": "2024-06-08T10:11:00.340Z"
   },
   {
    "duration": 183,
    "start_time": "2024-06-08T10:11:00.365Z"
   },
   {
    "duration": 4,
    "start_time": "2024-06-08T10:11:00.550Z"
   },
   {
    "duration": 66,
    "start_time": "2024-06-08T10:11:00.555Z"
   },
   {
    "duration": 143,
    "start_time": "2024-06-08T10:11:00.623Z"
   },
   {
    "duration": 5,
    "start_time": "2024-06-08T10:11:00.767Z"
   },
   {
    "duration": 62,
    "start_time": "2024-06-08T10:11:00.773Z"
   },
   {
    "duration": 150,
    "start_time": "2024-06-08T10:11:00.837Z"
   },
   {
    "duration": 5,
    "start_time": "2024-06-08T10:11:00.988Z"
   },
   {
    "duration": 71,
    "start_time": "2024-06-08T10:11:00.994Z"
   },
   {
    "duration": 75,
    "start_time": "2024-06-08T10:11:01.066Z"
   },
   {
    "duration": 70,
    "start_time": "2024-06-08T10:11:01.143Z"
   },
   {
    "duration": 88,
    "start_time": "2024-06-08T10:11:01.215Z"
   },
   {
    "duration": 74,
    "start_time": "2024-06-08T10:11:01.305Z"
   },
   {
    "duration": 171,
    "start_time": "2024-06-08T10:11:01.381Z"
   }
  ],
  "colab": {
   "provenance": []
  },
  "kernelspec": {
   "display_name": "Python 3 (ipykernel)",
   "language": "python",
   "name": "python3"
  },
  "language_info": {
   "codemirror_mode": {
    "name": "ipython",
    "version": 3
   },
   "file_extension": ".py",
   "mimetype": "text/x-python",
   "name": "python",
   "nbconvert_exporter": "python",
   "pygments_lexer": "ipython3",
   "version": "3.12.7"
  },
  "toc": {
   "base_numbering": 1,
   "nav_menu": {},
   "number_sections": true,
   "sideBar": true,
   "skip_h1_title": true,
   "title_cell": "Table of Contents",
   "title_sidebar": "Contents",
   "toc_cell": false,
   "toc_position": {},
   "toc_section_display": true,
   "toc_window_display": false
  }
 },
 "nbformat": 4,
 "nbformat_minor": 4
}
