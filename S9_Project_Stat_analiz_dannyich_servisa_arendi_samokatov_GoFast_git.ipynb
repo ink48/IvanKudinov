{
 "cells": [
  {
   "cell_type": "markdown",
   "id": "51716acf-30b0-4ba9-848a-da1e7b62adf9",
   "metadata": {},
   "source": [
    "# Статистический анализ данных поездок пользователей популярного сервиса аренды самокатов GoFast.\n",
    "\n",
    "Автор - Кудинов Иван"
   ]
  },
  {
   "cell_type": "markdown",
   "id": "e663f8c2-b9a5-41cc-ac3b-3b385279c794",
   "metadata": {},
   "source": [
    "## Описание проекта"
   ]
  },
  {
   "cell_type": "markdown",
   "id": "881446e1-183a-417c-b96c-d67f284011a5",
   "metadata": {},
   "source": [
    "Я аналитик популярного сервиса аренды самокатов GoFast. Мне передали данные о некоторых пользователях из нескольких городов, а также об их поездках. Необходимо проанализировать данные и проверить некоторые гипотезы, которые могут помочь бизнесу вырасти.\n",
    "\n",
    "Чтобы совершать поездки по городу, пользователи сервиса GoFast пользуются мобильным приложением. Сервисом можно пользоваться:\n",
    "* без подписки\n",
    "    * абонентская плата отсутствует;\n",
    "    * стоимость одной минуты поездки — 8 рублей;\n",
    "    * стоимость старта (начала поездки) — 50 рублей;\n",
    "* с подпиской Ultra\n",
    "    * абонентская плата — 199 рублей в месяц;\n",
    "    * стоимость одной минуты поездки — 6 рублей;\n",
    "    * стоимость старта — бесплатно."
   ]
  },
  {
   "cell_type": "markdown",
   "id": "b6200588-456e-464d-a0d5-51a08ea8bc19",
   "metadata": {},
   "source": [
    "## Описание данных"
   ]
  },
  {
   "cell_type": "markdown",
   "id": "3d6466c8-4a53-46bc-92dc-1cbd0df154ad",
   "metadata": {},
   "source": [
    "В основных данных есть информация о пользователях, их поездках и подписках.\n",
    "\n",
    "Пользователи — [users_go.csv](https://code.s3.yandex.net/datasets/users_go.csv);\n",
    "* user_id - уникальный идентификатор пользователя;\n",
    "* name - имя пользователя;\n",
    "* age - возраст;\n",
    "* city - город;\n",
    "* subscription_type - тип подписки (free, ultra).\n",
    "\n",
    "Поездки — [rides_go.csv](https://code.s3.yandex.net/datasets/rides_go.csv);\n",
    "* user_id - уникальный идентификатор пользователя;\n",
    "* distance - расстояние, которое пользователь проехал в текущей сессии (в метрах);\n",
    "* duration - продолжительность сессии (в минутах) — время с того момента, как пользователь нажал кнопку «Начать поездку» до момента, как он нажал кнопку «Завершить поездку»;\n",
    "* date - дата совершения поездки.\n",
    "\n",
    "Подписки — [subscriptions_go.csv](https://code.s3.yandex.net/datasets/subscriptions_go.csv);\n",
    "* subscription_type - тип подписки;\n",
    "* minute_price - стоимость одной минуты поездки по данной подписке;\n",
    "* start_ride_price - стоимость начала поездки\n",
    "* subscription_fee - стоимость ежемесячного платежа"
   ]
  },
  {
   "cell_type": "markdown",
   "id": "b530fe4e-2f94-4c7b-b720-f65d3f43518c",
   "metadata": {},
   "source": [
    "## Инструкция по выполнению проекта"
   ]
  },
  {
   "cell_type": "markdown",
   "id": "9b6e3cbc-b618-4c4f-ad9b-2a4a14a90ad5",
   "metadata": {},
   "source": [
    "##### Шаг 1. Загрузка данных\n",
    "\n",
    "1.1 Считаем CSV-файлы с данными с помощью библиотеки pandas и сохраним их в датафреймы. Пути к файлам:\n",
    "\n",
    "    * /datasets/users_go.csv\n",
    "    * /datasets/rides_go.csv\n",
    "    * /datasets/subscriptions_go.csv\n",
    "\n",
    "1.2 Выведим первые строки каждого набора данных. Изучим общую информацию о каждом датафрейме.\n",
    "\n",
    "1.3 Промежуточные выводы.\n",
    "\n",
    "##### Шаг 2. Предобработка данных\n",
    "\n",
    "2.1 Приведем столбец date к типу даты pandas.\n",
    "\n",
    "2.2 Создадим новый столбец с номером месяца на основе столбца date.\n",
    "\n",
    "2.3 Проверим наличие пропущенных значений и дубликатов в датафреймах. Обработаем их, если такие значения присутствуют.\n",
    "\n",
    "2.4 Проверка данных таблицы rides на аномалии\n",
    "\n",
    "2.5 Промежуточные выводы.\n",
    "\n",
    "##### Шаг 3. Исследовательский анализ данных\n",
    "\n",
    "Опишим и визуализируем общую информацию о пользователях и поездках:\n",
    "\n",
    "3.1 частота встречаемости городов;\n",
    "\n",
    "3.2 соотношение пользователей с подпиской и без подписки;\n",
    "\n",
    "3.3 возраст пользователей;\n",
    "\n",
    "3.4 расстояние, которое пользователь преодолел за одну поездку;\n",
    "\n",
    "3.5 продолжительность поездок.\n",
    "\n",
    "3.6 Промежуточные выводы.\n",
    "\n",
    "##### Шаг 4. Объединение данных\n",
    "\n",
    "4.1 Объединим данные о пользователях, поездках и подписках в один датафрейм. Для этого воспользуйтемся методом merge().\n",
    "\n",
    "4.2 Создадим ещё два датафрейма из датафрейма, созданного на этапе 4.1:\n",
    "\n",
    "    * c данными о пользователях без подписки;\n",
    "    * с данными о пользователях с подпиской.\n",
    "\n",
    "4.3 Визуализируем информацию о расстоянии и времени поездок для пользователей обеих категорий.\n",
    "\n",
    "4.4 Промежуточные выводы.\n",
    "\n",
    "##### Шаг 5. Подсчёт выручки\n",
    "\n",
    "5.1 Создадим датафрейм с агрегированными данными о поездках на основе датафрейма с объединёнными данными из шага 4: найдем суммарное расстояние, количество поездок и суммарное время для каждого пользователя за каждый месяц.\n",
    "\n",
    "5.2 В этот же датафрейм добавим столбец с помесячной выручкой, которую принёс каждый пользователь. Для этого обратимся к информации об условиях оплаты для подписчиков и тех, у кого нет подписки. Продолжительность каждой поездки в каждой строке исходного датафрейма для подсчёта стоимости округлим до следующего целого числа: например, значения 25.3, 25.5 и 26.0 преобразуем в 26.\n",
    "\n",
    "5.3 Промежуточные выводы.\n",
    "\n",
    "##### Шаг 6. Проверка гипотез\n",
    "\n",
    "Продакт-менеджеры сервиса хотят увеличить количество пользователей с подпиской. Для этого они будут проводить различные акции, но сначала нужно выяснить несколько важных моментов.\n",
    "\n",
    "6.1 Важно понять, тратят ли пользователи с подпиской больше времени на поездки? Если да, то пользователи с подпиской могут быть «выгоднее» для компании. Проверим гипотезу. Используем исходные данные о продолжительности каждой сессии — отдельно для подписчиков и тех, у кого нет подписки.\n",
    "\n",
    "6.2 Расстояние одной поездки в 3130 метров — оптимальное с точки зрения износа самоката. Можно ли сказать, что среднее расстояние, которое проезжают пользователи с подпиской за одну поездку, не превышает 3130 метров? Проверим гипотезу и сделаем выводы.\n",
    "\n",
    "6.3 Проверим гипотезу о том, будет ли помесячная выручка от пользователей с подпиской по месяцам выше, чем выручка от пользователей без подписки. Сделаем вывод.\n",
    "\n",
    "6.4 Представим такую ситуацию: техническая команда сервиса обновила сервера, с которыми взаимодействует мобильное приложение. Она надеется, что из-за этого количество обращений в техподдержку значимо снизилось. Некоторый файл содержит для каждого пользователя данные о количестве обращений до обновления и после него. Какой тест нам понадобился бы для проверки этой гипотезы?\n",
    "\n",
    "6.5 Промежуточные выводы.\n",
    "\n",
    "##### Шаг 7. Распределения\n",
    "\n",
    "7.1 Отделу маркетинга GoFast поставили задачу: нужно провести акцию с раздачей промокодов на один бесплатный месяц подписки, в рамках которой как минимум 100 существующих клиентов должны продлить эту подписку. То есть по завершении периода действия подписки пользователь может либо отказаться от неё, либо продлить, совершив соответствующий платёж. \n",
    "\n",
    "Эта акция уже проводилась ранее и по итогу выяснилось, что после бесплатного пробного периода подписку продлевают 10 % пользователей. Выясним, какое минимальное количество промокодов нужно разослать, чтобы вероятность не выполнить план была примерно 5 %. Подберем параметры распределения, описывающего эту ситуацию, построим график распределения и сформулируем ответ на вопрос о количестве промокодов.\n",
    "\n",
    "7.2 Отдел маркетинга рассылает клиентам push-уведомления в мобильном приложении. Клиенты могут открыть его или не открывать. Известно, что уведомления открывают около 40 % получивших клиентов. Отдел планирует разослать 1 млн уведомлений. С помощью аппроксимации построим примерный график распределения и оценим вероятность того, что уведомление откроют не более 399,5 тыс. пользователей.\n",
    "\n",
    "7.3 Промежуточные выводы.\n",
    "\n",
    "##### Шаг 8. Общие выводы\n",
    "\n",
    "Общие выводы по результатам проделанной работы."
   ]
  },
  {
   "cell_type": "markdown",
   "id": "b763324a-b016-466a-ac2d-3538422c8d02",
   "metadata": {},
   "source": [
    "## Шаг 1. Загрузка данных"
   ]
  },
  {
   "cell_type": "markdown",
   "id": "734a5581-ca52-4b7b-8913-539d766a9cb7",
   "metadata": {},
   "source": [
    "#### 1.1 Считаем CSV-файлы с данными с помощью библиотеки pandas и сохраним их в датафреймы."
   ]
  },
  {
   "cell_type": "code",
   "execution_count": 1,
   "id": "f1cbcc6c-19d6-4e96-8d73-e9e90e1b1661",
   "metadata": {},
   "outputs": [],
   "source": [
    "# Импортируем библиотеки для работы\n",
    "import pandas as pd\n",
    "from datetime import datetime, timedelta\n",
    "from math import sqrt\n",
    "from scipy import stats as st\n",
    "import matplotlib.pyplot as plt\n",
    "from scipy.stats import binom, norm\n",
    "import seaborn as sns\n",
    "import numpy as np"
   ]
  },
  {
   "cell_type": "code",
   "execution_count": 2,
   "id": "57b3e02f",
   "metadata": {},
   "outputs": [],
   "source": [
    "# Сразу преобразуем экспоненциальный формат представления чисел и избавимся от лишних знаков после запятых.\n",
    "pd.set_option('display.float_format', '{:,.2f}'.format)"
   ]
  },
  {
   "cell_type": "code",
   "execution_count": 3,
   "id": "9bbff3cd-bcc9-44ec-9bc5-b4a77032436e",
   "metadata": {},
   "outputs": [],
   "source": [
    "# Пользователи\n",
    "try:\n",
    "    users = pd.read_csv(\"D:/DA_42_Learning/Projects/S10_Statistical_data_analysis/users_go.csv\")\n",
    "except:\n",
    "    users = pd.read_csv('https://code.s3.yandex.net/datasets/users_go.csv')"
   ]
  },
  {
   "cell_type": "code",
   "execution_count": 4,
   "id": "7d82ccaf-d0c4-440a-b415-f387c78ec9c8",
   "metadata": {},
   "outputs": [],
   "source": [
    "# Поездки\n",
    "try:\n",
    "    rides = pd.read_csv(\"D:/DA_42_Learning/Projects/S10_Statistical_data_analysis/rides_go.csv\")\n",
    "except:\n",
    "    rides = pd.read_csv('https://code.s3.yandex.net/datasets/rides_go.csv')"
   ]
  },
  {
   "cell_type": "code",
   "execution_count": 5,
   "id": "c490f8ea-c4c7-44b4-bfb4-78647aa3e96b",
   "metadata": {},
   "outputs": [],
   "source": [
    "# Подписки\n",
    "try:\n",
    "    subscriptions = pd.read_csv(\"D:/DA_42_Learning/Projects/S10_Statistical_data_analysis/subscriptions_go.csv\")\n",
    "except:\n",
    "    subscriptions = pd.read_csv('https://code.s3.yandex.net/datasets/subscriptions_go.csv')"
   ]
  },
  {
   "cell_type": "markdown",
   "id": "5575d1b0-391a-4af2-8cdb-b9e80ca2de9f",
   "metadata": {},
   "source": [
    "#### 1.2 Выведим первые строки каждого набора данных. Изучим общую информацию о каждом датафрейме."
   ]
  },
  {
   "cell_type": "code",
   "execution_count": 6,
   "id": "4e9f19dd-6fc6-4887-a434-4167bb8cfa53",
   "metadata": {},
   "outputs": [
    {
     "data": {
      "text/html": [
       "<div>\n",
       "<style scoped>\n",
       "    .dataframe tbody tr th:only-of-type {\n",
       "        vertical-align: middle;\n",
       "    }\n",
       "\n",
       "    .dataframe tbody tr th {\n",
       "        vertical-align: top;\n",
       "    }\n",
       "\n",
       "    .dataframe thead th {\n",
       "        text-align: right;\n",
       "    }\n",
       "</style>\n",
       "<table border=\"1\" class=\"dataframe\">\n",
       "  <thead>\n",
       "    <tr style=\"text-align: right;\">\n",
       "      <th></th>\n",
       "      <th>user_id</th>\n",
       "      <th>name</th>\n",
       "      <th>age</th>\n",
       "      <th>city</th>\n",
       "      <th>subscription_type</th>\n",
       "    </tr>\n",
       "  </thead>\n",
       "  <tbody>\n",
       "    <tr>\n",
       "      <th>0</th>\n",
       "      <td>1</td>\n",
       "      <td>Кира</td>\n",
       "      <td>22</td>\n",
       "      <td>Тюмень</td>\n",
       "      <td>ultra</td>\n",
       "    </tr>\n",
       "    <tr>\n",
       "      <th>1</th>\n",
       "      <td>2</td>\n",
       "      <td>Станислав</td>\n",
       "      <td>31</td>\n",
       "      <td>Омск</td>\n",
       "      <td>ultra</td>\n",
       "    </tr>\n",
       "    <tr>\n",
       "      <th>2</th>\n",
       "      <td>3</td>\n",
       "      <td>Алексей</td>\n",
       "      <td>20</td>\n",
       "      <td>Москва</td>\n",
       "      <td>ultra</td>\n",
       "    </tr>\n",
       "    <tr>\n",
       "      <th>3</th>\n",
       "      <td>4</td>\n",
       "      <td>Константин</td>\n",
       "      <td>26</td>\n",
       "      <td>Ростов-на-Дону</td>\n",
       "      <td>ultra</td>\n",
       "    </tr>\n",
       "    <tr>\n",
       "      <th>4</th>\n",
       "      <td>5</td>\n",
       "      <td>Адель</td>\n",
       "      <td>28</td>\n",
       "      <td>Омск</td>\n",
       "      <td>ultra</td>\n",
       "    </tr>\n",
       "  </tbody>\n",
       "</table>\n",
       "</div>"
      ],
      "text/plain": [
       "   user_id        name  age            city subscription_type\n",
       "0        1        Кира   22          Тюмень             ultra\n",
       "1        2   Станислав   31            Омск             ultra\n",
       "2        3     Алексей   20          Москва             ultra\n",
       "3        4  Константин   26  Ростов-на-Дону             ultra\n",
       "4        5       Адель   28            Омск             ultra"
      ]
     },
     "execution_count": 6,
     "metadata": {},
     "output_type": "execute_result"
    }
   ],
   "source": [
    "users.head()"
   ]
  },
  {
   "cell_type": "code",
   "execution_count": 7,
   "id": "17ddb163-b259-4ddc-959d-0808f6ec5d4a",
   "metadata": {},
   "outputs": [
    {
     "name": "stdout",
     "output_type": "stream",
     "text": [
      "<class 'pandas.core.frame.DataFrame'>\n",
      "RangeIndex: 1565 entries, 0 to 1564\n",
      "Data columns (total 5 columns):\n",
      " #   Column             Non-Null Count  Dtype \n",
      "---  ------             --------------  ----- \n",
      " 0   user_id            1565 non-null   int64 \n",
      " 1   name               1565 non-null   object\n",
      " 2   age                1565 non-null   int64 \n",
      " 3   city               1565 non-null   object\n",
      " 4   subscription_type  1565 non-null   object\n",
      "dtypes: int64(2), object(3)\n",
      "memory usage: 61.3+ KB\n"
     ]
    }
   ],
   "source": [
    "users.info()"
   ]
  },
  {
   "cell_type": "code",
   "execution_count": 8,
   "id": "22f7714c-fce1-482c-bfd8-2972e88a1c33",
   "metadata": {},
   "outputs": [
    {
     "data": {
      "text/html": [
       "<div>\n",
       "<style scoped>\n",
       "    .dataframe tbody tr th:only-of-type {\n",
       "        vertical-align: middle;\n",
       "    }\n",
       "\n",
       "    .dataframe tbody tr th {\n",
       "        vertical-align: top;\n",
       "    }\n",
       "\n",
       "    .dataframe thead th {\n",
       "        text-align: right;\n",
       "    }\n",
       "</style>\n",
       "<table border=\"1\" class=\"dataframe\">\n",
       "  <thead>\n",
       "    <tr style=\"text-align: right;\">\n",
       "      <th></th>\n",
       "      <th>user_id</th>\n",
       "      <th>distance</th>\n",
       "      <th>duration</th>\n",
       "      <th>date</th>\n",
       "    </tr>\n",
       "  </thead>\n",
       "  <tbody>\n",
       "    <tr>\n",
       "      <th>0</th>\n",
       "      <td>1</td>\n",
       "      <td>4,409.92</td>\n",
       "      <td>25.60</td>\n",
       "      <td>2021-01-01</td>\n",
       "    </tr>\n",
       "    <tr>\n",
       "      <th>1</th>\n",
       "      <td>1</td>\n",
       "      <td>2,617.59</td>\n",
       "      <td>15.82</td>\n",
       "      <td>2021-01-18</td>\n",
       "    </tr>\n",
       "    <tr>\n",
       "      <th>2</th>\n",
       "      <td>1</td>\n",
       "      <td>754.16</td>\n",
       "      <td>6.23</td>\n",
       "      <td>2021-04-20</td>\n",
       "    </tr>\n",
       "    <tr>\n",
       "      <th>3</th>\n",
       "      <td>1</td>\n",
       "      <td>2,694.78</td>\n",
       "      <td>18.51</td>\n",
       "      <td>2021-08-11</td>\n",
       "    </tr>\n",
       "    <tr>\n",
       "      <th>4</th>\n",
       "      <td>1</td>\n",
       "      <td>4,028.69</td>\n",
       "      <td>26.27</td>\n",
       "      <td>2021-08-28</td>\n",
       "    </tr>\n",
       "  </tbody>\n",
       "</table>\n",
       "</div>"
      ],
      "text/plain": [
       "   user_id  distance  duration        date\n",
       "0        1  4,409.92     25.60  2021-01-01\n",
       "1        1  2,617.59     15.82  2021-01-18\n",
       "2        1    754.16      6.23  2021-04-20\n",
       "3        1  2,694.78     18.51  2021-08-11\n",
       "4        1  4,028.69     26.27  2021-08-28"
      ]
     },
     "execution_count": 8,
     "metadata": {},
     "output_type": "execute_result"
    }
   ],
   "source": [
    "rides.head()"
   ]
  },
  {
   "cell_type": "code",
   "execution_count": 9,
   "id": "9305cf1b-0cf4-4fb2-adb5-9c8b5ca76dde",
   "metadata": {},
   "outputs": [
    {
     "name": "stdout",
     "output_type": "stream",
     "text": [
      "<class 'pandas.core.frame.DataFrame'>\n",
      "RangeIndex: 18068 entries, 0 to 18067\n",
      "Data columns (total 4 columns):\n",
      " #   Column    Non-Null Count  Dtype  \n",
      "---  ------    --------------  -----  \n",
      " 0   user_id   18068 non-null  int64  \n",
      " 1   distance  18068 non-null  float64\n",
      " 2   duration  18068 non-null  float64\n",
      " 3   date      18068 non-null  object \n",
      "dtypes: float64(2), int64(1), object(1)\n",
      "memory usage: 564.8+ KB\n"
     ]
    }
   ],
   "source": [
    "rides.info()"
   ]
  },
  {
   "cell_type": "code",
   "execution_count": 10,
   "id": "2f351479-4479-453e-890b-0a3272c7e978",
   "metadata": {},
   "outputs": [
    {
     "data": {
      "text/html": [
       "<div>\n",
       "<style scoped>\n",
       "    .dataframe tbody tr th:only-of-type {\n",
       "        vertical-align: middle;\n",
       "    }\n",
       "\n",
       "    .dataframe tbody tr th {\n",
       "        vertical-align: top;\n",
       "    }\n",
       "\n",
       "    .dataframe thead th {\n",
       "        text-align: right;\n",
       "    }\n",
       "</style>\n",
       "<table border=\"1\" class=\"dataframe\">\n",
       "  <thead>\n",
       "    <tr style=\"text-align: right;\">\n",
       "      <th></th>\n",
       "      <th>subscription_type</th>\n",
       "      <th>minute_price</th>\n",
       "      <th>start_ride_price</th>\n",
       "      <th>subscription_fee</th>\n",
       "    </tr>\n",
       "  </thead>\n",
       "  <tbody>\n",
       "    <tr>\n",
       "      <th>0</th>\n",
       "      <td>free</td>\n",
       "      <td>8</td>\n",
       "      <td>50</td>\n",
       "      <td>0</td>\n",
       "    </tr>\n",
       "    <tr>\n",
       "      <th>1</th>\n",
       "      <td>ultra</td>\n",
       "      <td>6</td>\n",
       "      <td>0</td>\n",
       "      <td>199</td>\n",
       "    </tr>\n",
       "  </tbody>\n",
       "</table>\n",
       "</div>"
      ],
      "text/plain": [
       "  subscription_type  minute_price  start_ride_price  subscription_fee\n",
       "0              free             8                50                 0\n",
       "1             ultra             6                 0               199"
      ]
     },
     "execution_count": 10,
     "metadata": {},
     "output_type": "execute_result"
    }
   ],
   "source": [
    "subscriptions.head()"
   ]
  },
  {
   "cell_type": "code",
   "execution_count": 11,
   "id": "499e9386-97ca-485b-bee4-52cacacf642c",
   "metadata": {},
   "outputs": [
    {
     "name": "stdout",
     "output_type": "stream",
     "text": [
      "<class 'pandas.core.frame.DataFrame'>\n",
      "RangeIndex: 2 entries, 0 to 1\n",
      "Data columns (total 4 columns):\n",
      " #   Column             Non-Null Count  Dtype \n",
      "---  ------             --------------  ----- \n",
      " 0   subscription_type  2 non-null      object\n",
      " 1   minute_price       2 non-null      int64 \n",
      " 2   start_ride_price   2 non-null      int64 \n",
      " 3   subscription_fee   2 non-null      int64 \n",
      "dtypes: int64(3), object(1)\n",
      "memory usage: 192.0+ bytes\n"
     ]
    }
   ],
   "source": [
    "subscriptions.info()"
   ]
  },
  {
   "cell_type": "markdown",
   "id": "95ad1f1a-2ee4-45ce-804f-52faa1b06677",
   "metadata": {},
   "source": [
    "#### 1.3 Промежуточные выводы."
   ]
  },
  {
   "cell_type": "markdown",
   "id": "f862b0be-d80a-4be4-9de8-3aa421a1cd20",
   "metadata": {},
   "source": [
    "* В полученных датафреймах наименование столбцов соответствует правилу красивого кода;\n",
    "* В датафрейме rides выявил не соответствие по столбцу date типа данных с содержимым."
   ]
  },
  {
   "cell_type": "markdown",
   "id": "124f978b-8b8a-4dca-aff0-bf4f8d143beb",
   "metadata": {},
   "source": [
    "## Шаг 2. Предобработка данных"
   ]
  },
  {
   "cell_type": "code",
   "execution_count": 12,
   "id": "e603e696-3eb8-4b5d-8f6b-c472dcb6c06a",
   "metadata": {},
   "outputs": [
    {
     "data": {
      "text/plain": [
       "1565"
      ]
     },
     "execution_count": 12,
     "metadata": {},
     "output_type": "execute_result"
    }
   ],
   "source": [
    "# Создаем копию датасетов до преобразования для контроля размера до и после обработки\n",
    "temp_users = users.copy() \n",
    "len(temp_users)"
   ]
  },
  {
   "cell_type": "code",
   "execution_count": 13,
   "id": "11263534-0c49-443d-a6c3-0d07614d81b6",
   "metadata": {},
   "outputs": [
    {
     "data": {
      "text/plain": [
       "18068"
      ]
     },
     "execution_count": 13,
     "metadata": {},
     "output_type": "execute_result"
    }
   ],
   "source": [
    "temp_rides = rides.copy() \n",
    "len(temp_rides)"
   ]
  },
  {
   "cell_type": "code",
   "execution_count": 14,
   "id": "53415e96-be64-4327-aa12-eb3114b20aea",
   "metadata": {},
   "outputs": [
    {
     "data": {
      "text/plain": [
       "2"
      ]
     },
     "execution_count": 14,
     "metadata": {},
     "output_type": "execute_result"
    }
   ],
   "source": [
    "temp_subscriptions = subscriptions.copy() \n",
    "len(temp_subscriptions)"
   ]
  },
  {
   "cell_type": "markdown",
   "id": "d57a975d-9d34-4192-a43e-608094d824ed",
   "metadata": {},
   "source": [
    "#### 2.1 Приведем столбец date к типу даты pandas."
   ]
  },
  {
   "cell_type": "code",
   "execution_count": 15,
   "id": "2e4dcf12-41cb-428a-8066-3a498c1e0fb6",
   "metadata": {},
   "outputs": [
    {
     "name": "stdout",
     "output_type": "stream",
     "text": [
      "<class 'pandas.core.frame.DataFrame'>\n",
      "RangeIndex: 18068 entries, 0 to 18067\n",
      "Data columns (total 4 columns):\n",
      " #   Column    Non-Null Count  Dtype         \n",
      "---  ------    --------------  -----         \n",
      " 0   user_id   18068 non-null  int64         \n",
      " 1   distance  18068 non-null  float64       \n",
      " 2   duration  18068 non-null  float64       \n",
      " 3   date      18068 non-null  datetime64[ns]\n",
      "dtypes: datetime64[ns](1), float64(2), int64(1)\n",
      "memory usage: 564.8 KB\n"
     ]
    }
   ],
   "source": [
    "# преобразуем тип данных и сразу проверим\n",
    "rides['date'] = pd.to_datetime(rides['date'])\n",
    "rides.info()"
   ]
  },
  {
   "cell_type": "markdown",
   "id": "48159c7e-caad-4bc0-81a4-323351ecf6cc",
   "metadata": {},
   "source": [
    "#### 2.2 Создадим новый столбец с номером месяца на основе столбца date."
   ]
  },
  {
   "cell_type": "code",
   "execution_count": 16,
   "id": "fe7c7582",
   "metadata": {},
   "outputs": [
    {
     "data": {
      "text/plain": [
       "0       2021-01-01\n",
       "1       2021-01-18\n",
       "2       2021-04-20\n",
       "3       2021-08-11\n",
       "4       2021-08-28\n",
       "           ...    \n",
       "18063   2021-11-04\n",
       "18064   2021-11-16\n",
       "18065   2021-11-18\n",
       "18066   2021-11-27\n",
       "18067   2021-12-29\n",
       "Name: date, Length: 18068, dtype: datetime64[ns]"
      ]
     },
     "execution_count": 16,
     "metadata": {},
     "output_type": "execute_result"
    }
   ],
   "source": [
    "# Проверим за какой период данные в датасете\n",
    "rides['date']"
   ]
  },
  {
   "cell_type": "markdown",
   "id": "1c8fc486",
   "metadata": {},
   "source": [
    "Данные в датасете за один год, создадим столбец по заданию."
   ]
  },
  {
   "cell_type": "code",
   "execution_count": 17,
   "id": "aca202c0-c875-4eb2-97f4-cc25ea5b69bc",
   "metadata": {},
   "outputs": [
    {
     "data": {
      "text/html": [
       "<div>\n",
       "<style scoped>\n",
       "    .dataframe tbody tr th:only-of-type {\n",
       "        vertical-align: middle;\n",
       "    }\n",
       "\n",
       "    .dataframe tbody tr th {\n",
       "        vertical-align: top;\n",
       "    }\n",
       "\n",
       "    .dataframe thead th {\n",
       "        text-align: right;\n",
       "    }\n",
       "</style>\n",
       "<table border=\"1\" class=\"dataframe\">\n",
       "  <thead>\n",
       "    <tr style=\"text-align: right;\">\n",
       "      <th></th>\n",
       "      <th>user_id</th>\n",
       "      <th>distance</th>\n",
       "      <th>duration</th>\n",
       "      <th>date</th>\n",
       "      <th>month</th>\n",
       "    </tr>\n",
       "  </thead>\n",
       "  <tbody>\n",
       "    <tr>\n",
       "      <th>0</th>\n",
       "      <td>1</td>\n",
       "      <td>4,409.92</td>\n",
       "      <td>25.60</td>\n",
       "      <td>2021-01-01</td>\n",
       "      <td>1</td>\n",
       "    </tr>\n",
       "    <tr>\n",
       "      <th>1</th>\n",
       "      <td>1</td>\n",
       "      <td>2,617.59</td>\n",
       "      <td>15.82</td>\n",
       "      <td>2021-01-18</td>\n",
       "      <td>1</td>\n",
       "    </tr>\n",
       "    <tr>\n",
       "      <th>2</th>\n",
       "      <td>1</td>\n",
       "      <td>754.16</td>\n",
       "      <td>6.23</td>\n",
       "      <td>2021-04-20</td>\n",
       "      <td>4</td>\n",
       "    </tr>\n",
       "    <tr>\n",
       "      <th>3</th>\n",
       "      <td>1</td>\n",
       "      <td>2,694.78</td>\n",
       "      <td>18.51</td>\n",
       "      <td>2021-08-11</td>\n",
       "      <td>8</td>\n",
       "    </tr>\n",
       "    <tr>\n",
       "      <th>4</th>\n",
       "      <td>1</td>\n",
       "      <td>4,028.69</td>\n",
       "      <td>26.27</td>\n",
       "      <td>2021-08-28</td>\n",
       "      <td>8</td>\n",
       "    </tr>\n",
       "  </tbody>\n",
       "</table>\n",
       "</div>"
      ],
      "text/plain": [
       "   user_id  distance  duration       date  month\n",
       "0        1  4,409.92     25.60 2021-01-01      1\n",
       "1        1  2,617.59     15.82 2021-01-18      1\n",
       "2        1    754.16      6.23 2021-04-20      4\n",
       "3        1  2,694.78     18.51 2021-08-11      8\n",
       "4        1  4,028.69     26.27 2021-08-28      8"
      ]
     },
     "execution_count": 17,
     "metadata": {},
     "output_type": "execute_result"
    }
   ],
   "source": [
    "# создайте новый столбец с номером месяца на основе столбца date.\n",
    "rides['month'] = rides['date'].dt.month\n",
    "rides.head()"
   ]
  },
  {
   "cell_type": "markdown",
   "id": "e4665676-971a-4300-800a-48c9ff203056",
   "metadata": {},
   "source": [
    "#### 2.3 Проверим наличие пропущенных значений и дубликатов в датафреймах. Обработаем их, если такие значения присутствуют."
   ]
  },
  {
   "cell_type": "code",
   "execution_count": 18,
   "id": "a6a9497b-640f-4230-bfe3-33e593cef8c4",
   "metadata": {},
   "outputs": [
    {
     "data": {
      "text/plain": [
       "user_id              0\n",
       "name                 0\n",
       "age                  0\n",
       "city                 0\n",
       "subscription_type    0\n",
       "dtype: int64"
      ]
     },
     "execution_count": 18,
     "metadata": {},
     "output_type": "execute_result"
    }
   ],
   "source": [
    "# Определяем в каких столбцах есть пропуски:\n",
    "users.isna().sum().sort_values(ascending=False)"
   ]
  },
  {
   "cell_type": "code",
   "execution_count": 19,
   "id": "d56ff4b6-8831-431c-aae0-328a67b4bd4e",
   "metadata": {},
   "outputs": [
    {
     "data": {
      "text/plain": [
       "user_id     0\n",
       "distance    0\n",
       "duration    0\n",
       "date        0\n",
       "month       0\n",
       "dtype: int64"
      ]
     },
     "execution_count": 19,
     "metadata": {},
     "output_type": "execute_result"
    }
   ],
   "source": [
    "rides.isna().sum().sort_values(ascending=False)"
   ]
  },
  {
   "cell_type": "code",
   "execution_count": 20,
   "id": "9f360076-97e4-46ae-ac91-907cecaf9d02",
   "metadata": {},
   "outputs": [
    {
     "data": {
      "text/plain": [
       "subscription_type    0\n",
       "minute_price         0\n",
       "start_ride_price     0\n",
       "subscription_fee     0\n",
       "dtype: int64"
      ]
     },
     "execution_count": 20,
     "metadata": {},
     "output_type": "execute_result"
    }
   ],
   "source": [
    "subscriptions.isna().sum().sort_values(ascending=False)"
   ]
  },
  {
   "cell_type": "markdown",
   "id": "8f525c30-bf83-4eac-baf6-5eaf1de5ce67",
   "metadata": {},
   "source": [
    "Пропусков в данных нет."
   ]
  },
  {
   "cell_type": "code",
   "execution_count": 21,
   "id": "78db8b65-79d9-40c3-b22f-6572f8230d2d",
   "metadata": {},
   "outputs": [
    {
     "data": {
      "text/plain": [
       "31"
      ]
     },
     "execution_count": 21,
     "metadata": {},
     "output_type": "execute_result"
    }
   ],
   "source": [
    "# Проверим данные на явные дубликаты\n",
    "users.duplicated().sum()"
   ]
  },
  {
   "cell_type": "markdown",
   "id": "915dffda-47aa-49d2-ae4e-54643cc60a66",
   "metadata": {},
   "source": [
    "В таблице users есть явные дубликаты, они должны быть только по столбцу user_id, так как в остальных столбцах данные могут повторяться (имена, возраст). Проверим."
   ]
  },
  {
   "cell_type": "code",
   "execution_count": 22,
   "id": "64504cb6-c56d-4716-8a9b-f247bf01b4e8",
   "metadata": {},
   "outputs": [
    {
     "data": {
      "text/plain": [
       "31"
      ]
     },
     "execution_count": 22,
     "metadata": {},
     "output_type": "execute_result"
    }
   ],
   "source": [
    "users['user_id'].duplicated().sum()"
   ]
  },
  {
   "cell_type": "markdown",
   "id": "7b8d3a9a-843b-4826-9c77-d23f33954d21",
   "metadata": {},
   "source": [
    "Все верно. Выведим их значения."
   ]
  },
  {
   "cell_type": "code",
   "execution_count": 23,
   "id": "0450c413-0db9-426b-afab-c27b8f72f4ab",
   "metadata": {},
   "outputs": [
    {
     "name": "stdout",
     "output_type": "stream",
     "text": [
      "209     2\n",
      "807     2\n",
      "611     2\n",
      "43      2\n",
      "737     2\n",
      "47      2\n",
      "1198    2\n",
      "829     2\n",
      "924     2\n",
      "153     2\n",
      "635     2\n",
      "72      2\n",
      "909     2\n",
      "908     2\n",
      "136     2\n",
      "1045    2\n",
      "1237    2\n",
      "127     2\n",
      "659     2\n",
      "307     2\n",
      "1245    2\n",
      "121     2\n",
      "666     2\n",
      "108     2\n",
      "297     2\n",
      "809     2\n",
      "293     2\n",
      "16      2\n",
      "422     2\n",
      "403     2\n",
      "204     2\n",
      "1035    1\n",
      "Name: user_id, dtype: int64\n"
     ]
    }
   ],
   "source": [
    "# сначала их номера\n",
    "print(users['user_id'].value_counts().head(32))"
   ]
  },
  {
   "cell_type": "code",
   "execution_count": 24,
   "id": "3f6b87db-2e83-419f-8cc4-e177761c8d40",
   "metadata": {},
   "outputs": [],
   "source": [
    "# И табличные данные\n",
    "dupl_id = users[\"user_id\"]"
   ]
  },
  {
   "cell_type": "code",
   "execution_count": 25,
   "id": "bd51f53d-24fb-4b30-880b-1b87a7ecaff7",
   "metadata": {},
   "outputs": [
    {
     "data": {
      "text/html": [
       "<div>\n",
       "<style scoped>\n",
       "    .dataframe tbody tr th:only-of-type {\n",
       "        vertical-align: middle;\n",
       "    }\n",
       "\n",
       "    .dataframe tbody tr th {\n",
       "        vertical-align: top;\n",
       "    }\n",
       "\n",
       "    .dataframe thead th {\n",
       "        text-align: right;\n",
       "    }\n",
       "</style>\n",
       "<table border=\"1\" class=\"dataframe\">\n",
       "  <thead>\n",
       "    <tr style=\"text-align: right;\">\n",
       "      <th></th>\n",
       "      <th>user_id</th>\n",
       "      <th>name</th>\n",
       "      <th>age</th>\n",
       "      <th>city</th>\n",
       "      <th>subscription_type</th>\n",
       "    </tr>\n",
       "  </thead>\n",
       "  <tbody>\n",
       "    <tr>\n",
       "      <th>15</th>\n",
       "      <td>16</td>\n",
       "      <td>Амалия</td>\n",
       "      <td>27</td>\n",
       "      <td>Краснодар</td>\n",
       "      <td>ultra</td>\n",
       "    </tr>\n",
       "    <tr>\n",
       "      <th>1535</th>\n",
       "      <td>16</td>\n",
       "      <td>Амалия</td>\n",
       "      <td>27</td>\n",
       "      <td>Краснодар</td>\n",
       "      <td>ultra</td>\n",
       "    </tr>\n",
       "    <tr>\n",
       "      <th>42</th>\n",
       "      <td>43</td>\n",
       "      <td>Стефания</td>\n",
       "      <td>22</td>\n",
       "      <td>Омск</td>\n",
       "      <td>ultra</td>\n",
       "    </tr>\n",
       "    <tr>\n",
       "      <th>1539</th>\n",
       "      <td>43</td>\n",
       "      <td>Стефания</td>\n",
       "      <td>22</td>\n",
       "      <td>Омск</td>\n",
       "      <td>ultra</td>\n",
       "    </tr>\n",
       "    <tr>\n",
       "      <th>1563</th>\n",
       "      <td>47</td>\n",
       "      <td>Юрий</td>\n",
       "      <td>28</td>\n",
       "      <td>Тюмень</td>\n",
       "      <td>ultra</td>\n",
       "    </tr>\n",
       "    <tr>\n",
       "      <th>...</th>\n",
       "      <td>...</td>\n",
       "      <td>...</td>\n",
       "      <td>...</td>\n",
       "      <td>...</td>\n",
       "      <td>...</td>\n",
       "    </tr>\n",
       "    <tr>\n",
       "      <th>1554</th>\n",
       "      <td>1198</td>\n",
       "      <td>Демид</td>\n",
       "      <td>29</td>\n",
       "      <td>Ростов-на-Дону</td>\n",
       "      <td>free</td>\n",
       "    </tr>\n",
       "    <tr>\n",
       "      <th>1558</th>\n",
       "      <td>1237</td>\n",
       "      <td>Евгения</td>\n",
       "      <td>23</td>\n",
       "      <td>Тюмень</td>\n",
       "      <td>free</td>\n",
       "    </tr>\n",
       "    <tr>\n",
       "      <th>1236</th>\n",
       "      <td>1237</td>\n",
       "      <td>Евгения</td>\n",
       "      <td>23</td>\n",
       "      <td>Тюмень</td>\n",
       "      <td>free</td>\n",
       "    </tr>\n",
       "    <tr>\n",
       "      <th>1544</th>\n",
       "      <td>1245</td>\n",
       "      <td>Регина</td>\n",
       "      <td>27</td>\n",
       "      <td>Пятигорск</td>\n",
       "      <td>free</td>\n",
       "    </tr>\n",
       "    <tr>\n",
       "      <th>1244</th>\n",
       "      <td>1245</td>\n",
       "      <td>Регина</td>\n",
       "      <td>27</td>\n",
       "      <td>Пятигорск</td>\n",
       "      <td>free</td>\n",
       "    </tr>\n",
       "  </tbody>\n",
       "</table>\n",
       "<p>62 rows × 5 columns</p>\n",
       "</div>"
      ],
      "text/plain": [
       "      user_id      name  age            city subscription_type\n",
       "15         16    Амалия   27       Краснодар             ultra\n",
       "1535       16    Амалия   27       Краснодар             ultra\n",
       "42         43  Стефания   22            Омск             ultra\n",
       "1539       43  Стефания   22            Омск             ultra\n",
       "1563       47      Юрий   28          Тюмень             ultra\n",
       "...       ...       ...  ...             ...               ...\n",
       "1554     1198     Демид   29  Ростов-на-Дону              free\n",
       "1558     1237   Евгения   23          Тюмень              free\n",
       "1236     1237   Евгения   23          Тюмень              free\n",
       "1544     1245    Регина   27       Пятигорск              free\n",
       "1244     1245    Регина   27       Пятигорск              free\n",
       "\n",
       "[62 rows x 5 columns]"
      ]
     },
     "execution_count": 25,
     "metadata": {},
     "output_type": "execute_result"
    }
   ],
   "source": [
    "users[dupl_id.isin(dupl_id[dupl_id.duplicated()])].sort_values(\"user_id\")"
   ]
  },
  {
   "cell_type": "markdown",
   "id": "151d1663-b9f6-48a4-b055-41bd8ed995a1",
   "metadata": {},
   "source": [
    "Видим, что действительно все данные у повторяющихся user_id абсолютно идентично.\n",
    "Удалим их."
   ]
  },
  {
   "cell_type": "code",
   "execution_count": 26,
   "id": "62ab16f6-1fc0-4033-8c0a-ff099b24200f",
   "metadata": {},
   "outputs": [],
   "source": [
    "users = users.drop_duplicates(subset=['user_id'], keep='first')"
   ]
  },
  {
   "cell_type": "code",
   "execution_count": 27,
   "id": "bb905b90-bf90-4be0-a5f4-7e04fa70a629",
   "metadata": {},
   "outputs": [
    {
     "data": {
      "text/plain": [
       "0"
      ]
     },
     "execution_count": 27,
     "metadata": {},
     "output_type": "execute_result"
    }
   ],
   "source": [
    "# И проверим еще раз данные на явные дубликаты\n",
    "users.duplicated().sum()"
   ]
  },
  {
   "cell_type": "code",
   "execution_count": 28,
   "id": "c38a0cbf-6d5b-4a9e-afa2-783be9c7454b",
   "metadata": {},
   "outputs": [
    {
     "data": {
      "text/plain": [
       "0"
      ]
     },
     "execution_count": 28,
     "metadata": {},
     "output_type": "execute_result"
    }
   ],
   "source": [
    "# Проверим данные на явные дубликаты остальные датафреймы\n",
    "rides.duplicated().sum()"
   ]
  },
  {
   "cell_type": "code",
   "execution_count": 29,
   "id": "4fe5ddfe-9ef9-4d5c-9603-5b5518eb88be",
   "metadata": {},
   "outputs": [
    {
     "data": {
      "text/plain": [
       "0"
      ]
     },
     "execution_count": 29,
     "metadata": {},
     "output_type": "execute_result"
    }
   ],
   "source": [
    "subscriptions.duplicated().sum()"
   ]
  },
  {
   "cell_type": "markdown",
   "id": "6a1af350-29ea-4353-ae91-ddb012fff277",
   "metadata": {},
   "source": [
    "В таблицах rides и subscriptions явных дубликатов нет."
   ]
  },
  {
   "cell_type": "code",
   "execution_count": 30,
   "id": "2ad97b5c-9694-4cdc-992a-d0f3c13abb2d",
   "metadata": {},
   "outputs": [
    {
     "data": {
      "text/plain": [
       "array([   1,    2,    3, ..., 1532, 1533, 1534])"
      ]
     },
     "execution_count": 30,
     "metadata": {},
     "output_type": "execute_result"
    }
   ],
   "source": [
    "# Проверим на неявные дубликаты\n",
    "users['user_id'].unique()"
   ]
  },
  {
   "cell_type": "code",
   "execution_count": 31,
   "id": "17f31187-ce2b-4a4e-9fa5-b94aa2e11f6d",
   "metadata": {},
   "outputs": [
    {
     "name": "stdout",
     "output_type": "stream",
     "text": [
      "1       1\n",
      "1020    1\n",
      "1029    1\n",
      "1028    1\n",
      "1027    1\n",
      "       ..\n",
      "510     1\n",
      "509     1\n",
      "508     1\n",
      "507     1\n",
      "1534    1\n",
      "Name: user_id, Length: 1534, dtype: int64\n"
     ]
    }
   ],
   "source": [
    "print(users['user_id'].value_counts())"
   ]
  },
  {
   "cell_type": "code",
   "execution_count": 32,
   "id": "3d6fe247-6f98-474b-8979-fcfc099dc44f",
   "metadata": {},
   "outputs": [
    {
     "data": {
      "text/plain": [
       "array(['Кира', 'Станислав', 'Алексей', 'Константин', 'Адель', 'Регина',\n",
       "       'Игорь', 'Юрий', 'Ян', 'Валерий', 'Агата', 'Марк', 'Ева',\n",
       "       'Антонина', 'Валерия', 'Амалия', 'Даниил', 'Аделина', 'Святогор',\n",
       "       'Борис', 'Вероника', 'Ростислав', 'Назар', 'Эдуард', 'Василий',\n",
       "       'Денис', 'Тамара', 'Николай', 'Эвелина', 'Федор', 'Руслан', 'Иван',\n",
       "       'Любовь', 'Ярослава', 'Майя', 'Ильдар', 'Данила', 'Нина',\n",
       "       'Стефания', 'Ясмина', 'Дмитрий', 'Александр', 'Одиссей', 'Арсений',\n",
       "       'Алла', 'Таисия', 'Максим', 'Юлиана', 'Павел', 'Карина', 'Алиса',\n",
       "       'Лидия', 'Рамиль', 'Родион', 'Ника', 'Оксана', 'Анастасия',\n",
       "       'Маргарита', 'Вера', 'Тимур', 'Никита', 'Лев', 'Влад', 'Артур',\n",
       "       'Анна', 'Ольга', 'Вячеслав', 'Ксения', 'Виталина', 'Владислав',\n",
       "       'Тамерлан', 'Амина', 'Вадим', 'Олеся', 'Зарина', 'Егор', 'Гордей',\n",
       "       'Лилия', 'Святослав', 'Роберт', 'Амир', 'Влада', 'Богдан',\n",
       "       'Полина', 'Марат', 'Елисей', 'Макар', 'Алина', 'Глеб', 'Андрей',\n",
       "       'Альбина', 'Людмила', 'Марсель', 'Милена', 'Диана', 'Дарина',\n",
       "       'Данил', 'Артемий', 'Лиана', 'Альберт', 'Герман', 'Жанна', 'Нелли',\n",
       "       'Евгения', 'Ариана', 'Самира', 'Захар', 'Эльвира', 'Екатерина',\n",
       "       'Инна', 'Демид', 'Яна', 'Михаил', 'Татьяна', 'Степан', 'Мелания',\n",
       "       'Тимофей', 'Ирина', 'Анжелика', 'Владислава', 'Елизавета',\n",
       "       'Мадина', 'Снежана', 'Даниэль', 'Рустам', 'Каролина', 'Ангелина',\n",
       "       'Владимир', 'Виктория', 'Валентина', 'Семен', 'Арина', 'Лариса',\n",
       "       'Есения', 'Галина', 'Кирилл', 'Игнат', 'Виталий', 'Эмилия',\n",
       "       'Виолетта', 'Яромир', 'Софья', 'Мирослава', 'Евгений', 'Варвара',\n",
       "       'Платон', 'Наталия', 'Анатолий', 'Кристина', 'Всеволод', 'Дарья',\n",
       "       'Наташа', 'Мария', 'Марина', 'Василиса', 'Юлия', 'Илья', 'Злата',\n",
       "       'Роман', 'Наталья', 'Элина', 'Арсен', 'Айдар', 'Алия', 'Виктор',\n",
       "       'Мирон', 'Ульяна', 'Георгий', 'Петр', 'Эльмира', 'Олег', 'Дамир',\n",
       "       'Самир', 'Ярослав', 'Камилла', 'Сергей', 'Эмиль', 'Радмир',\n",
       "       'Савелий', 'Елена', 'Антон', 'Мирослав', 'София', 'Тихон', 'Артём',\n",
       "       'Давид', 'Григорий', 'Алёна', 'Светлана', 'Леонид', 'Александра',\n",
       "       'Василина', 'Милана', 'Матвей'], dtype=object)"
      ]
     },
     "execution_count": 32,
     "metadata": {},
     "output_type": "execute_result"
    }
   ],
   "source": [
    "users['name'].unique()"
   ]
  },
  {
   "cell_type": "code",
   "execution_count": 33,
   "id": "a184d17d-30a2-4541-a126-745f5073779e",
   "metadata": {},
   "outputs": [
    {
     "name": "stdout",
     "output_type": "stream",
     "text": [
      "Анна         22\n",
      "Мария        22\n",
      "Александр    17\n",
      "Дмитрий      17\n",
      "Никита       16\n",
      "             ..\n",
      "Мирослав      3\n",
      "Семен         2\n",
      "Радмир        1\n",
      "Милана        1\n",
      "Тихон         1\n",
      "Name: name, Length: 194, dtype: int64\n"
     ]
    }
   ],
   "source": [
    "print(users['name'].value_counts())"
   ]
  },
  {
   "cell_type": "code",
   "execution_count": 34,
   "id": "3969d39b-6b68-4bf2-8a81-80c3541f5a1c",
   "metadata": {},
   "outputs": [
    {
     "data": {
      "text/plain": [
       "array(['Тюмень', 'Омск', 'Москва', 'Ростов-на-Дону', 'Краснодар',\n",
       "       'Пятигорск', 'Екатеринбург', 'Сочи'], dtype=object)"
      ]
     },
     "execution_count": 34,
     "metadata": {},
     "output_type": "execute_result"
    }
   ],
   "source": [
    "users['city'].unique()"
   ]
  },
  {
   "cell_type": "code",
   "execution_count": 35,
   "id": "00766a57-b0ae-49d8-8d2e-77338c5e69c4",
   "metadata": {},
   "outputs": [
    {
     "name": "stdout",
     "output_type": "stream",
     "text": [
      "Пятигорск         219\n",
      "Екатеринбург      204\n",
      "Ростов-на-Дону    198\n",
      "Краснодар         193\n",
      "Сочи              189\n",
      "Омск              183\n",
      "Тюмень            180\n",
      "Москва            168\n",
      "Name: city, dtype: int64\n"
     ]
    }
   ],
   "source": [
    "print(users['city'].value_counts())"
   ]
  },
  {
   "cell_type": "markdown",
   "id": "9dcd8e7b-9a15-489d-bd0e-ee111c9e22d8",
   "metadata": {},
   "source": [
    "Проверил таблицу users на неявные дубликаты. Неявных дубликатов нет.\n",
    "В таблицах rides и subscriptions содержатся соответственно данные о поездках и тарифе и их смысла проверять на неявные дубликаты нет."
   ]
  },
  {
   "cell_type": "markdown",
   "id": "7ced6ced-b878-4b77-a9dd-6146a9ab37d2",
   "metadata": {},
   "source": [
    "Проверим датафрейм users после обработки"
   ]
  },
  {
   "cell_type": "code",
   "execution_count": 36,
   "id": "b1172d1b-79d7-4f55-82bd-0c3e630fb849",
   "metadata": {},
   "outputs": [
    {
     "data": {
      "text/plain": [
       "1565"
      ]
     },
     "execution_count": 36,
     "metadata": {},
     "output_type": "execute_result"
    }
   ],
   "source": [
    "len(temp_users)"
   ]
  },
  {
   "cell_type": "code",
   "execution_count": 37,
   "id": "3750a3f8-065c-492b-836f-399819cc220d",
   "metadata": {},
   "outputs": [
    {
     "data": {
      "text/plain": [
       "1534"
      ]
     },
     "execution_count": 37,
     "metadata": {},
     "output_type": "execute_result"
    }
   ],
   "source": [
    "len(users)"
   ]
  },
  {
   "cell_type": "markdown",
   "id": "122cfca8-caba-41ab-83ec-21cf77aca4f3",
   "metadata": {},
   "source": [
    "Данные уменьшились на 31, т.е. на количество дубликатов. Контроль замера датафрейма пройден."
   ]
  },
  {
   "cell_type": "markdown",
   "id": "424cb848",
   "metadata": {},
   "source": [
    "#### 2.4 Проверка данных таблицы rides на аномалии"
   ]
  },
  {
   "cell_type": "code",
   "execution_count": 38,
   "id": "da4c5dad",
   "metadata": {},
   "outputs": [
    {
     "data": {
      "text/plain": [
       "array([8.55682926e-01, 2.57078689e+00, 4.32950578e+00, ...,\n",
       "       6.90849134e+03, 7.06600377e+03, 7.21100774e+03])"
      ]
     },
     "execution_count": 38,
     "metadata": {},
     "output_type": "execute_result"
    }
   ],
   "source": [
    "# Проверим на уникальные значения расстояния поездок distance и отсортируем их по возрастанию\n",
    "rides['distance'].sort_values(ascending=True).unique()"
   ]
  },
  {
   "cell_type": "code",
   "execution_count": 39,
   "id": "694e4d2a",
   "metadata": {},
   "outputs": [
    {
     "name": "stdout",
     "output_type": "stream",
     "text": [
      "741.55      1\n",
      "4,158.23    1\n",
      "3,672.12    1\n",
      "4,533.00    1\n",
      "2,437.27    1\n",
      "           ..\n",
      "2,949.53    1\n",
      "3,289.89    1\n",
      "3,047.55    1\n",
      "2,931.72    1\n",
      "4,031.94    1\n",
      "Name: distance, Length: 18068, dtype: int64\n"
     ]
    }
   ],
   "source": [
    "# Проверим количество повторений расстояний поездок distance\n",
    "print(rides['distance'].value_counts())"
   ]
  },
  {
   "cell_type": "code",
   "execution_count": 40,
   "id": "7889cc06",
   "metadata": {},
   "outputs": [
    {
     "data": {
      "text/plain": [
       "18068"
      ]
     },
     "execution_count": 40,
     "metadata": {},
     "output_type": "execute_result"
    }
   ],
   "source": [
    "# Подсчитаем количество уникальных значений расстояний поездок distance\n",
    "rides['distance'].nunique()"
   ]
  },
  {
   "cell_type": "markdown",
   "id": "15477eb2",
   "metadata": {},
   "source": [
    "По столбцу расстояний поездок distance таблицы rides аномальных значений нет."
   ]
  },
  {
   "cell_type": "code",
   "execution_count": 41,
   "id": "76274ef3",
   "metadata": {},
   "outputs": [
    {
     "data": {
      "text/plain": [
       "array([ 0.5       ,  2.03563247,  2.05325125, ..., 39.52660212,\n",
       "       39.87385602, 40.82396262])"
      ]
     },
     "execution_count": 41,
     "metadata": {},
     "output_type": "execute_result"
    }
   ],
   "source": [
    "# Проверим на уникальные значения длительность поездок duration и отсортируем их по возрастанию\n",
    "rides['duration'].sort_values(ascending=True).unique()"
   ]
  },
  {
   "cell_type": "code",
   "execution_count": 42,
   "id": "aaec3db0",
   "metadata": {},
   "outputs": [
    {
     "name": "stdout",
     "output_type": "stream",
     "text": [
      "0.50     95\n",
      "22.18     1\n",
      "25.87     1\n",
      "22.84     1\n",
      "19.17     1\n",
      "         ..\n",
      "18.84     1\n",
      "17.64     1\n",
      "22.48     1\n",
      "19.75     1\n",
      "16.54     1\n",
      "Name: duration, Length: 17974, dtype: int64\n"
     ]
    }
   ],
   "source": [
    "# Проверим количество повторений длительности поездок duration\n",
    "print(rides['duration'].value_counts())"
   ]
  },
  {
   "cell_type": "code",
   "execution_count": 43,
   "id": "1de5a16e",
   "metadata": {},
   "outputs": [
    {
     "data": {
      "text/plain": [
       "17974"
      ]
     },
     "execution_count": 43,
     "metadata": {},
     "output_type": "execute_result"
    }
   ],
   "source": [
    "# Подсчитаем количество уникальных значений длительности поездок duration\n",
    "rides['duration'].nunique()"
   ]
  },
  {
   "cell_type": "markdown",
   "id": "00c6516a",
   "metadata": {},
   "source": [
    "По столбцу длительности поездок duration таблицы rides наблюдаем интерсную особенность. 95 поездок длились с продолжительностью 0.5 мин. Проверим сколько же за это время проехали на самокате."
   ]
  },
  {
   "cell_type": "code",
   "execution_count": 44,
   "id": "1a789d54",
   "metadata": {},
   "outputs": [
    {
     "data": {
      "text/html": [
       "<div>\n",
       "<style scoped>\n",
       "    .dataframe tbody tr th:only-of-type {\n",
       "        vertical-align: middle;\n",
       "    }\n",
       "\n",
       "    .dataframe tbody tr th {\n",
       "        vertical-align: top;\n",
       "    }\n",
       "\n",
       "    .dataframe thead th {\n",
       "        text-align: right;\n",
       "    }\n",
       "</style>\n",
       "<table border=\"1\" class=\"dataframe\">\n",
       "  <thead>\n",
       "    <tr style=\"text-align: right;\">\n",
       "      <th></th>\n",
       "      <th>user_id</th>\n",
       "      <th>distance</th>\n",
       "      <th>duration</th>\n",
       "      <th>date</th>\n",
       "      <th>month</th>\n",
       "    </tr>\n",
       "  </thead>\n",
       "  <tbody>\n",
       "    <tr>\n",
       "      <th>15132</th>\n",
       "      <td>1325</td>\n",
       "      <td>4,030.31</td>\n",
       "      <td>0.50</td>\n",
       "      <td>2021-12-22</td>\n",
       "      <td>12</td>\n",
       "    </tr>\n",
       "    <tr>\n",
       "      <th>17909</th>\n",
       "      <td>1524</td>\n",
       "      <td>4,104.00</td>\n",
       "      <td>0.50</td>\n",
       "      <td>2021-06-18</td>\n",
       "      <td>6</td>\n",
       "    </tr>\n",
       "    <tr>\n",
       "      <th>10692</th>\n",
       "      <td>1006</td>\n",
       "      <td>4,106.28</td>\n",
       "      <td>0.50</td>\n",
       "      <td>2021-10-31</td>\n",
       "      <td>10</td>\n",
       "    </tr>\n",
       "    <tr>\n",
       "      <th>9698</th>\n",
       "      <td>937</td>\n",
       "      <td>4,169.07</td>\n",
       "      <td>0.50</td>\n",
       "      <td>2021-12-12</td>\n",
       "      <td>12</td>\n",
       "    </tr>\n",
       "    <tr>\n",
       "      <th>14342</th>\n",
       "      <td>1268</td>\n",
       "      <td>4,177.14</td>\n",
       "      <td>0.50</td>\n",
       "      <td>2021-06-09</td>\n",
       "      <td>6</td>\n",
       "    </tr>\n",
       "    <tr>\n",
       "      <th>...</th>\n",
       "      <td>...</td>\n",
       "      <td>...</td>\n",
       "      <td>...</td>\n",
       "      <td>...</td>\n",
       "      <td>...</td>\n",
       "    </tr>\n",
       "    <tr>\n",
       "      <th>14574</th>\n",
       "      <td>1285</td>\n",
       "      <td>6,316.57</td>\n",
       "      <td>0.50</td>\n",
       "      <td>2021-09-25</td>\n",
       "      <td>9</td>\n",
       "    </tr>\n",
       "    <tr>\n",
       "      <th>13701</th>\n",
       "      <td>1224</td>\n",
       "      <td>6,414.52</td>\n",
       "      <td>0.50</td>\n",
       "      <td>2021-07-15</td>\n",
       "      <td>7</td>\n",
       "    </tr>\n",
       "    <tr>\n",
       "      <th>11385</th>\n",
       "      <td>1057</td>\n",
       "      <td>6,601.20</td>\n",
       "      <td>0.50</td>\n",
       "      <td>2021-02-07</td>\n",
       "      <td>2</td>\n",
       "    </tr>\n",
       "    <tr>\n",
       "      <th>17242</th>\n",
       "      <td>1477</td>\n",
       "      <td>6,724.93</td>\n",
       "      <td>0.50</td>\n",
       "      <td>2021-01-12</td>\n",
       "      <td>1</td>\n",
       "    </tr>\n",
       "    <tr>\n",
       "      <th>16309</th>\n",
       "      <td>1411</td>\n",
       "      <td>7,211.01</td>\n",
       "      <td>0.50</td>\n",
       "      <td>2021-04-15</td>\n",
       "      <td>4</td>\n",
       "    </tr>\n",
       "  </tbody>\n",
       "</table>\n",
       "<p>95 rows × 5 columns</p>\n",
       "</div>"
      ],
      "text/plain": [
       "       user_id  distance  duration       date  month\n",
       "15132     1325  4,030.31      0.50 2021-12-22     12\n",
       "17909     1524  4,104.00      0.50 2021-06-18      6\n",
       "10692     1006  4,106.28      0.50 2021-10-31     10\n",
       "9698       937  4,169.07      0.50 2021-12-12     12\n",
       "14342     1268  4,177.14      0.50 2021-06-09      6\n",
       "...        ...       ...       ...        ...    ...\n",
       "14574     1285  6,316.57      0.50 2021-09-25      9\n",
       "13701     1224  6,414.52      0.50 2021-07-15      7\n",
       "11385     1057  6,601.20      0.50 2021-02-07      2\n",
       "17242     1477  6,724.93      0.50 2021-01-12      1\n",
       "16309     1411  7,211.01      0.50 2021-04-15      4\n",
       "\n",
       "[95 rows x 5 columns]"
      ]
     },
     "execution_count": 44,
     "metadata": {},
     "output_type": "execute_result"
    }
   ],
   "source": [
    "# Сделаем отбор по столбцу с продолжительностью поездок duration = 0.5 минут, \n",
    "# и отсортируем табличные данные по столбцу с расстоянием поездок distance\n",
    "rides[rides['duration'] == 0.5].sort_values('distance', ascending=True)"
   ]
  },
  {
   "cell_type": "markdown",
   "id": "5a847107",
   "metadata": {},
   "source": [
    "Теперь можно смело заявлять, что 95 поездок с продолжительностью 0.5 мин являются аномальными значениями, т.к. за это время расстояние поездок distance находится в дипазоне от 4030 до 7211 метров, что не реально. \n",
    "\n",
    "Аномальные данные с дистаницей поездки можно было бы удалить, т.к. они составляют всего 0.5% от всего объема данных, но в них содержатся данные для расчета выручки компании, ведь пользователи в любом случае оплатили 1 минуту и возможно старт поездки, если они без подписки. В рамках данного анализа оставим их как есть."
   ]
  },
  {
   "cell_type": "code",
   "execution_count": 45,
   "id": "986c292c",
   "metadata": {},
   "outputs": [
    {
     "data": {
      "text/plain": [
       "18068"
      ]
     },
     "execution_count": 45,
     "metadata": {},
     "output_type": "execute_result"
    }
   ],
   "source": [
    "len(temp_rides)"
   ]
  },
  {
   "cell_type": "code",
   "execution_count": 46,
   "id": "cf9b53b3",
   "metadata": {},
   "outputs": [
    {
     "data": {
      "text/plain": [
       "18068"
      ]
     },
     "execution_count": 46,
     "metadata": {},
     "output_type": "execute_result"
    }
   ],
   "source": [
    "len(rides)"
   ]
  },
  {
   "cell_type": "markdown",
   "id": "d8bb4f43",
   "metadata": {},
   "source": [
    "Данные не уменьшились. Контроль замера датафрейма пройден."
   ]
  },
  {
   "cell_type": "markdown",
   "id": "8a4bc12d-80f6-4dc3-9cd8-9fa98ea6242a",
   "metadata": {},
   "source": [
    "#### 2.5 Промежуточные выводы."
   ]
  },
  {
   "cell_type": "markdown",
   "id": "58185e65-d712-4ffd-ba78-112ee2349163",
   "metadata": {},
   "source": [
    "* данные в датасете rides представлены за один год;\n",
    "* привел столбец date таблицы rides к типу даты datetime;\n",
    "* создал в таблице rides новый столбец с номером месяца на основе столбца date;\n",
    "* проверил наличие пропущенных значений и на явные и неявные дубликаты:\n",
    "    * пропусков в данных нет;\n",
    "    * в таблице users были явные дубликаты в столбце user_id. После проверки, удалил их;\n",
    "    * в таблицах rides и subscriptions явных дубликатов нет;\n",
    "    * проверил таблицу users на неявные дубликаты. Неявных дубликатов нет;\n",
    "    * в таблице subscriptions содержатся данные о тарифе. Необходимости в их проверки на неявные дубликаты нет.\n",
    "* проверил данные таблицы rides на аномалии:\n",
    "    * по столбцу расстояний поездок distance таблицы rides аномальных значений нет;\n",
    "    * по столбцу длительности поездок duration таблицы rides нашел 95 аномальных значений с продолжительностью поездки 0.5 мин и расстоянием за это время в дипазоне от 4030 до 7211 метров, что не реально;\n",
    "    * аномальные данные с дистаницей поездки можно было бы удалить, т.к. они составляют всего 0.5% от всего объема данных, но в них содержатся данные для расчета выручки компании, ведь пользователи в любом случае оплатили 1 минуту и возможно старт поездки, если они без подписки. В рамках данного анализа оставим их как есть."
   ]
  },
  {
   "cell_type": "markdown",
   "id": "4240128e-d878-404b-940e-3b4bcbd8291a",
   "metadata": {},
   "source": [
    "## Шаг 3. Исследовательский анализ данных"
   ]
  },
  {
   "cell_type": "markdown",
   "id": "85bdae60-8879-48f0-be99-bc63c443cfe1",
   "metadata": {},
   "source": [
    "#### Опишим и визуализируем общую информацию о пользователях и поездках:"
   ]
  },
  {
   "cell_type": "markdown",
   "id": "727cbc3c-6e75-435c-928c-14eee1753d99",
   "metadata": {},
   "source": [
    "#### 3.1 Частота встречаемости городов"
   ]
  },
  {
   "cell_type": "code",
   "execution_count": 48,
   "id": "5c673b24-dab6-4f8a-9954-7aa3647c01b5",
   "metadata": {},
   "outputs": [
    {
     "data": {
      "text/plain": [
       "count          1534\n",
       "unique            8\n",
       "top       Пятигорск\n",
       "freq            219\n",
       "Name: city, dtype: object"
      ]
     },
     "execution_count": 48,
     "metadata": {},
     "output_type": "execute_result"
    }
   ],
   "source": [
    "# Общие данные о столбце city\n",
    "users['city'].describe()"
   ]
  },
  {
   "cell_type": "code",
   "execution_count": 49,
   "id": "6b851b51-5321-4ada-a798-e4ee3a819e3a",
   "metadata": {},
   "outputs": [
    {
     "data": {
      "text/plain": [
       "Пятигорск         219\n",
       "Екатеринбург      204\n",
       "Ростов-на-Дону    198\n",
       "Краснодар         193\n",
       "Сочи              189\n",
       "Омск              183\n",
       "Тюмень            180\n",
       "Москва            168\n",
       "Name: city, dtype: int64"
      ]
     },
     "execution_count": 49,
     "metadata": {},
     "output_type": "execute_result"
    }
   ],
   "source": [
    "# создадим новый датафрейм для подсчета частоты городов и визуализации данных\n",
    "data_city = users['city'].value_counts(ascending = False)\n",
    "data_city"
   ]
  },
  {
   "cell_type": "code",
   "execution_count": 50,
   "id": "b45e0fa1-6c06-4910-b966-5f92acafd4f8",
   "metadata": {},
   "outputs": [
    {
     "data": {
      "image/png": "[encoded data removed]",
      "text/plain": [
       "<Figure size 360x360 with 1 Axes>"
      ]
     },
     "metadata": {},
     "output_type": "display_data"
    }
   ],
   "source": [
    "# Построим круговую диаграмму\n",
    "data_city.plot(kind = 'pie', grid=True, figsize = (5,5), autopct='%1.1f%%')\n",
    "plt.title('Диаграмма частоты встречаемости городов, в которых зарегистрированы пользователи сервиса самокатов GoFast')\n",
    "plt.ylabel(\"\");\n",
    "plt.show()"
   ]
  },
  {
   "cell_type": "markdown",
   "id": "c297832e-221e-410d-9971-58c41c4dc19f",
   "metadata": {},
   "source": [
    "Чаще всего встречаются пользователи из города Пятигорск 14.3% (219 пользователей). 2 место - Екатеринбург 13.3% (204 пользователей). 3 место - Ростов-на-Дону 12.9% (198 пользователей).\n",
    "\n",
    "Обращает на себя внимание, что пользователей из Москвы меньше всех, - всего 11%, скорее всего это связано с высокой конкуренцией в данном городе."
   ]
  },
  {
   "cell_type": "code",
   "execution_count": 51,
   "id": "1af4451b",
   "metadata": {},
   "outputs": [
    {
     "data": {
      "image/png": "[encoded data removed]",
      "text/plain": [
       "<Figure size 1080x360 with 1 Axes>"
      ]
     },
     "metadata": {
      "needs_background": "light"
     },
     "output_type": "display_data"
    }
   ],
   "source": [
    "# Комментарий ревьюера\n",
    "import matplotlib.pyplot as plt\n",
    "import pandas as pd\n",
    "\n",
    "# Создаем копию датасета, что бы не работать с исходным\n",
    "tmp = users.copy()\n",
    "\n",
    "# Построение горизонтальной диаграммы\n",
    "ax = tmp['city'].value_counts(ascending=True).plot(\n",
    "    kind='barh',\n",
    "    figsize=(15, 5),\n",
    "    title='График частоты встречаемости городов'\n",
    ")\n",
    "\n",
    "# Добавление значений рядом со столбцами\n",
    "for p in ax.patches:\n",
    "    width = p.get_width()\n",
    "    ax.annotate(f'{width}',\n",
    "                (width, p.get_y() + p.get_height() / 2.),\n",
    "                ha='left', va='center',\n",
    "                xytext=(5, 0),\n",
    "                textcoords='offset points')\n",
    "\n",
    "# Добавление меток осей\n",
    "plt.xlabel('Количество пользователей')\n",
    "plt.ylabel('Город')\n",
    "\n",
    "# Отображение графика\n",
    "plt.show()"
   ]
  },
  {
   "cell_type": "markdown",
   "id": "932584ec-cfd2-4870-9732-47401da6b190",
   "metadata": {},
   "source": [
    "#### 3.2 Cоотношение пользователей с подпиской и без подписки"
   ]
  },
  {
   "cell_type": "code",
   "execution_count": 52,
   "id": "91d5f9ba-018b-4d2f-80a8-05c9ba7ee90e",
   "metadata": {},
   "outputs": [
    {
     "data": {
      "text/plain": [
       "count     1534\n",
       "unique       2\n",
       "top       free\n",
       "freq       835\n",
       "Name: subscription_type, dtype: object"
      ]
     },
     "execution_count": 52,
     "metadata": {},
     "output_type": "execute_result"
    }
   ],
   "source": [
    "# Общие данные о столбце subscription_type\n",
    "users['subscription_type'].describe()"
   ]
  },
  {
   "cell_type": "code",
   "execution_count": 53,
   "id": "c0940eb3-d184-4790-af6a-dba08f46c1f1",
   "metadata": {},
   "outputs": [
    {
     "data": {
      "text/plain": [
       "free     835\n",
       "ultra    699\n",
       "Name: subscription_type, dtype: int64"
      ]
     },
     "execution_count": 53,
     "metadata": {},
     "output_type": "execute_result"
    }
   ],
   "source": [
    "# создадим новый датафрейм для подсчета частоты пользователей с подпиской и без и для визуализации данных\n",
    "data_subscription_type = users['subscription_type'].value_counts(ascending = False)\n",
    "data_subscription_type"
   ]
  },
  {
   "cell_type": "code",
   "execution_count": 54,
   "id": "b6446a04-4fb4-4ad2-a326-3d8603e1f4e8",
   "metadata": {},
   "outputs": [
    {
     "data": {
      "image/png": "[encoded data removed]",
      "text/plain": [
       "<Figure size 360x360 with 1 Axes>"
      ]
     },
     "metadata": {},
     "output_type": "display_data"
    }
   ],
   "source": [
    "# Построим круговую диаграмму\n",
    "data_subscription_type.plot(kind = 'pie', grid=True, figsize = (5,5), autopct='%1.1f%%')\n",
    "plt.title('Диаграмма частоты встречаемости пользователей с подпиской и без сервиса самокатов GoFast')\n",
    "plt.ylabel(\"\");\n",
    "plt.show()"
   ]
  },
  {
   "cell_type": "markdown",
   "id": "d52d8be7-e3dc-46fe-93c7-a2e3693215ad",
   "metadata": {},
   "source": [
    "Доля пользователей с подпиской ultra составляет 45.6%. "
   ]
  },
  {
   "cell_type": "markdown",
   "id": "083e9139-5f06-444e-a997-4729264d7e9c",
   "metadata": {},
   "source": [
    "#### 3.3 Возраст пользователей"
   ]
  },
  {
   "cell_type": "code",
   "execution_count": 55,
   "id": "ce0f499f-7806-4a17-aad5-c8088506005a",
   "metadata": {},
   "outputs": [
    {
     "data": {
      "text/plain": [
       "count   1,534.00\n",
       "mean       24.90\n",
       "std         4.57\n",
       "min        12.00\n",
       "25%        22.00\n",
       "50%        25.00\n",
       "75%        28.00\n",
       "max        43.00\n",
       "Name: age, dtype: float64"
      ]
     },
     "execution_count": 55,
     "metadata": {},
     "output_type": "execute_result"
    }
   ],
   "source": [
    "# Общие данные о столбце age\n",
    "users['age'].describe()"
   ]
  },
  {
   "cell_type": "code",
   "execution_count": 56,
   "id": "ad162459-445a-413b-94f1-4befe9bab308",
   "metadata": {},
   "outputs": [
    {
     "data": {
      "text/html": [
       "<div>\n",
       "<style scoped>\n",
       "    .dataframe tbody tr th:only-of-type {\n",
       "        vertical-align: middle;\n",
       "    }\n",
       "\n",
       "    .dataframe tbody tr th {\n",
       "        vertical-align: top;\n",
       "    }\n",
       "\n",
       "    .dataframe thead th {\n",
       "        text-align: right;\n",
       "    }\n",
       "</style>\n",
       "<table border=\"1\" class=\"dataframe\">\n",
       "  <thead>\n",
       "    <tr style=\"text-align: right;\">\n",
       "      <th></th>\n",
       "      <th>age</th>\n",
       "      <th>users_amount</th>\n",
       "      <th>age_ratio, %</th>\n",
       "    </tr>\n",
       "  </thead>\n",
       "  <tbody>\n",
       "    <tr>\n",
       "      <th>13</th>\n",
       "      <td>25</td>\n",
       "      <td>145</td>\n",
       "      <td>9.45</td>\n",
       "    </tr>\n",
       "    <tr>\n",
       "      <th>12</th>\n",
       "      <td>24</td>\n",
       "      <td>132</td>\n",
       "      <td>8.60</td>\n",
       "    </tr>\n",
       "    <tr>\n",
       "      <th>14</th>\n",
       "      <td>26</td>\n",
       "      <td>131</td>\n",
       "      <td>8.54</td>\n",
       "    </tr>\n",
       "    <tr>\n",
       "      <th>11</th>\n",
       "      <td>23</td>\n",
       "      <td>129</td>\n",
       "      <td>8.41</td>\n",
       "    </tr>\n",
       "    <tr>\n",
       "      <th>15</th>\n",
       "      <td>27</td>\n",
       "      <td>119</td>\n",
       "      <td>7.76</td>\n",
       "    </tr>\n",
       "    <tr>\n",
       "      <th>10</th>\n",
       "      <td>22</td>\n",
       "      <td>119</td>\n",
       "      <td>7.76</td>\n",
       "    </tr>\n",
       "    <tr>\n",
       "      <th>16</th>\n",
       "      <td>28</td>\n",
       "      <td>112</td>\n",
       "      <td>7.30</td>\n",
       "    </tr>\n",
       "    <tr>\n",
       "      <th>9</th>\n",
       "      <td>21</td>\n",
       "      <td>93</td>\n",
       "      <td>6.06</td>\n",
       "    </tr>\n",
       "    <tr>\n",
       "      <th>8</th>\n",
       "      <td>20</td>\n",
       "      <td>71</td>\n",
       "      <td>4.63</td>\n",
       "    </tr>\n",
       "    <tr>\n",
       "      <th>18</th>\n",
       "      <td>30</td>\n",
       "      <td>68</td>\n",
       "      <td>4.43</td>\n",
       "    </tr>\n",
       "    <tr>\n",
       "      <th>17</th>\n",
       "      <td>29</td>\n",
       "      <td>68</td>\n",
       "      <td>4.43</td>\n",
       "    </tr>\n",
       "    <tr>\n",
       "      <th>19</th>\n",
       "      <td>31</td>\n",
       "      <td>48</td>\n",
       "      <td>3.13</td>\n",
       "    </tr>\n",
       "    <tr>\n",
       "      <th>7</th>\n",
       "      <td>19</td>\n",
       "      <td>47</td>\n",
       "      <td>3.06</td>\n",
       "    </tr>\n",
       "    <tr>\n",
       "      <th>6</th>\n",
       "      <td>18</td>\n",
       "      <td>46</td>\n",
       "      <td>3.00</td>\n",
       "    </tr>\n",
       "    <tr>\n",
       "      <th>20</th>\n",
       "      <td>32</td>\n",
       "      <td>41</td>\n",
       "      <td>2.67</td>\n",
       "    </tr>\n",
       "    <tr>\n",
       "      <th>21</th>\n",
       "      <td>33</td>\n",
       "      <td>39</td>\n",
       "      <td>2.54</td>\n",
       "    </tr>\n",
       "    <tr>\n",
       "      <th>5</th>\n",
       "      <td>17</td>\n",
       "      <td>26</td>\n",
       "      <td>1.69</td>\n",
       "    </tr>\n",
       "    <tr>\n",
       "      <th>22</th>\n",
       "      <td>34</td>\n",
       "      <td>19</td>\n",
       "      <td>1.24</td>\n",
       "    </tr>\n",
       "    <tr>\n",
       "      <th>4</th>\n",
       "      <td>16</td>\n",
       "      <td>19</td>\n",
       "      <td>1.24</td>\n",
       "    </tr>\n",
       "    <tr>\n",
       "      <th>23</th>\n",
       "      <td>35</td>\n",
       "      <td>15</td>\n",
       "      <td>0.98</td>\n",
       "    </tr>\n",
       "    <tr>\n",
       "      <th>3</th>\n",
       "      <td>15</td>\n",
       "      <td>13</td>\n",
       "      <td>0.85</td>\n",
       "    </tr>\n",
       "    <tr>\n",
       "      <th>2</th>\n",
       "      <td>14</td>\n",
       "      <td>9</td>\n",
       "      <td>0.59</td>\n",
       "    </tr>\n",
       "    <tr>\n",
       "      <th>1</th>\n",
       "      <td>13</td>\n",
       "      <td>8</td>\n",
       "      <td>0.52</td>\n",
       "    </tr>\n",
       "    <tr>\n",
       "      <th>24</th>\n",
       "      <td>36</td>\n",
       "      <td>6</td>\n",
       "      <td>0.39</td>\n",
       "    </tr>\n",
       "    <tr>\n",
       "      <th>0</th>\n",
       "      <td>12</td>\n",
       "      <td>4</td>\n",
       "      <td>0.26</td>\n",
       "    </tr>\n",
       "    <tr>\n",
       "      <th>26</th>\n",
       "      <td>38</td>\n",
       "      <td>3</td>\n",
       "      <td>0.20</td>\n",
       "    </tr>\n",
       "    <tr>\n",
       "      <th>25</th>\n",
       "      <td>37</td>\n",
       "      <td>2</td>\n",
       "      <td>0.13</td>\n",
       "    </tr>\n",
       "    <tr>\n",
       "      <th>27</th>\n",
       "      <td>39</td>\n",
       "      <td>1</td>\n",
       "      <td>0.07</td>\n",
       "    </tr>\n",
       "    <tr>\n",
       "      <th>28</th>\n",
       "      <td>43</td>\n",
       "      <td>1</td>\n",
       "      <td>0.07</td>\n",
       "    </tr>\n",
       "  </tbody>\n",
       "</table>\n",
       "</div>"
      ],
      "text/plain": [
       "    age  users_amount  age_ratio, %\n",
       "13   25           145          9.45\n",
       "12   24           132          8.60\n",
       "14   26           131          8.54\n",
       "11   23           129          8.41\n",
       "15   27           119          7.76\n",
       "10   22           119          7.76\n",
       "16   28           112          7.30\n",
       "9    21            93          6.06\n",
       "8    20            71          4.63\n",
       "18   30            68          4.43\n",
       "17   29            68          4.43\n",
       "19   31            48          3.13\n",
       "7    19            47          3.06\n",
       "6    18            46          3.00\n",
       "20   32            41          2.67\n",
       "21   33            39          2.54\n",
       "5    17            26          1.69\n",
       "22   34            19          1.24\n",
       "4    16            19          1.24\n",
       "23   35            15          0.98\n",
       "3    15            13          0.85\n",
       "2    14             9          0.59\n",
       "1    13             8          0.52\n",
       "24   36             6          0.39\n",
       "0    12             4          0.26\n",
       "26   38             3          0.20\n",
       "25   37             2          0.13\n",
       "27   39             1          0.07\n",
       "28   43             1          0.07"
      ]
     },
     "execution_count": 56,
     "metadata": {},
     "output_type": "execute_result"
    }
   ],
   "source": [
    "# создадим новый датафрейм для подсчета возраста пользователей \n",
    "data_age = users.groupby('age')['user_id'].count()\n",
    "data_age = data_age.to_frame().reset_index()\n",
    "data_age.rename(columns={'user_id':'users_amount'}, inplace=True)\n",
    "data_age['age_ratio, %'] = (data_age['users_amount']/1534)*100\n",
    "data_age['age_ratio, %'] = data_age['age_ratio, %'].round(2)\n",
    "data_age_sorted = data_age.sort_values(by='age_ratio, %', ascending=False)\n",
    "data_age_sorted"
   ]
  },
  {
   "cell_type": "markdown",
   "id": "4088e8bd",
   "metadata": {},
   "source": [
    "Для того что бы не было неравномерных пропусков на графике, т.е. что бы гистограмма равномерно отражала возраст пользователей подберем параметр bins равный количеству возрастов в датасете, т.е. как разницу максимального и минимального возраста (43-12) = 31"
   ]
  },
  {
   "cell_type": "code",
   "execution_count": 57,
   "id": "56527e54-d0fe-4f34-a1c3-7d2b60bee145",
   "metadata": {},
   "outputs": [
    {
     "data": {
      "image/png": "[encoded data removed]",
      "text/plain": [
       "<Figure size 360x360 with 1 Axes>"
      ]
     },
     "metadata": {
      "needs_background": "light"
     },
     "output_type": "display_data"
    }
   ],
   "source": [
    "# Построим гистограмму для визуализации полученных данных\n",
    "users.plot(y = 'age', kind = 'hist', bins = 31, grid=True, figsize = (5,5), range = (0,45))\n",
    "plt.title('Количество пользователей в зависимости от возраста сервиса самокатов GoFast')\n",
    "plt.xlabel('Возраст');\n",
    "plt.ylabel(\"Количество пользователей\");\n",
    "plt.show()"
   ]
  },
  {
   "cell_type": "markdown",
   "id": "7c7fdef8-0fa3-4969-a62a-860385a1317b",
   "metadata": {},
   "source": [
    "Видим, что самыми активными являются пользователи в возрастной группе от 20 до 30 лет. И это логично.\n",
    "\n",
    "* 1 место пользователи - 25 лет (9.45%, 145 пользователей);\n",
    "* 2 место пользователи - 24 лет (8.60%, 132 пользователей);\n",
    "* 3 место пользователи - 26 лет (8.54%, 131 пользователей).\n",
    "\n",
    "Также хотелось бы отметить, что самокат арендуют пользователи с возрастом от 12 до 18 (не включительно) лет, что является нарушением законодательства.\n",
    "\n",
    "Арендовать электросамокат могут только те, кто достиг 18 лет, т.к. ответственность за действия несовершеннолетних лежит на родителях или опекунах."
   ]
  },
  {
   "cell_type": "markdown",
   "id": "724054df-a722-451e-9813-2eb0f7abd691",
   "metadata": {},
   "source": [
    "#### 3.4 Расстояние, которое пользователь преодолел за одну поездку"
   ]
  },
  {
   "cell_type": "code",
   "execution_count": 58,
   "id": "0099cfa2-e018-4c22-865b-40d8275ea8a8",
   "metadata": {},
   "outputs": [
    {
     "data": {
      "text/plain": [
       "count   18,068.00\n",
       "mean     3,071.00\n",
       "std      1,117.00\n",
       "min          1.00\n",
       "25%      2,543.00\n",
       "50%      3,134.00\n",
       "75%      3,776.00\n",
       "max      7,211.00\n",
       "Name: distance, dtype: float64"
      ]
     },
     "execution_count": 58,
     "metadata": {},
     "output_type": "execute_result"
    }
   ],
   "source": [
    "# Общие данные о столбце distance\n",
    "rides['distance'].describe().round(0)"
   ]
  },
  {
   "cell_type": "code",
   "execution_count": 59,
   "id": "1fec0464-e137-4251-bff0-522ceb52d908",
   "metadata": {},
   "outputs": [
    {
     "data": {
      "image/png": "[encoded data removed]",
      "text/plain": [
       "<Figure size 360x360 with 1 Axes>"
      ]
     },
     "metadata": {
      "needs_background": "light"
     },
     "output_type": "display_data"
    }
   ],
   "source": [
    "# Построим гистограмму для визуализации полученных данных\n",
    "rides.plot(y = 'distance', kind = 'hist', bins = 100, grid=True, figsize = (5,5), range = (0,7300))\n",
    "plt.title('Гистограмма расстояния, которое пользователь совершает за одну поездку сервиса самокатов GoFast')\n",
    "plt.xlabel('Расстояние за одну поездку');\n",
    "plt.ylabel(\"Частота поездок\");\n",
    "plt.show()"
   ]
  },
  {
   "cell_type": "markdown",
   "id": "03a9371f-c4cd-49f3-ad8c-d0025b7b9299",
   "metadata": {},
   "source": [
    "По гистограмме видим 2 пика, построим по ним уточненные гистограммы"
   ]
  },
  {
   "cell_type": "code",
   "execution_count": 60,
   "id": "ef9855d4-9432-42b5-9b69-61be12a02fa0",
   "metadata": {},
   "outputs": [
    {
     "data": {
      "image/png": "[encoded data removed]",
      "text/plain": [
       "<Figure size 360x360 with 1 Axes>"
      ]
     },
     "metadata": {
      "needs_background": "light"
     },
     "output_type": "display_data"
    }
   ],
   "source": [
    "# Построим гистограмму для визуализации полученных данных\n",
    "rides.plot(y = 'distance', kind = 'hist', bins = 100, grid=True, figsize = (5,5), range = (0,1500))\n",
    "plt.title('Гистограмма расстояния \"Пик 1\", которое пользователь совершает за одну поездку сервиса самокатов GoFast')\n",
    "plt.xlabel('Расстояние за одну поездку');\n",
    "plt.ylabel(\"Частота поездок\");\n",
    "plt.show()"
   ]
  },
  {
   "cell_type": "code",
   "execution_count": 61,
   "id": "5d430f88-7357-43f1-92f3-41513d4a2191",
   "metadata": {},
   "outputs": [
    {
     "data": {
      "image/png": "[encoded data removed]",
      "text/plain": [
       "<Figure size 360x360 with 1 Axes>"
      ]
     },
     "metadata": {
      "needs_background": "light"
     },
     "output_type": "display_data"
    }
   ],
   "source": [
    "# Построим гистограмму для визуализации полученных данных\n",
    "rides.plot(y = 'distance', kind = 'hist', bins = 100, grid=True, figsize = (5,5), range = (2000,4500))\n",
    "plt.title('Гистограмма расстояния \"Пик 2\", которое пользователь совершает за одну поездку сервиса самокатов GoFast')\n",
    "plt.xlabel('Расстояние за одну поездку');\n",
    "plt.ylabel(\"Частота поездок\");\n",
    "plt.show()"
   ]
  },
  {
   "cell_type": "markdown",
   "id": "8cecc393-da1a-44a0-b021-29293f2abb93",
   "metadata": {},
   "source": [
    "Чаще всего пользователи проезжают за одну поездку от 2800 до 3300 метров, самый пик 3000 метров (это самый выскойи 1 пик). Второй пик - это расстояние около 650 метров. Чем дальше от этих пиков, тем количество поездок становится меньше.\n",
    "\n",
    "Интересное наблюдение, что между 2-мя пиками при расстоянии 1500 метров, количество поездок максимадьно снижается.\n",
    "\n",
    "Можно сделать вывод, что пользователи берут самокаты либо для коротких перемещений по необходимости (например, от дома до остановки), либо для долгих прогулок или перемещений."
   ]
  },
  {
   "cell_type": "markdown",
   "id": "3c802138-7482-4b62-994f-7bbcbeb514c0",
   "metadata": {},
   "source": [
    "#### 3.5 Продолжительность поездок"
   ]
  },
  {
   "cell_type": "code",
   "execution_count": 62,
   "id": "3a9e062c-df99-49a3-9cc5-9d44a2ccbc8f",
   "metadata": {},
   "outputs": [
    {
     "data": {
      "text/plain": [
       "count   18,068.00\n",
       "mean        18.00\n",
       "std          6.00\n",
       "min          0.00\n",
       "25%         14.00\n",
       "50%         18.00\n",
       "75%         22.00\n",
       "max         41.00\n",
       "Name: duration, dtype: float64"
      ]
     },
     "execution_count": 62,
     "metadata": {},
     "output_type": "execute_result"
    }
   ],
   "source": [
    "# Общие данные о столбце duration\n",
    "rides['duration'].describe().round(0)"
   ]
  },
  {
   "cell_type": "code",
   "execution_count": 63,
   "id": "b277c6c8-9bf2-4bd8-967a-22fbabed9c41",
   "metadata": {},
   "outputs": [
    {
     "data": {
      "image/png": "[encoded data removed]",
      "text/plain": [
       "<Figure size 360x360 with 1 Axes>"
      ]
     },
     "metadata": {
      "needs_background": "light"
     },
     "output_type": "display_data"
    }
   ],
   "source": [
    "# Построим гистограмму для визуализации полученных данных\n",
    "rides.plot(y = 'duration', kind = 'hist', bins = 100, grid=True, figsize = (5,5), range = (0,42))\n",
    "plt.title('Гистограмма продолжительность поездок сервиса самокатов GoFast')\n",
    "plt.xlabel('Продолжительность поездки');\n",
    "plt.ylabel(\"Частота поездок\");\n",
    "plt.show()"
   ]
  },
  {
   "cell_type": "markdown",
   "id": "b5bdecc9-c0b3-4be4-84cd-d6816a01f5f6",
   "metadata": {},
   "source": [
    "Чаще всего пользователи ездят на самокатах от 15 до 21 минуты. Есть тот самый аномальный пик около нуля с временем поездки 0.5 минут, возможно часть пользователей не разобрались как пользоваться либо самокатом, либо приложением и отменили поездку. А вот с замером расстояния поездки стоит проанализирвоать работу приложения."
   ]
  },
  {
   "cell_type": "markdown",
   "id": "991f3966-9c7c-4523-83ae-2b0d8e42deae",
   "metadata": {},
   "source": [
    "#### 3.6 Промежуточные выводы."
   ]
  },
  {
   "cell_type": "markdown",
   "id": "d454c5ea-146f-4ba4-83d2-da0acc710bf2",
   "metadata": {},
   "source": [
    "* Чаще всего встречаются пользователи из города Пятигорск 14.3% (219 пользователей). 2 место - Екатеринбург 13.3% (204 пользователей). 3 место - Ростов-на-Дону 12.9% (198 пользователей). Обращает на себя внимание, что пользователей из Москвы меньше всех, - всего 11%, скорее всего это связано с высокой конкуренцией в данном городе;\n",
    "* Доля пользователей с подпиской ultra составляет 45.6%.\n",
    "* Самыми активными являются пользователи в возрастной группе от 20 до 30 лет, а именно:\n",
    "    * 1 место пользователи - 25 лет (9.45%, 145 пользователей);\n",
    "    * 2 место пользователи - 24 лет (8.60%, 132 пользователей);\n",
    "    * 3 место пользователи - 26 лет (8.54%, 131 пользователей).\n",
    "* Также хотелось бы отметить, что самокат арендуют пользователи с возрастом от 12 до 18 (не включительно) лет, что является нарушением законодательства. Арендовать электросамокат могут только те, кто достиг 18 лет, т.к. ответственность за действия несовершеннолетних лежит на родителях или опекунах.\n",
    "* Чаще всего пользователи проезжают за одну поездку от 2800 до 3300 метров, самый пик 3000 метров (это самый выскоий 1-ый пик). Второй пик - это расстояние около 650 метров. Чем дальше от этих пиков, тем количество поездок становится меньше. Интересное наблюдение, что между 2-мя пиками при расстоянии около 1500 метров, количество поездок максимально снижается. Можно сделать вывод, что пользователи берут самокаты либо для коротких перемещений по необходимости (например, от дома до остановки), либо для долгих прогулок.\n",
    "* Чаще всего пользователи ездят на самокатах от 15 до 21 минуты. Есть тот самый аномальный пик около нуля с временем поездки 0.5 минут, возможно часть пользователей не разобрались как пользоваться либо самокатом, либо приложением и отменили поездку. А вот с замером расстояния поездки стоит проанализирвоать работу приложения."
   ]
  },
  {
   "cell_type": "markdown",
   "id": "5c16fbc7-2f70-4478-8718-831d8c2cf08a",
   "metadata": {},
   "source": [
    "## Шаг 4. Объединение данных"
   ]
  },
  {
   "cell_type": "markdown",
   "id": "6532dfe2-77b3-49cd-879b-735f5facd8f7",
   "metadata": {},
   "source": [
    "#### 4.1 Объединим данные о пользователях, поездках и подписках в один датафрейм. Для этого воспользуйтемся методом merge()."
   ]
  },
  {
   "cell_type": "code",
   "execution_count": 64,
   "id": "f7dd50dd-3953-4341-9d10-f5fe08cff618",
   "metadata": {},
   "outputs": [
    {
     "data": {
      "text/html": [
       "<div>\n",
       "<style scoped>\n",
       "    .dataframe tbody tr th:only-of-type {\n",
       "        vertical-align: middle;\n",
       "    }\n",
       "\n",
       "    .dataframe tbody tr th {\n",
       "        vertical-align: top;\n",
       "    }\n",
       "\n",
       "    .dataframe thead th {\n",
       "        text-align: right;\n",
       "    }\n",
       "</style>\n",
       "<table border=\"1\" class=\"dataframe\">\n",
       "  <thead>\n",
       "    <tr style=\"text-align: right;\">\n",
       "      <th></th>\n",
       "      <th>user_id</th>\n",
       "      <th>distance</th>\n",
       "      <th>duration</th>\n",
       "      <th>date</th>\n",
       "      <th>month</th>\n",
       "      <th>name</th>\n",
       "      <th>age</th>\n",
       "      <th>city</th>\n",
       "      <th>subscription_type</th>\n",
       "    </tr>\n",
       "  </thead>\n",
       "  <tbody>\n",
       "    <tr>\n",
       "      <th>0</th>\n",
       "      <td>1</td>\n",
       "      <td>4,409.92</td>\n",
       "      <td>25.60</td>\n",
       "      <td>2021-01-01</td>\n",
       "      <td>1</td>\n",
       "      <td>Кира</td>\n",
       "      <td>22</td>\n",
       "      <td>Тюмень</td>\n",
       "      <td>ultra</td>\n",
       "    </tr>\n",
       "    <tr>\n",
       "      <th>1</th>\n",
       "      <td>1</td>\n",
       "      <td>2,617.59</td>\n",
       "      <td>15.82</td>\n",
       "      <td>2021-01-18</td>\n",
       "      <td>1</td>\n",
       "      <td>Кира</td>\n",
       "      <td>22</td>\n",
       "      <td>Тюмень</td>\n",
       "      <td>ultra</td>\n",
       "    </tr>\n",
       "    <tr>\n",
       "      <th>2</th>\n",
       "      <td>1</td>\n",
       "      <td>754.16</td>\n",
       "      <td>6.23</td>\n",
       "      <td>2021-04-20</td>\n",
       "      <td>4</td>\n",
       "      <td>Кира</td>\n",
       "      <td>22</td>\n",
       "      <td>Тюмень</td>\n",
       "      <td>ultra</td>\n",
       "    </tr>\n",
       "    <tr>\n",
       "      <th>3</th>\n",
       "      <td>1</td>\n",
       "      <td>2,694.78</td>\n",
       "      <td>18.51</td>\n",
       "      <td>2021-08-11</td>\n",
       "      <td>8</td>\n",
       "      <td>Кира</td>\n",
       "      <td>22</td>\n",
       "      <td>Тюмень</td>\n",
       "      <td>ultra</td>\n",
       "    </tr>\n",
       "    <tr>\n",
       "      <th>4</th>\n",
       "      <td>1</td>\n",
       "      <td>4,028.69</td>\n",
       "      <td>26.27</td>\n",
       "      <td>2021-08-28</td>\n",
       "      <td>8</td>\n",
       "      <td>Кира</td>\n",
       "      <td>22</td>\n",
       "      <td>Тюмень</td>\n",
       "      <td>ultra</td>\n",
       "    </tr>\n",
       "    <tr>\n",
       "      <th>...</th>\n",
       "      <td>...</td>\n",
       "      <td>...</td>\n",
       "      <td>...</td>\n",
       "      <td>...</td>\n",
       "      <td>...</td>\n",
       "      <td>...</td>\n",
       "      <td>...</td>\n",
       "      <td>...</td>\n",
       "      <td>...</td>\n",
       "    </tr>\n",
       "    <tr>\n",
       "      <th>18063</th>\n",
       "      <td>1534</td>\n",
       "      <td>3,781.10</td>\n",
       "      <td>19.82</td>\n",
       "      <td>2021-11-04</td>\n",
       "      <td>11</td>\n",
       "      <td>Альберт</td>\n",
       "      <td>25</td>\n",
       "      <td>Краснодар</td>\n",
       "      <td>free</td>\n",
       "    </tr>\n",
       "    <tr>\n",
       "      <th>18064</th>\n",
       "      <td>1534</td>\n",
       "      <td>2,840.42</td>\n",
       "      <td>21.41</td>\n",
       "      <td>2021-11-16</td>\n",
       "      <td>11</td>\n",
       "      <td>Альберт</td>\n",
       "      <td>25</td>\n",
       "      <td>Краснодар</td>\n",
       "      <td>free</td>\n",
       "    </tr>\n",
       "    <tr>\n",
       "      <th>18065</th>\n",
       "      <td>1534</td>\n",
       "      <td>3,826.19</td>\n",
       "      <td>18.44</td>\n",
       "      <td>2021-11-18</td>\n",
       "      <td>11</td>\n",
       "      <td>Альберт</td>\n",
       "      <td>25</td>\n",
       "      <td>Краснодар</td>\n",
       "      <td>free</td>\n",
       "    </tr>\n",
       "    <tr>\n",
       "      <th>18066</th>\n",
       "      <td>1534</td>\n",
       "      <td>2,902.31</td>\n",
       "      <td>16.67</td>\n",
       "      <td>2021-11-27</td>\n",
       "      <td>11</td>\n",
       "      <td>Альберт</td>\n",
       "      <td>25</td>\n",
       "      <td>Краснодар</td>\n",
       "      <td>free</td>\n",
       "    </tr>\n",
       "    <tr>\n",
       "      <th>18067</th>\n",
       "      <td>1534</td>\n",
       "      <td>2,371.71</td>\n",
       "      <td>15.89</td>\n",
       "      <td>2021-12-29</td>\n",
       "      <td>12</td>\n",
       "      <td>Альберт</td>\n",
       "      <td>25</td>\n",
       "      <td>Краснодар</td>\n",
       "      <td>free</td>\n",
       "    </tr>\n",
       "  </tbody>\n",
       "</table>\n",
       "<p>18068 rows × 9 columns</p>\n",
       "</div>"
      ],
      "text/plain": [
       "       user_id  distance  duration       date  month     name  age       city  \\\n",
       "0            1  4,409.92     25.60 2021-01-01      1     Кира   22     Тюмень   \n",
       "1            1  2,617.59     15.82 2021-01-18      1     Кира   22     Тюмень   \n",
       "2            1    754.16      6.23 2021-04-20      4     Кира   22     Тюмень   \n",
       "3            1  2,694.78     18.51 2021-08-11      8     Кира   22     Тюмень   \n",
       "4            1  4,028.69     26.27 2021-08-28      8     Кира   22     Тюмень   \n",
       "...        ...       ...       ...        ...    ...      ...  ...        ...   \n",
       "18063     1534  3,781.10     19.82 2021-11-04     11  Альберт   25  Краснодар   \n",
       "18064     1534  2,840.42     21.41 2021-11-16     11  Альберт   25  Краснодар   \n",
       "18065     1534  3,826.19     18.44 2021-11-18     11  Альберт   25  Краснодар   \n",
       "18066     1534  2,902.31     16.67 2021-11-27     11  Альберт   25  Краснодар   \n",
       "18067     1534  2,371.71     15.89 2021-12-29     12  Альберт   25  Краснодар   \n",
       "\n",
       "      subscription_type  \n",
       "0                 ultra  \n",
       "1                 ultra  \n",
       "2                 ultra  \n",
       "3                 ultra  \n",
       "4                 ultra  \n",
       "...                 ...  \n",
       "18063              free  \n",
       "18064              free  \n",
       "18065              free  \n",
       "18066              free  \n",
       "18067              free  \n",
       "\n",
       "[18068 rows x 9 columns]"
      ]
     },
     "execution_count": 64,
     "metadata": {},
     "output_type": "execute_result"
    }
   ],
   "source": [
    "data_1 = rides.merge(users, on='user_id')\n",
    "data_1"
   ]
  },
  {
   "cell_type": "code",
   "execution_count": 65,
   "id": "84931557-5f77-407e-865e-10a4305c290a",
   "metadata": {},
   "outputs": [
    {
     "data": {
      "text/html": [
       "<div>\n",
       "<style scoped>\n",
       "    .dataframe tbody tr th:only-of-type {\n",
       "        vertical-align: middle;\n",
       "    }\n",
       "\n",
       "    .dataframe tbody tr th {\n",
       "        vertical-align: top;\n",
       "    }\n",
       "\n",
       "    .dataframe thead th {\n",
       "        text-align: right;\n",
       "    }\n",
       "</style>\n",
       "<table border=\"1\" class=\"dataframe\">\n",
       "  <thead>\n",
       "    <tr style=\"text-align: right;\">\n",
       "      <th></th>\n",
       "      <th>user_id</th>\n",
       "      <th>distance</th>\n",
       "      <th>duration</th>\n",
       "      <th>date</th>\n",
       "      <th>month</th>\n",
       "      <th>name</th>\n",
       "      <th>age</th>\n",
       "      <th>city</th>\n",
       "      <th>subscription_type</th>\n",
       "      <th>minute_price</th>\n",
       "      <th>start_ride_price</th>\n",
       "      <th>subscription_fee</th>\n",
       "    </tr>\n",
       "  </thead>\n",
       "  <tbody>\n",
       "    <tr>\n",
       "      <th>0</th>\n",
       "      <td>1</td>\n",
       "      <td>4,409.92</td>\n",
       "      <td>25.60</td>\n",
       "      <td>2021-01-01</td>\n",
       "      <td>1</td>\n",
       "      <td>Кира</td>\n",
       "      <td>22</td>\n",
       "      <td>Тюмень</td>\n",
       "      <td>ultra</td>\n",
       "      <td>6</td>\n",
       "      <td>0</td>\n",
       "      <td>199</td>\n",
       "    </tr>\n",
       "    <tr>\n",
       "      <th>1</th>\n",
       "      <td>1</td>\n",
       "      <td>2,617.59</td>\n",
       "      <td>15.82</td>\n",
       "      <td>2021-01-18</td>\n",
       "      <td>1</td>\n",
       "      <td>Кира</td>\n",
       "      <td>22</td>\n",
       "      <td>Тюмень</td>\n",
       "      <td>ultra</td>\n",
       "      <td>6</td>\n",
       "      <td>0</td>\n",
       "      <td>199</td>\n",
       "    </tr>\n",
       "    <tr>\n",
       "      <th>2</th>\n",
       "      <td>1</td>\n",
       "      <td>754.16</td>\n",
       "      <td>6.23</td>\n",
       "      <td>2021-04-20</td>\n",
       "      <td>4</td>\n",
       "      <td>Кира</td>\n",
       "      <td>22</td>\n",
       "      <td>Тюмень</td>\n",
       "      <td>ultra</td>\n",
       "      <td>6</td>\n",
       "      <td>0</td>\n",
       "      <td>199</td>\n",
       "    </tr>\n",
       "    <tr>\n",
       "      <th>3</th>\n",
       "      <td>1</td>\n",
       "      <td>2,694.78</td>\n",
       "      <td>18.51</td>\n",
       "      <td>2021-08-11</td>\n",
       "      <td>8</td>\n",
       "      <td>Кира</td>\n",
       "      <td>22</td>\n",
       "      <td>Тюмень</td>\n",
       "      <td>ultra</td>\n",
       "      <td>6</td>\n",
       "      <td>0</td>\n",
       "      <td>199</td>\n",
       "    </tr>\n",
       "    <tr>\n",
       "      <th>4</th>\n",
       "      <td>1</td>\n",
       "      <td>4,028.69</td>\n",
       "      <td>26.27</td>\n",
       "      <td>2021-08-28</td>\n",
       "      <td>8</td>\n",
       "      <td>Кира</td>\n",
       "      <td>22</td>\n",
       "      <td>Тюмень</td>\n",
       "      <td>ultra</td>\n",
       "      <td>6</td>\n",
       "      <td>0</td>\n",
       "      <td>199</td>\n",
       "    </tr>\n",
       "    <tr>\n",
       "      <th>...</th>\n",
       "      <td>...</td>\n",
       "      <td>...</td>\n",
       "      <td>...</td>\n",
       "      <td>...</td>\n",
       "      <td>...</td>\n",
       "      <td>...</td>\n",
       "      <td>...</td>\n",
       "      <td>...</td>\n",
       "      <td>...</td>\n",
       "      <td>...</td>\n",
       "      <td>...</td>\n",
       "      <td>...</td>\n",
       "    </tr>\n",
       "    <tr>\n",
       "      <th>18063</th>\n",
       "      <td>1534</td>\n",
       "      <td>3,781.10</td>\n",
       "      <td>19.82</td>\n",
       "      <td>2021-11-04</td>\n",
       "      <td>11</td>\n",
       "      <td>Альберт</td>\n",
       "      <td>25</td>\n",
       "      <td>Краснодар</td>\n",
       "      <td>free</td>\n",
       "      <td>8</td>\n",
       "      <td>50</td>\n",
       "      <td>0</td>\n",
       "    </tr>\n",
       "    <tr>\n",
       "      <th>18064</th>\n",
       "      <td>1534</td>\n",
       "      <td>2,840.42</td>\n",
       "      <td>21.41</td>\n",
       "      <td>2021-11-16</td>\n",
       "      <td>11</td>\n",
       "      <td>Альберт</td>\n",
       "      <td>25</td>\n",
       "      <td>Краснодар</td>\n",
       "      <td>free</td>\n",
       "      <td>8</td>\n",
       "      <td>50</td>\n",
       "      <td>0</td>\n",
       "    </tr>\n",
       "    <tr>\n",
       "      <th>18065</th>\n",
       "      <td>1534</td>\n",
       "      <td>3,826.19</td>\n",
       "      <td>18.44</td>\n",
       "      <td>2021-11-18</td>\n",
       "      <td>11</td>\n",
       "      <td>Альберт</td>\n",
       "      <td>25</td>\n",
       "      <td>Краснодар</td>\n",
       "      <td>free</td>\n",
       "      <td>8</td>\n",
       "      <td>50</td>\n",
       "      <td>0</td>\n",
       "    </tr>\n",
       "    <tr>\n",
       "      <th>18066</th>\n",
       "      <td>1534</td>\n",
       "      <td>2,902.31</td>\n",
       "      <td>16.67</td>\n",
       "      <td>2021-11-27</td>\n",
       "      <td>11</td>\n",
       "      <td>Альберт</td>\n",
       "      <td>25</td>\n",
       "      <td>Краснодар</td>\n",
       "      <td>free</td>\n",
       "      <td>8</td>\n",
       "      <td>50</td>\n",
       "      <td>0</td>\n",
       "    </tr>\n",
       "    <tr>\n",
       "      <th>18067</th>\n",
       "      <td>1534</td>\n",
       "      <td>2,371.71</td>\n",
       "      <td>15.89</td>\n",
       "      <td>2021-12-29</td>\n",
       "      <td>12</td>\n",
       "      <td>Альберт</td>\n",
       "      <td>25</td>\n",
       "      <td>Краснодар</td>\n",
       "      <td>free</td>\n",
       "      <td>8</td>\n",
       "      <td>50</td>\n",
       "      <td>0</td>\n",
       "    </tr>\n",
       "  </tbody>\n",
       "</table>\n",
       "<p>18068 rows × 12 columns</p>\n",
       "</div>"
      ],
      "text/plain": [
       "       user_id  distance  duration       date  month     name  age       city  \\\n",
       "0            1  4,409.92     25.60 2021-01-01      1     Кира   22     Тюмень   \n",
       "1            1  2,617.59     15.82 2021-01-18      1     Кира   22     Тюмень   \n",
       "2            1    754.16      6.23 2021-04-20      4     Кира   22     Тюмень   \n",
       "3            1  2,694.78     18.51 2021-08-11      8     Кира   22     Тюмень   \n",
       "4            1  4,028.69     26.27 2021-08-28      8     Кира   22     Тюмень   \n",
       "...        ...       ...       ...        ...    ...      ...  ...        ...   \n",
       "18063     1534  3,781.10     19.82 2021-11-04     11  Альберт   25  Краснодар   \n",
       "18064     1534  2,840.42     21.41 2021-11-16     11  Альберт   25  Краснодар   \n",
       "18065     1534  3,826.19     18.44 2021-11-18     11  Альберт   25  Краснодар   \n",
       "18066     1534  2,902.31     16.67 2021-11-27     11  Альберт   25  Краснодар   \n",
       "18067     1534  2,371.71     15.89 2021-12-29     12  Альберт   25  Краснодар   \n",
       "\n",
       "      subscription_type  minute_price  start_ride_price  subscription_fee  \n",
       "0                 ultra             6                 0               199  \n",
       "1                 ultra             6                 0               199  \n",
       "2                 ultra             6                 0               199  \n",
       "3                 ultra             6                 0               199  \n",
       "4                 ultra             6                 0               199  \n",
       "...                 ...           ...               ...               ...  \n",
       "18063              free             8                50                 0  \n",
       "18064              free             8                50                 0  \n",
       "18065              free             8                50                 0  \n",
       "18066              free             8                50                 0  \n",
       "18067              free             8                50                 0  \n",
       "\n",
       "[18068 rows x 12 columns]"
      ]
     },
     "execution_count": 65,
     "metadata": {},
     "output_type": "execute_result"
    }
   ],
   "source": [
    "data_total = data_1.merge(subscriptions, on='subscription_type')\n",
    "data_total"
   ]
  },
  {
   "cell_type": "code",
   "execution_count": 66,
   "id": "4f99f908",
   "metadata": {},
   "outputs": [
    {
     "data": {
      "text/plain": [
       "user_id              0\n",
       "distance             0\n",
       "duration             0\n",
       "date                 0\n",
       "month                0\n",
       "name                 0\n",
       "age                  0\n",
       "city                 0\n",
       "subscription_type    0\n",
       "minute_price         0\n",
       "start_ride_price     0\n",
       "subscription_fee     0\n",
       "dtype: int64"
      ]
     },
     "execution_count": 66,
     "metadata": {},
     "output_type": "execute_result"
    }
   ],
   "source": [
    "# Проверим на пропуски объединенный датасет:\n",
    "data_total.isna().sum().sort_values(ascending=False)"
   ]
  },
  {
   "cell_type": "markdown",
   "id": "a49468d7",
   "metadata": {},
   "source": [
    "В объединенном датасете пропусков нет."
   ]
  },
  {
   "cell_type": "markdown",
   "id": "11c3ebe7-7be7-424d-b31f-ee10ef66f92a",
   "metadata": {},
   "source": [
    "#### 4.2 Создадим ещё два датафрейма из датафрейма, созданного на этапе 4.1:\n",
    "\n",
    "* c данными о пользователях без подписки;\n",
    "* с данными о пользователях с подпиской."
   ]
  },
  {
   "cell_type": "code",
   "execution_count": 67,
   "id": "d28870cf-2564-481f-aba0-55d6ba0119cd",
   "metadata": {},
   "outputs": [
    {
     "data": {
      "text/html": [
       "<div>\n",
       "<style scoped>\n",
       "    .dataframe tbody tr th:only-of-type {\n",
       "        vertical-align: middle;\n",
       "    }\n",
       "\n",
       "    .dataframe tbody tr th {\n",
       "        vertical-align: top;\n",
       "    }\n",
       "\n",
       "    .dataframe thead th {\n",
       "        text-align: right;\n",
       "    }\n",
       "</style>\n",
       "<table border=\"1\" class=\"dataframe\">\n",
       "  <thead>\n",
       "    <tr style=\"text-align: right;\">\n",
       "      <th></th>\n",
       "      <th>user_id</th>\n",
       "      <th>distance</th>\n",
       "      <th>duration</th>\n",
       "      <th>date</th>\n",
       "      <th>month</th>\n",
       "      <th>name</th>\n",
       "      <th>age</th>\n",
       "      <th>city</th>\n",
       "      <th>subscription_type</th>\n",
       "      <th>minute_price</th>\n",
       "      <th>start_ride_price</th>\n",
       "      <th>subscription_fee</th>\n",
       "    </tr>\n",
       "  </thead>\n",
       "  <tbody>\n",
       "    <tr>\n",
       "      <th>0</th>\n",
       "      <td>1</td>\n",
       "      <td>4,409.92</td>\n",
       "      <td>25.60</td>\n",
       "      <td>2021-01-01</td>\n",
       "      <td>1</td>\n",
       "      <td>Кира</td>\n",
       "      <td>22</td>\n",
       "      <td>Тюмень</td>\n",
       "      <td>ultra</td>\n",
       "      <td>6</td>\n",
       "      <td>0</td>\n",
       "      <td>199</td>\n",
       "    </tr>\n",
       "    <tr>\n",
       "      <th>1</th>\n",
       "      <td>1</td>\n",
       "      <td>2,617.59</td>\n",
       "      <td>15.82</td>\n",
       "      <td>2021-01-18</td>\n",
       "      <td>1</td>\n",
       "      <td>Кира</td>\n",
       "      <td>22</td>\n",
       "      <td>Тюмень</td>\n",
       "      <td>ultra</td>\n",
       "      <td>6</td>\n",
       "      <td>0</td>\n",
       "      <td>199</td>\n",
       "    </tr>\n",
       "    <tr>\n",
       "      <th>2</th>\n",
       "      <td>1</td>\n",
       "      <td>754.16</td>\n",
       "      <td>6.23</td>\n",
       "      <td>2021-04-20</td>\n",
       "      <td>4</td>\n",
       "      <td>Кира</td>\n",
       "      <td>22</td>\n",
       "      <td>Тюмень</td>\n",
       "      <td>ultra</td>\n",
       "      <td>6</td>\n",
       "      <td>0</td>\n",
       "      <td>199</td>\n",
       "    </tr>\n",
       "    <tr>\n",
       "      <th>3</th>\n",
       "      <td>1</td>\n",
       "      <td>2,694.78</td>\n",
       "      <td>18.51</td>\n",
       "      <td>2021-08-11</td>\n",
       "      <td>8</td>\n",
       "      <td>Кира</td>\n",
       "      <td>22</td>\n",
       "      <td>Тюмень</td>\n",
       "      <td>ultra</td>\n",
       "      <td>6</td>\n",
       "      <td>0</td>\n",
       "      <td>199</td>\n",
       "    </tr>\n",
       "    <tr>\n",
       "      <th>4</th>\n",
       "      <td>1</td>\n",
       "      <td>4,028.69</td>\n",
       "      <td>26.27</td>\n",
       "      <td>2021-08-28</td>\n",
       "      <td>8</td>\n",
       "      <td>Кира</td>\n",
       "      <td>22</td>\n",
       "      <td>Тюмень</td>\n",
       "      <td>ultra</td>\n",
       "      <td>6</td>\n",
       "      <td>0</td>\n",
       "      <td>199</td>\n",
       "    </tr>\n",
       "    <tr>\n",
       "      <th>...</th>\n",
       "      <td>...</td>\n",
       "      <td>...</td>\n",
       "      <td>...</td>\n",
       "      <td>...</td>\n",
       "      <td>...</td>\n",
       "      <td>...</td>\n",
       "      <td>...</td>\n",
       "      <td>...</td>\n",
       "      <td>...</td>\n",
       "      <td>...</td>\n",
       "      <td>...</td>\n",
       "      <td>...</td>\n",
       "    </tr>\n",
       "    <tr>\n",
       "      <th>6495</th>\n",
       "      <td>699</td>\n",
       "      <td>3,973.05</td>\n",
       "      <td>24.67</td>\n",
       "      <td>2021-08-29</td>\n",
       "      <td>8</td>\n",
       "      <td>Оксана</td>\n",
       "      <td>22</td>\n",
       "      <td>Москва</td>\n",
       "      <td>ultra</td>\n",
       "      <td>6</td>\n",
       "      <td>0</td>\n",
       "      <td>199</td>\n",
       "    </tr>\n",
       "    <tr>\n",
       "      <th>6496</th>\n",
       "      <td>699</td>\n",
       "      <td>3,288.70</td>\n",
       "      <td>15.89</td>\n",
       "      <td>2021-09-12</td>\n",
       "      <td>9</td>\n",
       "      <td>Оксана</td>\n",
       "      <td>22</td>\n",
       "      <td>Москва</td>\n",
       "      <td>ultra</td>\n",
       "      <td>6</td>\n",
       "      <td>0</td>\n",
       "      <td>199</td>\n",
       "    </tr>\n",
       "    <tr>\n",
       "      <th>6497</th>\n",
       "      <td>699</td>\n",
       "      <td>3,076.16</td>\n",
       "      <td>14.39</td>\n",
       "      <td>2021-09-26</td>\n",
       "      <td>9</td>\n",
       "      <td>Оксана</td>\n",
       "      <td>22</td>\n",
       "      <td>Москва</td>\n",
       "      <td>ultra</td>\n",
       "      <td>6</td>\n",
       "      <td>0</td>\n",
       "      <td>199</td>\n",
       "    </tr>\n",
       "    <tr>\n",
       "      <th>6498</th>\n",
       "      <td>699</td>\n",
       "      <td>4,707.85</td>\n",
       "      <td>15.84</td>\n",
       "      <td>2021-10-17</td>\n",
       "      <td>10</td>\n",
       "      <td>Оксана</td>\n",
       "      <td>22</td>\n",
       "      <td>Москва</td>\n",
       "      <td>ultra</td>\n",
       "      <td>6</td>\n",
       "      <td>0</td>\n",
       "      <td>199</td>\n",
       "    </tr>\n",
       "    <tr>\n",
       "      <th>6499</th>\n",
       "      <td>699</td>\n",
       "      <td>3,202.89</td>\n",
       "      <td>25.22</td>\n",
       "      <td>2021-12-03</td>\n",
       "      <td>12</td>\n",
       "      <td>Оксана</td>\n",
       "      <td>22</td>\n",
       "      <td>Москва</td>\n",
       "      <td>ultra</td>\n",
       "      <td>6</td>\n",
       "      <td>0</td>\n",
       "      <td>199</td>\n",
       "    </tr>\n",
       "  </tbody>\n",
       "</table>\n",
       "<p>6500 rows × 12 columns</p>\n",
       "</div>"
      ],
      "text/plain": [
       "      user_id  distance  duration       date  month    name  age    city  \\\n",
       "0           1  4,409.92     25.60 2021-01-01      1    Кира   22  Тюмень   \n",
       "1           1  2,617.59     15.82 2021-01-18      1    Кира   22  Тюмень   \n",
       "2           1    754.16      6.23 2021-04-20      4    Кира   22  Тюмень   \n",
       "3           1  2,694.78     18.51 2021-08-11      8    Кира   22  Тюмень   \n",
       "4           1  4,028.69     26.27 2021-08-28      8    Кира   22  Тюмень   \n",
       "...       ...       ...       ...        ...    ...     ...  ...     ...   \n",
       "6495      699  3,973.05     24.67 2021-08-29      8  Оксана   22  Москва   \n",
       "6496      699  3,288.70     15.89 2021-09-12      9  Оксана   22  Москва   \n",
       "6497      699  3,076.16     14.39 2021-09-26      9  Оксана   22  Москва   \n",
       "6498      699  4,707.85     15.84 2021-10-17     10  Оксана   22  Москва   \n",
       "6499      699  3,202.89     25.22 2021-12-03     12  Оксана   22  Москва   \n",
       "\n",
       "     subscription_type  minute_price  start_ride_price  subscription_fee  \n",
       "0                ultra             6                 0               199  \n",
       "1                ultra             6                 0               199  \n",
       "2                ultra             6                 0               199  \n",
       "3                ultra             6                 0               199  \n",
       "4                ultra             6                 0               199  \n",
       "...                ...           ...               ...               ...  \n",
       "6495             ultra             6                 0               199  \n",
       "6496             ultra             6                 0               199  \n",
       "6497             ultra             6                 0               199  \n",
       "6498             ultra             6                 0               199  \n",
       "6499             ultra             6                 0               199  \n",
       "\n",
       "[6500 rows x 12 columns]"
      ]
     },
     "execution_count": 67,
     "metadata": {},
     "output_type": "execute_result"
    }
   ],
   "source": [
    "# датафрейм с данными о пользователях с подпиской\n",
    "data_total_ultra = data_total[data_total['subscription_type'].isin(['ultra'])]\n",
    "data_total_ultra"
   ]
  },
  {
   "cell_type": "code",
   "execution_count": 68,
   "id": "73a7fdcd-2bfe-45d1-846d-d6f87006f6c4",
   "metadata": {},
   "outputs": [
    {
     "data": {
      "text/html": [
       "<div>\n",
       "<style scoped>\n",
       "    .dataframe tbody tr th:only-of-type {\n",
       "        vertical-align: middle;\n",
       "    }\n",
       "\n",
       "    .dataframe tbody tr th {\n",
       "        vertical-align: top;\n",
       "    }\n",
       "\n",
       "    .dataframe thead th {\n",
       "        text-align: right;\n",
       "    }\n",
       "</style>\n",
       "<table border=\"1\" class=\"dataframe\">\n",
       "  <thead>\n",
       "    <tr style=\"text-align: right;\">\n",
       "      <th></th>\n",
       "      <th>user_id</th>\n",
       "      <th>distance</th>\n",
       "      <th>duration</th>\n",
       "      <th>date</th>\n",
       "      <th>month</th>\n",
       "      <th>name</th>\n",
       "      <th>age</th>\n",
       "      <th>city</th>\n",
       "      <th>subscription_type</th>\n",
       "      <th>minute_price</th>\n",
       "      <th>start_ride_price</th>\n",
       "      <th>subscription_fee</th>\n",
       "    </tr>\n",
       "  </thead>\n",
       "  <tbody>\n",
       "    <tr>\n",
       "      <th>6500</th>\n",
       "      <td>700</td>\n",
       "      <td>2,515.69</td>\n",
       "      <td>14.94</td>\n",
       "      <td>2021-01-02</td>\n",
       "      <td>1</td>\n",
       "      <td>Айдар</td>\n",
       "      <td>22</td>\n",
       "      <td>Омск</td>\n",
       "      <td>free</td>\n",
       "      <td>8</td>\n",
       "      <td>50</td>\n",
       "      <td>0</td>\n",
       "    </tr>\n",
       "    <tr>\n",
       "      <th>6501</th>\n",
       "      <td>700</td>\n",
       "      <td>846.93</td>\n",
       "      <td>16.23</td>\n",
       "      <td>2021-02-01</td>\n",
       "      <td>2</td>\n",
       "      <td>Айдар</td>\n",
       "      <td>22</td>\n",
       "      <td>Омск</td>\n",
       "      <td>free</td>\n",
       "      <td>8</td>\n",
       "      <td>50</td>\n",
       "      <td>0</td>\n",
       "    </tr>\n",
       "    <tr>\n",
       "      <th>6502</th>\n",
       "      <td>700</td>\n",
       "      <td>4,004.43</td>\n",
       "      <td>20.02</td>\n",
       "      <td>2021-02-04</td>\n",
       "      <td>2</td>\n",
       "      <td>Айдар</td>\n",
       "      <td>22</td>\n",
       "      <td>Омск</td>\n",
       "      <td>free</td>\n",
       "      <td>8</td>\n",
       "      <td>50</td>\n",
       "      <td>0</td>\n",
       "    </tr>\n",
       "    <tr>\n",
       "      <th>6503</th>\n",
       "      <td>700</td>\n",
       "      <td>1,205.91</td>\n",
       "      <td>9.78</td>\n",
       "      <td>2021-02-10</td>\n",
       "      <td>2</td>\n",
       "      <td>Айдар</td>\n",
       "      <td>22</td>\n",
       "      <td>Омск</td>\n",
       "      <td>free</td>\n",
       "      <td>8</td>\n",
       "      <td>50</td>\n",
       "      <td>0</td>\n",
       "    </tr>\n",
       "    <tr>\n",
       "      <th>6504</th>\n",
       "      <td>700</td>\n",
       "      <td>3,047.38</td>\n",
       "      <td>17.43</td>\n",
       "      <td>2021-02-14</td>\n",
       "      <td>2</td>\n",
       "      <td>Айдар</td>\n",
       "      <td>22</td>\n",
       "      <td>Омск</td>\n",
       "      <td>free</td>\n",
       "      <td>8</td>\n",
       "      <td>50</td>\n",
       "      <td>0</td>\n",
       "    </tr>\n",
       "    <tr>\n",
       "      <th>...</th>\n",
       "      <td>...</td>\n",
       "      <td>...</td>\n",
       "      <td>...</td>\n",
       "      <td>...</td>\n",
       "      <td>...</td>\n",
       "      <td>...</td>\n",
       "      <td>...</td>\n",
       "      <td>...</td>\n",
       "      <td>...</td>\n",
       "      <td>...</td>\n",
       "      <td>...</td>\n",
       "      <td>...</td>\n",
       "    </tr>\n",
       "    <tr>\n",
       "      <th>18063</th>\n",
       "      <td>1534</td>\n",
       "      <td>3,781.10</td>\n",
       "      <td>19.82</td>\n",
       "      <td>2021-11-04</td>\n",
       "      <td>11</td>\n",
       "      <td>Альберт</td>\n",
       "      <td>25</td>\n",
       "      <td>Краснодар</td>\n",
       "      <td>free</td>\n",
       "      <td>8</td>\n",
       "      <td>50</td>\n",
       "      <td>0</td>\n",
       "    </tr>\n",
       "    <tr>\n",
       "      <th>18064</th>\n",
       "      <td>1534</td>\n",
       "      <td>2,840.42</td>\n",
       "      <td>21.41</td>\n",
       "      <td>2021-11-16</td>\n",
       "      <td>11</td>\n",
       "      <td>Альберт</td>\n",
       "      <td>25</td>\n",
       "      <td>Краснодар</td>\n",
       "      <td>free</td>\n",
       "      <td>8</td>\n",
       "      <td>50</td>\n",
       "      <td>0</td>\n",
       "    </tr>\n",
       "    <tr>\n",
       "      <th>18065</th>\n",
       "      <td>1534</td>\n",
       "      <td>3,826.19</td>\n",
       "      <td>18.44</td>\n",
       "      <td>2021-11-18</td>\n",
       "      <td>11</td>\n",
       "      <td>Альберт</td>\n",
       "      <td>25</td>\n",
       "      <td>Краснодар</td>\n",
       "      <td>free</td>\n",
       "      <td>8</td>\n",
       "      <td>50</td>\n",
       "      <td>0</td>\n",
       "    </tr>\n",
       "    <tr>\n",
       "      <th>18066</th>\n",
       "      <td>1534</td>\n",
       "      <td>2,902.31</td>\n",
       "      <td>16.67</td>\n",
       "      <td>2021-11-27</td>\n",
       "      <td>11</td>\n",
       "      <td>Альберт</td>\n",
       "      <td>25</td>\n",
       "      <td>Краснодар</td>\n",
       "      <td>free</td>\n",
       "      <td>8</td>\n",
       "      <td>50</td>\n",
       "      <td>0</td>\n",
       "    </tr>\n",
       "    <tr>\n",
       "      <th>18067</th>\n",
       "      <td>1534</td>\n",
       "      <td>2,371.71</td>\n",
       "      <td>15.89</td>\n",
       "      <td>2021-12-29</td>\n",
       "      <td>12</td>\n",
       "      <td>Альберт</td>\n",
       "      <td>25</td>\n",
       "      <td>Краснодар</td>\n",
       "      <td>free</td>\n",
       "      <td>8</td>\n",
       "      <td>50</td>\n",
       "      <td>0</td>\n",
       "    </tr>\n",
       "  </tbody>\n",
       "</table>\n",
       "<p>11568 rows × 12 columns</p>\n",
       "</div>"
      ],
      "text/plain": [
       "       user_id  distance  duration       date  month     name  age       city  \\\n",
       "6500       700  2,515.69     14.94 2021-01-02      1    Айдар   22       Омск   \n",
       "6501       700    846.93     16.23 2021-02-01      2    Айдар   22       Омск   \n",
       "6502       700  4,004.43     20.02 2021-02-04      2    Айдар   22       Омск   \n",
       "6503       700  1,205.91      9.78 2021-02-10      2    Айдар   22       Омск   \n",
       "6504       700  3,047.38     17.43 2021-02-14      2    Айдар   22       Омск   \n",
       "...        ...       ...       ...        ...    ...      ...  ...        ...   \n",
       "18063     1534  3,781.10     19.82 2021-11-04     11  Альберт   25  Краснодар   \n",
       "18064     1534  2,840.42     21.41 2021-11-16     11  Альберт   25  Краснодар   \n",
       "18065     1534  3,826.19     18.44 2021-11-18     11  Альберт   25  Краснодар   \n",
       "18066     1534  2,902.31     16.67 2021-11-27     11  Альберт   25  Краснодар   \n",
       "18067     1534  2,371.71     15.89 2021-12-29     12  Альберт   25  Краснодар   \n",
       "\n",
       "      subscription_type  minute_price  start_ride_price  subscription_fee  \n",
       "6500               free             8                50                 0  \n",
       "6501               free             8                50                 0  \n",
       "6502               free             8                50                 0  \n",
       "6503               free             8                50                 0  \n",
       "6504               free             8                50                 0  \n",
       "...                 ...           ...               ...               ...  \n",
       "18063              free             8                50                 0  \n",
       "18064              free             8                50                 0  \n",
       "18065              free             8                50                 0  \n",
       "18066              free             8                50                 0  \n",
       "18067              free             8                50                 0  \n",
       "\n",
       "[11568 rows x 12 columns]"
      ]
     },
     "execution_count": 68,
     "metadata": {},
     "output_type": "execute_result"
    }
   ],
   "source": [
    "# датафрейм с данными о пользователях без подписки\n",
    "data_total_free = data_total[data_total['subscription_type'].isin(['free'])]\n",
    "data_total_free"
   ]
  },
  {
   "cell_type": "markdown",
   "id": "80153b95-c203-42ff-8b09-bdb68f79261e",
   "metadata": {},
   "source": [
    "#### 4.3 Визуализируем информацию о расстоянии и времени поездок для пользователей обеих категорий."
   ]
  },
  {
   "cell_type": "markdown",
   "id": "91bd807a-0c5c-457d-8019-8217d0f9a4a1",
   "metadata": {},
   "source": [
    "##### Пользователи с подпиской ultra"
   ]
  },
  {
   "cell_type": "code",
   "execution_count": 69,
   "id": "ad75b293-ebec-4902-9161-da3ea51d8c9f",
   "metadata": {},
   "outputs": [
    {
     "data": {
      "text/plain": [
       "count   6,500.00\n",
       "mean    3,115.00\n",
       "std       837.00\n",
       "min       244.00\n",
       "25%     2,785.00\n",
       "50%     3,149.00\n",
       "75%     3,561.00\n",
       "max     5,700.00\n",
       "Name: distance, dtype: float64"
      ]
     },
     "execution_count": 69,
     "metadata": {},
     "output_type": "execute_result"
    }
   ],
   "source": [
    "# Общие данные о столбце distance\n",
    "data_total_ultra['distance'].describe().round(0)"
   ]
  },
  {
   "cell_type": "code",
   "execution_count": 70,
   "id": "0881055f-adef-4438-b787-53b96bd49b19",
   "metadata": {},
   "outputs": [
    {
     "data": {
      "image/png": "[encoded data removed]",
      "text/plain": [
       "<Figure size 360x360 with 1 Axes>"
      ]
     },
     "metadata": {
      "needs_background": "light"
     },
     "output_type": "display_data"
    }
   ],
   "source": [
    "# Построим гистограмму для визуализации полученных данных\n",
    "data_total_ultra.plot(y = 'distance', kind = 'hist', bins = 100, grid=True, figsize = (5,5), range = (0,7300))\n",
    "plt.title('Гистограмма расстояния, которое пользователи с подпиской ultra совершают за одну поездку сервиса самокатов GoFast')\n",
    "plt.xlabel('Расстояние за одну поездку');\n",
    "plt.ylabel(\"Частота поездок\");\n",
    "plt.show()"
   ]
  },
  {
   "cell_type": "markdown",
   "id": "0de17b0d-1abd-4886-8542-0783fce790d6",
   "metadata": {},
   "source": [
    "Наблюдаем также 2 пика. Чаще всего пользователи проезжают за одну поездку от 2900 до 3200 метров, самый пик 3100 метров (это самый высокий 1-ый пик). Второй пик - это расстояние около 1000 метров. Чем дальше от этих пиков, тем количество поездок становится меньше.\n",
    "\n",
    "Такое же интересное наблюдение, что между 2-мя пиками при расстоянии 2000 метров, количество поездок максимадльно снижается."
   ]
  },
  {
   "cell_type": "code",
   "execution_count": 71,
   "id": "b479887d-a4f6-4735-864d-d4aa44b0cbf0",
   "metadata": {},
   "outputs": [
    {
     "data": {
      "text/plain": [
       "count   6,500.00\n",
       "mean       19.00\n",
       "std         6.00\n",
       "min         4.00\n",
       "25%        15.00\n",
       "50%        18.00\n",
       "75%        22.00\n",
       "max        41.00\n",
       "Name: duration, dtype: float64"
      ]
     },
     "execution_count": 71,
     "metadata": {},
     "output_type": "execute_result"
    }
   ],
   "source": [
    "# Общие данные о столбце duration\n",
    "data_total_ultra['duration'].describe().round(0)"
   ]
  },
  {
   "cell_type": "code",
   "execution_count": 72,
   "id": "2a17dbaf-29ee-4bc5-a47d-15fd05379ffe",
   "metadata": {},
   "outputs": [
    {
     "data": {
      "image/png": "[encoded data removed]",
      "text/plain": [
       "<Figure size 360x360 with 1 Axes>"
      ]
     },
     "metadata": {
      "needs_background": "light"
     },
     "output_type": "display_data"
    }
   ],
   "source": [
    "# Построим гистограмму для визуализации полученных данных\n",
    "data_total_ultra.plot(y = 'duration', kind = 'hist', bins = 100, grid=True, figsize = (5,5), range = (0,42))\n",
    "plt.title('Гистограмма продолжительность поездок с подпиской ultra сервиса самокатов GoFast')\n",
    "plt.xlabel('Продолжительность поездки');\n",
    "plt.ylabel(\"Частота поездок\");\n",
    "plt.show()"
   ]
  },
  {
   "cell_type": "markdown",
   "id": "7aa28f9b-462e-4fff-8a1e-bfadf70efc14",
   "metadata": {},
   "source": [
    "Чаще всего пользователи с подпиской ultra ездят на самокатах от 15 до 21 минуты."
   ]
  },
  {
   "cell_type": "markdown",
   "id": "21024314-7f55-4422-86a6-8c9aa1a7a39f",
   "metadata": {},
   "source": [
    "##### Пользователи без подписки free"
   ]
  },
  {
   "cell_type": "code",
   "execution_count": 73,
   "id": "e360a34c-3aac-425f-806e-c08189e42fdb",
   "metadata": {},
   "outputs": [
    {
     "data": {
      "text/plain": [
       "count   11,568.00\n",
       "mean     3,045.00\n",
       "std      1,246.00\n",
       "min          1.00\n",
       "25%      2,367.00\n",
       "50%      3,115.00\n",
       "75%      3,906.00\n",
       "max      7,211.00\n",
       "Name: distance, dtype: float64"
      ]
     },
     "execution_count": 73,
     "metadata": {},
     "output_type": "execute_result"
    }
   ],
   "source": [
    "# Общие данные о столбце distance\n",
    "data_total_free['distance'].describe().round(0)"
   ]
  },
  {
   "cell_type": "code",
   "execution_count": 74,
   "id": "3b084b7b-f2cf-4b1c-893d-e4312c1e26f4",
   "metadata": {},
   "outputs": [
    {
     "data": {
      "image/png": "[encoded data removed]",
      "text/plain": [
       "<Figure size 360x360 with 1 Axes>"
      ]
     },
     "metadata": {
      "needs_background": "light"
     },
     "output_type": "display_data"
    }
   ],
   "source": [
    "# Построим гистограмму для визуализации полученных данных\n",
    "data_total_free.plot(y = 'distance', kind = 'hist', bins = 100, grid=True, figsize = (5,5), range = (0,7300))\n",
    "plt.title('Гистограмма расстояния, которое пользователи без подписки free совершают за одну поездку сервиса самокатов GoFast')\n",
    "plt.xlabel('Расстояние за одну поездку');\n",
    "plt.ylabel(\"Частота поездок\");\n",
    "plt.show()"
   ]
  },
  {
   "cell_type": "markdown",
   "id": "bf132bb0-48e1-4a8c-a297-1e713714511a",
   "metadata": {},
   "source": [
    "Наблюдаем также 2 пика. Чаще всего пользователи без подписки free  проезжают за одну поездку от 2200 до 3800 метров, это самый высокий 1-ый пик, но он очень широкий по разбросу расстояний. Второй пик также досточно широкий и начинается с нуля, возможно, часть пользователей не разобрались как пользоваться либо самокатом, либо приложением и отменили поездку.\n",
    "\n",
    "Такое же интересное наблюдение, что между 2-мя пиками при расстоянии около 1500 метров, количество поездок максимадльно снижается."
   ]
  },
  {
   "cell_type": "code",
   "execution_count": 75,
   "id": "0c5d5a90-6bdb-469e-a828-1a0b7fa853ea",
   "metadata": {},
   "outputs": [
    {
     "data": {
      "text/plain": [
       "count   11,568.00\n",
       "mean        17.00\n",
       "std          6.00\n",
       "min          0.00\n",
       "25%         13.00\n",
       "50%         17.00\n",
       "75%         22.00\n",
       "max         35.00\n",
       "Name: duration, dtype: float64"
      ]
     },
     "execution_count": 75,
     "metadata": {},
     "output_type": "execute_result"
    }
   ],
   "source": [
    "# Общие данные о столбце duration\n",
    "data_total_free['duration'].describe().round(0)"
   ]
  },
  {
   "cell_type": "code",
   "execution_count": 76,
   "id": "8717f0cc-9db1-4883-a1e8-5cc4777fdaca",
   "metadata": {},
   "outputs": [
    {
     "data": {
      "image/png": "[encoded data removed]",
      "text/plain": [
       "<Figure size 360x360 with 1 Axes>"
      ]
     },
     "metadata": {
      "needs_background": "light"
     },
     "output_type": "display_data"
    }
   ],
   "source": [
    "# Построим гистограмму для визуализации полученных данных\n",
    "data_total_free.plot(y = 'duration', kind = 'hist', bins = 100, grid=True, figsize = (5,5), range = (0,42))\n",
    "plt.title('Гистограмма продолжительность поездок без подписки free сервиса самокатов GoFast')\n",
    "plt.xlabel('Продолжительность поездки');\n",
    "plt.ylabel(\"Частота поездок\");\n",
    "plt.show()"
   ]
  },
  {
   "cell_type": "markdown",
   "id": "5e67a9dc-25d2-4af9-8ba1-ea479b46230c",
   "metadata": {},
   "source": [
    "Чаще всего пользователи ездят на самокатах от 13 до 21 минуты. Есть интересный пик около нуля, возможно часть пользователей не разобрались как пользоваться либо самокатом, либо приложением и отменили поездку."
   ]
  },
  {
   "cell_type": "code",
   "execution_count": 77,
   "id": "26b1fa81",
   "metadata": {},
   "outputs": [
    {
     "data": {
      "image/png": "[encoded data removed]",
      "text/plain": [
       "<Figure size 1080x576 with 1 Axes>"
      ]
     },
     "metadata": {
      "needs_background": "light"
     },
     "output_type": "display_data"
    }
   ],
   "source": [
    "# Построим объединенные гистограммы расстояний поездок для пользователей с подпиской и без\n",
    "\n",
    "plt.figure(figsize=(15, 8))\n",
    "\n",
    "# Гистограмма для пользователей без подписки free\n",
    "sns.histplot(data_total_free['distance'], bins=70, color='lime', alpha=1, label='Без подписки: free')\n",
    "\n",
    "# Гистограмма для пользователей с подпиской ultra\n",
    "sns.histplot(data_total_ultra['distance'], bins=70, color='orange', alpha=1, label='С подпиской: ultra')\n",
    "\n",
    "# Добавляем медианы \n",
    "median_distance_ultra = np.median(data_total_ultra['distance'])\n",
    "median_distance_free = np.median(data_total_free['distance'])\n",
    "plt.axvline(median_distance_ultra, color='red', linestyle='dashed', linewidth=2, label='Медиана c подпиской')\n",
    "plt.axvline(median_distance_free, color='blue', linestyle='dashed', linewidth=2, label='Медиана c подпиской')\n",
    "\n",
    "# Добавляем легенду\n",
    "plt.legend(title='Обозначения',loc='best')\n",
    "\n",
    "# # Добавляем заголовок и отображение графика\n",
    "plt.title('Гистограммы расстояний, которые пользователи с подпиской и без совершают за одну поездку сервиса самокатов GoFast'\n",
    "          , fontsize=16)\n",
    "plt.xlabel('Расстояние за одну поездку')\n",
    "plt.ylabel('Частота поездок')\n",
    "plt.grid(True)\n",
    "plt.show()"
   ]
  },
  {
   "cell_type": "code",
   "execution_count": 78,
   "id": "6690f226",
   "metadata": {},
   "outputs": [
    {
     "data": {
      "image/png": "[encoded data removed]",
      "text/plain": [
       "<Figure size 1080x576 with 1 Axes>"
      ]
     },
     "metadata": {
      "needs_background": "light"
     },
     "output_type": "display_data"
    }
   ],
   "source": [
    "# Построим объединенные гистограммы расстояний поездок для пользователей с подпиской и без\n",
    "\n",
    "plt.figure(figsize=(15, 8))\n",
    "\n",
    "# Гистограмма для пользователей без подписки free\n",
    "sns.histplot(data_total_free['duration'], bins=70, color='Yellow', alpha=1, label='Без подписки: free')\n",
    "\n",
    "# Гистограмма для пользователей с подпиской ultra\n",
    "sns.histplot(data_total_ultra['duration'], bins=70, color='Pink', alpha=1, label='С подпиской: ultra')\n",
    "\n",
    "# Добавляем медианы \n",
    "median_duration_ultra = np.median(data_total_ultra['duration'])\n",
    "median_duration_free = np.median(data_total_free['duration'])\n",
    "plt.axvline(median_duration_ultra, color='red', linestyle='dashed', linewidth=2, label='Медиана c подпиской')\n",
    "plt.axvline(median_duration_free, color='blue', linestyle='dashed', linewidth=2, label='Медиана c подпиской')\n",
    "\n",
    "# Добавляем легенду\n",
    "plt.legend(title='Обозначения', loc='best')\n",
    "\n",
    "# # Добавляем заголовок и отображение графика\n",
    "plt.title('Гистограммы продолжительности поездок с подпиской и без сервиса самокатов GoFast'\n",
    "          , fontsize=16)\n",
    "plt.xlabel('Продолжительность поездки');\n",
    "plt.ylabel(\"Частота поездок\");\n",
    "plt.grid(True)\n",
    "plt.show()"
   ]
  },
  {
   "cell_type": "markdown",
   "id": "a72d5e3a-460b-44f1-af8b-af14c1a2a6a1",
   "metadata": {},
   "source": [
    "#### 4.4 Промежуточные выводы."
   ]
  },
  {
   "cell_type": "markdown",
   "id": "a47a3b6f-86fe-4a0c-8c81-12889321bfa7",
   "metadata": {},
   "source": [
    "* Объединил данные о пользователях, поездках и подписках в один датафрейм методом merge(). Проверил объединенный датасет на пропуски, - пропусков нет;\n",
    "* Создал ещё два датафрейма c данными о пользователях без подписки free и с данными о пользователях с подпиской ultra;\n",
    "* Пользователи с подпиской ultra: \n",
    "    * Пользователи с подпиской ultra ездят с четким пониманием своих потребностей в самокате и как раз гистограммы длительности и расстояния потребностей посторились достаточно узкие;\n",
    "    * Наблюдаем 2 пика на гистограмме расстояний одной поездки. Чаще всего пользователи проезжают за одну поездку от 2900 до 3200 метров, самый пик 3100 метров (это самый высокий 1-ый пик). Второй пик - это расстояние около 1000 метров. Чем дальше от этих пиков, тем количество поездок становится меньше. Такое же интересное наблюдение, что между 2-мя пиками при расстоянии 2000 метров, количество поездок максимадльно снижается;\n",
    "    * Чаще всего пользователи с подпиской ultra ездят на самокатах от 15 до 21 минуты.\n",
    "* Пользователи без подписки free:\n",
    "    * Пользователи без подписки free ездят в более широком диапазоне расстояний и времени поездки. И наблюдаются пики около нуля, возможно есть необходимость либо доработать приложение, либо инструкцию пользования самокатом, т.к. пользователи по итогу не совершили поездку;\n",
    "    * Наблюдаем также 2 пика на гистограмме расстояний одной поездки. Чаще всего пользователи без подписки free  проезжают за одну поездку от 2200 до 3800 метров, это самый высокий 1-ый пик, но он очень широкий по разбросу расстояний. Второй пик также досточно широкий и начинается с нуля, возможно, часть пользователей не разобрались как пользоваться либо самокатом, либо приложением и отменили поездку. Такое же интересное наблюдение, что между 2-мя пиками при расстоянии около 1500 метров, количество поездок максимадльно снижается.\n",
    "    * Чаще всего пользователи ездят на самокатах от 13 до 21 минуты. Есть интересный пик около нуля, возможно часть пользователей не разобрались как пользоваться либо самокатом, либо приложением и отменили поездку.\n"
   ]
  },
  {
   "cell_type": "markdown",
   "id": "dc2d8d10-50ed-40b2-aa35-d6b3bf6f0f3c",
   "metadata": {},
   "source": [
    "## Шаг 5. Подсчёт выручки"
   ]
  },
  {
   "cell_type": "markdown",
   "id": "20ec526f-5a24-4df0-ab18-24286666bc47",
   "metadata": {},
   "source": [
    "#### 5.1 Создадим датафрейм с агрегированными данными о поездках на основе датафрейма с объединёнными данными из шага 4: найдем суммарное расстояние, количество поездок и суммарное время для каждого пользователя за каждый месяц."
   ]
  },
  {
   "cell_type": "code",
   "execution_count": 79,
   "id": "691da135",
   "metadata": {},
   "outputs": [
    {
     "data": {
      "text/html": [
       "<div>\n",
       "<style scoped>\n",
       "    .dataframe tbody tr th:only-of-type {\n",
       "        vertical-align: middle;\n",
       "    }\n",
       "\n",
       "    .dataframe tbody tr th {\n",
       "        vertical-align: top;\n",
       "    }\n",
       "\n",
       "    .dataframe thead th {\n",
       "        text-align: right;\n",
       "    }\n",
       "</style>\n",
       "<table border=\"1\" class=\"dataframe\">\n",
       "  <thead>\n",
       "    <tr style=\"text-align: right;\">\n",
       "      <th></th>\n",
       "      <th>user_id</th>\n",
       "      <th>distance</th>\n",
       "      <th>duration</th>\n",
       "      <th>date</th>\n",
       "      <th>month</th>\n",
       "      <th>name</th>\n",
       "      <th>age</th>\n",
       "      <th>city</th>\n",
       "      <th>subscription_type</th>\n",
       "      <th>minute_price</th>\n",
       "      <th>start_ride_price</th>\n",
       "      <th>subscription_fee</th>\n",
       "    </tr>\n",
       "  </thead>\n",
       "  <tbody>\n",
       "    <tr>\n",
       "      <th>0</th>\n",
       "      <td>1</td>\n",
       "      <td>4,410.00</td>\n",
       "      <td>26.00</td>\n",
       "      <td>2021-01-01</td>\n",
       "      <td>1</td>\n",
       "      <td>Кира</td>\n",
       "      <td>22</td>\n",
       "      <td>Тюмень</td>\n",
       "      <td>ultra</td>\n",
       "      <td>6</td>\n",
       "      <td>0</td>\n",
       "      <td>199</td>\n",
       "    </tr>\n",
       "    <tr>\n",
       "      <th>1</th>\n",
       "      <td>1</td>\n",
       "      <td>2,618.00</td>\n",
       "      <td>16.00</td>\n",
       "      <td>2021-01-18</td>\n",
       "      <td>1</td>\n",
       "      <td>Кира</td>\n",
       "      <td>22</td>\n",
       "      <td>Тюмень</td>\n",
       "      <td>ultra</td>\n",
       "      <td>6</td>\n",
       "      <td>0</td>\n",
       "      <td>199</td>\n",
       "    </tr>\n",
       "    <tr>\n",
       "      <th>2</th>\n",
       "      <td>1</td>\n",
       "      <td>754.00</td>\n",
       "      <td>7.00</td>\n",
       "      <td>2021-04-20</td>\n",
       "      <td>4</td>\n",
       "      <td>Кира</td>\n",
       "      <td>22</td>\n",
       "      <td>Тюмень</td>\n",
       "      <td>ultra</td>\n",
       "      <td>6</td>\n",
       "      <td>0</td>\n",
       "      <td>199</td>\n",
       "    </tr>\n",
       "    <tr>\n",
       "      <th>3</th>\n",
       "      <td>1</td>\n",
       "      <td>2,695.00</td>\n",
       "      <td>19.00</td>\n",
       "      <td>2021-08-11</td>\n",
       "      <td>8</td>\n",
       "      <td>Кира</td>\n",
       "      <td>22</td>\n",
       "      <td>Тюмень</td>\n",
       "      <td>ultra</td>\n",
       "      <td>6</td>\n",
       "      <td>0</td>\n",
       "      <td>199</td>\n",
       "    </tr>\n",
       "    <tr>\n",
       "      <th>4</th>\n",
       "      <td>1</td>\n",
       "      <td>4,029.00</td>\n",
       "      <td>27.00</td>\n",
       "      <td>2021-08-28</td>\n",
       "      <td>8</td>\n",
       "      <td>Кира</td>\n",
       "      <td>22</td>\n",
       "      <td>Тюмень</td>\n",
       "      <td>ultra</td>\n",
       "      <td>6</td>\n",
       "      <td>0</td>\n",
       "      <td>199</td>\n",
       "    </tr>\n",
       "  </tbody>\n",
       "</table>\n",
       "</div>"
      ],
      "text/plain": [
       "   user_id  distance  duration       date  month  name  age    city  \\\n",
       "0        1  4,410.00     26.00 2021-01-01      1  Кира   22  Тюмень   \n",
       "1        1  2,618.00     16.00 2021-01-18      1  Кира   22  Тюмень   \n",
       "2        1    754.00      7.00 2021-04-20      4  Кира   22  Тюмень   \n",
       "3        1  2,695.00     19.00 2021-08-11      8  Кира   22  Тюмень   \n",
       "4        1  4,029.00     27.00 2021-08-28      8  Кира   22  Тюмень   \n",
       "\n",
       "  subscription_type  minute_price  start_ride_price  subscription_fee  \n",
       "0             ultra             6                 0               199  \n",
       "1             ultra             6                 0               199  \n",
       "2             ultra             6                 0               199  \n",
       "3             ultra             6                 0               199  \n",
       "4             ultra             6                 0               199  "
      ]
     },
     "execution_count": 79,
     "metadata": {},
     "output_type": "execute_result"
    }
   ],
   "source": [
    "# Продолжительность каждой поездки округляем с помощью метода «потолок» библиотеки numpy — np.ceil():\n",
    "# Дистанцию поездки с помощь round\n",
    "data_total['duration'] = np.ceil(data_total['duration'])\n",
    "data_total['distance'] = data_total['distance'].round(0)\n",
    "data_total.head()"
   ]
  },
  {
   "cell_type": "code",
   "execution_count": 80,
   "id": "c0656917-dc55-42d9-b2e4-d1af00b125ce",
   "metadata": {},
   "outputs": [
    {
     "data": {
      "text/html": [
       "<div>\n",
       "<style scoped>\n",
       "    .dataframe tbody tr th:only-of-type {\n",
       "        vertical-align: middle;\n",
       "    }\n",
       "\n",
       "    .dataframe tbody tr th {\n",
       "        vertical-align: top;\n",
       "    }\n",
       "\n",
       "    .dataframe thead th {\n",
       "        text-align: right;\n",
       "    }\n",
       "</style>\n",
       "<table border=\"1\" class=\"dataframe\">\n",
       "  <thead>\n",
       "    <tr style=\"text-align: right;\">\n",
       "      <th></th>\n",
       "      <th>user_id</th>\n",
       "      <th>name</th>\n",
       "      <th>age</th>\n",
       "      <th>city</th>\n",
       "      <th>month</th>\n",
       "      <th>subscription_type</th>\n",
       "      <th>minute_price</th>\n",
       "      <th>start_ride_price</th>\n",
       "      <th>subscription_fee</th>\n",
       "      <th>total_distance</th>\n",
       "      <th>total_duration</th>\n",
       "      <th>count_trips</th>\n",
       "    </tr>\n",
       "  </thead>\n",
       "  <tbody>\n",
       "    <tr>\n",
       "      <th>0</th>\n",
       "      <td>1</td>\n",
       "      <td>Кира</td>\n",
       "      <td>22</td>\n",
       "      <td>Тюмень</td>\n",
       "      <td>1</td>\n",
       "      <td>ultra</td>\n",
       "      <td>6</td>\n",
       "      <td>0</td>\n",
       "      <td>199</td>\n",
       "      <td>7,028.00</td>\n",
       "      <td>42.00</td>\n",
       "      <td>2</td>\n",
       "    </tr>\n",
       "    <tr>\n",
       "      <th>1</th>\n",
       "      <td>1</td>\n",
       "      <td>Кира</td>\n",
       "      <td>22</td>\n",
       "      <td>Тюмень</td>\n",
       "      <td>4</td>\n",
       "      <td>ultra</td>\n",
       "      <td>6</td>\n",
       "      <td>0</td>\n",
       "      <td>199</td>\n",
       "      <td>754.00</td>\n",
       "      <td>7.00</td>\n",
       "      <td>1</td>\n",
       "    </tr>\n",
       "    <tr>\n",
       "      <th>2</th>\n",
       "      <td>1</td>\n",
       "      <td>Кира</td>\n",
       "      <td>22</td>\n",
       "      <td>Тюмень</td>\n",
       "      <td>8</td>\n",
       "      <td>ultra</td>\n",
       "      <td>6</td>\n",
       "      <td>0</td>\n",
       "      <td>199</td>\n",
       "      <td>6,724.00</td>\n",
       "      <td>46.00</td>\n",
       "      <td>2</td>\n",
       "    </tr>\n",
       "    <tr>\n",
       "      <th>3</th>\n",
       "      <td>1</td>\n",
       "      <td>Кира</td>\n",
       "      <td>22</td>\n",
       "      <td>Тюмень</td>\n",
       "      <td>10</td>\n",
       "      <td>ultra</td>\n",
       "      <td>6</td>\n",
       "      <td>0</td>\n",
       "      <td>199</td>\n",
       "      <td>5,810.00</td>\n",
       "      <td>32.00</td>\n",
       "      <td>2</td>\n",
       "    </tr>\n",
       "    <tr>\n",
       "      <th>4</th>\n",
       "      <td>1</td>\n",
       "      <td>Кира</td>\n",
       "      <td>22</td>\n",
       "      <td>Тюмень</td>\n",
       "      <td>11</td>\n",
       "      <td>ultra</td>\n",
       "      <td>6</td>\n",
       "      <td>0</td>\n",
       "      <td>199</td>\n",
       "      <td>7,004.00</td>\n",
       "      <td>56.00</td>\n",
       "      <td>3</td>\n",
       "    </tr>\n",
       "    <tr>\n",
       "      <th>...</th>\n",
       "      <td>...</td>\n",
       "      <td>...</td>\n",
       "      <td>...</td>\n",
       "      <td>...</td>\n",
       "      <td>...</td>\n",
       "      <td>...</td>\n",
       "      <td>...</td>\n",
       "      <td>...</td>\n",
       "      <td>...</td>\n",
       "      <td>...</td>\n",
       "      <td>...</td>\n",
       "      <td>...</td>\n",
       "    </tr>\n",
       "    <tr>\n",
       "      <th>11326</th>\n",
       "      <td>1534</td>\n",
       "      <td>Альберт</td>\n",
       "      <td>25</td>\n",
       "      <td>Краснодар</td>\n",
       "      <td>6</td>\n",
       "      <td>free</td>\n",
       "      <td>8</td>\n",
       "      <td>50</td>\n",
       "      <td>0</td>\n",
       "      <td>3,409.00</td>\n",
       "      <td>26.00</td>\n",
       "      <td>2</td>\n",
       "    </tr>\n",
       "    <tr>\n",
       "      <th>11327</th>\n",
       "      <td>1534</td>\n",
       "      <td>Альберт</td>\n",
       "      <td>25</td>\n",
       "      <td>Краснодар</td>\n",
       "      <td>8</td>\n",
       "      <td>free</td>\n",
       "      <td>8</td>\n",
       "      <td>50</td>\n",
       "      <td>0</td>\n",
       "      <td>7,623.00</td>\n",
       "      <td>48.00</td>\n",
       "      <td>2</td>\n",
       "    </tr>\n",
       "    <tr>\n",
       "      <th>11328</th>\n",
       "      <td>1534</td>\n",
       "      <td>Альберт</td>\n",
       "      <td>25</td>\n",
       "      <td>Краснодар</td>\n",
       "      <td>9</td>\n",
       "      <td>free</td>\n",
       "      <td>8</td>\n",
       "      <td>50</td>\n",
       "      <td>0</td>\n",
       "      <td>4,928.00</td>\n",
       "      <td>23.00</td>\n",
       "      <td>1</td>\n",
       "    </tr>\n",
       "    <tr>\n",
       "      <th>11329</th>\n",
       "      <td>1534</td>\n",
       "      <td>Альберт</td>\n",
       "      <td>25</td>\n",
       "      <td>Краснодар</td>\n",
       "      <td>11</td>\n",
       "      <td>free</td>\n",
       "      <td>8</td>\n",
       "      <td>50</td>\n",
       "      <td>0</td>\n",
       "      <td>13,349.00</td>\n",
       "      <td>78.00</td>\n",
       "      <td>4</td>\n",
       "    </tr>\n",
       "    <tr>\n",
       "      <th>11330</th>\n",
       "      <td>1534</td>\n",
       "      <td>Альберт</td>\n",
       "      <td>25</td>\n",
       "      <td>Краснодар</td>\n",
       "      <td>12</td>\n",
       "      <td>free</td>\n",
       "      <td>8</td>\n",
       "      <td>50</td>\n",
       "      <td>0</td>\n",
       "      <td>2,372.00</td>\n",
       "      <td>16.00</td>\n",
       "      <td>1</td>\n",
       "    </tr>\n",
       "  </tbody>\n",
       "</table>\n",
       "<p>11331 rows × 12 columns</p>\n",
       "</div>"
      ],
      "text/plain": [
       "       user_id     name  age       city  month subscription_type  \\\n",
       "0            1     Кира   22     Тюмень      1             ultra   \n",
       "1            1     Кира   22     Тюмень      4             ultra   \n",
       "2            1     Кира   22     Тюмень      8             ultra   \n",
       "3            1     Кира   22     Тюмень     10             ultra   \n",
       "4            1     Кира   22     Тюмень     11             ultra   \n",
       "...        ...      ...  ...        ...    ...               ...   \n",
       "11326     1534  Альберт   25  Краснодар      6              free   \n",
       "11327     1534  Альберт   25  Краснодар      8              free   \n",
       "11328     1534  Альберт   25  Краснодар      9              free   \n",
       "11329     1534  Альберт   25  Краснодар     11              free   \n",
       "11330     1534  Альберт   25  Краснодар     12              free   \n",
       "\n",
       "       minute_price  start_ride_price  subscription_fee  total_distance  \\\n",
       "0                 6                 0               199        7,028.00   \n",
       "1                 6                 0               199          754.00   \n",
       "2                 6                 0               199        6,724.00   \n",
       "3                 6                 0               199        5,810.00   \n",
       "4                 6                 0               199        7,004.00   \n",
       "...             ...               ...               ...             ...   \n",
       "11326             8                50                 0        3,409.00   \n",
       "11327             8                50                 0        7,623.00   \n",
       "11328             8                50                 0        4,928.00   \n",
       "11329             8                50                 0       13,349.00   \n",
       "11330             8                50                 0        2,372.00   \n",
       "\n",
       "       total_duration  count_trips  \n",
       "0               42.00            2  \n",
       "1                7.00            1  \n",
       "2               46.00            2  \n",
       "3               32.00            2  \n",
       "4               56.00            3  \n",
       "...               ...          ...  \n",
       "11326           26.00            2  \n",
       "11327           48.00            2  \n",
       "11328           23.00            1  \n",
       "11329           78.00            4  \n",
       "11330           16.00            1  \n",
       "\n",
       "[11331 rows x 12 columns]"
      ]
     },
     "execution_count": 80,
     "metadata": {},
     "output_type": "execute_result"
    }
   ],
   "source": [
    "# Создадим датафрейм\n",
    "data_grouped = data_total.groupby(\n",
    "    ['user_id', 'name', 'age', 'city', 'month', 'subscription_type', 'minute_price', 'start_ride_price', 'subscription_fee']\n",
    "    ).agg({'distance':'sum', 'duration':'sum', 'date':'count'\n",
    "}).reset_index()\n",
    "data_grouped.rename(columns={\n",
    "    'distance': 'total_distance',\n",
    "    'duration': 'total_duration',\n",
    "    'date':'count_trips'}, inplace=True)\n",
    "data_grouped"
   ]
  },
  {
   "cell_type": "code",
   "execution_count": 81,
   "id": "a3b9896f",
   "metadata": {},
   "outputs": [
    {
     "data": {
      "text/plain": [
       "user_id              0\n",
       "name                 0\n",
       "age                  0\n",
       "city                 0\n",
       "month                0\n",
       "subscription_type    0\n",
       "minute_price         0\n",
       "start_ride_price     0\n",
       "subscription_fee     0\n",
       "total_distance       0\n",
       "total_duration       0\n",
       "count_trips          0\n",
       "dtype: int64"
      ]
     },
     "execution_count": 81,
     "metadata": {},
     "output_type": "execute_result"
    }
   ],
   "source": [
    "# Проверим на пропуски новый датасет:\n",
    "data_grouped.isna().sum().sort_values(ascending=False)"
   ]
  },
  {
   "cell_type": "markdown",
   "id": "6873c8a1",
   "metadata": {},
   "source": [
    "Пропусков нет."
   ]
  },
  {
   "cell_type": "markdown",
   "id": "d1a666b1-70a4-413a-86ff-ca7ac5967798",
   "metadata": {},
   "source": [
    "#### 5.2 В этот же датафрейм добавим столбец с помесячной выручкой, которую принёс каждый пользователь. Для этого обратимся к информации об условиях оплаты для подписчиков и тех, у кого нет подписки. Продолжительность каждой поездки в каждой строке исходного датафрейма для подсчёта стоимости округлим до следующего целого числа: например, значения 25.3, 25.5 и 26.0 преобразуем в 26."
   ]
  },
  {
   "cell_type": "code",
   "execution_count": 82,
   "id": "2b34920c-493a-45d4-a2c5-25a82e2da2a2",
   "metadata": {},
   "outputs": [],
   "source": [
    "# Продолжительность каждой поездки и дистанцию округляем с помощью метода «потолок» библиотеки numpy — np.ceil():\n",
    "# data_grouped['duration'] = np.ceil(data_grouped['duration'])\n",
    "# data_grouped['distance'] = np.ceil(data_grouped['distance'])\n",
    "# data_grouped.head()"
   ]
  },
  {
   "cell_type": "code",
   "execution_count": 83,
   "id": "953cd4ec-206e-4535-969b-fa43178e17e9",
   "metadata": {},
   "outputs": [],
   "source": [
    "# Для заполнения данных о выручке, напишем функцию:\n",
    "def revenue (row):\n",
    "    total_duration = row['total_duration']\n",
    "    subscription_type = row['subscription_type']\n",
    "    count_trips = row['count_trips']\n",
    "    if subscription_type == 'ultra':\n",
    "        return (total_duration * row['minute_price'] + row['subscription_fee'])\n",
    "    elif subscription_type == 'free':\n",
    "        return (total_duration * row['minute_price'] + count_trips * row['start_ride_price'])"
   ]
  },
  {
   "cell_type": "code",
   "execution_count": 84,
   "id": "b03e478c-4650-46bd-b047-bdedcfd4da8a",
   "metadata": {},
   "outputs": [
    {
     "data": {
      "text/html": [
       "<div>\n",
       "<style scoped>\n",
       "    .dataframe tbody tr th:only-of-type {\n",
       "        vertical-align: middle;\n",
       "    }\n",
       "\n",
       "    .dataframe tbody tr th {\n",
       "        vertical-align: top;\n",
       "    }\n",
       "\n",
       "    .dataframe thead th {\n",
       "        text-align: right;\n",
       "    }\n",
       "</style>\n",
       "<table border=\"1\" class=\"dataframe\">\n",
       "  <thead>\n",
       "    <tr style=\"text-align: right;\">\n",
       "      <th></th>\n",
       "      <th>user_id</th>\n",
       "      <th>name</th>\n",
       "      <th>age</th>\n",
       "      <th>city</th>\n",
       "      <th>month</th>\n",
       "      <th>subscription_type</th>\n",
       "      <th>minute_price</th>\n",
       "      <th>start_ride_price</th>\n",
       "      <th>subscription_fee</th>\n",
       "      <th>total_distance</th>\n",
       "      <th>total_duration</th>\n",
       "      <th>count_trips</th>\n",
       "      <th>revenue</th>\n",
       "    </tr>\n",
       "  </thead>\n",
       "  <tbody>\n",
       "    <tr>\n",
       "      <th>0</th>\n",
       "      <td>1</td>\n",
       "      <td>Кира</td>\n",
       "      <td>22</td>\n",
       "      <td>Тюмень</td>\n",
       "      <td>1</td>\n",
       "      <td>ultra</td>\n",
       "      <td>6</td>\n",
       "      <td>0</td>\n",
       "      <td>199</td>\n",
       "      <td>7,028.00</td>\n",
       "      <td>42.00</td>\n",
       "      <td>2</td>\n",
       "      <td>451.00</td>\n",
       "    </tr>\n",
       "    <tr>\n",
       "      <th>1</th>\n",
       "      <td>1</td>\n",
       "      <td>Кира</td>\n",
       "      <td>22</td>\n",
       "      <td>Тюмень</td>\n",
       "      <td>4</td>\n",
       "      <td>ultra</td>\n",
       "      <td>6</td>\n",
       "      <td>0</td>\n",
       "      <td>199</td>\n",
       "      <td>754.00</td>\n",
       "      <td>7.00</td>\n",
       "      <td>1</td>\n",
       "      <td>241.00</td>\n",
       "    </tr>\n",
       "    <tr>\n",
       "      <th>2</th>\n",
       "      <td>1</td>\n",
       "      <td>Кира</td>\n",
       "      <td>22</td>\n",
       "      <td>Тюмень</td>\n",
       "      <td>8</td>\n",
       "      <td>ultra</td>\n",
       "      <td>6</td>\n",
       "      <td>0</td>\n",
       "      <td>199</td>\n",
       "      <td>6,724.00</td>\n",
       "      <td>46.00</td>\n",
       "      <td>2</td>\n",
       "      <td>475.00</td>\n",
       "    </tr>\n",
       "    <tr>\n",
       "      <th>3</th>\n",
       "      <td>1</td>\n",
       "      <td>Кира</td>\n",
       "      <td>22</td>\n",
       "      <td>Тюмень</td>\n",
       "      <td>10</td>\n",
       "      <td>ultra</td>\n",
       "      <td>6</td>\n",
       "      <td>0</td>\n",
       "      <td>199</td>\n",
       "      <td>5,810.00</td>\n",
       "      <td>32.00</td>\n",
       "      <td>2</td>\n",
       "      <td>391.00</td>\n",
       "    </tr>\n",
       "    <tr>\n",
       "      <th>4</th>\n",
       "      <td>1</td>\n",
       "      <td>Кира</td>\n",
       "      <td>22</td>\n",
       "      <td>Тюмень</td>\n",
       "      <td>11</td>\n",
       "      <td>ultra</td>\n",
       "      <td>6</td>\n",
       "      <td>0</td>\n",
       "      <td>199</td>\n",
       "      <td>7,004.00</td>\n",
       "      <td>56.00</td>\n",
       "      <td>3</td>\n",
       "      <td>535.00</td>\n",
       "    </tr>\n",
       "    <tr>\n",
       "      <th>...</th>\n",
       "      <td>...</td>\n",
       "      <td>...</td>\n",
       "      <td>...</td>\n",
       "      <td>...</td>\n",
       "      <td>...</td>\n",
       "      <td>...</td>\n",
       "      <td>...</td>\n",
       "      <td>...</td>\n",
       "      <td>...</td>\n",
       "      <td>...</td>\n",
       "      <td>...</td>\n",
       "      <td>...</td>\n",
       "      <td>...</td>\n",
       "    </tr>\n",
       "    <tr>\n",
       "      <th>11326</th>\n",
       "      <td>1534</td>\n",
       "      <td>Альберт</td>\n",
       "      <td>25</td>\n",
       "      <td>Краснодар</td>\n",
       "      <td>6</td>\n",
       "      <td>free</td>\n",
       "      <td>8</td>\n",
       "      <td>50</td>\n",
       "      <td>0</td>\n",
       "      <td>3,409.00</td>\n",
       "      <td>26.00</td>\n",
       "      <td>2</td>\n",
       "      <td>308.00</td>\n",
       "    </tr>\n",
       "    <tr>\n",
       "      <th>11327</th>\n",
       "      <td>1534</td>\n",
       "      <td>Альберт</td>\n",
       "      <td>25</td>\n",
       "      <td>Краснодар</td>\n",
       "      <td>8</td>\n",
       "      <td>free</td>\n",
       "      <td>8</td>\n",
       "      <td>50</td>\n",
       "      <td>0</td>\n",
       "      <td>7,623.00</td>\n",
       "      <td>48.00</td>\n",
       "      <td>2</td>\n",
       "      <td>484.00</td>\n",
       "    </tr>\n",
       "    <tr>\n",
       "      <th>11328</th>\n",
       "      <td>1534</td>\n",
       "      <td>Альберт</td>\n",
       "      <td>25</td>\n",
       "      <td>Краснодар</td>\n",
       "      <td>9</td>\n",
       "      <td>free</td>\n",
       "      <td>8</td>\n",
       "      <td>50</td>\n",
       "      <td>0</td>\n",
       "      <td>4,928.00</td>\n",
       "      <td>23.00</td>\n",
       "      <td>1</td>\n",
       "      <td>234.00</td>\n",
       "    </tr>\n",
       "    <tr>\n",
       "      <th>11329</th>\n",
       "      <td>1534</td>\n",
       "      <td>Альберт</td>\n",
       "      <td>25</td>\n",
       "      <td>Краснодар</td>\n",
       "      <td>11</td>\n",
       "      <td>free</td>\n",
       "      <td>8</td>\n",
       "      <td>50</td>\n",
       "      <td>0</td>\n",
       "      <td>13,349.00</td>\n",
       "      <td>78.00</td>\n",
       "      <td>4</td>\n",
       "      <td>824.00</td>\n",
       "    </tr>\n",
       "    <tr>\n",
       "      <th>11330</th>\n",
       "      <td>1534</td>\n",
       "      <td>Альберт</td>\n",
       "      <td>25</td>\n",
       "      <td>Краснодар</td>\n",
       "      <td>12</td>\n",
       "      <td>free</td>\n",
       "      <td>8</td>\n",
       "      <td>50</td>\n",
       "      <td>0</td>\n",
       "      <td>2,372.00</td>\n",
       "      <td>16.00</td>\n",
       "      <td>1</td>\n",
       "      <td>178.00</td>\n",
       "    </tr>\n",
       "  </tbody>\n",
       "</table>\n",
       "<p>11331 rows × 13 columns</p>\n",
       "</div>"
      ],
      "text/plain": [
       "       user_id     name  age       city  month subscription_type  \\\n",
       "0            1     Кира   22     Тюмень      1             ultra   \n",
       "1            1     Кира   22     Тюмень      4             ultra   \n",
       "2            1     Кира   22     Тюмень      8             ultra   \n",
       "3            1     Кира   22     Тюмень     10             ultra   \n",
       "4            1     Кира   22     Тюмень     11             ultra   \n",
       "...        ...      ...  ...        ...    ...               ...   \n",
       "11326     1534  Альберт   25  Краснодар      6              free   \n",
       "11327     1534  Альберт   25  Краснодар      8              free   \n",
       "11328     1534  Альберт   25  Краснодар      9              free   \n",
       "11329     1534  Альберт   25  Краснодар     11              free   \n",
       "11330     1534  Альберт   25  Краснодар     12              free   \n",
       "\n",
       "       minute_price  start_ride_price  subscription_fee  total_distance  \\\n",
       "0                 6                 0               199        7,028.00   \n",
       "1                 6                 0               199          754.00   \n",
       "2                 6                 0               199        6,724.00   \n",
       "3                 6                 0               199        5,810.00   \n",
       "4                 6                 0               199        7,004.00   \n",
       "...             ...               ...               ...             ...   \n",
       "11326             8                50                 0        3,409.00   \n",
       "11327             8                50                 0        7,623.00   \n",
       "11328             8                50                 0        4,928.00   \n",
       "11329             8                50                 0       13,349.00   \n",
       "11330             8                50                 0        2,372.00   \n",
       "\n",
       "       total_duration  count_trips  revenue  \n",
       "0               42.00            2   451.00  \n",
       "1                7.00            1   241.00  \n",
       "2               46.00            2   475.00  \n",
       "3               32.00            2   391.00  \n",
       "4               56.00            3   535.00  \n",
       "...               ...          ...      ...  \n",
       "11326           26.00            2   308.00  \n",
       "11327           48.00            2   484.00  \n",
       "11328           23.00            1   234.00  \n",
       "11329           78.00            4   824.00  \n",
       "11330           16.00            1   178.00  \n",
       "\n",
       "[11331 rows x 13 columns]"
      ]
     },
     "execution_count": 84,
     "metadata": {},
     "output_type": "execute_result"
    }
   ],
   "source": [
    "data_grouped['revenue'] = data_grouped.apply(revenue, axis = 1)\n",
    "data_grouped"
   ]
  },
  {
   "cell_type": "markdown",
   "id": "9a54caac-5785-4769-9d73-7939348b69ad",
   "metadata": {},
   "source": [
    "#### 5.3 Промежуточные выводы."
   ]
  },
  {
   "cell_type": "markdown",
   "id": "c2384228-2652-48fc-a7c8-a97883cd759a",
   "metadata": {},
   "source": [
    "* Создал датафрейм data_grouped с суммарным расстоянием, количеством поездок и суммарным временем для каждого пользователя за каждый месяц.\n",
    "* В датафрейм data_grouped добавил столбец с помесячной выручкой, которую принёс каждый пользователь в зависимости от типа подписки. "
   ]
  },
  {
   "cell_type": "markdown",
   "id": "f27e10dc-956a-4f18-9352-29a40df4e289",
   "metadata": {},
   "source": [
    "## Шаг 6. Проверка гипотез"
   ]
  },
  {
   "cell_type": "markdown",
   "id": "15e3f295-212a-4120-a0c7-ca85a5c83a1d",
   "metadata": {},
   "source": [
    "Продакт-менеджеры сервиса хотят увеличить количество пользователей с подпиской. Для этого они будут проводить различные акции, но сначала нужно выяснить несколько важных моментов.\n",
    "\n",
    "6.1 Важно понять, тратят ли пользователи с подпиской больше времени на поездки? Если да, то пользователи с подпиской могут быть «выгоднее» для компании. Проверим гипотезу. Используем исходные данные о продолжительности каждой сессии — отдельно для подписчиков и тех, у кого нет подписки.\n",
    "\n",
    "6.2 Расстояние одной поездки в 3130 метров — оптимальное с точки зрения износа самоката. Можно ли сказать, что среднее расстояние, которое проезжают пользователи с подпиской за одну поездку, не превышает 3130 метров? Проверим гипотезу и сделаем выводы.\n",
    "\n",
    "6.3 Проверим гипотезу о том, будет ли помесячная выручка от пользователей с подпиской по месяцам выше, чем выручка от пользователей без подписки. Сделаем вывод.\n",
    "\n",
    "6.4 Представим такую ситуацию: техническая команда сервиса обновила сервера, с которыми взаимодействует мобильное приложение. Она надеется, что из-за этого количество обращений в техподдержку значимо снизилось. Некоторый файл содержит для каждого пользователя данные о количестве обращений до обновления и после него. Проведем тест для проверки этой гипотезы.\n",
    "\n",
    "6.5 Промежуточные выводы."
   ]
  },
  {
   "cell_type": "markdown",
   "id": "8d07e7e1-373f-44ee-a56c-966a6d7b77a3",
   "metadata": {},
   "source": [
    "#### 6.1 Важно понять, тратят ли пользователи с подпиской больше времени на поездки? Если да, то пользователи с подпиской могут быть «выгоднее» для компании. Проверим гипотезу. Используем исходные данные о продолжительности каждой сессии — отдельно для подписчиков и тех, у кого нет подписки."
   ]
  },
  {
   "cell_type": "code",
   "execution_count": 86,
   "id": "c508bb81-a6fb-416d-b99a-e9a43dccf318",
   "metadata": {},
   "outputs": [
    {
     "data": {
      "text/html": [
       "<div>\n",
       "<style scoped>\n",
       "    .dataframe tbody tr th:only-of-type {\n",
       "        vertical-align: middle;\n",
       "    }\n",
       "\n",
       "    .dataframe tbody tr th {\n",
       "        vertical-align: top;\n",
       "    }\n",
       "\n",
       "    .dataframe thead tr th {\n",
       "        text-align: left;\n",
       "    }\n",
       "\n",
       "    .dataframe thead tr:last-of-type th {\n",
       "        text-align: right;\n",
       "    }\n",
       "</style>\n",
       "<table border=\"1\" class=\"dataframe\">\n",
       "  <thead>\n",
       "    <tr>\n",
       "      <th></th>\n",
       "      <th>mean</th>\n",
       "      <th>median</th>\n",
       "      <th>sum</th>\n",
       "    </tr>\n",
       "    <tr>\n",
       "      <th></th>\n",
       "      <th>duration</th>\n",
       "      <th>duration</th>\n",
       "      <th>duration</th>\n",
       "    </tr>\n",
       "    <tr>\n",
       "      <th>subscription_type</th>\n",
       "      <th></th>\n",
       "      <th></th>\n",
       "      <th></th>\n",
       "    </tr>\n",
       "  </thead>\n",
       "  <tbody>\n",
       "    <tr>\n",
       "      <th>free</th>\n",
       "      <td>17.89</td>\n",
       "      <td>18.00</td>\n",
       "      <td>206,963.00</td>\n",
       "    </tr>\n",
       "    <tr>\n",
       "      <th>ultra</th>\n",
       "      <td>19.04</td>\n",
       "      <td>19.00</td>\n",
       "      <td>123,745.00</td>\n",
       "    </tr>\n",
       "  </tbody>\n",
       "</table>\n",
       "</div>"
      ],
      "text/plain": [
       "                      mean   median        sum\n",
       "                  duration duration   duration\n",
       "subscription_type                             \n",
       "free                 17.89    18.00 206,963.00\n",
       "ultra                19.04    19.00 123,745.00"
      ]
     },
     "execution_count": 86,
     "metadata": {},
     "output_type": "execute_result"
    }
   ],
   "source": [
    "# Изучим, зависит ли время поездки от типа подписки:\n",
    "data_total_pivot_table = data_total.pivot_table(index = 'subscription_type', values = 'duration', aggfunc = ['mean', 'median', 'sum']).round(2)\n",
    "data_total_pivot_table"
   ]
  },
  {
   "cell_type": "markdown",
   "id": "da087441-8d94-4983-a347-2ea5e36c4000",
   "metadata": {},
   "source": [
    "Видим, что пользователи без подписки суммарно проехали 201 тыс. минут, а с подпиской 120 тыс. минут."
   ]
  },
  {
   "cell_type": "markdown",
   "id": "3e6a64e2-8afd-4e2d-811b-787cf885c5cf",
   "metadata": {},
   "source": [
    "##### Теперь проверим гипотезу тратят ли пользователи с подпиской больше времени на поездки.\n",
    "\n",
    "* Нулевая гипотеза: средние значения времени на поездки пользователей из двух групп равны.\n",
    "* Альтернативная гипотеза: среднее значение времени на поездки пользователей с подпиской больше, чем среднее значение времени на поездки пользователей без подписки\n",
    "\n",
    "Чтобы проверить такую гипотезу, нужно передать в метод ttest_ind()сначала выборку с суммами пользователей с подпиской (data_total_ultra), затем выборку с суммами пользователей без подписки (data_total_free) — порядок важен. В качестве alternative нужно указать 'greater', то есть «больше»."
   ]
  },
  {
   "cell_type": "code",
   "execution_count": 87,
   "id": "5f6c36d2-7eaa-418a-b820-505c5151c880",
   "metadata": {},
   "outputs": [
    {
     "data": {
      "text/plain": [
       "0   25.60\n",
       "1   15.82\n",
       "2    6.23\n",
       "3   18.51\n",
       "4   26.27\n",
       "Name: duration, dtype: float64"
      ]
     },
     "execution_count": 87,
     "metadata": {},
     "output_type": "execute_result"
    }
   ],
   "source": [
    "# зададим первый массив данных\n",
    "selection_ultra = data_total_ultra['duration']\n",
    "selection_ultra.head()"
   ]
  },
  {
   "cell_type": "code",
   "execution_count": 88,
   "id": "ac617274-28dd-4cfd-854a-ca06d84d183f",
   "metadata": {},
   "outputs": [
    {
     "data": {
      "text/plain": [
       "6500   14.94\n",
       "6501   16.23\n",
       "6502   20.02\n",
       "6503    9.78\n",
       "6504   17.43\n",
       "Name: duration, dtype: float64"
      ]
     },
     "execution_count": 88,
     "metadata": {},
     "output_type": "execute_result"
    }
   ],
   "source": [
    "# зададим второй массив данных\n",
    "selection_free = data_total_free['duration']\n",
    "selection_free.head()"
   ]
  },
  {
   "cell_type": "code",
   "execution_count": 89,
   "id": "01a66214-fd62-47b3-a4d2-cd6b9b1c7385",
   "metadata": {},
   "outputs": [
    {
     "name": "stdout",
     "output_type": "stream",
     "text": [
      "p-value: 1.2804098316645618e-34\n",
      "Отвергаем нулевую гипотезу\n"
     ]
    }
   ],
   "source": [
    "# задаём уровень значимости\n",
    "alpha = 0.05\n",
    "\n",
    "# траты первой группы пользователей (с подпиской)\n",
    "selection_ultra\n",
    "\n",
    "# траты второй группы пользователей (без подписки)\n",
    "selection_free\n",
    "\n",
    "# проводим ttest для двух выборок, в качестве альтернативной используем одностороннюю гипотезу «больше»\n",
    "results = st.ttest_ind(selection_ultra, selection_free, alternative='greater')\n",
    "\n",
    "print(f'p-value: {results.pvalue}')\n",
    "\n",
    "# проверяем p-value\n",
    "if results.pvalue < alpha:\n",
    "    print('Отвергаем нулевую гипотезу')\n",
    "else:\n",
    "    print('Нет оснований отвергнуть нулевую гипотезу')\n"
   ]
  },
  {
   "cell_type": "markdown",
   "id": "213fe0a0-b26a-402e-87a4-378bb61fb765",
   "metadata": {},
   "source": [
    "Полученное значение p-value (~1.280409e-34) меньше заданного уровня значимости, поэтому можно отвергнуть нулевую гипотезу. Есть основания говорить, что пользователи с подпиской тратят в сервисе больше времени на поездки и соответственно пользователи с подпиской «выгоднее» для компании."
   ]
  },
  {
   "cell_type": "markdown",
   "id": "445413f9-63ca-4ecc-888f-c49c90b0910b",
   "metadata": {},
   "source": [
    "#### 6.2 Расстояние одной поездки в 3130 метров — оптимальное с точки зрения износа самоката. Можно ли сказать, что среднее расстояние, которое проезжают пользователи с подпиской за одну поездку, не превышает 3130 метров? Проверим гипотезу и сделаем выводы."
   ]
  },
  {
   "cell_type": "markdown",
   "id": "2effb5e6",
   "metadata": {},
   "source": [
    "* Нулевая гипотеза:  среднее расстояние, которое проезжают пользователи с подпиской равно 3130 метров.\n",
    "* Альтернативная гипотеза: среднее расстояние, которое проезжают пользователи с подпиской больше 3130 метров."
   ]
  },
  {
   "cell_type": "markdown",
   "id": "a8c9e1f6",
   "metadata": {},
   "source": [
    "Для проведения одностороннего теста нужно использовать метод scipy.stats.ttest_1samp(). В качестве аргументов указываем alternative='greater' так как гипотеза правосторонняя."
   ]
  },
  {
   "cell_type": "code",
   "execution_count": 90,
   "id": "d9ba63e2-f04e-45cb-88c5-620da2e25a40",
   "metadata": {},
   "outputs": [
    {
     "name": "stdout",
     "output_type": "stream",
     "text": [
      "p-значение: 0.9195368847849785\n",
      "Не получилось отвергнуть нулевую гипотезу: среднее расстояние одной поездки равно 3130 метров\n"
     ]
    }
   ],
   "source": [
    "selection_ultra_distance = data_total_ultra['distance'] # массив данных с расстоянием, которое пользователи с подпиской ultra проезжают\n",
    "\n",
    "distance_trip = 3130 # расстояние одной поездки\n",
    "\n",
    "alpha = 0.05 # уровень статистической значимости\n",
    "\n",
    "results = st.ttest_1samp(\n",
    "    selection_ultra_distance, \n",
    "    distance_trip,\n",
    "    alternative='greater') # используем метод st.ttest_1samp\n",
    "\n",
    "print('p-значение:', results.pvalue) # добавляем в аргумент p-value\n",
    "\n",
    "if (results.pvalue < alpha): # сравниваем полученный p-value и уровень значимости\n",
    "    print('Отвергаем нулевую гипотезу: среднее расстояние одной поездки больше 3130 метров')\n",
    "else:\n",
    "    print('Не получилось отвергнуть нулевую гипотезу: среднее расстояние одной поездки равно 3130 метров')\n"
   ]
  },
  {
   "cell_type": "markdown",
   "id": "f2e2ec18-c7e1-414f-bae5-1ea29630e235",
   "metadata": {},
   "source": [
    "С учетом уровня статистической значимости alpha = 0.05, у нас нет оснований (нет достаточных данных) отвергать нулевую гипотезу о том, что среднее расстояние, пройденное пользователями с подпиской за одну поездку, равно 3130 метров."
   ]
  },
  {
   "cell_type": "code",
   "execution_count": 91,
   "id": "6df82eef-61b6-4508-a893-513393c7711d",
   "metadata": {},
   "outputs": [
    {
     "data": {
      "text/html": [
       "<div>\n",
       "<style scoped>\n",
       "    .dataframe tbody tr th:only-of-type {\n",
       "        vertical-align: middle;\n",
       "    }\n",
       "\n",
       "    .dataframe tbody tr th {\n",
       "        vertical-align: top;\n",
       "    }\n",
       "\n",
       "    .dataframe thead tr th {\n",
       "        text-align: left;\n",
       "    }\n",
       "\n",
       "    .dataframe thead tr:last-of-type th {\n",
       "        text-align: right;\n",
       "    }\n",
       "</style>\n",
       "<table border=\"1\" class=\"dataframe\">\n",
       "  <thead>\n",
       "    <tr>\n",
       "      <th></th>\n",
       "      <th>mean</th>\n",
       "      <th>median</th>\n",
       "      <th>sum</th>\n",
       "    </tr>\n",
       "    <tr>\n",
       "      <th></th>\n",
       "      <th>distance</th>\n",
       "      <th>distance</th>\n",
       "      <th>distance</th>\n",
       "    </tr>\n",
       "    <tr>\n",
       "      <th>subscription_type</th>\n",
       "      <th></th>\n",
       "      <th></th>\n",
       "      <th></th>\n",
       "    </tr>\n",
       "  </thead>\n",
       "  <tbody>\n",
       "    <tr>\n",
       "      <th>free</th>\n",
       "      <td>3,045.49</td>\n",
       "      <td>3,115.00</td>\n",
       "      <td>35,230,285.00</td>\n",
       "    </tr>\n",
       "    <tr>\n",
       "      <th>ultra</th>\n",
       "      <td>3,115.44</td>\n",
       "      <td>3,149.00</td>\n",
       "      <td>20,250,382.00</td>\n",
       "    </tr>\n",
       "  </tbody>\n",
       "</table>\n",
       "</div>"
      ],
      "text/plain": [
       "                      mean   median           sum\n",
       "                  distance distance      distance\n",
       "subscription_type                                \n",
       "free              3,045.49 3,115.00 35,230,285.00\n",
       "ultra             3,115.44 3,149.00 20,250,382.00"
      ]
     },
     "execution_count": 91,
     "metadata": {},
     "output_type": "execute_result"
    }
   ],
   "source": [
    "# но изучим, как же зависит дистанция поездки от типа подписки:\n",
    "data_total_pivot_table_distance = data_total.pivot_table(index = 'subscription_type', values = 'distance', aggfunc = ['mean', 'median', 'sum']).round(2)\n",
    "data_total_pivot_table_distance"
   ]
  },
  {
   "cell_type": "markdown",
   "id": "37fa13d6-264a-4c4a-b924-374213a77e61",
   "metadata": {},
   "source": [
    "Медианная дистанция одной поездки пользователей с подпиской состаляет 3149 метров. Это на 19 метров больше оптимального расстояния одной поездки."
   ]
  },
  {
   "cell_type": "markdown",
   "id": "1b4dec0e-6523-4c23-817b-24a548529df5",
   "metadata": {},
   "source": [
    "#### 6.3 Проверим гипотезу о том, будет ли помесячная выручка от пользователей с подпиской по месяцам выше, чем выручка от пользователей без подписки. Сделаем вывод."
   ]
  },
  {
   "cell_type": "markdown",
   "id": "154a8104-e063-4a51-96de-9e3e635ddbfa",
   "metadata": {},
   "source": [
    "Создадим ещё два датафрейма из датафрейма data_grouped:\n",
    "* c помесячной выручкой пользователей без подписки;\n",
    "* с помесячной выручкой пользователей с подпиской."
   ]
  },
  {
   "cell_type": "code",
   "execution_count": 92,
   "id": "6d6e8dac-c6b7-4013-9c3a-a93f6f9a4a41",
   "metadata": {},
   "outputs": [
    {
     "data": {
      "text/plain": [
       "0   451.00\n",
       "1   241.00\n",
       "2   475.00\n",
       "3   391.00\n",
       "4   535.00\n",
       "Name: revenue, dtype: float64"
      ]
     },
     "execution_count": 92,
     "metadata": {},
     "output_type": "execute_result"
    }
   ],
   "source": [
    "# датафрейм с помесячной выручкой пользователей с подпиской\n",
    "data_total_ultra_revenue = data_grouped.loc[data_grouped.subscription_type == 'ultra', 'revenue'] \n",
    "data_total_ultra_revenue.head()"
   ]
  },
  {
   "cell_type": "code",
   "execution_count": 93,
   "id": "e0ab7ceb-9a95-4808-908a-6a9c70e6dc67",
   "metadata": {},
   "outputs": [
    {
     "data": {
      "text/plain": [
       "4533   170.00\n",
       "4534   962.00\n",
       "4535   202.00\n",
       "4536   178.00\n",
       "4537   332.00\n",
       "Name: revenue, dtype: float64"
      ]
     },
     "execution_count": 93,
     "metadata": {},
     "output_type": "execute_result"
    }
   ],
   "source": [
    "# датафрейм с выручкой пользователей без подписки\n",
    "data_total_free_revenue = data_grouped.loc[data_grouped.subscription_type == 'free', 'revenue']\n",
    "data_total_free_revenue.head()"
   ]
  },
  {
   "cell_type": "markdown",
   "id": "cc7066ea-ab1a-4a80-9785-f54df90b98b9",
   "metadata": {},
   "source": [
    "##### Теперь проверим гипотезу будет ли помесячная выручка от пользователей с подпиской по месяцам выше, чем выручка от пользователей без подписки.\n",
    "\n",
    "* Нулевая гипотеза: средние значения помесячной выручки пользователей из двух групп равны.\n",
    "* Альтернативная гипотеза: среднее значение помесячной выручки от пользователей с подпиской по месяцам выше, чем выручка от пользователей без подписки\n",
    "\n",
    "Чтобы проверить такую гипотезу, нужно передать в метод ttest_ind()сначала выборку с помесячной выручкой пользователей с подпиской (data_total_ultra_revenue), затем выборку с помесячной выручкой пользователей без подписки (data_total_free_revenue) — порядок важен. В качестве alternative нужно указать 'greater', то есть «больше»."
   ]
  },
  {
   "cell_type": "code",
   "execution_count": 94,
   "id": "5d3a1590-116d-4dda-91ab-b896aaaa72e3",
   "metadata": {},
   "outputs": [
    {
     "name": "stdout",
     "output_type": "stream",
     "text": [
      "p-value: 1.8850394384715216e-31\n",
      "Отвергаем нулевую гипотезу\n"
     ]
    }
   ],
   "source": [
    "# задаём уровень значимости\n",
    "alpha = 0.05\n",
    "\n",
    "# выручка пользователей с подпиской\n",
    "data_total_ultra_revenue\n",
    "\n",
    "# выручка пользователей без подписки\n",
    "data_total_free_revenue\n",
    "\n",
    "# проводим ttest для двух выборок, в качестве альтернативной используем одностороннюю гипотезу «больше»\n",
    "results = st.ttest_ind(data_total_ultra_revenue, data_total_free_revenue, alternative='greater')\n",
    "\n",
    "print(f'p-value: {results.pvalue}')\n",
    "\n",
    "# проверяем p-value\n",
    "if results.pvalue < alpha:\n",
    "    print('Отвергаем нулевую гипотезу')\n",
    "else:\n",
    "    print('Нет оснований отвергнуть нулевую гипотезу')"
   ]
  },
  {
   "cell_type": "markdown",
   "id": "b2ab480e-f949-484e-83a4-541321542a23",
   "metadata": {},
   "source": [
    "Полученное значение p-value (2.8130926188487286e-35) меньше заданного уровня значимости 0.05, поэтому отвергаем нулевую гипотезу. Получается, что помесячная выручка от пользователей с подпиской по месяцам выше, чем выручка от пользователей без подписки."
   ]
  },
  {
   "cell_type": "markdown",
   "id": "fa42d159-d25c-483d-8a53-6bbed2b4161c",
   "metadata": {},
   "source": [
    "#### 6.4 Представим такую ситуацию: техническая команда сервиса обновила сервера, с которыми взаимодействует мобильное приложение. Она надеется, что из-за этого количество обращений в техподдержку значимо снизилось. Некоторый файл содержит для каждого пользователя данные о количестве обращений до обновления и после него. Какой тест нам понадобился бы для проверки этой гипотезы?"
   ]
  },
  {
   "cell_type": "markdown",
   "id": "06f1ea2e-9493-4219-9dd5-a49ffb694134",
   "metadata": {},
   "source": [
    "Выборки в этом случае будут зависимыми, иначе — парными. Парная выборка означает, что некоторая переменная измеряется дважды для одних и тех же объектов. В нашем случае это пара измерений для каждого пользователя — до и после обновления.\n",
    "\n",
    "Чтобы проверить гипотезу о равенстве среднего генеральной совокупности для зависимых (парных) выборок в Python, я бы применил метод scipy.stats.ttest_rel().\n",
    "\n",
    "Гипотезы в таком случае будут сформулированы так:\n",
    "* Нулевая гипотеза: среднее количество обращений до обновления равняется среднему количеству обращений после обновления.\n",
    "* Альтернативная гипотеза: среднее количество обращений до обновления будет меньше среднего количества обращений после обновления.\n",
    "\n",
    "Код будет выглядить следующим образом:\n",
    "\n",
    "results = st.ttest_rel(sample_1, sample_2, alternative='greater')\n",
    "\n",
    "так как передали методу ttest_rel значение аргумента alternative, то будет проверена альтернативная правостороння гипотеза."
   ]
  },
  {
   "cell_type": "markdown",
   "id": "498c12d7-8e39-4e7d-98d0-b4cf8bafd528",
   "metadata": {},
   "source": [
    "#### 6.5 Промежуточные выводы."
   ]
  },
  {
   "cell_type": "markdown",
   "id": "b1919610-2684-4778-b200-a9782920f498",
   "metadata": {},
   "source": [
    "* пользователи с подпиской тратят в сервисе больше времени на поездки и соответственно пользователи с подпиской «выгоднее» для компании /полученное значение p-value (~1.280409e-34) меньше заданного уровня значимости 0.05/;\n",
    "* пользователи с подпиской за одну поездку проезжают оптимальное расстояния в 3130 метров. С учетом уровня статистической значимости alpha = 0.05, у нас нет оснований (нет достаточных данных) отвергать нулевую гипотезу о том, что среднее расстояние, пройденное пользователями с подпиской за одну поездку, равно 3130 метров. Медианная дистанция одной поездки пользователей с подпиской состаляет 3149 метров. Это на 19 метров больше оптимального расстояния одной поездки.\n",
    "* помесячная выручка от пользователей с подпиской по месяцам выше, чем выручка от пользователей без подписки /полученное значение p-value (2.8130926188487286e-35) меньше заданного уровня значимости 0.05/;\n",
    "* Чтобы проверить гипотезу что количество обращений в техподдержку значимо снизилось после того, как техническая команда сервиса обновила сервера, с которыми взаимодействует мобильное приложение, я бы применил метод scipy.stats.ttest_rel()."
   ]
  },
  {
   "cell_type": "markdown",
   "id": "1caae377-a129-4c00-995b-6e1cb942477e",
   "metadata": {},
   "source": [
    "## Шаг 7. Распределения"
   ]
  },
  {
   "cell_type": "markdown",
   "id": "562d9c08-f0ff-463d-92e5-4f05dfbc579e",
   "metadata": {},
   "source": [
    "#### 7.1 Отделу маркетинга GoFast поставили задачу: нужно провести акцию с раздачей промокодов на один бесплатный месяц подписки, в рамках которой как минимум 100 существующих клиентов должны продлить эту подписку. То есть по завершении периода действия подписки пользователь может либо отказаться от неё, либо продлить, совершив соответствующий платёж.\n",
    "\n",
    "Эта акция уже проводилась ранее и по итогу выяснилось, что после бесплатного пробного периода подписку продлевают 10 % пользователей. Выясните, какое минимальное количество промокодов нужно разослать, чтобы вероятность не выполнить план была примерно 5 %. Подберите параметры распределения, описывающего эту ситуацию, постройте график распределения и сформулируйте ответ на вопрос о количестве промокодов."
   ]
  },
  {
   "cell_type": "markdown",
   "id": "e71ef70f-1f6b-44b7-bfcd-fad8b01c2997",
   "metadata": {},
   "source": [
    "Чтобы определить биномиальное распределение, нужны два параметра: количество попыток n и вероятность успеха p. \n",
    "* По условиям задачи, вероятность успеха p = 0.1 (10%).\n",
    "* Количество попыток, чтобы минимум 100 клиентов продлили подписку n = 100 / 0.1 = 1000.\n"
   ]
  },
  {
   "cell_type": "code",
   "execution_count": 95,
   "id": "ab261056-ca04-4810-9243-3dbdc43d4fa7",
   "metadata": {},
   "outputs": [
    {
     "name": "stderr",
     "output_type": "stream",
     "text": [
      "/opt/conda/lib/python3.9/site-packages/scipy/stats/_discrete_distns.py:78: RuntimeWarning: divide by zero encountered in _binom_pdf\n",
      "  return _boost._binom_pdf(x, n, p)\n"
     ]
    },
    {
     "data": {
      "image/png": "[encoded data removed]",
      "text/plain": [
       "<Figure size 864x360 with 1 Axes>"
      ]
     },
     "metadata": {
      "needs_background": "light"
     },
     "output_type": "display_data"
    }
   ],
   "source": [
    "# Построим гистограмму распределения\n",
    "from matplotlib import pyplot as plt\n",
    "from scipy.stats import binom\n",
    "\n",
    "n = 1000 # количество попыток\n",
    "p = 0.1 # вероятность успеха\n",
    "\n",
    "distr = [] # создаем список distr, в котором будете хранить значения распределения\n",
    "\n",
    "for k in range(0, n + 1):\n",
    "    current_value = binom.pmf(k, n, p)\n",
    "    distr.append(current_value)\n",
    "\n",
    "plt.figure(figsize=(12, 5))    \n",
    "plt.bar(range(0, n + 1), distr)\n",
    "plt.title(f'Гистограмма биноминального распределения вероятностей при рассылке {n} промокодов')\n",
    "plt.xlabel('Количество клиентов, продливших подписку');\n",
    "plt.ylabel(\"Вероятность продления подписки\");\n",
    "plt.show()"
   ]
  },
  {
   "cell_type": "markdown",
   "id": "4d0aec66-627e-4302-a3f5-ce813d62f024",
   "metadata": {},
   "source": [
    "При рассылке 1000 промокодов, вероятность получить меньше 100 подписок очень велика,на гистограмме видно, что в диапазоне от 70 до 100 успехов примерно половина всего распределения. Риск неприемлемо велик. Будем увеличивать количество рассылок с шагом 100."
   ]
  },
  {
   "cell_type": "code",
   "execution_count": 96,
   "id": "76bf2438-4810-4eeb-8f63-73dbffd11fb1",
   "metadata": {},
   "outputs": [
    {
     "data": {
      "image/png": "[encoded data removed]",
      "text/plain": [
       "<Figure size 864x360 with 1 Axes>"
      ]
     },
     "metadata": {
      "needs_background": "light"
     },
     "output_type": "display_data"
    }
   ],
   "source": [
    "from matplotlib import pyplot as plt\n",
    "from scipy.stats import binom\n",
    "\n",
    "n = 1100 # количество попыток\n",
    "p = 0.1 # вероятность успеха\n",
    "\n",
    "distr = []\n",
    "\n",
    "for k in range(0, n + 1):\n",
    "    current_value = binom.pmf(k, n, p)\n",
    "    distr.append(current_value)\n",
    "    \n",
    "plt.figure(figsize=(12, 5))    \n",
    "plt.bar(range(0, n + 1), distr)\n",
    "plt.title(f'Гистограмма биноминального распределения вероятностей при рассылке {n} промокодов')\n",
    "plt.xlabel('Количество клиентов, продливших подписку');\n",
    "plt.ylabel(\"Вероятность продления подписки\");\n",
    "plt.show()"
   ]
  },
  {
   "cell_type": "markdown",
   "id": "a339e37f-fa40-4c87-8120-295566e87e71",
   "metadata": {},
   "source": [
    "Гистограмма сместилась вправо, но риск получить меньше 100 подписок все еще есть."
   ]
  },
  {
   "cell_type": "code",
   "execution_count": 97,
   "id": "e9c87e7a-ecdf-4f26-b4dd-a5a9f218ad52",
   "metadata": {},
   "outputs": [
    {
     "data": {
      "image/png": "[encoded data removed]",
      "text/plain": [
       "<Figure size 864x360 with 1 Axes>"
      ]
     },
     "metadata": {
      "needs_background": "light"
     },
     "output_type": "display_data"
    }
   ],
   "source": [
    "from matplotlib import pyplot as plt\n",
    "from scipy.stats import binom\n",
    "\n",
    "n = 1200 # количество попыток\n",
    "p = 0.1 # вероятность успеха\n",
    "\n",
    "distr = []\n",
    "\n",
    "for k in range(0, n + 1):\n",
    "    current_value = binom.pmf(k, n, p)\n",
    "    distr.append(current_value)\n",
    "    \n",
    "plt.figure(figsize=(12, 5))    \n",
    "plt.bar(range(0, n + 1), distr)\n",
    "plt.title(f'Гистограмма биноминального распределения вероятностей при рассылке {n} промокодов')\n",
    "plt.xlabel('Количество клиентов, продливших подписку');\n",
    "plt.ylabel(\"Вероятность продления подписки\");\n",
    "plt.show()"
   ]
  },
  {
   "cell_type": "markdown",
   "id": "9dd5592d-0634-4451-ac58-beb3d841045c",
   "metadata": {},
   "source": [
    "Вот теперь вероятность уложиться в 5% похоже есть. Искомое значение количества промокодов лежит в диапазоне от 1100 до 1200. "
   ]
  },
  {
   "cell_type": "markdown",
   "id": "fa29d952-5088-4ac1-9622-ee7f1197424b",
   "metadata": {},
   "source": [
    "Воспользуемся методом cdf(), который получает на вход один аргумент и возвращает вероятность, что случайная величина примет значение, меньшее заданного аргумента, т.е. метод cdf() возвращает вероятность получить значение, равное 100 подписок или меньше. Чтобы получить нужную нам вероятность, вычтем результат cdf() из единицы."
   ]
  },
  {
   "cell_type": "code",
   "execution_count": 98,
   "id": "24284068-37a6-4dcc-92fb-b8d290279e97",
   "metadata": {},
   "outputs": [
    {
     "name": "stdout",
     "output_type": "stream",
     "text": [
      "0.9502390990500975\n"
     ]
    }
   ],
   "source": [
    "# методом подгона найдем искомое значение, чтобы вероятность не выполнить план была примерно 5 %\n",
    "from math import sqrt\n",
    "from scipy import stats as st\n",
    "\n",
    "# задаём параметры биномиального распределения\n",
    "n = 1161 # данное значение подбираем вручную\n",
    "p = 0.1\n",
    "\n",
    "# задаём биномиальное распределение\n",
    "distr = st.binom(n, p) \n",
    "\n",
    "# значение, для которого хотим найти вероятность\n",
    "x = 99\n",
    "\n",
    "# считаем вероятность получить значение больше x\n",
    "result = 1 - distr.cdf(x)\n",
    "print(result)\n"
   ]
  },
  {
   "cell_type": "markdown",
   "id": "27eb7f78-6cf7-467b-a51a-259c17914065",
   "metadata": {},
   "source": [
    "Минимальное количество промокодов при котором вероятность не выполнить план будет примерно 5 %, равняется 1161. В данном случае 100 клиентов с вероятностью успеха 10% продлят подписку."
   ]
  },
  {
   "cell_type": "code",
   "execution_count": 99,
   "id": "05f14ec3",
   "metadata": {},
   "outputs": [
    {
     "name": "stdout",
     "output_type": "stream",
     "text": [
      "Минимальное количество промокодов:  1161\n"
     ]
    }
   ],
   "source": [
    "from scipy.stats import binom\n",
    "import numpy as np\n",
    "\n",
    "p = 0.1\n",
    "n = 1000\n",
    "\n",
    "# начать можно с 900\n",
    "for n in range(1000, 1800):\n",
    "    if binom.cdf(99, n, p) <= 0.05:\n",
    "        print(\"Минимальное количество промокодов: \", n)\n",
    "        break\n"
   ]
  },
  {
   "cell_type": "markdown",
   "id": "bc761f6e-a47c-4c65-b849-b6f7268c5dde",
   "metadata": {},
   "source": [
    "#### 7.2 Отдел маркетинга рассылает клиентам push-уведомления в мобильном приложении. Клиенты могут открыть его или не открывать. Известно, что уведомления открывают около 40 % получивших клиентов. Отдел планирует разослать 1 млн уведомлений. С помощью аппроксимации построим примерный график распределения и оценим вероятность того, что уведомление откроют не более 399,5 тыс. пользователей."
   ]
  },
  {
   "cell_type": "code",
   "execution_count": 100,
   "id": "76871d59-24f8-4834-bc17-6b29dfd986f5",
   "metadata": {},
   "outputs": [
    {
     "name": "stdout",
     "output_type": "stream",
     "text": [
      "Вероятность того, что уведомление откроют не более 399,5 тыс. пользователей равняется 0.1537\n"
     ]
    }
   ],
   "source": [
    "# задаём параметры биномиального распределения\n",
    "n = 1000000\n",
    "p = 0.4\n",
    "x = 399500\n",
    "\n",
    "# зададим мат.ожидание и ст.отклонение нормального распределения равными\n",
    "# мат.ожиданию и ст.отклонению биномиального распределения\n",
    "mu = n * p\n",
    "sigma = sqrt(n * p * (1 - p))\n",
    "\n",
    "# задаём нормальное распределение\n",
    "distr = st.norm(mu, sigma) \n",
    "\n",
    "# считаем вероятность хвоста слева от 399.5 тысяч\n",
    "result = distr.cdf(x).round(4)\n",
    "\n",
    "print(f'Вероятность того, что уведомление откроют не более 399,5 тыс. пользователей равняется {result}')"
   ]
  },
  {
   "cell_type": "code",
   "execution_count": 101,
   "id": "c74e6aae-a257-40ba-9c03-4967a0c97701",
   "metadata": {},
   "outputs": [
    {
     "data": {
      "image/png": "[encoded data removed]",
      "text/plain": [
       "<Figure size 720x576 with 1 Axes>"
      ]
     },
     "metadata": {
      "needs_background": "light"
     },
     "output_type": "display_data"
    }
   ],
   "source": [
    "# Построим график\n",
    " \n",
    "# зададим функцию, которая выдаёт <num> чисел,\n",
    "# равномерно распределённых от <start> до <stop>\n",
    "# (понадобится для визуализации нормального распределения)\n",
    "def linspace(start, stop, num):\n",
    "    step = (stop - start) / (num - 1)\n",
    "    result = []\n",
    "    for i in range(num):\n",
    "        result.append(start + step * i)\n",
    "    return result\n",
    " \n",
    "# задаём параметры биномиального распределения\n",
    "n = 1000000\n",
    "p = 0.4\n",
    "k = 399500\n",
    "\n",
    "# границы промежутка, в котором будем строить аппроксимацию -\n",
    "# от n*p минус 4 ст.отклонения бином.распределения\n",
    "# до n*p плюс 4 ст.отклонения бином.распределения\n",
    "# (там, где вероятности значений почти не равны нулю)\n",
    "left = int(n * p - 4 * sqrt(n * p * (1 - p)))\n",
    "right = int(n * p + 4 * sqrt(n * p * (1 - p)))\n",
    "\n",
    "plt.figure(figsize=(10, 8)) \n",
    "# зададим набор значений биномиальной величины на выбранном промежутке:\n",
    "# все неотрицательные целые числа от left до right\n",
    "x = list(range(max(0, left), right))\n",
    "# рисуем график биномиального распределения\n",
    "ax = plt.subplot()\n",
    "# используем синие о-образные маркеры и размер маркера 3\n",
    "ax.plot(x, binom.pmf(x, n, p), 'bo', ms=1, label='вероятности биномиального распределения')\n",
    "\n",
    "# зададим мат.ожидание и ст.отклонение нормального распределения равными\n",
    "# мат.ожиданию и ст.отклонению биномиального распределения\n",
    "mu = n * p\n",
    "sigma = sqrt(n * p * (1 - p))\n",
    " \n",
    "# рисуем график нормального распределения:\n",
    " \n",
    "# получим список из 100 чисел от left до right\n",
    "x = linspace(left, right, 100)\n",
    "# используем красную линию ширины 5 и прозрачности 0.3\n",
    "ax.plot(x, norm.pdf(x, mu, sigma), 'r-', lw=5, alpha=0.3, label='плотность вероятности нормального распределения')\n",
    " \n",
    "# Добавляем вертикальную линию для отметки 399,5 тыс.\n",
    "plt.axvline(k, color='green', linestyle='--', lw=3, label='399,5 тыс.')\n",
    "\n",
    "# настраиваем оптимальное расположение легенды и выводим график \n",
    "plt.title('График аппроксимации биномиального распределения нормальным')\n",
    "plt.xlabel('Количество открытых push-уведомлений')\n",
    "plt.ylabel('Вероятность открытия push-уведомлений')\n",
    "ax.legend(loc='best')\n",
    "plt.grid(True)\n",
    "plt.show()"
   ]
  },
  {
   "cell_type": "markdown",
   "id": "074b90d2-62e2-4636-b314-63332c46edc4",
   "metadata": {},
   "source": [
    "Вероятность того, что push-уведомления откроют не более 399,5 тыс. пользователей равняется 15.37%. График аппроксимация биномиального распределения нормальным построен."
   ]
  },
  {
   "cell_type": "markdown",
   "id": "9ae30b0b-8b05-4a43-aca8-fb88f4569d98",
   "metadata": {},
   "source": [
    "#### 7.3 Промежуточные выводы."
   ]
  },
  {
   "cell_type": "markdown",
   "id": "7ac4ea02-439f-4aa1-9a87-24872e0b6f47",
   "metadata": {},
   "source": [
    "* Минимальное количество промокодов при котором вероятность не выполнить план будет примерно 5 %, равняется 1172. В данном случае 100 клиентов с вероятностью успеха 10% продлят подписку.\n",
    "* Вероятность того, что push-уведомления откроют не более 399,5 тыс. пользователей равняется 15.37%;\n",
    "* График аппроксимация биномиального распределения нормальным построен."
   ]
  },
  {
   "cell_type": "markdown",
   "id": "b7afdb5d-f966-4dfb-858e-4c326fd831a1",
   "metadata": {},
   "source": [
    "## Шаг 8. Общие выводы"
   ]
  },
  {
   "cell_type": "markdown",
   "id": "4854e65f-46c0-4ab5-8d5b-7454f85c47be",
   "metadata": {},
   "source": [
    "#### Общий вывод: \n",
    "\n",
    "* Пользователи с подпиской выгоднее для компании: \n",
    "    * они тратят в сервисе больше времени на поездки, помесячная выручка от пользователей с подпиской по месяцам выше.\n",
    "    * пользователи с подпиской за одну поездку проезжают оптимальное расстояния в 3130 метров. С учетом уровня статистической значимости alpha = 0.05, у нас нет оснований (нет достаточных данных) отвергать нулевую гипотезу о том, что среднее расстояние, пройденное пользователями с подпиской за одну поездку, равно 3130 метров. Медианная же дистанция одной поездки пользователей с подпиской состаляет 3149 метров. Это на 19 метров больше оптимального расстояния одной поездки.\n",
    "* Доля пользователей с подпиской ultra составляет 45.6% и необходимы мероприятия для их привлечения для увеличения выручки компании.\n",
    "* У пользователей без подписки free есть проблемы с использованием самокатов: наблюдаются аномальные значения расстояний от 4030 до 7211 метров при времени использования самоката 0.5 минут:\n",
    "    * возможно есть необходимость либо доработать приложение, либо инструкцию пользования самокатом, т.к. пользователи по итогу не совершили поездку и соответственно, остались не довольны сервисом. \n",
    "    * И однозначно необходимо разобраться с работой сервиса, почему за такой маленький отрезок времени получились такие большие расстояния поездки.\n",
    "\n",
    "Теперь подробнее по каждому шагу:\n",
    "\n",
    "##### Шаг 1:\n",
    "\n",
    "    * В полученных датафреймах наименование столбцов соответствует правилу красивого кода;\n",
    "    * В датафрейме rides выявил не соответствие по столбцу date типа данных с содержимым.\n",
    "\n",
    "##### Шаг 2:\n",
    "\n",
    "    * данные в датасете rides представлены за один год;\n",
    "    * привел столбец date таблицы rides к типу даты datetime;\n",
    "    * создал в таблице rides новый столбец с номером месяца на основе столбца date;\n",
    "    * проверил наличие пропущенных значений и на явные и неявные дубликаты:\n",
    "        * пропусков в данных нет;\n",
    "        * в таблице users были явные дубликаты в столбце user_id. После проверки, удалил их;\n",
    "        * в таблицах rides и subscriptions явных дубликатов нет;\n",
    "        * проверил таблицу users на неявные дубликаты. Неявных дубликатов нет;\n",
    "        * в таблице subscriptions содержатся данные о тарифе. Необходимости в их проверки на неявные дубликаты нет.\n",
    "    * проверил данные таблицы rides на аномалии:\n",
    "        * по столбцу расстояний поездок distance таблицы rides аномальных значений нет;\n",
    "        * по столбцу длительности поездок duration таблицы rides нашел 95 аномальных значений с продолжительностью поездки 0.5 мин и расстоянием за это время в дипазоне от 4030 до 7211 метров, что не реально;\n",
    "        * аномальные данные с дистаницей поездки можно было бы удалить, т.к. они составляют всего 0.5% от всего объема данных, но в них содержатся данные для расчета выручки компании, ведь пользователи в любом случае оплатили 1 минуту и возможно старт поездки, если они без подписки. В рамках данного анализа оставим их как есть.\n",
    "\n",
    "##### Шаг 3:\n",
    "\n",
    "    * Чаще всего встречаются пользователи из города Пятигорск 14.3% (219 пользователей). 2 место - Екатеринбург 13.3% (204 пользователей). 3 место - Ростов-на-Дону 12.9% (198 пользователей). Обращает на себя внимание, что пользователей из Москвы меньше всех, - всего 11%, скорее всего это связано с высокой конкуренцией в данном городе;\n",
    "    * Доля пользователей с подпиской ultra составляет 45.6%.\n",
    "    * Самыми активными являются пользователи в возрастной группе от 20 до 30 лет, а именно:\n",
    "        * 1 место пользователи - 25 лет (9.45%, 145 пользователей);\n",
    "        * 2 место пользователи - 24 лет (8.60%, 132 пользователей);\n",
    "        * 3 место пользователи - 26 лет (8.54%, 131 пользователей).\n",
    "    * Также хотелось бы отметить, что самокат арендуют пользователи с возрастом от 12 до 18 (не включительно) лет, что является нарушением законодательства. Арендовать электросамокат могут только те, кто достиг 18 лет, т.к. ответственность за действия несовершеннолетних лежит на родителях или опекунах.\n",
    "    * Чаще всего пользователи проезжают за одну поездку от 2800 до 3300 метров, самый пик 3000 метров (это самый выскоий 1-ый пик). Второй пик - это расстояние около 650 метров. Чем дальше от этих пиков, тем количество поездок становится меньше. Интересное наблюдение, что между 2-мя пиками при расстоянии около 1500 метров, количество поездок максимально снижается. Можно сделать вывод, что пользователи берут самокаты либо для коротких перемещений по необходимости (например, от дома до остановки), либо для долгих прогулок.\n",
    "    * Чаще всего пользователи ездят на самокатах от 15 до 21 минуты. Есть тот самый аномальный пик около нуля с временем поездки 0.5 минут, возможно часть пользователей не разобрались как пользоваться либо самокатом, либо приложением и отменили поездку. А вот с замером расстояния поездки стоит проанализирвоать работу приложения.\n",
    "\n",
    "##### Шаг 4:\n",
    "\n",
    "    * Объединил данные о пользователях, поездках и подписках в один датафрейм методом merge(). Проверил объединенный датасет на пропуски, - пропусков нет;\n",
    "    * Создал ещё два датафрейма c данными о пользователях без подписки free и с данными о пользователях с подпиской ultra;\n",
    "    * Пользователи с подпиской ultra:\n",
    "        * Пользователи с подпиской ultra ездят с четким пониманием своих потребностей в самокате и как раз гистограммы длительности и расстояния потребностей посторились достаточно узкие;\n",
    "        * Наблюдаем 2 пика на гистограмме расстояний одной поездки. Чаще всего пользователи проезжают за одну поездку от 2900 до 3200 метров, самый пик 3100 метров (это самый высокий 1-ый пик). Второй пик - это расстояние около 1000 метров. Чем дальше от этих пиков, тем количество поездок становится меньше. Такое же интересное наблюдение, что между 2-мя пиками при расстоянии 2000 метров, количество поездок максимадльно снижается;\n",
    "        * Чаще всего пользователи с подпиской ultra ездят на самокатах от 15 до 21 минуты.\n",
    "    * Пользователи без подписки free:\n",
    "        * Пользователи без подписки free ездят в более широком диапазоне расстояний и времени поездки. И наблюдаются пики около нуля, возможно есть необходимость либо доработать приложение, либо инструкцию пользования самокатом, т.к. пользователи по итогу не совершили поездку;\n",
    "        * Наблюдаем также 2 пика на гистограмме расстояний одной поездки. Чаще всего пользователи без подписки free проезжают за одну поездку от 2200 до 3800 метров, это самый высокий 1-ый пик, но он очень широкий по разбросу расстояний. Второй пик также досточно широкий и начинается с нуля, возможно, часть пользователей не разобрались как пользоваться либо самокатом, либо приложением и отменили поездку. Такое же интересное наблюдение, что между 2-мя пиками при расстоянии около 1500 метров, количество поездок максимадльно снижается.\n",
    "        * Чаще всего пользователи ездят на самокатах от 13 до 21 минуты. Есть интересный пик около нуля, возможно часть пользователей не разобрались как пользоваться либо самокатом, либо приложением и отменили поездку.\n",
    "\n",
    "##### Шаг 5:\n",
    "\n",
    "    * Создал датафрейм data_grouped с суммарным расстоянием, количеством поездок и суммарным временем для каждого пользователя за каждый месяц.\n",
    "    * В датафрейм data_grouped добавил столбец с помесячной выручкой, которую принёс каждый пользователь в зависимости от типа подписки.\n",
    "\n",
    "##### Шаг 6:\n",
    "\n",
    "    * пользователи с подпиской тратят в сервисе больше времени на поездки и соответственно пользователи с подпиской «выгоднее» для компании /полученное значение p-value (~1.280409e-34) меньше заданного уровня значимости 0.05/;\n",
    "    * пользователи с подпиской за одну поездку проезжают оптимальное расстояния в 3130 метров. С учетом уровня статистической значимости alpha = 0.05, у нас нет оснований (нет достаточных данных) отвергать нулевую гипотезу о том, что среднее расстояние, пройденное пользователями с подпиской за одну поездку, равно 3130 метров. Медианная дистанция одной поездки пользователей с подпиской состаляет 3149 метров. Это на 19 метров больше оптимального расстояния одной поездки.\n",
    "    * помесячная выручка от пользователей с подпиской по месяцам выше, чем выручка от пользователей без подписки /полученное значение p-value (2.8130926188487286e-35) меньше заданного уровня значимости 0.05/;\n",
    "    * Чтобы проверить гипотезу что количество обращений в техподдержку значимо снизилось после того, как техническая команда сервиса обновила сервера, с которыми взаимодействует мобильное приложение, я бы применил метод scipy.stats.ttest_rel().\n",
    "\n",
    "##### Шаг 7:\n",
    "\n",
    "    * Минимальное количество промокодов при котором вероятность не выполнить план будет примерно 5 %, равняется 1161. В данном случае 100 клиентов с вероятностью успеха 10% продлят подписку;\n",
    "    * Вероятность того, что push-уведомления откроют не более 399,5 тыс. пользователей равняется 15.37%;\n",
    "    * График аппроксимация биномиального распределения нормальным построен."
   ]
  }
 ],
 "metadata": {
  "ExecuteTimeLog": [
   {
    "duration": 1065,
    "start_time": "2025-01-12T22:23:27.567Z"
   },
   {
    "duration": 137,
    "start_time": "2025-01-12T22:23:28.634Z"
   },
   {
    "duration": 137,
    "start_time": "2025-01-12T22:23:28.773Z"
   },
   {
    "duration": 122,
    "start_time": "2025-01-12T22:23:28.912Z"
   },
   {
    "duration": 15,
    "start_time": "2025-01-12T22:23:29.036Z"
   },
   {
    "duration": 12,
    "start_time": "2025-01-12T22:23:29.053Z"
   },
   {
    "duration": 16,
    "start_time": "2025-01-12T22:23:29.067Z"
   },
   {
    "duration": 10,
    "start_time": "2025-01-12T22:23:29.085Z"
   },
   {
    "duration": 10,
    "start_time": "2025-01-12T22:23:29.096Z"
   },
   {
    "duration": 18,
    "start_time": "2025-01-12T22:23:29.107Z"
   },
   {
    "duration": 3,
    "start_time": "2025-01-12T22:23:29.127Z"
   },
   {
    "duration": 3,
    "start_time": "2025-01-12T22:23:29.153Z"
   },
   {
    "duration": 15,
    "start_time": "2025-01-12T22:23:29.157Z"
   },
   {
    "duration": 19,
    "start_time": "2025-01-12T22:23:29.175Z"
   },
   {
    "duration": 10,
    "start_time": "2025-01-12T22:23:29.195Z"
   },
   {
    "duration": 5,
    "start_time": "2025-01-12T22:23:29.206Z"
   },
   {
    "duration": 5,
    "start_time": "2025-01-12T22:23:29.213Z"
   },
   {
    "duration": 34,
    "start_time": "2025-01-12T22:23:29.219Z"
   },
   {
    "duration": 5,
    "start_time": "2025-01-12T22:23:29.254Z"
   },
   {
    "duration": 6,
    "start_time": "2025-01-12T22:23:29.261Z"
   },
   {
    "duration": 7,
    "start_time": "2025-01-12T22:23:29.269Z"
   },
   {
    "duration": 4,
    "start_time": "2025-01-12T22:23:29.278Z"
   },
   {
    "duration": 18,
    "start_time": "2025-01-12T22:23:29.283Z"
   },
   {
    "duration": 3,
    "start_time": "2025-01-12T22:23:29.302Z"
   },
   {
    "duration": 7,
    "start_time": "2025-01-12T22:23:29.307Z"
   },
   {
    "duration": 32,
    "start_time": "2025-01-12T22:23:29.315Z"
   },
   {
    "duration": 11,
    "start_time": "2025-01-12T22:23:29.352Z"
   },
   {
    "duration": 12,
    "start_time": "2025-01-12T22:23:29.365Z"
   },
   {
    "duration": 13,
    "start_time": "2025-01-12T22:23:29.378Z"
   },
   {
    "duration": 3,
    "start_time": "2025-01-12T22:23:29.393Z"
   },
   {
    "duration": 5,
    "start_time": "2025-01-12T22:23:29.398Z"
   },
   {
    "duration": 20,
    "start_time": "2025-01-12T22:23:29.404Z"
   },
   {
    "duration": 19,
    "start_time": "2025-01-12T22:23:29.426Z"
   },
   {
    "duration": 16,
    "start_time": "2025-01-12T22:23:29.446Z"
   },
   {
    "duration": 18,
    "start_time": "2025-01-12T22:23:29.463Z"
   },
   {
    "duration": 26,
    "start_time": "2025-01-12T22:23:29.482Z"
   },
   {
    "duration": 31,
    "start_time": "2025-01-12T22:23:29.509Z"
   },
   {
    "duration": 168,
    "start_time": "2025-01-12T22:23:29.542Z"
   },
   {
    "duration": 6,
    "start_time": "2025-01-12T22:23:29.711Z"
   },
   {
    "duration": 7,
    "start_time": "2025-01-12T22:23:29.718Z"
   },
   {
    "duration": 103,
    "start_time": "2025-01-12T22:23:29.728Z"
   },
   {
    "duration": 7,
    "start_time": "2025-01-12T22:23:29.832Z"
   },
   {
    "duration": 36,
    "start_time": "2025-01-12T22:23:29.852Z"
   },
   {
    "duration": 265,
    "start_time": "2025-01-12T22:23:29.889Z"
   },
   {
    "duration": 8,
    "start_time": "2025-01-12T22:23:30.156Z"
   },
   {
    "duration": 296,
    "start_time": "2025-01-12T22:23:30.166Z"
   },
   {
    "duration": 276,
    "start_time": "2025-01-12T22:23:30.463Z"
   },
   {
    "duration": 329,
    "start_time": "2025-01-12T22:23:30.741Z"
   },
   {
    "duration": 8,
    "start_time": "2025-01-12T22:23:31.071Z"
   },
   {
    "duration": 263,
    "start_time": "2025-01-12T22:23:31.081Z"
   },
   {
    "duration": 26,
    "start_time": "2025-01-12T22:23:31.346Z"
   },
   {
    "duration": 21,
    "start_time": "2025-01-12T22:23:31.374Z"
   },
   {
    "duration": 18,
    "start_time": "2025-01-12T22:23:31.397Z"
   },
   {
    "duration": 49,
    "start_time": "2025-01-12T22:23:31.416Z"
   },
   {
    "duration": 7,
    "start_time": "2025-01-12T22:23:31.467Z"
   },
   {
    "duration": 295,
    "start_time": "2025-01-12T22:23:31.475Z"
   },
   {
    "duration": 7,
    "start_time": "2025-01-12T22:23:31.772Z"
   },
   {
    "duration": 261,
    "start_time": "2025-01-12T22:23:31.780Z"
   },
   {
    "duration": 15,
    "start_time": "2025-01-12T22:23:32.042Z"
   },
   {
    "duration": 295,
    "start_time": "2025-01-12T22:23:32.058Z"
   },
   {
    "duration": 8,
    "start_time": "2025-01-12T22:23:32.354Z"
   },
   {
    "duration": 270,
    "start_time": "2025-01-12T22:23:32.363Z"
   },
   {
    "duration": 856,
    "start_time": "2025-01-12T22:23:32.634Z"
   },
   {
    "duration": 9,
    "start_time": "2025-01-12T22:23:33.492Z"
   },
   {
    "duration": 54,
    "start_time": "2025-01-12T22:23:33.503Z"
   },
   {
    "duration": 240,
    "start_time": "2025-01-12T22:23:33.558Z"
   },
   {
    "duration": 26,
    "start_time": "2025-01-12T22:23:33.800Z"
   },
   {
    "duration": 10,
    "start_time": "2025-01-12T22:23:33.827Z"
   },
   {
    "duration": 41,
    "start_time": "2025-01-12T22:23:33.838Z"
   },
   {
    "duration": 40,
    "start_time": "2025-01-12T22:23:33.880Z"
   },
   {
    "duration": 28,
    "start_time": "2025-01-12T22:23:33.922Z"
   },
   {
    "duration": 32,
    "start_time": "2025-01-12T22:23:33.952Z"
   },
   {
    "duration": 46,
    "start_time": "2025-01-12T22:23:33.986Z"
   },
   {
    "duration": 16,
    "start_time": "2025-01-12T22:23:34.033Z"
   },
   {
    "duration": 101,
    "start_time": "2025-01-12T22:23:34.051Z"
   },
   {
    "duration": 0,
    "start_time": "2025-01-12T22:23:34.154Z"
   },
   {
    "duration": 0,
    "start_time": "2025-01-12T22:23:34.155Z"
   },
   {
    "duration": 0,
    "start_time": "2025-01-12T22:23:34.156Z"
   },
   {
    "duration": 0,
    "start_time": "2025-01-12T22:23:34.157Z"
   },
   {
    "duration": 0,
    "start_time": "2025-01-12T22:23:34.158Z"
   },
   {
    "duration": 0,
    "start_time": "2025-01-12T22:23:34.159Z"
   },
   {
    "duration": 8,
    "start_time": "2025-01-12T22:30:14.857Z"
   },
   {
    "duration": 162,
    "start_time": "2025-01-12T22:31:19.118Z"
   },
   {
    "duration": 5,
    "start_time": "2025-01-12T22:40:39.280Z"
   },
   {
    "duration": 1351,
    "start_time": "2025-01-13T05:02:07.432Z"
   },
   {
    "duration": 116,
    "start_time": "2025-01-13T05:02:08.785Z"
   },
   {
    "duration": 185,
    "start_time": "2025-01-13T05:02:08.902Z"
   },
   {
    "duration": 132,
    "start_time": "2025-01-13T05:02:09.090Z"
   },
   {
    "duration": 12,
    "start_time": "2025-01-13T05:02:09.224Z"
   },
   {
    "duration": 11,
    "start_time": "2025-01-13T05:02:09.238Z"
   },
   {
    "duration": 16,
    "start_time": "2025-01-13T05:02:09.250Z"
   },
   {
    "duration": 11,
    "start_time": "2025-01-13T05:02:09.267Z"
   },
   {
    "duration": 7,
    "start_time": "2025-01-13T05:02:09.279Z"
   },
   {
    "duration": 11,
    "start_time": "2025-01-13T05:02:09.287Z"
   },
   {
    "duration": 32,
    "start_time": "2025-01-13T05:02:09.299Z"
   },
   {
    "duration": 4,
    "start_time": "2025-01-13T05:02:09.332Z"
   },
   {
    "duration": 14,
    "start_time": "2025-01-13T05:02:09.337Z"
   },
   {
    "duration": 23,
    "start_time": "2025-01-13T05:02:09.353Z"
   },
   {
    "duration": 12,
    "start_time": "2025-01-13T05:02:09.377Z"
   },
   {
    "duration": 12,
    "start_time": "2025-01-13T05:02:09.391Z"
   },
   {
    "duration": 9,
    "start_time": "2025-01-13T05:02:09.405Z"
   },
   {
    "duration": 18,
    "start_time": "2025-01-13T05:02:09.416Z"
   },
   {
    "duration": 6,
    "start_time": "2025-01-13T05:02:09.435Z"
   },
   {
    "duration": 10,
    "start_time": "2025-01-13T05:02:09.442Z"
   },
   {
    "duration": 6,
    "start_time": "2025-01-13T05:02:09.454Z"
   },
   {
    "duration": 3,
    "start_time": "2025-01-13T05:02:09.462Z"
   },
   {
    "duration": 18,
    "start_time": "2025-01-13T05:02:09.467Z"
   },
   {
    "duration": 5,
    "start_time": "2025-01-13T05:02:09.487Z"
   },
   {
    "duration": 38,
    "start_time": "2025-01-13T05:02:09.494Z"
   },
   {
    "duration": 11,
    "start_time": "2025-01-13T05:02:09.533Z"
   },
   {
    "duration": 4,
    "start_time": "2025-01-13T05:02:09.546Z"
   },
   {
    "duration": 8,
    "start_time": "2025-01-13T05:02:09.552Z"
   },
   {
    "duration": 5,
    "start_time": "2025-01-13T05:02:09.562Z"
   },
   {
    "duration": 4,
    "start_time": "2025-01-13T05:02:09.569Z"
   },
   {
    "duration": 13,
    "start_time": "2025-01-13T05:02:09.575Z"
   },
   {
    "duration": 55,
    "start_time": "2025-01-13T05:02:09.590Z"
   },
   {
    "duration": 19,
    "start_time": "2025-01-13T05:02:09.647Z"
   },
   {
    "duration": 4,
    "start_time": "2025-01-13T05:02:09.668Z"
   },
   {
    "duration": 5,
    "start_time": "2025-01-13T05:02:09.673Z"
   },
   {
    "duration": 9,
    "start_time": "2025-01-13T05:02:09.679Z"
   },
   {
    "duration": 7,
    "start_time": "2025-01-13T05:02:09.690Z"
   },
   {
    "duration": 5,
    "start_time": "2025-01-13T05:02:09.699Z"
   },
   {
    "duration": 185,
    "start_time": "2025-01-13T05:02:09.705Z"
   },
   {
    "duration": 201,
    "start_time": "2025-01-13T05:02:09.892Z"
   },
   {
    "duration": 8,
    "start_time": "2025-01-13T05:02:10.097Z"
   },
   {
    "duration": 6,
    "start_time": "2025-01-13T05:02:10.106Z"
   },
   {
    "duration": 121,
    "start_time": "2025-01-13T05:02:10.130Z"
   },
   {
    "duration": 8,
    "start_time": "2025-01-13T05:02:10.253Z"
   },
   {
    "duration": 15,
    "start_time": "2025-01-13T05:02:10.262Z"
   },
   {
    "duration": 324,
    "start_time": "2025-01-13T05:02:10.278Z"
   },
   {
    "duration": 8,
    "start_time": "2025-01-13T05:02:10.604Z"
   },
   {
    "duration": 346,
    "start_time": "2025-01-13T05:02:10.614Z"
   },
   {
    "duration": 329,
    "start_time": "2025-01-13T05:02:10.962Z"
   },
   {
    "duration": 421,
    "start_time": "2025-01-13T05:02:11.293Z"
   },
   {
    "duration": 18,
    "start_time": "2025-01-13T05:02:11.716Z"
   },
   {
    "duration": 323,
    "start_time": "2025-01-13T05:02:11.735Z"
   },
   {
    "duration": 38,
    "start_time": "2025-01-13T05:02:12.061Z"
   },
   {
    "duration": 41,
    "start_time": "2025-01-13T05:02:12.101Z"
   },
   {
    "duration": 21,
    "start_time": "2025-01-13T05:02:12.144Z"
   },
   {
    "duration": 22,
    "start_time": "2025-01-13T05:02:12.167Z"
   },
   {
    "duration": 9,
    "start_time": "2025-01-13T05:02:12.191Z"
   },
   {
    "duration": 370,
    "start_time": "2025-01-13T05:02:12.201Z"
   },
   {
    "duration": 8,
    "start_time": "2025-01-13T05:02:12.573Z"
   },
   {
    "duration": 309,
    "start_time": "2025-01-13T05:02:12.583Z"
   },
   {
    "duration": 10,
    "start_time": "2025-01-13T05:02:12.894Z"
   },
   {
    "duration": 530,
    "start_time": "2025-01-13T05:02:12.905Z"
   },
   {
    "duration": 8,
    "start_time": "2025-01-13T05:02:13.437Z"
   },
   {
    "duration": 416,
    "start_time": "2025-01-13T05:02:13.446Z"
   },
   {
    "duration": 793,
    "start_time": "2025-01-13T05:02:13.863Z"
   },
   {
    "duration": 12,
    "start_time": "2025-01-13T05:02:14.658Z"
   },
   {
    "duration": 4,
    "start_time": "2025-01-13T05:02:14.675Z"
   },
   {
    "duration": 168,
    "start_time": "2025-01-13T05:02:14.680Z"
   },
   {
    "duration": 5,
    "start_time": "2025-01-13T05:02:14.850Z"
   },
   {
    "duration": 236,
    "start_time": "2025-01-13T05:02:14.857Z"
   },
   {
    "duration": 23,
    "start_time": "2025-01-13T05:02:15.094Z"
   },
   {
    "duration": 13,
    "start_time": "2025-01-13T05:02:15.119Z"
   },
   {
    "duration": 88,
    "start_time": "2025-01-13T05:02:15.133Z"
   },
   {
    "duration": 17,
    "start_time": "2025-01-13T05:02:15.222Z"
   },
   {
    "duration": 37,
    "start_time": "2025-01-13T05:02:15.241Z"
   },
   {
    "duration": 19,
    "start_time": "2025-01-13T05:02:15.280Z"
   },
   {
    "duration": 33,
    "start_time": "2025-01-13T05:02:15.301Z"
   },
   {
    "duration": 102,
    "start_time": "2025-01-13T05:02:15.336Z"
   },
   {
    "duration": 0,
    "start_time": "2025-01-13T05:02:15.440Z"
   },
   {
    "duration": 0,
    "start_time": "2025-01-13T05:02:15.442Z"
   },
   {
    "duration": 0,
    "start_time": "2025-01-13T05:02:15.444Z"
   },
   {
    "duration": 0,
    "start_time": "2025-01-13T05:02:15.445Z"
   },
   {
    "duration": 0,
    "start_time": "2025-01-13T05:02:15.448Z"
   },
   {
    "duration": 0,
    "start_time": "2025-01-13T05:02:15.450Z"
   },
   {
    "duration": 1260,
    "start_time": "2025-01-13T05:22:15.727Z"
   },
   {
    "duration": 93,
    "start_time": "2025-01-13T05:26:43.777Z"
   },
   {
    "duration": 1516,
    "start_time": "2025-01-13T05:26:48.848Z"
   },
   {
    "duration": 1547,
    "start_time": "2025-01-13T05:26:59.327Z"
   },
   {
    "duration": 1269,
    "start_time": "2025-01-13T05:27:16.887Z"
   },
   {
    "duration": 8,
    "start_time": "2025-01-13T05:28:18.574Z"
   },
   {
    "duration": 7,
    "start_time": "2025-01-13T05:28:59.677Z"
   },
   {
    "duration": 6,
    "start_time": "2025-01-13T05:31:07.906Z"
   },
   {
    "duration": 9,
    "start_time": "2025-01-13T05:34:16.262Z"
   },
   {
    "duration": 5,
    "start_time": "2025-01-13T05:34:27.830Z"
   },
   {
    "duration": 7,
    "start_time": "2025-01-13T05:38:56.464Z"
   },
   {
    "duration": 1158,
    "start_time": "2025-01-13T05:57:49.925Z"
   },
   {
    "duration": 3,
    "start_time": "2025-01-13T05:57:51.086Z"
   },
   {
    "duration": 161,
    "start_time": "2025-01-13T05:57:51.091Z"
   },
   {
    "duration": 194,
    "start_time": "2025-01-13T05:57:51.254Z"
   },
   {
    "duration": 162,
    "start_time": "2025-01-13T05:57:51.451Z"
   },
   {
    "duration": 12,
    "start_time": "2025-01-13T05:57:51.615Z"
   },
   {
    "duration": 17,
    "start_time": "2025-01-13T05:57:51.629Z"
   },
   {
    "duration": 24,
    "start_time": "2025-01-13T05:57:51.648Z"
   },
   {
    "duration": 27,
    "start_time": "2025-01-13T05:57:51.674Z"
   },
   {
    "duration": 7,
    "start_time": "2025-01-13T05:57:51.703Z"
   },
   {
    "duration": 18,
    "start_time": "2025-01-13T05:57:51.712Z"
   },
   {
    "duration": 11,
    "start_time": "2025-01-13T05:57:51.731Z"
   },
   {
    "duration": 5,
    "start_time": "2025-01-13T05:57:51.743Z"
   },
   {
    "duration": 9,
    "start_time": "2025-01-13T05:57:51.752Z"
   },
   {
    "duration": 22,
    "start_time": "2025-01-13T05:57:51.762Z"
   },
   {
    "duration": 6,
    "start_time": "2025-01-13T05:57:51.786Z"
   },
   {
    "duration": 17,
    "start_time": "2025-01-13T05:57:51.793Z"
   },
   {
    "duration": 44,
    "start_time": "2025-01-13T05:57:51.811Z"
   },
   {
    "duration": 103,
    "start_time": "2025-01-13T05:57:51.856Z"
   },
   {
    "duration": 18,
    "start_time": "2025-01-13T05:57:51.961Z"
   },
   {
    "duration": 7,
    "start_time": "2025-01-13T05:57:51.981Z"
   },
   {
    "duration": 12,
    "start_time": "2025-01-13T05:57:51.989Z"
   },
   {
    "duration": 5,
    "start_time": "2025-01-13T05:57:52.003Z"
   },
   {
    "duration": 4,
    "start_time": "2025-01-13T05:57:52.010Z"
   },
   {
    "duration": 16,
    "start_time": "2025-01-13T05:57:52.015Z"
   },
   {
    "duration": 6,
    "start_time": "2025-01-13T05:57:52.032Z"
   },
   {
    "duration": 10,
    "start_time": "2025-01-13T05:57:52.040Z"
   },
   {
    "duration": 11,
    "start_time": "2025-01-13T05:57:52.052Z"
   },
   {
    "duration": 24,
    "start_time": "2025-01-13T05:57:52.065Z"
   },
   {
    "duration": 19,
    "start_time": "2025-01-13T05:57:52.090Z"
   },
   {
    "duration": 5,
    "start_time": "2025-01-13T05:57:52.110Z"
   },
   {
    "duration": 6,
    "start_time": "2025-01-13T05:57:52.117Z"
   },
   {
    "duration": 22,
    "start_time": "2025-01-13T05:57:52.129Z"
   },
   {
    "duration": 10,
    "start_time": "2025-01-13T05:57:52.152Z"
   },
   {
    "duration": 5,
    "start_time": "2025-01-13T05:57:52.163Z"
   },
   {
    "duration": 5,
    "start_time": "2025-01-13T05:57:52.170Z"
   },
   {
    "duration": 4,
    "start_time": "2025-01-13T05:57:52.176Z"
   },
   {
    "duration": 13,
    "start_time": "2025-01-13T05:57:52.182Z"
   },
   {
    "duration": 11,
    "start_time": "2025-01-13T05:57:52.196Z"
   },
   {
    "duration": 5,
    "start_time": "2025-01-13T05:57:52.209Z"
   },
   {
    "duration": 169,
    "start_time": "2025-01-13T05:57:52.233Z"
   },
   {
    "duration": 188,
    "start_time": "2025-01-13T05:57:52.404Z"
   },
   {
    "duration": 8,
    "start_time": "2025-01-13T05:57:52.594Z"
   },
   {
    "duration": 28,
    "start_time": "2025-01-13T05:57:52.604Z"
   },
   {
    "duration": 97,
    "start_time": "2025-01-13T05:57:52.634Z"
   },
   {
    "duration": 7,
    "start_time": "2025-01-13T05:57:52.733Z"
   },
   {
    "duration": 16,
    "start_time": "2025-01-13T05:57:52.742Z"
   },
   {
    "duration": 300,
    "start_time": "2025-01-13T05:57:52.759Z"
   },
   {
    "duration": 9,
    "start_time": "2025-01-13T05:57:53.061Z"
   },
   {
    "duration": 324,
    "start_time": "2025-01-13T05:57:53.071Z"
   },
   {
    "duration": 317,
    "start_time": "2025-01-13T05:57:53.397Z"
   },
   {
    "duration": 379,
    "start_time": "2025-01-13T05:57:53.716Z"
   },
   {
    "duration": 8,
    "start_time": "2025-01-13T05:57:54.097Z"
   },
   {
    "duration": 334,
    "start_time": "2025-01-13T05:57:54.107Z"
   },
   {
    "duration": 22,
    "start_time": "2025-01-13T05:57:54.443Z"
   },
   {
    "duration": 23,
    "start_time": "2025-01-13T05:57:54.467Z"
   },
   {
    "duration": 39,
    "start_time": "2025-01-13T05:57:54.492Z"
   },
   {
    "duration": 19,
    "start_time": "2025-01-13T05:57:54.532Z"
   },
   {
    "duration": 8,
    "start_time": "2025-01-13T05:57:54.553Z"
   },
   {
    "duration": 337,
    "start_time": "2025-01-13T05:57:54.562Z"
   },
   {
    "duration": 8,
    "start_time": "2025-01-13T05:57:54.900Z"
   },
   {
    "duration": 289,
    "start_time": "2025-01-13T05:57:54.909Z"
   },
   {
    "duration": 8,
    "start_time": "2025-01-13T05:57:55.200Z"
   },
   {
    "duration": 327,
    "start_time": "2025-01-13T05:57:55.209Z"
   },
   {
    "duration": 9,
    "start_time": "2025-01-13T05:57:55.538Z"
   },
   {
    "duration": 404,
    "start_time": "2025-01-13T05:57:55.548Z"
   },
   {
    "duration": 780,
    "start_time": "2025-01-13T05:57:55.953Z"
   },
   {
    "duration": 10,
    "start_time": "2025-01-13T05:57:56.734Z"
   },
   {
    "duration": 3,
    "start_time": "2025-01-13T05:57:56.745Z"
   },
   {
    "duration": 149,
    "start_time": "2025-01-13T05:57:56.750Z"
   },
   {
    "duration": 4,
    "start_time": "2025-01-13T05:57:56.902Z"
   },
   {
    "duration": 44,
    "start_time": "2025-01-13T05:57:56.907Z"
   },
   {
    "duration": 5,
    "start_time": "2025-01-13T05:57:56.953Z"
   },
   {
    "duration": 11,
    "start_time": "2025-01-13T05:57:56.959Z"
   },
   {
    "duration": 6,
    "start_time": "2025-01-13T05:57:56.971Z"
   },
   {
    "duration": 6,
    "start_time": "2025-01-13T05:57:56.978Z"
   },
   {
    "duration": 49,
    "start_time": "2025-01-13T05:57:56.985Z"
   },
   {
    "duration": 8,
    "start_time": "2025-01-13T05:57:57.035Z"
   },
   {
    "duration": 14,
    "start_time": "2025-01-13T05:57:57.045Z"
   },
   {
    "duration": 107,
    "start_time": "2025-01-13T05:57:57.061Z"
   },
   {
    "duration": 0,
    "start_time": "2025-01-13T05:57:57.170Z"
   },
   {
    "duration": 0,
    "start_time": "2025-01-13T05:57:57.171Z"
   },
   {
    "duration": 0,
    "start_time": "2025-01-13T05:57:57.172Z"
   },
   {
    "duration": 0,
    "start_time": "2025-01-13T05:57:57.174Z"
   },
   {
    "duration": 0,
    "start_time": "2025-01-13T05:57:57.175Z"
   },
   {
    "duration": 0,
    "start_time": "2025-01-13T05:57:57.176Z"
   },
   {
    "duration": 8,
    "start_time": "2025-01-13T06:08:45.547Z"
   },
   {
    "duration": 1367,
    "start_time": "2025-01-13T06:12:21.582Z"
   },
   {
    "duration": 8,
    "start_time": "2025-01-13T06:12:41.917Z"
   },
   {
    "duration": 9,
    "start_time": "2025-01-13T06:14:00.396Z"
   },
   {
    "duration": 8,
    "start_time": "2025-01-13T06:14:10.267Z"
   },
   {
    "duration": 9,
    "start_time": "2025-01-13T06:14:34.747Z"
   },
   {
    "duration": 6,
    "start_time": "2025-01-13T06:15:33.089Z"
   },
   {
    "duration": 6,
    "start_time": "2025-01-13T06:16:23.159Z"
   },
   {
    "duration": 8,
    "start_time": "2025-01-13T06:16:34.968Z"
   },
   {
    "duration": 6,
    "start_time": "2025-01-13T06:16:44.400Z"
   },
   {
    "duration": 7,
    "start_time": "2025-01-13T06:18:00.487Z"
   },
   {
    "duration": 8,
    "start_time": "2025-01-13T06:18:24.117Z"
   },
   {
    "duration": 8,
    "start_time": "2025-01-13T06:18:48.917Z"
   },
   {
    "duration": 7,
    "start_time": "2025-01-13T06:21:43.409Z"
   },
   {
    "duration": 9,
    "start_time": "2025-01-13T06:22:11.666Z"
   },
   {
    "duration": 7,
    "start_time": "2025-01-13T06:22:19.281Z"
   },
   {
    "duration": 5,
    "start_time": "2025-01-13T06:22:25.144Z"
   },
   {
    "duration": 5,
    "start_time": "2025-01-13T06:26:12.692Z"
   },
   {
    "duration": 6,
    "start_time": "2025-01-13T06:26:41.298Z"
   },
   {
    "duration": 6,
    "start_time": "2025-01-13T06:40:40.009Z"
   },
   {
    "duration": 13,
    "start_time": "2025-01-13T06:43:43.589Z"
   },
   {
    "duration": 6,
    "start_time": "2025-01-13T06:49:32.478Z"
   },
   {
    "duration": 6,
    "start_time": "2025-01-13T06:51:15.195Z"
   },
   {
    "duration": 5,
    "start_time": "2025-01-13T06:52:12.970Z"
   },
   {
    "duration": 13,
    "start_time": "2025-01-13T06:59:09.256Z"
   },
   {
    "duration": 5,
    "start_time": "2025-01-13T07:13:48.077Z"
   },
   {
    "duration": 8,
    "start_time": "2025-01-13T07:14:14.612Z"
   },
   {
    "duration": 6,
    "start_time": "2025-01-13T07:14:58.635Z"
   },
   {
    "duration": 4,
    "start_time": "2025-01-13T07:27:27.987Z"
   },
   {
    "duration": 4,
    "start_time": "2025-01-13T07:27:36.731Z"
   },
   {
    "duration": 1305,
    "start_time": "2025-01-13T07:31:24.399Z"
   },
   {
    "duration": 3,
    "start_time": "2025-01-13T07:31:25.707Z"
   },
   {
    "duration": 152,
    "start_time": "2025-01-13T07:31:25.712Z"
   },
   {
    "duration": 128,
    "start_time": "2025-01-13T07:31:25.865Z"
   },
   {
    "duration": 79,
    "start_time": "2025-01-13T07:31:25.995Z"
   },
   {
    "duration": 11,
    "start_time": "2025-01-13T07:31:26.076Z"
   },
   {
    "duration": 13,
    "start_time": "2025-01-13T07:31:26.088Z"
   },
   {
    "duration": 15,
    "start_time": "2025-01-13T07:31:26.103Z"
   },
   {
    "duration": 13,
    "start_time": "2025-01-13T07:31:26.120Z"
   },
   {
    "duration": 7,
    "start_time": "2025-01-13T07:31:26.135Z"
   },
   {
    "duration": 9,
    "start_time": "2025-01-13T07:31:26.144Z"
   },
   {
    "duration": 4,
    "start_time": "2025-01-13T07:31:26.155Z"
   },
   {
    "duration": 4,
    "start_time": "2025-01-13T07:31:26.160Z"
   },
   {
    "duration": 4,
    "start_time": "2025-01-13T07:31:26.167Z"
   },
   {
    "duration": 14,
    "start_time": "2025-01-13T07:31:26.172Z"
   },
   {
    "duration": 46,
    "start_time": "2025-01-13T07:31:26.188Z"
   },
   {
    "duration": 13,
    "start_time": "2025-01-13T07:31:26.235Z"
   },
   {
    "duration": 7,
    "start_time": "2025-01-13T07:31:26.250Z"
   },
   {
    "duration": 93,
    "start_time": "2025-01-13T07:31:26.258Z"
   },
   {
    "duration": 6,
    "start_time": "2025-01-13T07:31:26.353Z"
   },
   {
    "duration": 7,
    "start_time": "2025-01-13T07:31:26.360Z"
   },
   {
    "duration": 5,
    "start_time": "2025-01-13T07:31:26.369Z"
   },
   {
    "duration": 5,
    "start_time": "2025-01-13T07:31:26.376Z"
   },
   {
    "duration": 9,
    "start_time": "2025-01-13T07:31:26.383Z"
   },
   {
    "duration": 26,
    "start_time": "2025-01-13T07:31:26.393Z"
   },
   {
    "duration": 11,
    "start_time": "2025-01-13T07:31:26.421Z"
   },
   {
    "duration": 7,
    "start_time": "2025-01-13T07:31:26.434Z"
   },
   {
    "duration": 9,
    "start_time": "2025-01-13T07:31:26.443Z"
   },
   {
    "duration": 6,
    "start_time": "2025-01-13T07:31:26.453Z"
   },
   {
    "duration": 5,
    "start_time": "2025-01-13T07:31:26.461Z"
   },
   {
    "duration": 6,
    "start_time": "2025-01-13T07:31:26.467Z"
   },
   {
    "duration": 5,
    "start_time": "2025-01-13T07:31:26.475Z"
   },
   {
    "duration": 5,
    "start_time": "2025-01-13T07:31:26.530Z"
   },
   {
    "duration": 5,
    "start_time": "2025-01-13T07:31:26.537Z"
   },
   {
    "duration": 9,
    "start_time": "2025-01-13T07:31:26.544Z"
   },
   {
    "duration": 19,
    "start_time": "2025-01-13T07:31:26.555Z"
   },
   {
    "duration": 9,
    "start_time": "2025-01-13T07:31:26.576Z"
   },
   {
    "duration": 17,
    "start_time": "2025-01-13T07:31:26.587Z"
   },
   {
    "duration": 6,
    "start_time": "2025-01-13T07:31:26.605Z"
   },
   {
    "duration": 18,
    "start_time": "2025-01-13T07:31:26.612Z"
   },
   {
    "duration": 7,
    "start_time": "2025-01-13T07:31:26.636Z"
   },
   {
    "duration": 11,
    "start_time": "2025-01-13T07:31:26.644Z"
   },
   {
    "duration": 10,
    "start_time": "2025-01-13T07:31:26.656Z"
   },
   {
    "duration": 18,
    "start_time": "2025-01-13T07:31:26.667Z"
   },
   {
    "duration": 4,
    "start_time": "2025-01-13T07:31:26.687Z"
   },
   {
    "duration": 11,
    "start_time": "2025-01-13T07:31:26.693Z"
   },
   {
    "duration": 5,
    "start_time": "2025-01-13T07:31:26.729Z"
   },
   {
    "duration": 6,
    "start_time": "2025-01-13T07:31:26.736Z"
   },
   {
    "duration": 5,
    "start_time": "2025-01-13T07:31:26.743Z"
   },
   {
    "duration": 11,
    "start_time": "2025-01-13T07:31:26.750Z"
   },
   {
    "duration": 6,
    "start_time": "2025-01-13T07:31:26.762Z"
   },
   {
    "duration": 7,
    "start_time": "2025-01-13T07:31:26.770Z"
   },
   {
    "duration": 199,
    "start_time": "2025-01-13T07:31:26.779Z"
   },
   {
    "duration": 198,
    "start_time": "2025-01-13T07:31:26.979Z"
   },
   {
    "duration": 8,
    "start_time": "2025-01-13T07:31:27.179Z"
   },
   {
    "duration": 13,
    "start_time": "2025-01-13T07:31:27.189Z"
   },
   {
    "duration": 115,
    "start_time": "2025-01-13T07:31:27.204Z"
   },
   {
    "duration": 14,
    "start_time": "2025-01-13T07:31:27.321Z"
   },
   {
    "duration": 21,
    "start_time": "2025-01-13T07:31:27.337Z"
   },
   {
    "duration": 322,
    "start_time": "2025-01-13T07:31:27.360Z"
   },
   {
    "duration": 9,
    "start_time": "2025-01-13T07:31:27.683Z"
   },
   {
    "duration": 381,
    "start_time": "2025-01-13T07:31:27.694Z"
   },
   {
    "duration": 423,
    "start_time": "2025-01-13T07:31:28.077Z"
   },
   {
    "duration": 317,
    "start_time": "2025-01-13T07:31:28.502Z"
   },
   {
    "duration": 15,
    "start_time": "2025-01-13T07:31:28.821Z"
   },
   {
    "duration": 301,
    "start_time": "2025-01-13T07:31:28.838Z"
   },
   {
    "duration": 22,
    "start_time": "2025-01-13T07:31:29.141Z"
   },
   {
    "duration": 23,
    "start_time": "2025-01-13T07:31:29.165Z"
   },
   {
    "duration": 41,
    "start_time": "2025-01-13T07:31:29.190Z"
   },
   {
    "duration": 19,
    "start_time": "2025-01-13T07:31:29.233Z"
   },
   {
    "duration": 9,
    "start_time": "2025-01-13T07:31:29.253Z"
   },
   {
    "duration": 349,
    "start_time": "2025-01-13T07:31:29.264Z"
   },
   {
    "duration": 18,
    "start_time": "2025-01-13T07:31:29.616Z"
   },
   {
    "duration": 303,
    "start_time": "2025-01-13T07:31:29.636Z"
   },
   {
    "duration": 9,
    "start_time": "2025-01-13T07:31:29.941Z"
   },
   {
    "duration": 354,
    "start_time": "2025-01-13T07:31:29.951Z"
   },
   {
    "duration": 9,
    "start_time": "2025-01-13T07:31:30.307Z"
   },
   {
    "duration": 496,
    "start_time": "2025-01-13T07:31:30.317Z"
   },
   {
    "duration": 818,
    "start_time": "2025-01-13T07:31:30.814Z"
   },
   {
    "duration": 10,
    "start_time": "2025-01-13T07:31:31.634Z"
   },
   {
    "duration": 3,
    "start_time": "2025-01-13T07:31:31.646Z"
   },
   {
    "duration": 270,
    "start_time": "2025-01-13T07:31:31.650Z"
   },
   {
    "duration": 8,
    "start_time": "2025-01-13T07:31:31.922Z"
   },
   {
    "duration": 31,
    "start_time": "2025-01-13T07:31:31.932Z"
   },
   {
    "duration": 10,
    "start_time": "2025-01-13T07:31:31.965Z"
   },
   {
    "duration": 18,
    "start_time": "2025-01-13T07:31:31.977Z"
   },
   {
    "duration": 34,
    "start_time": "2025-01-13T07:31:31.996Z"
   },
   {
    "duration": 7,
    "start_time": "2025-01-13T07:31:32.032Z"
   },
   {
    "duration": 37,
    "start_time": "2025-01-13T07:31:32.041Z"
   },
   {
    "duration": 9,
    "start_time": "2025-01-13T07:31:32.130Z"
   },
   {
    "duration": 8,
    "start_time": "2025-01-13T07:31:32.140Z"
   },
   {
    "duration": 181,
    "start_time": "2025-01-13T07:31:32.150Z"
   },
   {
    "duration": 0,
    "start_time": "2025-01-13T07:31:32.333Z"
   },
   {
    "duration": 0,
    "start_time": "2025-01-13T07:31:32.335Z"
   },
   {
    "duration": 0,
    "start_time": "2025-01-13T07:31:32.336Z"
   },
   {
    "duration": 0,
    "start_time": "2025-01-13T07:31:32.338Z"
   },
   {
    "duration": 0,
    "start_time": "2025-01-13T07:31:32.339Z"
   },
   {
    "duration": 0,
    "start_time": "2025-01-13T07:31:32.340Z"
   },
   {
    "duration": 197,
    "start_time": "2025-01-13T07:41:37.809Z"
   },
   {
    "duration": 1391,
    "start_time": "2025-01-13T08:24:14.716Z"
   },
   {
    "duration": 3,
    "start_time": "2025-01-13T08:24:16.109Z"
   },
   {
    "duration": 137,
    "start_time": "2025-01-13T08:24:16.115Z"
   },
   {
    "duration": 118,
    "start_time": "2025-01-13T08:24:16.254Z"
   },
   {
    "duration": 307,
    "start_time": "2025-01-13T08:24:16.375Z"
   },
   {
    "duration": 13,
    "start_time": "2025-01-13T08:24:16.684Z"
   },
   {
    "duration": 11,
    "start_time": "2025-01-13T08:24:16.699Z"
   },
   {
    "duration": 9,
    "start_time": "2025-01-13T08:24:16.712Z"
   },
   {
    "duration": 17,
    "start_time": "2025-01-13T08:24:16.723Z"
   },
   {
    "duration": 13,
    "start_time": "2025-01-13T08:24:16.743Z"
   },
   {
    "duration": 18,
    "start_time": "2025-01-13T08:24:16.758Z"
   },
   {
    "duration": 18,
    "start_time": "2025-01-13T08:24:16.778Z"
   },
   {
    "duration": 15,
    "start_time": "2025-01-13T08:24:16.798Z"
   },
   {
    "duration": 8,
    "start_time": "2025-01-13T08:24:16.817Z"
   },
   {
    "duration": 21,
    "start_time": "2025-01-13T08:24:16.835Z"
   },
   {
    "duration": 5,
    "start_time": "2025-01-13T08:24:16.858Z"
   },
   {
    "duration": 11,
    "start_time": "2025-01-13T08:24:16.865Z"
   },
   {
    "duration": 6,
    "start_time": "2025-01-13T08:24:16.877Z"
   },
   {
    "duration": 9,
    "start_time": "2025-01-13T08:24:16.884Z"
   },
   {
    "duration": 37,
    "start_time": "2025-01-13T08:24:16.895Z"
   },
   {
    "duration": 9,
    "start_time": "2025-01-13T08:24:16.933Z"
   },
   {
    "duration": 6,
    "start_time": "2025-01-13T08:24:16.945Z"
   },
   {
    "duration": 5,
    "start_time": "2025-01-13T08:24:16.952Z"
   },
   {
    "duration": 3,
    "start_time": "2025-01-13T08:24:16.959Z"
   },
   {
    "duration": 17,
    "start_time": "2025-01-13T08:24:16.963Z"
   },
   {
    "duration": 51,
    "start_time": "2025-01-13T08:24:16.981Z"
   },
   {
    "duration": 15,
    "start_time": "2025-01-13T08:24:17.034Z"
   },
   {
    "duration": 10,
    "start_time": "2025-01-13T08:24:17.052Z"
   },
   {
    "duration": 5,
    "start_time": "2025-01-13T08:24:17.063Z"
   },
   {
    "duration": 5,
    "start_time": "2025-01-13T08:24:17.069Z"
   },
   {
    "duration": 5,
    "start_time": "2025-01-13T08:24:17.075Z"
   },
   {
    "duration": 6,
    "start_time": "2025-01-13T08:24:17.081Z"
   },
   {
    "duration": 42,
    "start_time": "2025-01-13T08:24:17.089Z"
   },
   {
    "duration": 12,
    "start_time": "2025-01-13T08:24:17.133Z"
   },
   {
    "duration": 8,
    "start_time": "2025-01-13T08:24:17.148Z"
   },
   {
    "duration": 4,
    "start_time": "2025-01-13T08:24:17.158Z"
   },
   {
    "duration": 4,
    "start_time": "2025-01-13T08:24:17.163Z"
   },
   {
    "duration": 8,
    "start_time": "2025-01-13T08:24:17.169Z"
   },
   {
    "duration": 6,
    "start_time": "2025-01-13T08:24:17.178Z"
   },
   {
    "duration": 51,
    "start_time": "2025-01-13T08:24:17.185Z"
   },
   {
    "duration": 13,
    "start_time": "2025-01-13T08:24:17.245Z"
   },
   {
    "duration": 5,
    "start_time": "2025-01-13T08:24:17.260Z"
   },
   {
    "duration": 5,
    "start_time": "2025-01-13T08:24:17.267Z"
   },
   {
    "duration": 15,
    "start_time": "2025-01-13T08:24:17.273Z"
   },
   {
    "duration": 42,
    "start_time": "2025-01-13T08:24:17.290Z"
   },
   {
    "duration": 7,
    "start_time": "2025-01-13T08:24:17.335Z"
   },
   {
    "duration": 15,
    "start_time": "2025-01-13T08:24:17.345Z"
   },
   {
    "duration": 6,
    "start_time": "2025-01-13T08:24:17.362Z"
   },
   {
    "duration": 6,
    "start_time": "2025-01-13T08:24:17.370Z"
   },
   {
    "duration": 231,
    "start_time": "2025-01-13T08:24:17.378Z"
   },
   {
    "duration": 202,
    "start_time": "2025-01-13T08:24:17.611Z"
   },
   {
    "duration": 16,
    "start_time": "2025-01-13T08:24:17.815Z"
   },
   {
    "duration": 10,
    "start_time": "2025-01-13T08:24:17.834Z"
   },
   {
    "duration": 116,
    "start_time": "2025-01-13T08:24:17.846Z"
   },
   {
    "duration": 7,
    "start_time": "2025-01-13T08:24:17.964Z"
   },
   {
    "duration": 14,
    "start_time": "2025-01-13T08:24:17.973Z"
   },
   {
    "duration": 211,
    "start_time": "2025-01-13T08:24:17.989Z"
   },
   {
    "duration": 9,
    "start_time": "2025-01-13T08:24:18.201Z"
   },
   {
    "duration": 344,
    "start_time": "2025-01-13T08:24:18.212Z"
   },
   {
    "duration": 340,
    "start_time": "2025-01-13T08:24:18.558Z"
   },
   {
    "duration": 415,
    "start_time": "2025-01-13T08:24:18.900Z"
   },
   {
    "duration": 19,
    "start_time": "2025-01-13T08:24:19.317Z"
   },
   {
    "duration": 312,
    "start_time": "2025-01-13T08:24:19.338Z"
   },
   {
    "duration": 23,
    "start_time": "2025-01-13T08:24:19.652Z"
   },
   {
    "duration": 23,
    "start_time": "2025-01-13T08:24:19.677Z"
   },
   {
    "duration": 47,
    "start_time": "2025-01-13T08:24:19.701Z"
   },
   {
    "duration": 59,
    "start_time": "2025-01-13T08:24:19.750Z"
   },
   {
    "duration": 9,
    "start_time": "2025-01-13T08:24:19.811Z"
   },
   {
    "duration": 339,
    "start_time": "2025-01-13T08:24:19.822Z"
   },
   {
    "duration": 8,
    "start_time": "2025-01-13T08:24:20.163Z"
   },
   {
    "duration": 318,
    "start_time": "2025-01-13T08:24:20.173Z"
   },
   {
    "duration": 9,
    "start_time": "2025-01-13T08:24:20.492Z"
   },
   {
    "duration": 440,
    "start_time": "2025-01-13T08:24:20.502Z"
   },
   {
    "duration": 11,
    "start_time": "2025-01-13T08:24:20.944Z"
   },
   {
    "duration": 325,
    "start_time": "2025-01-13T08:24:20.956Z"
   },
   {
    "duration": 876,
    "start_time": "2025-01-13T08:24:21.283Z"
   },
   {
    "duration": 10,
    "start_time": "2025-01-13T08:24:22.161Z"
   },
   {
    "duration": 3,
    "start_time": "2025-01-13T08:24:22.173Z"
   },
   {
    "duration": 262,
    "start_time": "2025-01-13T08:24:22.178Z"
   },
   {
    "duration": 5,
    "start_time": "2025-01-13T08:24:22.443Z"
   },
   {
    "duration": 39,
    "start_time": "2025-01-13T08:24:22.451Z"
   },
   {
    "duration": 5,
    "start_time": "2025-01-13T08:24:22.492Z"
   },
   {
    "duration": 103,
    "start_time": "2025-01-13T08:24:22.498Z"
   },
   {
    "duration": 5,
    "start_time": "2025-01-13T08:24:22.603Z"
   },
   {
    "duration": 8,
    "start_time": "2025-01-13T08:24:22.609Z"
   },
   {
    "duration": 52,
    "start_time": "2025-01-13T08:24:22.619Z"
   },
   {
    "duration": 8,
    "start_time": "2025-01-13T08:24:22.673Z"
   },
   {
    "duration": 9,
    "start_time": "2025-01-13T08:24:22.682Z"
   },
   {
    "duration": 126,
    "start_time": "2025-01-13T08:24:22.693Z"
   },
   {
    "duration": 0,
    "start_time": "2025-01-13T08:24:22.821Z"
   },
   {
    "duration": 0,
    "start_time": "2025-01-13T08:24:22.830Z"
   },
   {
    "duration": 0,
    "start_time": "2025-01-13T08:24:22.832Z"
   },
   {
    "duration": 0,
    "start_time": "2025-01-13T08:24:22.833Z"
   },
   {
    "duration": 0,
    "start_time": "2025-01-13T08:24:22.834Z"
   },
   {
    "duration": 0,
    "start_time": "2025-01-13T08:24:22.835Z"
   },
   {
    "duration": 9,
    "start_time": "2025-01-13T08:41:34.937Z"
   },
   {
    "duration": 635,
    "start_time": "2025-01-13T08:50:55.822Z"
   },
   {
    "duration": 562,
    "start_time": "2025-01-13T08:53:47.306Z"
   },
   {
    "duration": 586,
    "start_time": "2025-01-13T08:54:20.377Z"
   },
   {
    "duration": 739,
    "start_time": "2025-01-13T08:54:55.200Z"
   },
   {
    "duration": 743,
    "start_time": "2025-01-13T08:55:13.808Z"
   },
   {
    "duration": 611,
    "start_time": "2025-01-13T08:58:39.964Z"
   },
   {
    "duration": 570,
    "start_time": "2025-01-13T08:58:54.387Z"
   },
   {
    "duration": 13,
    "start_time": "2025-01-13T08:59:41.234Z"
   },
   {
    "duration": 278,
    "start_time": "2025-01-13T09:00:35.729Z"
   },
   {
    "duration": 627,
    "start_time": "2025-01-13T09:02:50.638Z"
   },
   {
    "duration": 692,
    "start_time": "2025-01-13T09:03:37.270Z"
   },
   {
    "duration": 653,
    "start_time": "2025-01-13T09:04:10.101Z"
   },
   {
    "duration": 631,
    "start_time": "2025-01-13T09:04:25.436Z"
   },
   {
    "duration": 606,
    "start_time": "2025-01-13T09:04:37.564Z"
   },
   {
    "duration": 700,
    "start_time": "2025-01-13T09:05:14.658Z"
   },
   {
    "duration": 757,
    "start_time": "2025-01-13T09:05:38.707Z"
   },
   {
    "duration": 874,
    "start_time": "2025-01-13T09:11:38.931Z"
   },
   {
    "duration": 840,
    "start_time": "2025-01-13T09:13:54.423Z"
   },
   {
    "duration": 792,
    "start_time": "2025-01-13T09:14:33.079Z"
   },
   {
    "duration": 868,
    "start_time": "2025-01-13T10:07:42.426Z"
   },
   {
    "duration": 969,
    "start_time": "2025-01-13T10:08:15.026Z"
   },
   {
    "duration": 852,
    "start_time": "2025-01-13T10:09:21.824Z"
   },
   {
    "duration": 892,
    "start_time": "2025-01-13T10:09:42.503Z"
   },
   {
    "duration": 1019,
    "start_time": "2025-01-13T10:09:53.711Z"
   },
   {
    "duration": 689,
    "start_time": "2025-01-13T10:10:16.447Z"
   },
   {
    "duration": 849,
    "start_time": "2025-01-13T10:14:04.834Z"
   },
   {
    "duration": 895,
    "start_time": "2025-01-13T10:15:38.111Z"
   },
   {
    "duration": 705,
    "start_time": "2025-01-13T10:16:38.647Z"
   },
   {
    "duration": 987,
    "start_time": "2025-01-13T10:17:50.966Z"
   },
   {
    "duration": 864,
    "start_time": "2025-01-13T10:18:11.237Z"
   },
   {
    "duration": 901,
    "start_time": "2025-01-13T10:18:26.989Z"
   },
   {
    "duration": 898,
    "start_time": "2025-01-13T10:18:51.228Z"
   },
   {
    "duration": 894,
    "start_time": "2025-01-13T10:19:09.556Z"
   },
   {
    "duration": 799,
    "start_time": "2025-01-13T10:20:12.715Z"
   },
   {
    "duration": 830,
    "start_time": "2025-01-13T10:22:16.392Z"
   },
   {
    "duration": 985,
    "start_time": "2025-01-13T10:24:44.646Z"
   },
   {
    "duration": 566,
    "start_time": "2025-01-13T10:26:06.484Z"
   },
   {
    "duration": 553,
    "start_time": "2025-01-13T10:28:42.568Z"
   },
   {
    "duration": 682,
    "start_time": "2025-01-13T10:31:32.437Z"
   },
   {
    "duration": 595,
    "start_time": "2025-01-13T10:31:39.821Z"
   },
   {
    "duration": 561,
    "start_time": "2025-01-13T10:32:18.779Z"
   },
   {
    "duration": 555,
    "start_time": "2025-01-13T10:32:27.348Z"
   },
   {
    "duration": 712,
    "start_time": "2025-01-13T10:32:37.900Z"
   },
   {
    "duration": 594,
    "start_time": "2025-01-13T10:33:11.404Z"
   },
   {
    "duration": 507,
    "start_time": "2025-01-13T10:34:17.106Z"
   },
   {
    "duration": 614,
    "start_time": "2025-01-13T10:35:15.721Z"
   },
   {
    "duration": 745,
    "start_time": "2025-01-13T10:35:30.816Z"
   },
   {
    "duration": 128,
    "start_time": "2025-01-13T10:35:55.383Z"
   },
   {
    "duration": 620,
    "start_time": "2025-01-13T10:36:01.288Z"
   },
   {
    "duration": 611,
    "start_time": "2025-01-13T10:36:13.919Z"
   },
   {
    "duration": 711,
    "start_time": "2025-01-13T10:41:00.026Z"
   },
   {
    "duration": 625,
    "start_time": "2025-01-13T10:42:01.568Z"
   },
   {
    "duration": 661,
    "start_time": "2025-01-13T10:44:13.910Z"
   },
   {
    "duration": 583,
    "start_time": "2025-01-13T10:44:45.349Z"
   },
   {
    "duration": 729,
    "start_time": "2025-01-13T10:45:19.788Z"
   },
   {
    "duration": 585,
    "start_time": "2025-01-13T10:45:38.347Z"
   },
   {
    "duration": 595,
    "start_time": "2025-01-13T10:47:34.010Z"
   },
   {
    "duration": 572,
    "start_time": "2025-01-13T10:47:38.465Z"
   },
   {
    "duration": 706,
    "start_time": "2025-01-13T10:48:08.824Z"
   },
   {
    "duration": 582,
    "start_time": "2025-01-13T10:48:16.864Z"
   },
   {
    "duration": 14,
    "start_time": "2025-01-13T10:56:09.678Z"
   },
   {
    "duration": 838,
    "start_time": "2025-01-13T10:57:49.108Z"
   },
   {
    "duration": 3,
    "start_time": "2025-01-13T10:58:28.378Z"
   },
   {
    "duration": 3,
    "start_time": "2025-01-13T11:00:10.826Z"
   },
   {
    "duration": 27,
    "start_time": "2025-01-13T11:00:36.008Z"
   },
   {
    "duration": 44,
    "start_time": "2025-01-13T11:05:44.354Z"
   },
   {
    "duration": 40,
    "start_time": "2025-01-13T11:08:03.639Z"
   },
   {
    "duration": 41,
    "start_time": "2025-01-13T11:10:18.284Z"
   },
   {
    "duration": 40,
    "start_time": "2025-01-13T11:10:40.114Z"
   },
   {
    "duration": 39,
    "start_time": "2025-01-13T11:12:29.786Z"
   },
   {
    "duration": 1266,
    "start_time": "2025-01-13T11:14:30.653Z"
   },
   {
    "duration": 9,
    "start_time": "2025-01-13T11:14:31.921Z"
   },
   {
    "duration": 116,
    "start_time": "2025-01-13T11:14:31.932Z"
   },
   {
    "duration": 146,
    "start_time": "2025-01-13T11:14:32.052Z"
   },
   {
    "duration": 72,
    "start_time": "2025-01-13T11:14:32.200Z"
   },
   {
    "duration": 13,
    "start_time": "2025-01-13T11:14:32.274Z"
   },
   {
    "duration": 21,
    "start_time": "2025-01-13T11:14:32.288Z"
   },
   {
    "duration": 22,
    "start_time": "2025-01-13T11:14:32.311Z"
   },
   {
    "duration": 110,
    "start_time": "2025-01-13T11:14:32.335Z"
   },
   {
    "duration": 10,
    "start_time": "2025-01-13T11:14:32.448Z"
   },
   {
    "duration": 30,
    "start_time": "2025-01-13T11:14:32.459Z"
   },
   {
    "duration": 27,
    "start_time": "2025-01-13T11:14:32.490Z"
   },
   {
    "duration": 21,
    "start_time": "2025-01-13T11:14:32.519Z"
   },
   {
    "duration": 43,
    "start_time": "2025-01-13T11:14:32.542Z"
   },
   {
    "duration": 31,
    "start_time": "2025-01-13T11:14:32.587Z"
   },
   {
    "duration": 23,
    "start_time": "2025-01-13T11:14:32.619Z"
   },
   {
    "duration": 180,
    "start_time": "2025-01-13T11:14:32.644Z"
   },
   {
    "duration": 18,
    "start_time": "2025-01-13T11:14:32.826Z"
   },
   {
    "duration": 15,
    "start_time": "2025-01-13T11:14:32.846Z"
   },
   {
    "duration": 6,
    "start_time": "2025-01-13T11:14:32.863Z"
   },
   {
    "duration": 14,
    "start_time": "2025-01-13T11:14:32.871Z"
   },
   {
    "duration": 22,
    "start_time": "2025-01-13T11:14:32.887Z"
   },
   {
    "duration": 22,
    "start_time": "2025-01-13T11:14:32.910Z"
   },
   {
    "duration": 9,
    "start_time": "2025-01-13T11:14:32.933Z"
   },
   {
    "duration": 25,
    "start_time": "2025-01-13T11:14:32.944Z"
   },
   {
    "duration": 32,
    "start_time": "2025-01-13T11:14:32.971Z"
   },
   {
    "duration": 15,
    "start_time": "2025-01-13T11:14:33.005Z"
   },
   {
    "duration": 36,
    "start_time": "2025-01-13T11:14:33.025Z"
   },
   {
    "duration": 11,
    "start_time": "2025-01-13T11:14:33.063Z"
   },
   {
    "duration": 32,
    "start_time": "2025-01-13T11:14:33.076Z"
   },
   {
    "duration": 24,
    "start_time": "2025-01-13T11:14:33.111Z"
   },
   {
    "duration": 23,
    "start_time": "2025-01-13T11:14:33.137Z"
   },
   {
    "duration": 11,
    "start_time": "2025-01-13T11:14:33.162Z"
   },
   {
    "duration": 12,
    "start_time": "2025-01-13T11:14:33.175Z"
   },
   {
    "duration": 19,
    "start_time": "2025-01-13T11:14:33.188Z"
   },
   {
    "duration": 14,
    "start_time": "2025-01-13T11:14:33.209Z"
   },
   {
    "duration": 7,
    "start_time": "2025-01-13T11:14:33.224Z"
   },
   {
    "duration": 20,
    "start_time": "2025-01-13T11:14:33.233Z"
   },
   {
    "duration": 12,
    "start_time": "2025-01-13T11:14:33.255Z"
   },
   {
    "duration": 10,
    "start_time": "2025-01-13T11:14:33.269Z"
   },
   {
    "duration": 23,
    "start_time": "2025-01-13T11:14:33.281Z"
   },
   {
    "duration": 16,
    "start_time": "2025-01-13T11:14:33.306Z"
   },
   {
    "duration": 13,
    "start_time": "2025-01-13T11:14:33.324Z"
   },
   {
    "duration": 30,
    "start_time": "2025-01-13T11:14:33.339Z"
   },
   {
    "duration": 79,
    "start_time": "2025-01-13T11:14:33.371Z"
   },
   {
    "duration": 19,
    "start_time": "2025-01-13T11:14:33.452Z"
   },
   {
    "duration": 21,
    "start_time": "2025-01-13T11:14:33.472Z"
   },
   {
    "duration": 23,
    "start_time": "2025-01-13T11:14:33.495Z"
   },
   {
    "duration": 19,
    "start_time": "2025-01-13T11:14:33.520Z"
   },
   {
    "duration": 167,
    "start_time": "2025-01-13T11:14:33.540Z"
   },
   {
    "duration": 190,
    "start_time": "2025-01-13T11:14:33.709Z"
   },
   {
    "duration": 7,
    "start_time": "2025-01-13T11:14:33.900Z"
   },
   {
    "duration": 34,
    "start_time": "2025-01-13T11:14:33.909Z"
   },
   {
    "duration": 104,
    "start_time": "2025-01-13T11:14:33.944Z"
   },
   {
    "duration": 7,
    "start_time": "2025-01-13T11:14:34.050Z"
   },
   {
    "duration": 27,
    "start_time": "2025-01-13T11:14:34.059Z"
   },
   {
    "duration": 188,
    "start_time": "2025-01-13T11:14:34.087Z"
   },
   {
    "duration": 9,
    "start_time": "2025-01-13T11:14:34.277Z"
   },
   {
    "duration": 334,
    "start_time": "2025-01-13T11:14:34.287Z"
   },
   {
    "duration": 351,
    "start_time": "2025-01-13T11:14:34.623Z"
   },
   {
    "duration": 395,
    "start_time": "2025-01-13T11:14:34.975Z"
   },
   {
    "duration": 9,
    "start_time": "2025-01-13T11:14:35.372Z"
   },
   {
    "duration": 351,
    "start_time": "2025-01-13T11:14:35.382Z"
   },
   {
    "duration": 22,
    "start_time": "2025-01-13T11:14:35.734Z"
   },
   {
    "duration": 39,
    "start_time": "2025-01-13T11:14:35.758Z"
   },
   {
    "duration": 11,
    "start_time": "2025-01-13T11:14:35.799Z"
   },
   {
    "duration": 39,
    "start_time": "2025-01-13T11:14:35.812Z"
   },
   {
    "duration": 30,
    "start_time": "2025-01-13T11:14:35.853Z"
   },
   {
    "duration": 41,
    "start_time": "2025-01-13T11:14:35.884Z"
   },
   {
    "duration": 368,
    "start_time": "2025-01-13T11:14:35.927Z"
   },
   {
    "duration": 9,
    "start_time": "2025-01-13T11:14:36.297Z"
   },
   {
    "duration": 303,
    "start_time": "2025-01-13T11:14:36.307Z"
   },
   {
    "duration": 18,
    "start_time": "2025-01-13T11:14:36.612Z"
   },
   {
    "duration": 323,
    "start_time": "2025-01-13T11:14:36.631Z"
   },
   {
    "duration": 8,
    "start_time": "2025-01-13T11:14:36.956Z"
   },
   {
    "duration": 307,
    "start_time": "2025-01-13T11:14:36.965Z"
   },
   {
    "duration": 688,
    "start_time": "2025-01-13T11:14:37.274Z"
   },
   {
    "duration": 559,
    "start_time": "2025-01-13T11:14:37.964Z"
   },
   {
    "duration": 14,
    "start_time": "2025-01-13T11:14:38.529Z"
   },
   {
    "duration": 141,
    "start_time": "2025-01-13T11:14:38.544Z"
   },
   {
    "duration": 0,
    "start_time": "2025-01-13T11:14:38.687Z"
   },
   {
    "duration": 0,
    "start_time": "2025-01-13T11:14:38.688Z"
   },
   {
    "duration": 0,
    "start_time": "2025-01-13T11:14:38.690Z"
   },
   {
    "duration": 0,
    "start_time": "2025-01-13T11:14:38.691Z"
   },
   {
    "duration": 0,
    "start_time": "2025-01-13T11:14:38.691Z"
   },
   {
    "duration": 0,
    "start_time": "2025-01-13T11:14:38.693Z"
   },
   {
    "duration": 0,
    "start_time": "2025-01-13T11:14:38.694Z"
   },
   {
    "duration": 0,
    "start_time": "2025-01-13T11:14:38.695Z"
   },
   {
    "duration": 0,
    "start_time": "2025-01-13T11:14:38.696Z"
   },
   {
    "duration": 0,
    "start_time": "2025-01-13T11:14:38.697Z"
   },
   {
    "duration": 0,
    "start_time": "2025-01-13T11:14:38.698Z"
   },
   {
    "duration": 0,
    "start_time": "2025-01-13T11:14:38.699Z"
   },
   {
    "duration": 0,
    "start_time": "2025-01-13T11:14:38.700Z"
   },
   {
    "duration": 0,
    "start_time": "2025-01-13T11:14:38.701Z"
   },
   {
    "duration": 0,
    "start_time": "2025-01-13T11:14:38.730Z"
   },
   {
    "duration": 0,
    "start_time": "2025-01-13T11:14:38.732Z"
   },
   {
    "duration": 0,
    "start_time": "2025-01-13T11:14:38.733Z"
   },
   {
    "duration": 0,
    "start_time": "2025-01-13T11:14:38.734Z"
   },
   {
    "duration": 0,
    "start_time": "2025-01-13T11:14:38.735Z"
   },
   {
    "duration": 0,
    "start_time": "2025-01-13T11:14:38.736Z"
   },
   {
    "duration": 0,
    "start_time": "2025-01-13T11:14:38.737Z"
   },
   {
    "duration": 33,
    "start_time": "2025-01-13T11:15:13.652Z"
   },
   {
    "duration": 44,
    "start_time": "2025-01-13T11:16:45.338Z"
   },
   {
    "duration": 43,
    "start_time": "2025-01-13T11:18:23.504Z"
   },
   {
    "duration": 46,
    "start_time": "2025-01-13T11:22:24.907Z"
   },
   {
    "duration": 8,
    "start_time": "2025-01-13T11:26:26.942Z"
   },
   {
    "duration": 4,
    "start_time": "2025-01-13T11:26:35.541Z"
   },
   {
    "duration": 1462,
    "start_time": "2025-01-13T11:26:37.565Z"
   },
   {
    "duration": 4,
    "start_time": "2025-01-13T11:27:16.956Z"
   },
   {
    "duration": 198,
    "start_time": "2025-01-13T11:27:19.684Z"
   },
   {
    "duration": 5,
    "start_time": "2025-01-13T11:28:46.747Z"
   },
   {
    "duration": 28,
    "start_time": "2025-01-13T11:29:57.961Z"
   },
   {
    "duration": 6,
    "start_time": "2025-01-13T11:30:01.056Z"
   },
   {
    "duration": 5,
    "start_time": "2025-01-13T11:30:01.818Z"
   },
   {
    "duration": 7,
    "start_time": "2025-01-13T11:30:02.442Z"
   },
   {
    "duration": 6,
    "start_time": "2025-01-13T11:30:38.488Z"
   },
   {
    "duration": 31,
    "start_time": "2025-01-13T11:31:04.863Z"
   },
   {
    "duration": 7,
    "start_time": "2025-01-13T11:31:07.743Z"
   },
   {
    "duration": 6,
    "start_time": "2025-01-13T11:31:08.440Z"
   },
   {
    "duration": 9,
    "start_time": "2025-01-13T11:31:13.559Z"
   },
   {
    "duration": 5,
    "start_time": "2025-01-13T11:32:04.687Z"
   },
   {
    "duration": 1493,
    "start_time": "2025-01-13T11:32:19.070Z"
   },
   {
    "duration": 1708,
    "start_time": "2025-01-13T11:32:33.557Z"
   },
   {
    "duration": 1959,
    "start_time": "2025-01-13T11:32:37.822Z"
   },
   {
    "duration": 6,
    "start_time": "2025-01-13T11:32:54.078Z"
   },
   {
    "duration": 6,
    "start_time": "2025-01-13T11:32:59.949Z"
   },
   {
    "duration": 385,
    "start_time": "2025-01-13T11:33:00.710Z"
   },
   {
    "duration": 1383,
    "start_time": "2025-01-13T15:15:34.586Z"
   },
   {
    "duration": 3,
    "start_time": "2025-01-13T15:15:35.971Z"
   },
   {
    "duration": 635,
    "start_time": "2025-01-13T15:15:35.976Z"
   },
   {
    "duration": 190,
    "start_time": "2025-01-13T15:15:36.613Z"
   },
   {
    "duration": 115,
    "start_time": "2025-01-13T15:15:36.805Z"
   },
   {
    "duration": 14,
    "start_time": "2025-01-13T15:15:36.922Z"
   },
   {
    "duration": 21,
    "start_time": "2025-01-13T15:15:36.937Z"
   },
   {
    "duration": 7,
    "start_time": "2025-01-13T15:15:36.967Z"
   },
   {
    "duration": 50,
    "start_time": "2025-01-13T15:15:36.975Z"
   },
   {
    "duration": 6,
    "start_time": "2025-01-13T15:15:37.028Z"
   },
   {
    "duration": 34,
    "start_time": "2025-01-13T15:15:37.036Z"
   },
   {
    "duration": 4,
    "start_time": "2025-01-13T15:15:37.072Z"
   },
   {
    "duration": 23,
    "start_time": "2025-01-13T15:15:37.077Z"
   },
   {
    "duration": 8,
    "start_time": "2025-01-13T15:15:37.101Z"
   },
   {
    "duration": 20,
    "start_time": "2025-01-13T15:15:37.110Z"
   },
   {
    "duration": 5,
    "start_time": "2025-01-13T15:15:37.131Z"
   },
   {
    "duration": 15,
    "start_time": "2025-01-13T15:15:37.137Z"
   },
   {
    "duration": 14,
    "start_time": "2025-01-13T15:15:37.153Z"
   },
   {
    "duration": 11,
    "start_time": "2025-01-13T15:15:37.169Z"
   },
   {
    "duration": 12,
    "start_time": "2025-01-13T15:15:37.182Z"
   },
   {
    "duration": 11,
    "start_time": "2025-01-13T15:15:37.195Z"
   },
   {
    "duration": 26,
    "start_time": "2025-01-13T15:15:37.207Z"
   },
   {
    "duration": 9,
    "start_time": "2025-01-13T15:15:37.235Z"
   },
   {
    "duration": 2,
    "start_time": "2025-01-13T15:15:37.246Z"
   },
   {
    "duration": 24,
    "start_time": "2025-01-13T15:15:37.250Z"
   },
   {
    "duration": 4,
    "start_time": "2025-01-13T15:15:37.276Z"
   },
   {
    "duration": 12,
    "start_time": "2025-01-13T15:15:37.282Z"
   },
   {
    "duration": 14,
    "start_time": "2025-01-13T15:15:37.298Z"
   },
   {
    "duration": 4,
    "start_time": "2025-01-13T15:15:37.314Z"
   },
   {
    "duration": 7,
    "start_time": "2025-01-13T15:15:37.319Z"
   },
   {
    "duration": 7,
    "start_time": "2025-01-13T15:15:37.327Z"
   },
   {
    "duration": 25,
    "start_time": "2025-01-13T15:15:37.336Z"
   },
   {
    "duration": 6,
    "start_time": "2025-01-13T15:15:37.363Z"
   },
   {
    "duration": 7,
    "start_time": "2025-01-13T15:15:37.370Z"
   },
   {
    "duration": 4,
    "start_time": "2025-01-13T15:15:37.378Z"
   },
   {
    "duration": 4,
    "start_time": "2025-01-13T15:15:37.384Z"
   },
   {
    "duration": 4,
    "start_time": "2025-01-13T15:15:37.389Z"
   },
   {
    "duration": 10,
    "start_time": "2025-01-13T15:15:37.395Z"
   },
   {
    "duration": 6,
    "start_time": "2025-01-13T15:15:37.407Z"
   },
   {
    "duration": 51,
    "start_time": "2025-01-13T15:15:37.414Z"
   },
   {
    "duration": 8,
    "start_time": "2025-01-13T15:15:37.467Z"
   },
   {
    "duration": 6,
    "start_time": "2025-01-13T15:15:37.476Z"
   },
   {
    "duration": 4,
    "start_time": "2025-01-13T15:15:37.483Z"
   },
   {
    "duration": 15,
    "start_time": "2025-01-13T15:15:37.489Z"
   },
   {
    "duration": 3,
    "start_time": "2025-01-13T15:15:37.505Z"
   },
   {
    "duration": 4,
    "start_time": "2025-01-13T15:15:37.510Z"
   },
   {
    "duration": 41,
    "start_time": "2025-01-13T15:15:37.515Z"
   },
   {
    "duration": 11,
    "start_time": "2025-01-13T15:15:37.558Z"
   },
   {
    "duration": 7,
    "start_time": "2025-01-13T15:15:37.571Z"
   },
   {
    "duration": 175,
    "start_time": "2025-01-13T15:15:37.579Z"
   },
   {
    "duration": 202,
    "start_time": "2025-01-13T15:15:37.763Z"
   },
   {
    "duration": 7,
    "start_time": "2025-01-13T15:15:37.967Z"
   },
   {
    "duration": 9,
    "start_time": "2025-01-13T15:15:37.975Z"
   },
   {
    "duration": 103,
    "start_time": "2025-01-13T15:15:37.986Z"
   },
   {
    "duration": 7,
    "start_time": "2025-01-13T15:15:38.091Z"
   },
   {
    "duration": 18,
    "start_time": "2025-01-13T15:15:38.099Z"
   },
   {
    "duration": 198,
    "start_time": "2025-01-13T15:15:38.118Z"
   },
   {
    "duration": 7,
    "start_time": "2025-01-13T15:15:38.318Z"
   },
   {
    "duration": 343,
    "start_time": "2025-01-13T15:15:38.327Z"
   },
   {
    "duration": 332,
    "start_time": "2025-01-13T15:15:38.671Z"
   },
   {
    "duration": 415,
    "start_time": "2025-01-13T15:15:39.004Z"
   },
   {
    "duration": 8,
    "start_time": "2025-01-13T15:15:39.421Z"
   },
   {
    "duration": 305,
    "start_time": "2025-01-13T15:15:39.430Z"
   },
   {
    "duration": 38,
    "start_time": "2025-01-13T15:15:39.736Z"
   },
   {
    "duration": 22,
    "start_time": "2025-01-13T15:15:39.775Z"
   },
   {
    "duration": 9,
    "start_time": "2025-01-13T15:15:39.799Z"
   },
   {
    "duration": 20,
    "start_time": "2025-01-13T15:15:39.809Z"
   },
   {
    "duration": 46,
    "start_time": "2025-01-13T15:15:39.831Z"
   },
   {
    "duration": 6,
    "start_time": "2025-01-13T15:15:39.879Z"
   },
   {
    "duration": 380,
    "start_time": "2025-01-13T15:15:39.887Z"
   },
   {
    "duration": 11,
    "start_time": "2025-01-13T15:15:40.268Z"
   },
   {
    "duration": 303,
    "start_time": "2025-01-13T15:15:40.280Z"
   },
   {
    "duration": 9,
    "start_time": "2025-01-13T15:15:40.584Z"
   },
   {
    "duration": 340,
    "start_time": "2025-01-13T15:15:40.594Z"
   },
   {
    "duration": 22,
    "start_time": "2025-01-13T15:15:40.935Z"
   },
   {
    "duration": 302,
    "start_time": "2025-01-13T15:15:40.959Z"
   },
   {
    "duration": 734,
    "start_time": "2025-01-13T15:15:41.262Z"
   },
   {
    "duration": 594,
    "start_time": "2025-01-13T15:15:41.998Z"
   },
   {
    "duration": 13,
    "start_time": "2025-01-13T15:15:42.593Z"
   },
   {
    "duration": 64,
    "start_time": "2025-01-13T15:15:42.608Z"
   },
   {
    "duration": 2,
    "start_time": "2025-01-13T15:15:42.673Z"
   },
   {
    "duration": 4,
    "start_time": "2025-01-13T15:15:42.680Z"
   },
   {
    "duration": 225,
    "start_time": "2025-01-13T15:15:42.685Z"
   },
   {
    "duration": 4,
    "start_time": "2025-01-13T15:15:42.912Z"
   },
   {
    "duration": 49,
    "start_time": "2025-01-13T15:15:42.918Z"
   },
   {
    "duration": 5,
    "start_time": "2025-01-13T15:15:42.968Z"
   },
   {
    "duration": 9,
    "start_time": "2025-01-13T15:15:42.975Z"
   },
   {
    "duration": 8,
    "start_time": "2025-01-13T15:15:42.985Z"
   },
   {
    "duration": 5,
    "start_time": "2025-01-13T15:15:42.995Z"
   },
   {
    "duration": 29,
    "start_time": "2025-01-13T15:15:43.002Z"
   },
   {
    "duration": 15,
    "start_time": "2025-01-13T15:15:43.054Z"
   },
   {
    "duration": 6,
    "start_time": "2025-01-13T15:15:43.070Z"
   },
   {
    "duration": 5,
    "start_time": "2025-01-13T15:15:43.078Z"
   },
   {
    "duration": 1620,
    "start_time": "2025-01-13T15:15:43.084Z"
   },
   {
    "duration": 1740,
    "start_time": "2025-01-13T15:15:44.705Z"
   },
   {
    "duration": 2061,
    "start_time": "2025-01-13T15:15:46.446Z"
   },
   {
    "duration": 5,
    "start_time": "2025-01-13T15:15:48.509Z"
   },
   {
    "duration": 8,
    "start_time": "2025-01-13T15:15:48.515Z"
   },
   {
    "duration": 415,
    "start_time": "2025-01-13T15:15:48.525Z"
   },
   {
    "duration": 8,
    "start_time": "2025-01-13T15:22:24.967Z"
   },
   {
    "duration": 6,
    "start_time": "2025-01-13T15:35:21.710Z"
   },
   {
    "duration": 5,
    "start_time": "2025-01-13T15:41:10.566Z"
   },
   {
    "duration": 5,
    "start_time": "2025-01-13T15:43:04.741Z"
   },
   {
    "duration": 6,
    "start_time": "2025-01-13T15:43:19.409Z"
   },
   {
    "duration": 6,
    "start_time": "2025-01-13T15:49:45.035Z"
   },
   {
    "duration": 5,
    "start_time": "2025-01-13T15:50:14.078Z"
   },
   {
    "duration": 1214,
    "start_time": "2025-01-13T16:13:45.748Z"
   },
   {
    "duration": 3,
    "start_time": "2025-01-13T16:13:46.964Z"
   },
   {
    "duration": 98,
    "start_time": "2025-01-13T16:13:46.968Z"
   },
   {
    "duration": 112,
    "start_time": "2025-01-13T16:13:47.068Z"
   },
   {
    "duration": 95,
    "start_time": "2025-01-13T16:13:47.182Z"
   },
   {
    "duration": 11,
    "start_time": "2025-01-13T16:13:47.278Z"
   },
   {
    "duration": 10,
    "start_time": "2025-01-13T16:13:47.291Z"
   },
   {
    "duration": 16,
    "start_time": "2025-01-13T16:13:47.302Z"
   },
   {
    "duration": 12,
    "start_time": "2025-01-13T16:13:47.319Z"
   },
   {
    "duration": 6,
    "start_time": "2025-01-13T16:13:47.334Z"
   },
   {
    "duration": 9,
    "start_time": "2025-01-13T16:13:47.341Z"
   },
   {
    "duration": 17,
    "start_time": "2025-01-13T16:13:47.352Z"
   },
   {
    "duration": 5,
    "start_time": "2025-01-13T16:13:47.370Z"
   },
   {
    "duration": 5,
    "start_time": "2025-01-13T16:13:47.377Z"
   },
   {
    "duration": 19,
    "start_time": "2025-01-13T16:13:47.383Z"
   },
   {
    "duration": 5,
    "start_time": "2025-01-13T16:13:47.404Z"
   },
   {
    "duration": 14,
    "start_time": "2025-01-13T16:13:47.410Z"
   },
   {
    "duration": 6,
    "start_time": "2025-01-13T16:13:47.425Z"
   },
   {
    "duration": 22,
    "start_time": "2025-01-13T16:13:47.433Z"
   },
   {
    "duration": 13,
    "start_time": "2025-01-13T16:13:47.456Z"
   },
   {
    "duration": 8,
    "start_time": "2025-01-13T16:13:47.470Z"
   },
   {
    "duration": 5,
    "start_time": "2025-01-13T16:13:47.480Z"
   },
   {
    "duration": 8,
    "start_time": "2025-01-13T16:13:47.486Z"
   },
   {
    "duration": 2,
    "start_time": "2025-01-13T16:13:47.496Z"
   },
   {
    "duration": 13,
    "start_time": "2025-01-13T16:13:47.499Z"
   },
   {
    "duration": 4,
    "start_time": "2025-01-13T16:13:47.513Z"
   },
   {
    "duration": 6,
    "start_time": "2025-01-13T16:13:47.519Z"
   },
   {
    "duration": 15,
    "start_time": "2025-01-13T16:13:47.553Z"
   },
   {
    "duration": 5,
    "start_time": "2025-01-13T16:13:47.569Z"
   },
   {
    "duration": 3,
    "start_time": "2025-01-13T16:13:47.576Z"
   },
   {
    "duration": 4,
    "start_time": "2025-01-13T16:13:47.581Z"
   },
   {
    "duration": 5,
    "start_time": "2025-01-13T16:13:47.587Z"
   },
   {
    "duration": 5,
    "start_time": "2025-01-13T16:13:47.593Z"
   },
   {
    "duration": 10,
    "start_time": "2025-01-13T16:13:47.599Z"
   },
   {
    "duration": 28,
    "start_time": "2025-01-13T16:13:47.610Z"
   },
   {
    "duration": 16,
    "start_time": "2025-01-13T16:13:47.639Z"
   },
   {
    "duration": 22,
    "start_time": "2025-01-13T16:13:47.656Z"
   },
   {
    "duration": 10,
    "start_time": "2025-01-13T16:13:47.680Z"
   },
   {
    "duration": 20,
    "start_time": "2025-01-13T16:13:47.692Z"
   },
   {
    "duration": 4,
    "start_time": "2025-01-13T16:13:47.715Z"
   },
   {
    "duration": 7,
    "start_time": "2025-01-13T16:13:47.721Z"
   },
   {
    "duration": 6,
    "start_time": "2025-01-13T16:13:47.729Z"
   },
   {
    "duration": 5,
    "start_time": "2025-01-13T16:13:47.737Z"
   },
   {
    "duration": 18,
    "start_time": "2025-01-13T16:13:47.754Z"
   },
   {
    "duration": 3,
    "start_time": "2025-01-13T16:13:47.773Z"
   },
   {
    "duration": 26,
    "start_time": "2025-01-13T16:13:47.778Z"
   },
   {
    "duration": 14,
    "start_time": "2025-01-13T16:13:47.806Z"
   },
   {
    "duration": 13,
    "start_time": "2025-01-13T16:13:47.822Z"
   },
   {
    "duration": 14,
    "start_time": "2025-01-13T16:13:47.836Z"
   },
   {
    "duration": 173,
    "start_time": "2025-01-13T16:13:47.852Z"
   },
   {
    "duration": 185,
    "start_time": "2025-01-13T16:13:48.026Z"
   },
   {
    "duration": 6,
    "start_time": "2025-01-13T16:13:48.212Z"
   },
   {
    "duration": 46,
    "start_time": "2025-01-13T16:13:48.219Z"
   },
   {
    "duration": 94,
    "start_time": "2025-01-13T16:13:48.267Z"
   },
   {
    "duration": 8,
    "start_time": "2025-01-13T16:13:48.365Z"
   },
   {
    "duration": 49,
    "start_time": "2025-01-13T16:13:48.375Z"
   },
   {
    "duration": 195,
    "start_time": "2025-01-13T16:13:48.425Z"
   },
   {
    "duration": 9,
    "start_time": "2025-01-13T16:13:48.622Z"
   },
   {
    "duration": 329,
    "start_time": "2025-01-13T16:13:48.632Z"
   },
   {
    "duration": 304,
    "start_time": "2025-01-13T16:13:48.966Z"
   },
   {
    "duration": 394,
    "start_time": "2025-01-13T16:13:49.271Z"
   },
   {
    "duration": 9,
    "start_time": "2025-01-13T16:13:49.667Z"
   },
   {
    "duration": 281,
    "start_time": "2025-01-13T16:13:49.678Z"
   },
   {
    "duration": 25,
    "start_time": "2025-01-13T16:13:49.961Z"
   },
   {
    "duration": 20,
    "start_time": "2025-01-13T16:13:49.987Z"
   },
   {
    "duration": 9,
    "start_time": "2025-01-13T16:13:50.008Z"
   },
   {
    "duration": 46,
    "start_time": "2025-01-13T16:13:50.018Z"
   },
   {
    "duration": 19,
    "start_time": "2025-01-13T16:13:50.067Z"
   },
   {
    "duration": 8,
    "start_time": "2025-01-13T16:13:50.088Z"
   },
   {
    "duration": 315,
    "start_time": "2025-01-13T16:13:50.098Z"
   },
   {
    "duration": 8,
    "start_time": "2025-01-13T16:13:50.414Z"
   },
   {
    "duration": 293,
    "start_time": "2025-01-13T16:13:50.423Z"
   },
   {
    "duration": 7,
    "start_time": "2025-01-13T16:13:50.717Z"
   },
   {
    "duration": 315,
    "start_time": "2025-01-13T16:13:50.725Z"
   },
   {
    "duration": 23,
    "start_time": "2025-01-13T16:13:51.042Z"
   },
   {
    "duration": 308,
    "start_time": "2025-01-13T16:13:51.066Z"
   },
   {
    "duration": 673,
    "start_time": "2025-01-13T16:13:51.375Z"
   },
   {
    "duration": 616,
    "start_time": "2025-01-13T16:13:52.050Z"
   },
   {
    "duration": 14,
    "start_time": "2025-01-13T16:13:52.667Z"
   },
   {
    "duration": 42,
    "start_time": "2025-01-13T16:13:52.682Z"
   },
   {
    "duration": 8,
    "start_time": "2025-01-13T16:13:52.725Z"
   },
   {
    "duration": 12,
    "start_time": "2025-01-13T16:13:52.753Z"
   },
   {
    "duration": 7,
    "start_time": "2025-01-13T16:13:52.766Z"
   },
   {
    "duration": 203,
    "start_time": "2025-01-13T16:13:52.774Z"
   },
   {
    "duration": 5,
    "start_time": "2025-01-13T16:13:52.978Z"
   },
   {
    "duration": 26,
    "start_time": "2025-01-13T16:13:52.984Z"
   },
   {
    "duration": 4,
    "start_time": "2025-01-13T16:13:53.012Z"
   },
   {
    "duration": 79,
    "start_time": "2025-01-13T16:13:53.018Z"
   },
   {
    "duration": 6,
    "start_time": "2025-01-13T16:13:53.099Z"
   },
   {
    "duration": 6,
    "start_time": "2025-01-13T16:13:53.106Z"
   },
   {
    "duration": 29,
    "start_time": "2025-01-13T16:13:53.113Z"
   },
   {
    "duration": 5,
    "start_time": "2025-01-13T16:13:53.144Z"
   },
   {
    "duration": 16,
    "start_time": "2025-01-13T16:13:53.151Z"
   },
   {
    "duration": 4,
    "start_time": "2025-01-13T16:13:53.169Z"
   },
   {
    "duration": 1600,
    "start_time": "2025-01-13T16:13:53.175Z"
   },
   {
    "duration": 1663,
    "start_time": "2025-01-13T16:13:54.777Z"
   },
   {
    "duration": 1959,
    "start_time": "2025-01-13T16:13:56.441Z"
   },
   {
    "duration": 5,
    "start_time": "2025-01-13T16:13:58.401Z"
   },
   {
    "duration": 65,
    "start_time": "2025-01-13T16:13:58.408Z"
   },
   {
    "duration": 357,
    "start_time": "2025-01-13T16:13:58.475Z"
   },
   {
    "duration": 1234,
    "start_time": "2025-01-13T20:21:33.621Z"
   },
   {
    "duration": 3,
    "start_time": "2025-01-13T20:21:34.857Z"
   },
   {
    "duration": 136,
    "start_time": "2025-01-13T20:21:34.862Z"
   },
   {
    "duration": 160,
    "start_time": "2025-01-13T20:21:35.001Z"
   },
   {
    "duration": 98,
    "start_time": "2025-01-13T20:21:35.163Z"
   },
   {
    "duration": 13,
    "start_time": "2025-01-13T20:21:35.262Z"
   },
   {
    "duration": 12,
    "start_time": "2025-01-13T20:21:35.276Z"
   },
   {
    "duration": 21,
    "start_time": "2025-01-13T20:21:35.289Z"
   },
   {
    "duration": 13,
    "start_time": "2025-01-13T20:21:35.312Z"
   },
   {
    "duration": 21,
    "start_time": "2025-01-13T20:21:35.327Z"
   },
   {
    "duration": 20,
    "start_time": "2025-01-13T20:21:35.350Z"
   },
   {
    "duration": 13,
    "start_time": "2025-01-13T20:21:35.371Z"
   },
   {
    "duration": 30,
    "start_time": "2025-01-13T20:21:35.386Z"
   },
   {
    "duration": 28,
    "start_time": "2025-01-13T20:21:35.417Z"
   },
   {
    "duration": 28,
    "start_time": "2025-01-13T20:21:35.446Z"
   },
   {
    "duration": 17,
    "start_time": "2025-01-13T20:21:35.475Z"
   },
   {
    "duration": 58,
    "start_time": "2025-01-13T20:21:35.493Z"
   },
   {
    "duration": 15,
    "start_time": "2025-01-13T20:21:35.553Z"
   },
   {
    "duration": 35,
    "start_time": "2025-01-13T20:21:35.570Z"
   },
   {
    "duration": 15,
    "start_time": "2025-01-13T20:21:35.606Z"
   },
   {
    "duration": 23,
    "start_time": "2025-01-13T20:21:35.623Z"
   },
   {
    "duration": 4,
    "start_time": "2025-01-13T20:21:35.648Z"
   },
   {
    "duration": 6,
    "start_time": "2025-01-13T20:21:35.653Z"
   },
   {
    "duration": 3,
    "start_time": "2025-01-13T20:21:35.661Z"
   },
   {
    "duration": 36,
    "start_time": "2025-01-13T20:21:35.665Z"
   },
   {
    "duration": 17,
    "start_time": "2025-01-13T20:21:35.703Z"
   },
   {
    "duration": 23,
    "start_time": "2025-01-13T20:21:35.722Z"
   },
   {
    "duration": 52,
    "start_time": "2025-01-13T20:21:35.750Z"
   },
   {
    "duration": 22,
    "start_time": "2025-01-13T20:21:35.804Z"
   },
   {
    "duration": 18,
    "start_time": "2025-01-13T20:21:35.827Z"
   },
   {
    "duration": 7,
    "start_time": "2025-01-13T20:21:35.847Z"
   },
   {
    "duration": 4,
    "start_time": "2025-01-13T20:21:35.856Z"
   },
   {
    "duration": 5,
    "start_time": "2025-01-13T20:21:35.862Z"
   },
   {
    "duration": 8,
    "start_time": "2025-01-13T20:21:35.869Z"
   },
   {
    "duration": 17,
    "start_time": "2025-01-13T20:21:35.879Z"
   },
   {
    "duration": 24,
    "start_time": "2025-01-13T20:21:35.897Z"
   },
   {
    "duration": 21,
    "start_time": "2025-01-13T20:21:35.922Z"
   },
   {
    "duration": 8,
    "start_time": "2025-01-13T20:21:35.945Z"
   },
   {
    "duration": 10,
    "start_time": "2025-01-13T20:21:35.955Z"
   },
   {
    "duration": 4,
    "start_time": "2025-01-13T20:21:35.967Z"
   },
   {
    "duration": 22,
    "start_time": "2025-01-13T20:21:35.973Z"
   },
   {
    "duration": 9,
    "start_time": "2025-01-13T20:21:35.996Z"
   },
   {
    "duration": 9,
    "start_time": "2025-01-13T20:21:36.006Z"
   },
   {
    "duration": 40,
    "start_time": "2025-01-13T20:21:36.019Z"
   },
   {
    "duration": 7,
    "start_time": "2025-01-13T20:21:36.061Z"
   },
   {
    "duration": 10,
    "start_time": "2025-01-13T20:21:36.070Z"
   },
   {
    "duration": 31,
    "start_time": "2025-01-13T20:21:36.082Z"
   },
   {
    "duration": 7,
    "start_time": "2025-01-13T20:21:36.115Z"
   },
   {
    "duration": 23,
    "start_time": "2025-01-13T20:21:36.123Z"
   },
   {
    "duration": 169,
    "start_time": "2025-01-13T20:21:36.148Z"
   },
   {
    "duration": 202,
    "start_time": "2025-01-13T20:21:36.319Z"
   },
   {
    "duration": 22,
    "start_time": "2025-01-13T20:21:36.523Z"
   },
   {
    "duration": 33,
    "start_time": "2025-01-13T20:21:36.546Z"
   },
   {
    "duration": 103,
    "start_time": "2025-01-13T20:21:36.581Z"
   },
   {
    "duration": 8,
    "start_time": "2025-01-13T20:21:36.686Z"
   },
   {
    "duration": 14,
    "start_time": "2025-01-13T20:21:36.695Z"
   },
   {
    "duration": 213,
    "start_time": "2025-01-13T20:21:36.710Z"
   },
   {
    "duration": 18,
    "start_time": "2025-01-13T20:21:36.924Z"
   },
   {
    "duration": 344,
    "start_time": "2025-01-13T20:21:36.944Z"
   },
   {
    "duration": 352,
    "start_time": "2025-01-13T20:21:37.289Z"
   },
   {
    "duration": 425,
    "start_time": "2025-01-13T20:21:37.643Z"
   },
   {
    "duration": 9,
    "start_time": "2025-01-13T20:21:38.070Z"
   },
   {
    "duration": 326,
    "start_time": "2025-01-13T20:21:38.081Z"
   },
   {
    "duration": 35,
    "start_time": "2025-01-13T20:21:38.408Z"
   },
   {
    "duration": 25,
    "start_time": "2025-01-13T20:21:38.444Z"
   },
   {
    "duration": 9,
    "start_time": "2025-01-13T20:21:38.471Z"
   },
   {
    "duration": 110,
    "start_time": "2025-01-13T20:21:38.481Z"
   },
   {
    "duration": 21,
    "start_time": "2025-01-13T20:21:38.592Z"
   },
   {
    "duration": 8,
    "start_time": "2025-01-13T20:21:38.614Z"
   },
   {
    "duration": 353,
    "start_time": "2025-01-13T20:21:38.623Z"
   },
   {
    "duration": 8,
    "start_time": "2025-01-13T20:21:38.978Z"
   },
   {
    "duration": 319,
    "start_time": "2025-01-13T20:21:38.988Z"
   },
   {
    "duration": 9,
    "start_time": "2025-01-13T20:21:39.308Z"
   },
   {
    "duration": 364,
    "start_time": "2025-01-13T20:21:39.318Z"
   },
   {
    "duration": 10,
    "start_time": "2025-01-13T20:21:39.684Z"
   },
   {
    "duration": 325,
    "start_time": "2025-01-13T20:21:39.696Z"
   },
   {
    "duration": 742,
    "start_time": "2025-01-13T20:21:40.023Z"
   },
   {
    "duration": 811,
    "start_time": "2025-01-13T20:21:40.767Z"
   },
   {
    "duration": 13,
    "start_time": "2025-01-13T20:21:41.580Z"
   },
   {
    "duration": 77,
    "start_time": "2025-01-13T20:21:41.594Z"
   },
   {
    "duration": 63,
    "start_time": "2025-01-13T20:21:41.673Z"
   },
   {
    "duration": 3,
    "start_time": "2025-01-13T20:21:41.745Z"
   },
   {
    "duration": 107,
    "start_time": "2025-01-13T20:21:41.750Z"
   },
   {
    "duration": 245,
    "start_time": "2025-01-13T20:21:41.859Z"
   },
   {
    "duration": 5,
    "start_time": "2025-01-13T20:21:42.106Z"
   },
   {
    "duration": 43,
    "start_time": "2025-01-13T20:21:42.112Z"
   },
   {
    "duration": 4,
    "start_time": "2025-01-13T20:21:42.157Z"
   },
   {
    "duration": 9,
    "start_time": "2025-01-13T20:21:42.163Z"
   },
   {
    "duration": 11,
    "start_time": "2025-01-13T20:21:42.174Z"
   },
   {
    "duration": 8,
    "start_time": "2025-01-13T20:21:42.187Z"
   },
   {
    "duration": 50,
    "start_time": "2025-01-13T20:21:42.197Z"
   },
   {
    "duration": 7,
    "start_time": "2025-01-13T20:21:42.248Z"
   },
   {
    "duration": 7,
    "start_time": "2025-01-13T20:21:42.256Z"
   },
   {
    "duration": 5,
    "start_time": "2025-01-13T20:21:42.265Z"
   },
   {
    "duration": 1736,
    "start_time": "2025-01-13T20:21:42.272Z"
   },
   {
    "duration": 1849,
    "start_time": "2025-01-13T20:21:44.010Z"
   },
   {
    "duration": 2253,
    "start_time": "2025-01-13T20:21:45.860Z"
   },
   {
    "duration": 5,
    "start_time": "2025-01-13T20:21:48.115Z"
   },
   {
    "duration": 30,
    "start_time": "2025-01-13T20:21:48.130Z"
   },
   {
    "duration": 386,
    "start_time": "2025-01-13T20:21:48.161Z"
   },
   {
    "duration": 46,
    "start_time": "2025-01-14T04:58:45.818Z"
   },
   {
    "duration": 1399,
    "start_time": "2025-01-14T04:59:05.245Z"
   },
   {
    "duration": 3,
    "start_time": "2025-01-14T04:59:06.646Z"
   },
   {
    "duration": 119,
    "start_time": "2025-01-14T04:59:06.651Z"
   },
   {
    "duration": 148,
    "start_time": "2025-01-14T04:59:06.772Z"
   },
   {
    "duration": 108,
    "start_time": "2025-01-14T04:59:06.922Z"
   },
   {
    "duration": 11,
    "start_time": "2025-01-14T04:59:07.032Z"
   },
   {
    "duration": 31,
    "start_time": "2025-01-14T04:59:07.044Z"
   },
   {
    "duration": 19,
    "start_time": "2025-01-14T04:59:07.077Z"
   },
   {
    "duration": 35,
    "start_time": "2025-01-14T04:59:07.097Z"
   },
   {
    "duration": 35,
    "start_time": "2025-01-14T04:59:07.134Z"
   },
   {
    "duration": 101,
    "start_time": "2025-01-14T04:59:07.170Z"
   },
   {
    "duration": 20,
    "start_time": "2025-01-14T04:59:07.273Z"
   },
   {
    "duration": 48,
    "start_time": "2025-01-14T04:59:07.295Z"
   },
   {
    "duration": 48,
    "start_time": "2025-01-14T04:59:07.346Z"
   },
   {
    "duration": 47,
    "start_time": "2025-01-14T04:59:07.396Z"
   },
   {
    "duration": 24,
    "start_time": "2025-01-14T04:59:07.444Z"
   },
   {
    "duration": 40,
    "start_time": "2025-01-14T04:59:07.469Z"
   },
   {
    "duration": 30,
    "start_time": "2025-01-14T04:59:07.511Z"
   },
   {
    "duration": 25,
    "start_time": "2025-01-14T04:59:07.542Z"
   },
   {
    "duration": 29,
    "start_time": "2025-01-14T04:59:07.568Z"
   },
   {
    "duration": 45,
    "start_time": "2025-01-14T04:59:07.599Z"
   },
   {
    "duration": 22,
    "start_time": "2025-01-14T04:59:07.646Z"
   },
   {
    "duration": 35,
    "start_time": "2025-01-14T04:59:07.670Z"
   },
   {
    "duration": 40,
    "start_time": "2025-01-14T04:59:07.706Z"
   },
   {
    "duration": 33,
    "start_time": "2025-01-14T04:59:07.748Z"
   },
   {
    "duration": 23,
    "start_time": "2025-01-14T04:59:07.783Z"
   },
   {
    "duration": 35,
    "start_time": "2025-01-14T04:59:07.807Z"
   },
   {
    "duration": 40,
    "start_time": "2025-01-14T04:59:07.844Z"
   },
   {
    "duration": 18,
    "start_time": "2025-01-14T04:59:07.886Z"
   },
   {
    "duration": 28,
    "start_time": "2025-01-14T04:59:07.905Z"
   },
   {
    "duration": 21,
    "start_time": "2025-01-14T04:59:07.935Z"
   },
   {
    "duration": 26,
    "start_time": "2025-01-14T04:59:07.958Z"
   },
   {
    "duration": 38,
    "start_time": "2025-01-14T04:59:07.985Z"
   },
   {
    "duration": 9,
    "start_time": "2025-01-14T04:59:08.025Z"
   },
   {
    "duration": 78,
    "start_time": "2025-01-14T04:59:08.035Z"
   },
   {
    "duration": 38,
    "start_time": "2025-01-14T04:59:08.115Z"
   },
   {
    "duration": 6,
    "start_time": "2025-01-14T04:59:08.155Z"
   },
   {
    "duration": 11,
    "start_time": "2025-01-14T04:59:08.163Z"
   },
   {
    "duration": 6,
    "start_time": "2025-01-14T04:59:08.176Z"
   },
   {
    "duration": 5,
    "start_time": "2025-01-14T04:59:08.183Z"
   },
   {
    "duration": 6,
    "start_time": "2025-01-14T04:59:08.194Z"
   },
   {
    "duration": 5,
    "start_time": "2025-01-14T04:59:08.202Z"
   },
   {
    "duration": 7,
    "start_time": "2025-01-14T04:59:08.208Z"
   },
   {
    "duration": 47,
    "start_time": "2025-01-14T04:59:08.216Z"
   },
   {
    "duration": 80,
    "start_time": "2025-01-14T04:59:08.264Z"
   },
   {
    "duration": 12,
    "start_time": "2025-01-14T04:59:08.345Z"
   },
   {
    "duration": 8,
    "start_time": "2025-01-14T04:59:08.359Z"
   },
   {
    "duration": 8,
    "start_time": "2025-01-14T04:59:08.368Z"
   },
   {
    "duration": 6,
    "start_time": "2025-01-14T04:59:08.378Z"
   },
   {
    "duration": 170,
    "start_time": "2025-01-14T04:59:08.386Z"
   },
   {
    "duration": 181,
    "start_time": "2025-01-14T04:59:08.557Z"
   },
   {
    "duration": 7,
    "start_time": "2025-01-14T04:59:08.739Z"
   },
   {
    "duration": 25,
    "start_time": "2025-01-14T04:59:08.747Z"
   },
   {
    "duration": 104,
    "start_time": "2025-01-14T04:59:08.774Z"
   },
   {
    "duration": 7,
    "start_time": "2025-01-14T04:59:08.880Z"
   },
   {
    "duration": 18,
    "start_time": "2025-01-14T04:59:08.888Z"
   },
   {
    "duration": 185,
    "start_time": "2025-01-14T04:59:08.908Z"
   },
   {
    "duration": 9,
    "start_time": "2025-01-14T04:59:09.094Z"
   },
   {
    "duration": 331,
    "start_time": "2025-01-14T04:59:09.104Z"
   },
   {
    "duration": 317,
    "start_time": "2025-01-14T04:59:09.437Z"
   },
   {
    "duration": 387,
    "start_time": "2025-01-14T04:59:09.756Z"
   },
   {
    "duration": 9,
    "start_time": "2025-01-14T04:59:10.144Z"
   },
   {
    "duration": 290,
    "start_time": "2025-01-14T04:59:10.154Z"
   },
   {
    "duration": 21,
    "start_time": "2025-01-14T04:59:10.445Z"
   },
   {
    "duration": 22,
    "start_time": "2025-01-14T04:59:10.468Z"
   },
   {
    "duration": 8,
    "start_time": "2025-01-14T04:59:10.492Z"
   },
   {
    "duration": 45,
    "start_time": "2025-01-14T04:59:10.502Z"
   },
   {
    "duration": 17,
    "start_time": "2025-01-14T04:59:10.548Z"
   },
   {
    "duration": 7,
    "start_time": "2025-01-14T04:59:10.566Z"
   },
   {
    "duration": 326,
    "start_time": "2025-01-14T04:59:10.575Z"
   },
   {
    "duration": 9,
    "start_time": "2025-01-14T04:59:10.902Z"
   },
   {
    "duration": 294,
    "start_time": "2025-01-14T04:59:10.912Z"
   },
   {
    "duration": 7,
    "start_time": "2025-01-14T04:59:11.208Z"
   },
   {
    "duration": 358,
    "start_time": "2025-01-14T04:59:11.216Z"
   },
   {
    "duration": 9,
    "start_time": "2025-01-14T04:59:11.576Z"
   },
   {
    "duration": 394,
    "start_time": "2025-01-14T04:59:11.587Z"
   },
   {
    "duration": 666,
    "start_time": "2025-01-14T04:59:11.983Z"
   },
   {
    "duration": 570,
    "start_time": "2025-01-14T04:59:12.651Z"
   },
   {
    "duration": 12,
    "start_time": "2025-01-14T04:59:13.230Z"
   },
   {
    "duration": 66,
    "start_time": "2025-01-14T04:59:13.244Z"
   },
   {
    "duration": 9,
    "start_time": "2025-01-14T04:59:13.312Z"
   },
   {
    "duration": 6,
    "start_time": "2025-01-14T04:59:13.322Z"
   },
   {
    "duration": 4,
    "start_time": "2025-01-14T04:59:13.329Z"
   },
   {
    "duration": 203,
    "start_time": "2025-01-14T04:59:13.334Z"
   },
   {
    "duration": 5,
    "start_time": "2025-01-14T04:59:13.539Z"
   },
   {
    "duration": 28,
    "start_time": "2025-01-14T04:59:13.545Z"
   },
   {
    "duration": 5,
    "start_time": "2025-01-14T04:59:13.575Z"
   },
   {
    "duration": 5,
    "start_time": "2025-01-14T04:59:13.581Z"
   },
   {
    "duration": 5,
    "start_time": "2025-01-14T04:59:13.588Z"
   },
   {
    "duration": 5,
    "start_time": "2025-01-14T04:59:13.631Z"
   },
   {
    "duration": 28,
    "start_time": "2025-01-14T04:59:13.637Z"
   },
   {
    "duration": 5,
    "start_time": "2025-01-14T04:59:13.667Z"
   },
   {
    "duration": 6,
    "start_time": "2025-01-14T04:59:13.674Z"
   },
   {
    "duration": 10,
    "start_time": "2025-01-14T04:59:13.681Z"
   },
   {
    "duration": 1551,
    "start_time": "2025-01-14T04:59:13.692Z"
   },
   {
    "duration": 1667,
    "start_time": "2025-01-14T04:59:15.245Z"
   },
   {
    "duration": 1904,
    "start_time": "2025-01-14T04:59:16.914Z"
   },
   {
    "duration": 13,
    "start_time": "2025-01-14T04:59:18.819Z"
   },
   {
    "duration": 18,
    "start_time": "2025-01-14T04:59:18.833Z"
   },
   {
    "duration": 349,
    "start_time": "2025-01-14T04:59:18.853Z"
   },
   {
    "duration": 151,
    "start_time": "2025-01-14T05:31:40.523Z"
   },
   {
    "duration": 28,
    "start_time": "2025-01-14T06:09:04.348Z"
   },
   {
    "duration": 49,
    "start_time": "2025-01-14T06:09:57.210Z"
   },
   {
    "duration": 26,
    "start_time": "2025-01-14T06:10:04.946Z"
   },
   {
    "duration": 26,
    "start_time": "2025-01-14T06:10:09.497Z"
   },
   {
    "duration": 26,
    "start_time": "2025-01-14T06:10:20.602Z"
   },
   {
    "duration": 24,
    "start_time": "2025-01-14T06:10:26.660Z"
   },
   {
    "duration": 5,
    "start_time": "2025-01-14T06:10:46.363Z"
   },
   {
    "duration": 5,
    "start_time": "2025-01-14T06:10:54.277Z"
   },
   {
    "duration": 1278,
    "start_time": "2025-01-14T06:26:15.721Z"
   },
   {
    "duration": 3,
    "start_time": "2025-01-14T06:26:17.001Z"
   },
   {
    "duration": 182,
    "start_time": "2025-01-14T06:26:17.005Z"
   },
   {
    "duration": 258,
    "start_time": "2025-01-14T06:26:17.190Z"
   },
   {
    "duration": 144,
    "start_time": "2025-01-14T06:26:17.450Z"
   },
   {
    "duration": 12,
    "start_time": "2025-01-14T06:26:17.595Z"
   },
   {
    "duration": 47,
    "start_time": "2025-01-14T06:26:17.609Z"
   },
   {
    "duration": 23,
    "start_time": "2025-01-14T06:26:17.658Z"
   },
   {
    "duration": 27,
    "start_time": "2025-01-14T06:26:17.683Z"
   },
   {
    "duration": 37,
    "start_time": "2025-01-14T06:26:17.712Z"
   },
   {
    "duration": 40,
    "start_time": "2025-01-14T06:26:17.750Z"
   },
   {
    "duration": 29,
    "start_time": "2025-01-14T06:26:17.792Z"
   },
   {
    "duration": 53,
    "start_time": "2025-01-14T06:26:17.822Z"
   },
   {
    "duration": 20,
    "start_time": "2025-01-14T06:26:17.876Z"
   },
   {
    "duration": 73,
    "start_time": "2025-01-14T06:26:17.898Z"
   },
   {
    "duration": 12,
    "start_time": "2025-01-14T06:26:17.973Z"
   },
   {
    "duration": 44,
    "start_time": "2025-01-14T06:26:17.987Z"
   },
   {
    "duration": 23,
    "start_time": "2025-01-14T06:26:18.033Z"
   },
   {
    "duration": 24,
    "start_time": "2025-01-14T06:26:18.057Z"
   },
   {
    "duration": 32,
    "start_time": "2025-01-14T06:26:18.083Z"
   },
   {
    "duration": 23,
    "start_time": "2025-01-14T06:26:18.116Z"
   },
   {
    "duration": 31,
    "start_time": "2025-01-14T06:26:18.141Z"
   },
   {
    "duration": 26,
    "start_time": "2025-01-14T06:26:18.173Z"
   },
   {
    "duration": 28,
    "start_time": "2025-01-14T06:26:18.201Z"
   },
   {
    "duration": 35,
    "start_time": "2025-01-14T06:26:18.231Z"
   },
   {
    "duration": 15,
    "start_time": "2025-01-14T06:26:18.268Z"
   },
   {
    "duration": 38,
    "start_time": "2025-01-14T06:26:18.285Z"
   },
   {
    "duration": 30,
    "start_time": "2025-01-14T06:26:18.328Z"
   },
   {
    "duration": 21,
    "start_time": "2025-01-14T06:26:18.359Z"
   },
   {
    "duration": 37,
    "start_time": "2025-01-14T06:26:18.381Z"
   },
   {
    "duration": 20,
    "start_time": "2025-01-14T06:26:18.420Z"
   },
   {
    "duration": 29,
    "start_time": "2025-01-14T06:26:18.442Z"
   },
   {
    "duration": 25,
    "start_time": "2025-01-14T06:26:18.472Z"
   },
   {
    "duration": 30,
    "start_time": "2025-01-14T06:26:18.499Z"
   },
   {
    "duration": 69,
    "start_time": "2025-01-14T06:26:18.531Z"
   },
   {
    "duration": 72,
    "start_time": "2025-01-14T06:26:18.602Z"
   },
   {
    "duration": 14,
    "start_time": "2025-01-14T06:26:18.676Z"
   },
   {
    "duration": 24,
    "start_time": "2025-01-14T06:26:18.691Z"
   },
   {
    "duration": 34,
    "start_time": "2025-01-14T06:26:18.717Z"
   },
   {
    "duration": 27,
    "start_time": "2025-01-14T06:26:18.753Z"
   },
   {
    "duration": 21,
    "start_time": "2025-01-14T06:26:18.781Z"
   },
   {
    "duration": 23,
    "start_time": "2025-01-14T06:26:18.804Z"
   },
   {
    "duration": 13,
    "start_time": "2025-01-14T06:26:18.829Z"
   },
   {
    "duration": 43,
    "start_time": "2025-01-14T06:26:18.844Z"
   },
   {
    "duration": 7,
    "start_time": "2025-01-14T06:26:18.889Z"
   },
   {
    "duration": 34,
    "start_time": "2025-01-14T06:26:18.897Z"
   },
   {
    "duration": 41,
    "start_time": "2025-01-14T06:26:18.932Z"
   },
   {
    "duration": 15,
    "start_time": "2025-01-14T06:26:18.974Z"
   },
   {
    "duration": 22,
    "start_time": "2025-01-14T06:26:18.990Z"
   },
   {
    "duration": 198,
    "start_time": "2025-01-14T06:26:19.014Z"
   },
   {
    "duration": 185,
    "start_time": "2025-01-14T06:26:19.213Z"
   },
   {
    "duration": 7,
    "start_time": "2025-01-14T06:26:19.399Z"
   },
   {
    "duration": 27,
    "start_time": "2025-01-14T06:26:19.408Z"
   },
   {
    "duration": 110,
    "start_time": "2025-01-14T06:26:19.436Z"
   },
   {
    "duration": 62,
    "start_time": "2025-01-14T06:26:19.547Z"
   },
   {
    "duration": 95,
    "start_time": "2025-01-14T06:26:19.610Z"
   },
   {
    "duration": 191,
    "start_time": "2025-01-14T06:26:19.706Z"
   },
   {
    "duration": 9,
    "start_time": "2025-01-14T06:26:19.898Z"
   },
   {
    "duration": 343,
    "start_time": "2025-01-14T06:26:19.908Z"
   },
   {
    "duration": 340,
    "start_time": "2025-01-14T06:26:20.253Z"
   },
   {
    "duration": 400,
    "start_time": "2025-01-14T06:26:20.595Z"
   },
   {
    "duration": 9,
    "start_time": "2025-01-14T06:26:20.996Z"
   },
   {
    "duration": 323,
    "start_time": "2025-01-14T06:26:21.007Z"
   },
   {
    "duration": 22,
    "start_time": "2025-01-14T06:26:21.331Z"
   },
   {
    "duration": 38,
    "start_time": "2025-01-14T06:26:21.354Z"
   },
   {
    "duration": 18,
    "start_time": "2025-01-14T06:26:21.394Z"
   },
   {
    "duration": 51,
    "start_time": "2025-01-14T06:26:21.414Z"
   },
   {
    "duration": 27,
    "start_time": "2025-01-14T06:26:21.467Z"
   },
   {
    "duration": 211,
    "start_time": "2025-01-14T06:26:21.496Z"
   },
   {
    "duration": 359,
    "start_time": "2025-01-14T06:26:21.710Z"
   },
   {
    "duration": 9,
    "start_time": "2025-01-14T06:26:22.070Z"
   },
   {
    "duration": 307,
    "start_time": "2025-01-14T06:26:22.080Z"
   },
   {
    "duration": 8,
    "start_time": "2025-01-14T06:26:22.389Z"
   },
   {
    "duration": 349,
    "start_time": "2025-01-14T06:26:22.399Z"
   },
   {
    "duration": 8,
    "start_time": "2025-01-14T06:26:22.750Z"
   },
   {
    "duration": 315,
    "start_time": "2025-01-14T06:26:22.759Z"
   },
   {
    "duration": 714,
    "start_time": "2025-01-14T06:26:23.076Z"
   },
   {
    "duration": 624,
    "start_time": "2025-01-14T06:26:23.792Z"
   },
   {
    "duration": 17,
    "start_time": "2025-01-14T06:26:24.418Z"
   },
   {
    "duration": 46,
    "start_time": "2025-01-14T06:26:24.436Z"
   },
   {
    "duration": 9,
    "start_time": "2025-01-14T06:26:24.484Z"
   },
   {
    "duration": 5,
    "start_time": "2025-01-14T06:26:24.498Z"
   },
   {
    "duration": 29,
    "start_time": "2025-01-14T06:26:24.504Z"
   },
   {
    "duration": 213,
    "start_time": "2025-01-14T06:26:24.534Z"
   },
   {
    "duration": 4,
    "start_time": "2025-01-14T06:26:24.749Z"
   },
   {
    "duration": 28,
    "start_time": "2025-01-14T06:26:24.755Z"
   },
   {
    "duration": 5,
    "start_time": "2025-01-14T06:26:24.784Z"
   },
   {
    "duration": 6,
    "start_time": "2025-01-14T06:26:24.790Z"
   },
   {
    "duration": 33,
    "start_time": "2025-01-14T06:26:24.797Z"
   },
   {
    "duration": 6,
    "start_time": "2025-01-14T06:26:24.832Z"
   },
   {
    "duration": 31,
    "start_time": "2025-01-14T06:26:24.840Z"
   },
   {
    "duration": 7,
    "start_time": "2025-01-14T06:26:24.872Z"
   },
   {
    "duration": 7,
    "start_time": "2025-01-14T06:26:24.880Z"
   },
   {
    "duration": 28,
    "start_time": "2025-01-14T06:26:24.888Z"
   },
   {
    "duration": 1634,
    "start_time": "2025-01-14T06:26:24.929Z"
   },
   {
    "duration": 1821,
    "start_time": "2025-01-14T06:26:26.564Z"
   },
   {
    "duration": 1981,
    "start_time": "2025-01-14T06:26:28.387Z"
   },
   {
    "duration": 6,
    "start_time": "2025-01-14T06:26:30.370Z"
   },
   {
    "duration": 32,
    "start_time": "2025-01-14T06:26:30.377Z"
   },
   {
    "duration": 14,
    "start_time": "2025-01-14T06:26:30.411Z"
   },
   {
    "duration": 408,
    "start_time": "2025-01-14T06:26:30.430Z"
   },
   {
    "duration": 1343,
    "start_time": "2025-01-14T13:19:00.045Z"
   },
   {
    "duration": 3,
    "start_time": "2025-01-14T13:19:01.390Z"
   },
   {
    "duration": 277,
    "start_time": "2025-01-14T13:19:01.394Z"
   },
   {
    "duration": 136,
    "start_time": "2025-01-14T13:19:01.673Z"
   },
   {
    "duration": 117,
    "start_time": "2025-01-14T13:19:01.811Z"
   },
   {
    "duration": 13,
    "start_time": "2025-01-14T13:19:01.929Z"
   },
   {
    "duration": 36,
    "start_time": "2025-01-14T13:19:01.944Z"
   },
   {
    "duration": 29,
    "start_time": "2025-01-14T13:19:01.982Z"
   },
   {
    "duration": 44,
    "start_time": "2025-01-14T13:19:02.013Z"
   },
   {
    "duration": 29,
    "start_time": "2025-01-14T13:19:02.060Z"
   },
   {
    "duration": 48,
    "start_time": "2025-01-14T13:19:02.091Z"
   },
   {
    "duration": 30,
    "start_time": "2025-01-14T13:19:02.142Z"
   },
   {
    "duration": 55,
    "start_time": "2025-01-14T13:19:02.175Z"
   },
   {
    "duration": 19,
    "start_time": "2025-01-14T13:19:02.232Z"
   },
   {
    "duration": 58,
    "start_time": "2025-01-14T13:19:02.254Z"
   },
   {
    "duration": 9,
    "start_time": "2025-01-14T13:19:02.315Z"
   },
   {
    "duration": 46,
    "start_time": "2025-01-14T13:19:02.326Z"
   },
   {
    "duration": 30,
    "start_time": "2025-01-14T13:19:02.374Z"
   },
   {
    "duration": 63,
    "start_time": "2025-01-14T13:19:02.406Z"
   },
   {
    "duration": 24,
    "start_time": "2025-01-14T13:19:02.470Z"
   },
   {
    "duration": 10,
    "start_time": "2025-01-14T13:19:02.496Z"
   },
   {
    "duration": 54,
    "start_time": "2025-01-14T13:19:02.508Z"
   },
   {
    "duration": 36,
    "start_time": "2025-01-14T13:19:02.563Z"
   },
   {
    "duration": 17,
    "start_time": "2025-01-14T13:19:02.601Z"
   },
   {
    "duration": 67,
    "start_time": "2025-01-14T13:19:02.620Z"
   },
   {
    "duration": 59,
    "start_time": "2025-01-14T13:19:02.689Z"
   },
   {
    "duration": 29,
    "start_time": "2025-01-14T13:19:02.750Z"
   },
   {
    "duration": 25,
    "start_time": "2025-01-14T13:19:02.784Z"
   },
   {
    "duration": 36,
    "start_time": "2025-01-14T13:19:02.811Z"
   },
   {
    "duration": 53,
    "start_time": "2025-01-14T13:19:02.849Z"
   },
   {
    "duration": 42,
    "start_time": "2025-01-14T13:19:02.904Z"
   },
   {
    "duration": 46,
    "start_time": "2025-01-14T13:19:02.948Z"
   },
   {
    "duration": 12,
    "start_time": "2025-01-14T13:19:02.996Z"
   },
   {
    "duration": 42,
    "start_time": "2025-01-14T13:19:03.010Z"
   },
   {
    "duration": 19,
    "start_time": "2025-01-14T13:19:03.054Z"
   },
   {
    "duration": 25,
    "start_time": "2025-01-14T13:19:03.074Z"
   },
   {
    "duration": 49,
    "start_time": "2025-01-14T13:19:03.101Z"
   },
   {
    "duration": 28,
    "start_time": "2025-01-14T13:19:03.152Z"
   },
   {
    "duration": 22,
    "start_time": "2025-01-14T13:19:03.182Z"
   },
   {
    "duration": 16,
    "start_time": "2025-01-14T13:19:03.205Z"
   },
   {
    "duration": 38,
    "start_time": "2025-01-14T13:19:03.223Z"
   },
   {
    "duration": 35,
    "start_time": "2025-01-14T13:19:03.263Z"
   },
   {
    "duration": 27,
    "start_time": "2025-01-14T13:19:03.300Z"
   },
   {
    "duration": 44,
    "start_time": "2025-01-14T13:19:03.329Z"
   },
   {
    "duration": 15,
    "start_time": "2025-01-14T13:19:03.374Z"
   },
   {
    "duration": 6,
    "start_time": "2025-01-14T13:19:03.391Z"
   },
   {
    "duration": 10,
    "start_time": "2025-01-14T13:19:03.398Z"
   },
   {
    "duration": 28,
    "start_time": "2025-01-14T13:19:03.410Z"
   },
   {
    "duration": 30,
    "start_time": "2025-01-14T13:19:03.439Z"
   },
   {
    "duration": 188,
    "start_time": "2025-01-14T13:19:03.470Z"
   },
   {
    "duration": 216,
    "start_time": "2025-01-14T13:19:03.659Z"
   },
   {
    "duration": 7,
    "start_time": "2025-01-14T13:19:03.877Z"
   },
   {
    "duration": 12,
    "start_time": "2025-01-14T13:19:03.886Z"
   },
   {
    "duration": 119,
    "start_time": "2025-01-14T13:19:03.899Z"
   },
   {
    "duration": 16,
    "start_time": "2025-01-14T13:19:04.019Z"
   },
   {
    "duration": 34,
    "start_time": "2025-01-14T13:19:04.036Z"
   },
   {
    "duration": 245,
    "start_time": "2025-01-14T13:19:04.071Z"
   },
   {
    "duration": 17,
    "start_time": "2025-01-14T13:19:04.319Z"
   },
   {
    "duration": 368,
    "start_time": "2025-01-14T13:19:04.338Z"
   },
   {
    "duration": 383,
    "start_time": "2025-01-14T13:19:04.709Z"
   },
   {
    "duration": 436,
    "start_time": "2025-01-14T13:19:05.094Z"
   },
   {
    "duration": 8,
    "start_time": "2025-01-14T13:19:05.532Z"
   },
   {
    "duration": 326,
    "start_time": "2025-01-14T13:19:05.542Z"
   },
   {
    "duration": 25,
    "start_time": "2025-01-14T13:19:05.869Z"
   },
   {
    "duration": 51,
    "start_time": "2025-01-14T13:19:05.897Z"
   },
   {
    "duration": 13,
    "start_time": "2025-01-14T13:19:05.950Z"
   },
   {
    "duration": 37,
    "start_time": "2025-01-14T13:19:05.966Z"
   },
   {
    "duration": 26,
    "start_time": "2025-01-14T13:19:06.005Z"
   },
   {
    "duration": 23,
    "start_time": "2025-01-14T13:19:06.032Z"
   },
   {
    "duration": 383,
    "start_time": "2025-01-14T13:19:06.056Z"
   },
   {
    "duration": 9,
    "start_time": "2025-01-14T13:19:06.441Z"
   },
   {
    "duration": 365,
    "start_time": "2025-01-14T13:19:06.451Z"
   },
   {
    "duration": 13,
    "start_time": "2025-01-14T13:19:06.818Z"
   },
   {
    "duration": 383,
    "start_time": "2025-01-14T13:19:06.833Z"
   },
   {
    "duration": 19,
    "start_time": "2025-01-14T13:19:07.218Z"
   },
   {
    "duration": 337,
    "start_time": "2025-01-14T13:19:07.238Z"
   },
   {
    "duration": 796,
    "start_time": "2025-01-14T13:19:07.577Z"
   },
   {
    "duration": 683,
    "start_time": "2025-01-14T13:19:08.374Z"
   },
   {
    "duration": 14,
    "start_time": "2025-01-14T13:19:09.059Z"
   },
   {
    "duration": 65,
    "start_time": "2025-01-14T13:19:09.074Z"
   },
   {
    "duration": 10,
    "start_time": "2025-01-14T13:19:09.141Z"
   },
   {
    "duration": 9,
    "start_time": "2025-01-14T13:19:09.157Z"
   },
   {
    "duration": 22,
    "start_time": "2025-01-14T13:19:09.168Z"
   },
   {
    "duration": 227,
    "start_time": "2025-01-14T13:19:09.192Z"
   },
   {
    "duration": 11,
    "start_time": "2025-01-14T13:19:09.421Z"
   },
   {
    "duration": 33,
    "start_time": "2025-01-14T13:19:09.434Z"
   },
   {
    "duration": 5,
    "start_time": "2025-01-14T13:19:09.469Z"
   },
   {
    "duration": 9,
    "start_time": "2025-01-14T13:19:09.476Z"
   },
   {
    "duration": 17,
    "start_time": "2025-01-14T13:19:09.487Z"
   },
   {
    "duration": 25,
    "start_time": "2025-01-14T13:19:09.506Z"
   },
   {
    "duration": 48,
    "start_time": "2025-01-14T13:19:09.532Z"
   },
   {
    "duration": 7,
    "start_time": "2025-01-14T13:19:09.581Z"
   },
   {
    "duration": 10,
    "start_time": "2025-01-14T13:19:09.590Z"
   },
   {
    "duration": 5,
    "start_time": "2025-01-14T13:19:09.602Z"
   },
   {
    "duration": 1703,
    "start_time": "2025-01-14T13:19:09.609Z"
   },
   {
    "duration": 1864,
    "start_time": "2025-01-14T13:19:11.314Z"
   },
   {
    "duration": 2175,
    "start_time": "2025-01-14T13:19:13.179Z"
   },
   {
    "duration": 7,
    "start_time": "2025-01-14T13:19:15.355Z"
   },
   {
    "duration": 28,
    "start_time": "2025-01-14T13:19:15.363Z"
   },
   {
    "duration": 6,
    "start_time": "2025-01-14T13:19:15.392Z"
   },
   {
    "duration": 436,
    "start_time": "2025-01-14T13:19:15.400Z"
   }
  ],
  "kernelspec": {
   "display_name": "Python 3 (ipykernel)",
   "language": "python",
   "name": "python3"
  },
  "language_info": {
   "codemirror_mode": {
    "name": "ipython",
    "version": 3
   },
   "file_extension": ".py",
   "mimetype": "text/x-python",
   "name": "python",
   "nbconvert_exporter": "python",
   "pygments_lexer": "ipython3",
   "version": "3.12.7"
  },
  "toc": {
   "base_numbering": 1,
   "nav_menu": {},
   "number_sections": true,
   "sideBar": true,
   "skip_h1_title": true,
   "title_cell": "Table of Contents",
   "title_sidebar": "Contents",
   "toc_cell": false,
   "toc_position": {
    "height": "calc(100% - 180px)",
    "left": "10px",
    "top": "150px",
    "width": "201.943px"
   },
   "toc_section_display": true,
   "toc_window_display": true
  }
 },
 "nbformat": 4,
 "nbformat_minor": 5
}
