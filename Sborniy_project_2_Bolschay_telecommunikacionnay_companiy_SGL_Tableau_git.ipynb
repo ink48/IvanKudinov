{
 "cells": [
  {
   "cell_type": "markdown",
   "id": "548167ac-94e1-48de-90ff-aedac66401ff",
   "metadata": {},
   "source": [
    "# Большая телекоммуникационная компания\n",
    "\n",
    "Автор - Кудинов Иван"
   ]
  },
  {
   "cell_type": "markdown",
   "id": "ca16aa7c",
   "metadata": {},
   "source": [
    "Шаг 1.Подготовка данных для дашборда."
   ]
  },
  {
   "cell_type": "code",
   "execution_count": 1,
   "id": "6448a2de",
   "metadata": {},
   "outputs": [],
   "source": [
    "import os\n",
    "import pandas as pd\n",
    "import numpy as np\n",
    "\n",
    "from sqlalchemy import create_engine"
   ]
  },
  {
   "cell_type": "code",
   "execution_count": 2,
   "id": "0017f8e7",
   "metadata": {},
   "outputs": [],
   "source": [
    "path_to_db_local = 'telecomm_csi.db'\n",
    "path_to_db_platform = '/datasets/telecomm_csi.db'\n",
    "path_to_db = None\n",
    "\n",
    "if os.path.exists(path_to_db_local):\n",
    "    path_to_db = path_to_db_local\n",
    "elif os.path.exists(path_to_db_platform):\n",
    "    path_to_db = path_to_db_platform\n",
    "else:\n",
    "    raise Exception('Файл с базой данных SQLite не найден!')\n",
    "\n",
    "if path_to_db:\n",
    "    engine = create_engine(f'sqlite:///{path_to_db}', echo=False)"
   ]
  },
  {
   "cell_type": "code",
   "execution_count": 3,
   "id": "84ebad43",
   "metadata": {},
   "outputs": [],
   "source": [
    "query = \"\"\"\n",
    "SELECT *\n",
    "FROM user\n",
    "\"\"\""
   ]
  },
  {
   "cell_type": "code",
   "execution_count": 4,
   "id": "3965faf2",
   "metadata": {},
   "outputs": [
    {
     "data": {
      "text/html": [
       "<div>\n",
       "<style scoped>\n",
       "    .dataframe tbody tr th:only-of-type {\n",
       "        vertical-align: middle;\n",
       "    }\n",
       "\n",
       "    .dataframe tbody tr th {\n",
       "        vertical-align: top;\n",
       "    }\n",
       "\n",
       "    .dataframe thead th {\n",
       "        text-align: right;\n",
       "    }\n",
       "</style>\n",
       "<table border=\"1\" class=\"dataframe\">\n",
       "  <thead>\n",
       "    <tr style=\"text-align: right;\">\n",
       "      <th></th>\n",
       "      <th>user_id</th>\n",
       "      <th>lt_day</th>\n",
       "      <th>age</th>\n",
       "      <th>gender_segment</th>\n",
       "      <th>os_name</th>\n",
       "      <th>cpe_type_name</th>\n",
       "      <th>location_id</th>\n",
       "      <th>age_gr_id</th>\n",
       "      <th>tr_gr_id</th>\n",
       "      <th>lt_gr_id</th>\n",
       "      <th>nps_score</th>\n",
       "    </tr>\n",
       "  </thead>\n",
       "  <tbody>\n",
       "    <tr>\n",
       "      <th>0</th>\n",
       "      <td>A001A2</td>\n",
       "      <td>2320</td>\n",
       "      <td>45.0</td>\n",
       "      <td>1.0</td>\n",
       "      <td>ANDROID</td>\n",
       "      <td>SMARTPHONE</td>\n",
       "      <td>55</td>\n",
       "      <td>5</td>\n",
       "      <td>5</td>\n",
       "      <td>8</td>\n",
       "      <td>10</td>\n",
       "    </tr>\n",
       "    <tr>\n",
       "      <th>1</th>\n",
       "      <td>A001WF</td>\n",
       "      <td>2344</td>\n",
       "      <td>53.0</td>\n",
       "      <td>0.0</td>\n",
       "      <td>ANDROID</td>\n",
       "      <td>SMARTPHONE</td>\n",
       "      <td>21</td>\n",
       "      <td>5</td>\n",
       "      <td>5</td>\n",
       "      <td>8</td>\n",
       "      <td>10</td>\n",
       "    </tr>\n",
       "    <tr>\n",
       "      <th>2</th>\n",
       "      <td>A003Q7</td>\n",
       "      <td>467</td>\n",
       "      <td>57.0</td>\n",
       "      <td>0.0</td>\n",
       "      <td>ANDROID</td>\n",
       "      <td>SMARTPHONE</td>\n",
       "      <td>28</td>\n",
       "      <td>6</td>\n",
       "      <td>9</td>\n",
       "      <td>6</td>\n",
       "      <td>10</td>\n",
       "    </tr>\n",
       "    <tr>\n",
       "      <th>3</th>\n",
       "      <td>A004TB</td>\n",
       "      <td>4190</td>\n",
       "      <td>44.0</td>\n",
       "      <td>1.0</td>\n",
       "      <td>IOS</td>\n",
       "      <td>SMARTPHONE</td>\n",
       "      <td>38</td>\n",
       "      <td>4</td>\n",
       "      <td>4</td>\n",
       "      <td>8</td>\n",
       "      <td>10</td>\n",
       "    </tr>\n",
       "    <tr>\n",
       "      <th>4</th>\n",
       "      <td>A004XT</td>\n",
       "      <td>1163</td>\n",
       "      <td>24.0</td>\n",
       "      <td>0.0</td>\n",
       "      <td>ANDROID</td>\n",
       "      <td>SMARTPHONE</td>\n",
       "      <td>39</td>\n",
       "      <td>2</td>\n",
       "      <td>6</td>\n",
       "      <td>8</td>\n",
       "      <td>10</td>\n",
       "    </tr>\n",
       "    <tr>\n",
       "      <th>5</th>\n",
       "      <td>A005O0</td>\n",
       "      <td>5501</td>\n",
       "      <td>42.0</td>\n",
       "      <td>1.0</td>\n",
       "      <td>ANDROID</td>\n",
       "      <td>SMARTPHONE</td>\n",
       "      <td>34</td>\n",
       "      <td>4</td>\n",
       "      <td>6</td>\n",
       "      <td>8</td>\n",
       "      <td>6</td>\n",
       "    </tr>\n",
       "    <tr>\n",
       "      <th>6</th>\n",
       "      <td>A0061R</td>\n",
       "      <td>1236</td>\n",
       "      <td>45.0</td>\n",
       "      <td>0.0</td>\n",
       "      <td>ANDROID</td>\n",
       "      <td>SMARTPHONE</td>\n",
       "      <td>55</td>\n",
       "      <td>5</td>\n",
       "      <td>7</td>\n",
       "      <td>8</td>\n",
       "      <td>10</td>\n",
       "    </tr>\n",
       "    <tr>\n",
       "      <th>7</th>\n",
       "      <td>A009KS</td>\n",
       "      <td>313</td>\n",
       "      <td>35.0</td>\n",
       "      <td>0.0</td>\n",
       "      <td>ANDROID</td>\n",
       "      <td>SMARTPHONE</td>\n",
       "      <td>28</td>\n",
       "      <td>4</td>\n",
       "      <td>14</td>\n",
       "      <td>5</td>\n",
       "      <td>10</td>\n",
       "    </tr>\n",
       "    <tr>\n",
       "      <th>8</th>\n",
       "      <td>A00AES</td>\n",
       "      <td>3238</td>\n",
       "      <td>36.0</td>\n",
       "      <td>1.0</td>\n",
       "      <td>ANDROID</td>\n",
       "      <td>SMARTPHONE</td>\n",
       "      <td>41</td>\n",
       "      <td>4</td>\n",
       "      <td>5</td>\n",
       "      <td>8</td>\n",
       "      <td>10</td>\n",
       "    </tr>\n",
       "    <tr>\n",
       "      <th>9</th>\n",
       "      <td>A00F70</td>\n",
       "      <td>4479</td>\n",
       "      <td>54.0</td>\n",
       "      <td>1.0</td>\n",
       "      <td>ANDROID</td>\n",
       "      <td>SMARTPHONE</td>\n",
       "      <td>9</td>\n",
       "      <td>5</td>\n",
       "      <td>8</td>\n",
       "      <td>8</td>\n",
       "      <td>9</td>\n",
       "    </tr>\n",
       "  </tbody>\n",
       "</table>\n",
       "</div>"
      ],
      "text/plain": [
       "  user_id  lt_day   age  gender_segment  os_name cpe_type_name  location_id  \\\n",
       "0  A001A2    2320  45.0             1.0  ANDROID    SMARTPHONE           55   \n",
       "1  A001WF    2344  53.0             0.0  ANDROID    SMARTPHONE           21   \n",
       "2  A003Q7     467  57.0             0.0  ANDROID    SMARTPHONE           28   \n",
       "3  A004TB    4190  44.0             1.0      IOS    SMARTPHONE           38   \n",
       "4  A004XT    1163  24.0             0.0  ANDROID    SMARTPHONE           39   \n",
       "5  A005O0    5501  42.0             1.0  ANDROID    SMARTPHONE           34   \n",
       "6  A0061R    1236  45.0             0.0  ANDROID    SMARTPHONE           55   \n",
       "7  A009KS     313  35.0             0.0  ANDROID    SMARTPHONE           28   \n",
       "8  A00AES    3238  36.0             1.0  ANDROID    SMARTPHONE           41   \n",
       "9  A00F70    4479  54.0             1.0  ANDROID    SMARTPHONE            9   \n",
       "\n",
       "   age_gr_id  tr_gr_id  lt_gr_id  nps_score  \n",
       "0          5         5         8         10  \n",
       "1          5         5         8         10  \n",
       "2          6         9         6         10  \n",
       "3          4         4         8         10  \n",
       "4          2         6         8         10  \n",
       "5          4         6         8          6  \n",
       "6          5         7         8         10  \n",
       "7          4        14         5         10  \n",
       "8          4         5         8         10  \n",
       "9          5         8         8          9  "
      ]
     },
     "execution_count": 4,
     "metadata": {},
     "output_type": "execute_result"
    }
   ],
   "source": [
    "user = pd.read_sql(query, engine)\n",
    "user.head(10)"
   ]
  },
  {
   "cell_type": "code",
   "execution_count": 5,
   "id": "34fed8a0",
   "metadata": {},
   "outputs": [
    {
     "data": {
      "text/html": [
       "<div>\n",
       "<style scoped>\n",
       "    .dataframe tbody tr th:only-of-type {\n",
       "        vertical-align: middle;\n",
       "    }\n",
       "\n",
       "    .dataframe tbody tr th {\n",
       "        vertical-align: top;\n",
       "    }\n",
       "\n",
       "    .dataframe thead th {\n",
       "        text-align: right;\n",
       "    }\n",
       "</style>\n",
       "<table border=\"1\" class=\"dataframe\">\n",
       "  <thead>\n",
       "    <tr style=\"text-align: right;\">\n",
       "      <th></th>\n",
       "      <th>location_id</th>\n",
       "      <th>city</th>\n",
       "      <th>country</th>\n",
       "    </tr>\n",
       "  </thead>\n",
       "  <tbody>\n",
       "    <tr>\n",
       "      <th>0</th>\n",
       "      <td>1</td>\n",
       "      <td>Архангельск</td>\n",
       "      <td>Россия</td>\n",
       "    </tr>\n",
       "    <tr>\n",
       "      <th>1</th>\n",
       "      <td>2</td>\n",
       "      <td>Астрахань</td>\n",
       "      <td>Россия</td>\n",
       "    </tr>\n",
       "    <tr>\n",
       "      <th>2</th>\n",
       "      <td>3</td>\n",
       "      <td>Балашиха</td>\n",
       "      <td>Россия</td>\n",
       "    </tr>\n",
       "    <tr>\n",
       "      <th>3</th>\n",
       "      <td>4</td>\n",
       "      <td>Барнаул</td>\n",
       "      <td>Россия</td>\n",
       "    </tr>\n",
       "    <tr>\n",
       "      <th>4</th>\n",
       "      <td>5</td>\n",
       "      <td>Белгород</td>\n",
       "      <td>Россия</td>\n",
       "    </tr>\n",
       "    <tr>\n",
       "      <th>5</th>\n",
       "      <td>6</td>\n",
       "      <td>Брянск</td>\n",
       "      <td>Россия</td>\n",
       "    </tr>\n",
       "    <tr>\n",
       "      <th>6</th>\n",
       "      <td>7</td>\n",
       "      <td>Владивосток</td>\n",
       "      <td>Россия</td>\n",
       "    </tr>\n",
       "    <tr>\n",
       "      <th>7</th>\n",
       "      <td>8</td>\n",
       "      <td>Владимир</td>\n",
       "      <td>Россия</td>\n",
       "    </tr>\n",
       "    <tr>\n",
       "      <th>8</th>\n",
       "      <td>9</td>\n",
       "      <td>Волгоград</td>\n",
       "      <td>Россия</td>\n",
       "    </tr>\n",
       "    <tr>\n",
       "      <th>9</th>\n",
       "      <td>10</td>\n",
       "      <td>Волжский</td>\n",
       "      <td>Россия</td>\n",
       "    </tr>\n",
       "  </tbody>\n",
       "</table>\n",
       "</div>"
      ],
      "text/plain": [
       "   location_id         city country\n",
       "0            1  Архангельск  Россия\n",
       "1            2    Астрахань  Россия\n",
       "2            3     Балашиха  Россия\n",
       "3            4      Барнаул  Россия\n",
       "4            5     Белгород  Россия\n",
       "5            6       Брянск  Россия\n",
       "6            7  Владивосток  Россия\n",
       "7            8     Владимир  Россия\n",
       "8            9    Волгоград  Россия\n",
       "9           10     Волжский  Россия"
      ]
     },
     "execution_count": 5,
     "metadata": {},
     "output_type": "execute_result"
    }
   ],
   "source": [
    "query = \"\"\"\n",
    "SELECT *\n",
    "FROM location\n",
    "\"\"\"\n",
    "location = pd.read_sql(query, engine)\n",
    "location.head(10)"
   ]
  },
  {
   "cell_type": "code",
   "execution_count": 6,
   "id": "a3d8b7f4",
   "metadata": {},
   "outputs": [
    {
     "data": {
      "text/html": [
       "<div>\n",
       "<style scoped>\n",
       "    .dataframe tbody tr th:only-of-type {\n",
       "        vertical-align: middle;\n",
       "    }\n",
       "\n",
       "    .dataframe tbody tr th {\n",
       "        vertical-align: top;\n",
       "    }\n",
       "\n",
       "    .dataframe thead th {\n",
       "        text-align: right;\n",
       "    }\n",
       "</style>\n",
       "<table border=\"1\" class=\"dataframe\">\n",
       "  <thead>\n",
       "    <tr style=\"text-align: right;\">\n",
       "      <th></th>\n",
       "      <th>age_gr_id</th>\n",
       "      <th>bucket_min</th>\n",
       "      <th>bucket_max</th>\n",
       "      <th>title</th>\n",
       "    </tr>\n",
       "  </thead>\n",
       "  <tbody>\n",
       "    <tr>\n",
       "      <th>0</th>\n",
       "      <td>1</td>\n",
       "      <td>NaN</td>\n",
       "      <td>15.0</td>\n",
       "      <td>01 до 16</td>\n",
       "    </tr>\n",
       "    <tr>\n",
       "      <th>1</th>\n",
       "      <td>2</td>\n",
       "      <td>16.0</td>\n",
       "      <td>24.0</td>\n",
       "      <td>02 16-24</td>\n",
       "    </tr>\n",
       "    <tr>\n",
       "      <th>2</th>\n",
       "      <td>3</td>\n",
       "      <td>25.0</td>\n",
       "      <td>34.0</td>\n",
       "      <td>03 25-34</td>\n",
       "    </tr>\n",
       "    <tr>\n",
       "      <th>3</th>\n",
       "      <td>4</td>\n",
       "      <td>35.0</td>\n",
       "      <td>44.0</td>\n",
       "      <td>04 35-44</td>\n",
       "    </tr>\n",
       "    <tr>\n",
       "      <th>4</th>\n",
       "      <td>5</td>\n",
       "      <td>45.0</td>\n",
       "      <td>54.0</td>\n",
       "      <td>05 45-54</td>\n",
       "    </tr>\n",
       "    <tr>\n",
       "      <th>5</th>\n",
       "      <td>6</td>\n",
       "      <td>55.0</td>\n",
       "      <td>64.0</td>\n",
       "      <td>06 55-64</td>\n",
       "    </tr>\n",
       "    <tr>\n",
       "      <th>6</th>\n",
       "      <td>7</td>\n",
       "      <td>66.0</td>\n",
       "      <td>NaN</td>\n",
       "      <td>07 66 +</td>\n",
       "    </tr>\n",
       "    <tr>\n",
       "      <th>7</th>\n",
       "      <td>8</td>\n",
       "      <td>NaN</td>\n",
       "      <td>NaN</td>\n",
       "      <td>08 n/a</td>\n",
       "    </tr>\n",
       "  </tbody>\n",
       "</table>\n",
       "</div>"
      ],
      "text/plain": [
       "   age_gr_id  bucket_min  bucket_max     title\n",
       "0          1         NaN        15.0  01 до 16\n",
       "1          2        16.0        24.0  02 16-24\n",
       "2          3        25.0        34.0  03 25-34\n",
       "3          4        35.0        44.0  04 35-44\n",
       "4          5        45.0        54.0  05 45-54\n",
       "5          6        55.0        64.0  06 55-64\n",
       "6          7        66.0         NaN   07 66 +\n",
       "7          8         NaN         NaN    08 n/a"
      ]
     },
     "execution_count": 6,
     "metadata": {},
     "output_type": "execute_result"
    }
   ],
   "source": [
    "query = \"\"\"\n",
    "SELECT *\n",
    "FROM age_segment\n",
    "\"\"\"\n",
    "age_segment = pd.read_sql(query, engine)\n",
    "age_segment.head(10)"
   ]
  },
  {
   "cell_type": "code",
   "execution_count": 7,
   "id": "77f21cca",
   "metadata": {},
   "outputs": [
    {
     "data": {
      "text/html": [
       "<div>\n",
       "<style scoped>\n",
       "    .dataframe tbody tr th:only-of-type {\n",
       "        vertical-align: middle;\n",
       "    }\n",
       "\n",
       "    .dataframe tbody tr th {\n",
       "        vertical-align: top;\n",
       "    }\n",
       "\n",
       "    .dataframe thead th {\n",
       "        text-align: right;\n",
       "    }\n",
       "</style>\n",
       "<table border=\"1\" class=\"dataframe\">\n",
       "  <thead>\n",
       "    <tr style=\"text-align: right;\">\n",
       "      <th></th>\n",
       "      <th>tr_gr_id</th>\n",
       "      <th>bucket_min</th>\n",
       "      <th>bucket_max</th>\n",
       "      <th>title</th>\n",
       "    </tr>\n",
       "  </thead>\n",
       "  <tbody>\n",
       "    <tr>\n",
       "      <th>0</th>\n",
       "      <td>1</td>\n",
       "      <td>0.00</td>\n",
       "      <td>0.00</td>\n",
       "      <td>01 0</td>\n",
       "    </tr>\n",
       "    <tr>\n",
       "      <th>1</th>\n",
       "      <td>2</td>\n",
       "      <td>0.00</td>\n",
       "      <td>0.01</td>\n",
       "      <td>01 0-0.01</td>\n",
       "    </tr>\n",
       "    <tr>\n",
       "      <th>2</th>\n",
       "      <td>3</td>\n",
       "      <td>0.01</td>\n",
       "      <td>0.10</td>\n",
       "      <td>02 0.01-0.1</td>\n",
       "    </tr>\n",
       "    <tr>\n",
       "      <th>3</th>\n",
       "      <td>4</td>\n",
       "      <td>0.10</td>\n",
       "      <td>1.00</td>\n",
       "      <td>03 0.1-1</td>\n",
       "    </tr>\n",
       "    <tr>\n",
       "      <th>4</th>\n",
       "      <td>5</td>\n",
       "      <td>1.00</td>\n",
       "      <td>5.00</td>\n",
       "      <td>04 1-5</td>\n",
       "    </tr>\n",
       "    <tr>\n",
       "      <th>5</th>\n",
       "      <td>6</td>\n",
       "      <td>5.00</td>\n",
       "      <td>10.00</td>\n",
       "      <td>05 5-10</td>\n",
       "    </tr>\n",
       "    <tr>\n",
       "      <th>6</th>\n",
       "      <td>7</td>\n",
       "      <td>10.00</td>\n",
       "      <td>15.00</td>\n",
       "      <td>06 10-15</td>\n",
       "    </tr>\n",
       "    <tr>\n",
       "      <th>7</th>\n",
       "      <td>8</td>\n",
       "      <td>15.00</td>\n",
       "      <td>20.00</td>\n",
       "      <td>07 15-20</td>\n",
       "    </tr>\n",
       "    <tr>\n",
       "      <th>8</th>\n",
       "      <td>9</td>\n",
       "      <td>20.00</td>\n",
       "      <td>25.00</td>\n",
       "      <td>08 20-25</td>\n",
       "    </tr>\n",
       "    <tr>\n",
       "      <th>9</th>\n",
       "      <td>10</td>\n",
       "      <td>25.00</td>\n",
       "      <td>30.00</td>\n",
       "      <td>09 25-30</td>\n",
       "    </tr>\n",
       "  </tbody>\n",
       "</table>\n",
       "</div>"
      ],
      "text/plain": [
       "   tr_gr_id  bucket_min  bucket_max        title\n",
       "0         1        0.00        0.00         01 0\n",
       "1         2        0.00        0.01    01 0-0.01\n",
       "2         3        0.01        0.10  02 0.01-0.1\n",
       "3         4        0.10        1.00     03 0.1-1\n",
       "4         5        1.00        5.00       04 1-5\n",
       "5         6        5.00       10.00      05 5-10\n",
       "6         7       10.00       15.00     06 10-15\n",
       "7         8       15.00       20.00     07 15-20\n",
       "8         9       20.00       25.00     08 20-25\n",
       "9        10       25.00       30.00     09 25-30"
      ]
     },
     "execution_count": 7,
     "metadata": {},
     "output_type": "execute_result"
    }
   ],
   "source": [
    "query = \"\"\"\n",
    "SELECT *\n",
    "FROM traffic_segment\n",
    "\"\"\"\n",
    "traffic_segment = pd.read_sql(query, engine)\n",
    "traffic_segment.head(10)"
   ]
  },
  {
   "cell_type": "code",
   "execution_count": 8,
   "id": "43500e6f",
   "metadata": {},
   "outputs": [
    {
     "data": {
      "text/html": [
       "<div>\n",
       "<style scoped>\n",
       "    .dataframe tbody tr th:only-of-type {\n",
       "        vertical-align: middle;\n",
       "    }\n",
       "\n",
       "    .dataframe tbody tr th {\n",
       "        vertical-align: top;\n",
       "    }\n",
       "\n",
       "    .dataframe thead th {\n",
       "        text-align: right;\n",
       "    }\n",
       "</style>\n",
       "<table border=\"1\" class=\"dataframe\">\n",
       "  <thead>\n",
       "    <tr style=\"text-align: right;\">\n",
       "      <th></th>\n",
       "      <th>lt_gr_id</th>\n",
       "      <th>bucket_min</th>\n",
       "      <th>bucket_max</th>\n",
       "      <th>title</th>\n",
       "    </tr>\n",
       "  </thead>\n",
       "  <tbody>\n",
       "    <tr>\n",
       "      <th>0</th>\n",
       "      <td>1</td>\n",
       "      <td>1.0</td>\n",
       "      <td>1.0</td>\n",
       "      <td>01 1</td>\n",
       "    </tr>\n",
       "    <tr>\n",
       "      <th>1</th>\n",
       "      <td>2</td>\n",
       "      <td>2.0</td>\n",
       "      <td>2.0</td>\n",
       "      <td>02 2</td>\n",
       "    </tr>\n",
       "    <tr>\n",
       "      <th>2</th>\n",
       "      <td>3</td>\n",
       "      <td>3.0</td>\n",
       "      <td>3.0</td>\n",
       "      <td>03 3</td>\n",
       "    </tr>\n",
       "    <tr>\n",
       "      <th>3</th>\n",
       "      <td>4</td>\n",
       "      <td>4.0</td>\n",
       "      <td>6.0</td>\n",
       "      <td>04 4-6</td>\n",
       "    </tr>\n",
       "    <tr>\n",
       "      <th>4</th>\n",
       "      <td>5</td>\n",
       "      <td>7.0</td>\n",
       "      <td>12.0</td>\n",
       "      <td>05 7-12</td>\n",
       "    </tr>\n",
       "    <tr>\n",
       "      <th>5</th>\n",
       "      <td>6</td>\n",
       "      <td>13.0</td>\n",
       "      <td>24.0</td>\n",
       "      <td>06 13-24</td>\n",
       "    </tr>\n",
       "    <tr>\n",
       "      <th>6</th>\n",
       "      <td>7</td>\n",
       "      <td>25.0</td>\n",
       "      <td>36.0</td>\n",
       "      <td>07 25-36</td>\n",
       "    </tr>\n",
       "    <tr>\n",
       "      <th>7</th>\n",
       "      <td>8</td>\n",
       "      <td>36.0</td>\n",
       "      <td>NaN</td>\n",
       "      <td>08 36+</td>\n",
       "    </tr>\n",
       "  </tbody>\n",
       "</table>\n",
       "</div>"
      ],
      "text/plain": [
       "   lt_gr_id  bucket_min  bucket_max     title\n",
       "0         1         1.0         1.0      01 1\n",
       "1         2         2.0         2.0      02 2\n",
       "2         3         3.0         3.0      03 3\n",
       "3         4         4.0         6.0    04 4-6\n",
       "4         5         7.0        12.0   05 7-12\n",
       "5         6        13.0        24.0  06 13-24\n",
       "6         7        25.0        36.0  07 25-36\n",
       "7         8        36.0         NaN    08 36+"
      ]
     },
     "execution_count": 8,
     "metadata": {},
     "output_type": "execute_result"
    }
   ],
   "source": [
    "query = \"\"\"\n",
    "SELECT *\n",
    "FROM lifetime_segment\n",
    "\"\"\"\n",
    "lifetime_segment = pd.read_sql(query, engine)\n",
    "lifetime_segment.head(10)"
   ]
  },
  {
   "cell_type": "markdown",
   "id": "c328f359",
   "metadata": {},
   "source": [
    "Выгрузим записи, в которых есть пропуски. \n",
    "Начнем с таблицы user."
   ]
  },
  {
   "cell_type": "code",
   "execution_count": 9,
   "id": "210f52d2",
   "metadata": {},
   "outputs": [
    {
     "data": {
      "text/html": [
       "<div>\n",
       "<style scoped>\n",
       "    .dataframe tbody tr th:only-of-type {\n",
       "        vertical-align: middle;\n",
       "    }\n",
       "\n",
       "    .dataframe tbody tr th {\n",
       "        vertical-align: top;\n",
       "    }\n",
       "\n",
       "    .dataframe thead th {\n",
       "        text-align: right;\n",
       "    }\n",
       "</style>\n",
       "<table border=\"1\" class=\"dataframe\">\n",
       "  <thead>\n",
       "    <tr style=\"text-align: right;\">\n",
       "      <th></th>\n",
       "      <th>user_id</th>\n",
       "      <th>lt_day</th>\n",
       "      <th>age</th>\n",
       "      <th>gender_segment</th>\n",
       "      <th>os_name</th>\n",
       "      <th>cpe_type_name</th>\n",
       "      <th>location_id</th>\n",
       "      <th>age_gr_id</th>\n",
       "      <th>tr_gr_id</th>\n",
       "      <th>lt_gr_id</th>\n",
       "      <th>nps_score</th>\n",
       "    </tr>\n",
       "  </thead>\n",
       "  <tbody>\n",
       "    <tr>\n",
       "      <th>0</th>\n",
       "      <td>A1E59W</td>\n",
       "      <td>4055</td>\n",
       "      <td>NaN</td>\n",
       "      <td>NaN</td>\n",
       "      <td>ANDROID</td>\n",
       "      <td>SMARTPHONE</td>\n",
       "      <td>13</td>\n",
       "      <td>8</td>\n",
       "      <td>5</td>\n",
       "      <td>8</td>\n",
       "      <td>1</td>\n",
       "    </tr>\n",
       "    <tr>\n",
       "      <th>1</th>\n",
       "      <td>A1S6VL</td>\n",
       "      <td>335</td>\n",
       "      <td>40.0</td>\n",
       "      <td>NaN</td>\n",
       "      <td>ANDROID</td>\n",
       "      <td>TABLET</td>\n",
       "      <td>14</td>\n",
       "      <td>4</td>\n",
       "      <td>8</td>\n",
       "      <td>5</td>\n",
       "      <td>8</td>\n",
       "    </tr>\n",
       "    <tr>\n",
       "      <th>2</th>\n",
       "      <td>A28ZDT</td>\n",
       "      <td>4243</td>\n",
       "      <td>NaN</td>\n",
       "      <td>NaN</td>\n",
       "      <td>ANDROID</td>\n",
       "      <td>SMARTPHONE</td>\n",
       "      <td>56</td>\n",
       "      <td>8</td>\n",
       "      <td>5</td>\n",
       "      <td>8</td>\n",
       "      <td>5</td>\n",
       "    </tr>\n",
       "    <tr>\n",
       "      <th>3</th>\n",
       "      <td>A2GLPQ</td>\n",
       "      <td>2354</td>\n",
       "      <td>NaN</td>\n",
       "      <td>NaN</td>\n",
       "      <td>ANDROID</td>\n",
       "      <td>SMARTPHONE</td>\n",
       "      <td>16</td>\n",
       "      <td>8</td>\n",
       "      <td>7</td>\n",
       "      <td>8</td>\n",
       "      <td>1</td>\n",
       "    </tr>\n",
       "    <tr>\n",
       "      <th>4</th>\n",
       "      <td>A3XMNW</td>\n",
       "      <td>41</td>\n",
       "      <td>32.0</td>\n",
       "      <td>NaN</td>\n",
       "      <td>ANDROID</td>\n",
       "      <td>SMARTPHONE</td>\n",
       "      <td>41</td>\n",
       "      <td>3</td>\n",
       "      <td>4</td>\n",
       "      <td>2</td>\n",
       "      <td>1</td>\n",
       "    </tr>\n",
       "    <tr>\n",
       "      <th>...</th>\n",
       "      <td>...</td>\n",
       "      <td>...</td>\n",
       "      <td>...</td>\n",
       "      <td>...</td>\n",
       "      <td>...</td>\n",
       "      <td>...</td>\n",
       "      <td>...</td>\n",
       "      <td>...</td>\n",
       "      <td>...</td>\n",
       "      <td>...</td>\n",
       "      <td>...</td>\n",
       "    </tr>\n",
       "    <tr>\n",
       "      <th>1336</th>\n",
       "      <td>ZWQJRW</td>\n",
       "      <td>220</td>\n",
       "      <td>NaN</td>\n",
       "      <td>0.0</td>\n",
       "      <td>ANDROID</td>\n",
       "      <td>SMARTPHONE</td>\n",
       "      <td>40</td>\n",
       "      <td>8</td>\n",
       "      <td>4</td>\n",
       "      <td>5</td>\n",
       "      <td>1</td>\n",
       "    </tr>\n",
       "    <tr>\n",
       "      <th>1337</th>\n",
       "      <td>ZWY9NM</td>\n",
       "      <td>49</td>\n",
       "      <td>35.0</td>\n",
       "      <td>NaN</td>\n",
       "      <td>ANDROID</td>\n",
       "      <td>SMARTPHONE</td>\n",
       "      <td>27</td>\n",
       "      <td>4</td>\n",
       "      <td>5</td>\n",
       "      <td>2</td>\n",
       "      <td>10</td>\n",
       "    </tr>\n",
       "    <tr>\n",
       "      <th>1338</th>\n",
       "      <td>ZXK9AK</td>\n",
       "      <td>3550</td>\n",
       "      <td>NaN</td>\n",
       "      <td>NaN</td>\n",
       "      <td>ANDROID</td>\n",
       "      <td>SMARTPHONE</td>\n",
       "      <td>50</td>\n",
       "      <td>8</td>\n",
       "      <td>5</td>\n",
       "      <td>8</td>\n",
       "      <td>4</td>\n",
       "    </tr>\n",
       "    <tr>\n",
       "      <th>1339</th>\n",
       "      <td>ZZRS2G</td>\n",
       "      <td>345</td>\n",
       "      <td>NaN</td>\n",
       "      <td>0.0</td>\n",
       "      <td>ANDROID</td>\n",
       "      <td>SMARTPHONE</td>\n",
       "      <td>28</td>\n",
       "      <td>8</td>\n",
       "      <td>5</td>\n",
       "      <td>5</td>\n",
       "      <td>5</td>\n",
       "    </tr>\n",
       "    <tr>\n",
       "      <th>1340</th>\n",
       "      <td>ZZXH2T</td>\n",
       "      <td>268</td>\n",
       "      <td>NaN</td>\n",
       "      <td>NaN</td>\n",
       "      <td>ANDROID</td>\n",
       "      <td>SMARTPHONE</td>\n",
       "      <td>59</td>\n",
       "      <td>8</td>\n",
       "      <td>8</td>\n",
       "      <td>5</td>\n",
       "      <td>1</td>\n",
       "    </tr>\n",
       "  </tbody>\n",
       "</table>\n",
       "<p>1341 rows × 11 columns</p>\n",
       "</div>"
      ],
      "text/plain": [
       "     user_id  lt_day   age  gender_segment  os_name cpe_type_name  \\\n",
       "0     A1E59W    4055   NaN             NaN  ANDROID    SMARTPHONE   \n",
       "1     A1S6VL     335  40.0             NaN  ANDROID        TABLET   \n",
       "2     A28ZDT    4243   NaN             NaN  ANDROID    SMARTPHONE   \n",
       "3     A2GLPQ    2354   NaN             NaN  ANDROID    SMARTPHONE   \n",
       "4     A3XMNW      41  32.0             NaN  ANDROID    SMARTPHONE   \n",
       "...      ...     ...   ...             ...      ...           ...   \n",
       "1336  ZWQJRW     220   NaN             0.0  ANDROID    SMARTPHONE   \n",
       "1337  ZWY9NM      49  35.0             NaN  ANDROID    SMARTPHONE   \n",
       "1338  ZXK9AK    3550   NaN             NaN  ANDROID    SMARTPHONE   \n",
       "1339  ZZRS2G     345   NaN             0.0  ANDROID    SMARTPHONE   \n",
       "1340  ZZXH2T     268   NaN             NaN  ANDROID    SMARTPHONE   \n",
       "\n",
       "      location_id  age_gr_id  tr_gr_id  lt_gr_id  nps_score  \n",
       "0              13          8         5         8          1  \n",
       "1              14          4         8         5          8  \n",
       "2              56          8         5         8          5  \n",
       "3              16          8         7         8          1  \n",
       "4              41          3         4         2          1  \n",
       "...           ...        ...       ...       ...        ...  \n",
       "1336           40          8         4         5          1  \n",
       "1337           27          4         5         2         10  \n",
       "1338           50          8         5         8          4  \n",
       "1339           28          8         5         5          5  \n",
       "1340           59          8         8         5          1  \n",
       "\n",
       "[1341 rows x 11 columns]"
      ]
     },
     "execution_count": 9,
     "metadata": {},
     "output_type": "execute_result"
    }
   ],
   "source": [
    "query = \"\"\"\n",
    "SELECT *\n",
    "FROM user\n",
    "WHERE   user_id IS NULL OR\n",
    "        lt_day IS NULL OR\n",
    "        age IS NULL OR\n",
    "        gender_segment IS NULL OR\n",
    "        os_name IS NULL OR\n",
    "        cpe_type_name IS NULL OR\n",
    "        location_id IS NULL OR\n",
    "        age_gr_id IS NULL OR\n",
    "        tr_gr_id IS NULL OR\n",
    "        lt_gr_id IS NULL OR\n",
    "        nps_score IS NULL;\n",
    "\"\"\"\n",
    "user = pd.read_sql(query, engine)\n",
    "user"
   ]
  },
  {
   "cell_type": "markdown",
   "id": "73b74520",
   "metadata": {},
   "source": [
    "В таблице user 1341 пропуск."
   ]
  },
  {
   "cell_type": "markdown",
   "id": "612b9308",
   "metadata": {},
   "source": [
    "Найдем общее количество"
   ]
  },
  {
   "cell_type": "code",
   "execution_count": 10,
   "id": "b73a79ad",
   "metadata": {},
   "outputs": [
    {
     "data": {
      "text/html": [
       "<div>\n",
       "<style scoped>\n",
       "    .dataframe tbody tr th:only-of-type {\n",
       "        vertical-align: middle;\n",
       "    }\n",
       "\n",
       "    .dataframe tbody tr th {\n",
       "        vertical-align: top;\n",
       "    }\n",
       "\n",
       "    .dataframe thead th {\n",
       "        text-align: right;\n",
       "    }\n",
       "</style>\n",
       "<table border=\"1\" class=\"dataframe\">\n",
       "  <thead>\n",
       "    <tr style=\"text-align: right;\">\n",
       "      <th></th>\n",
       "      <th>COUNT(*)</th>\n",
       "    </tr>\n",
       "  </thead>\n",
       "  <tbody>\n",
       "    <tr>\n",
       "      <th>0</th>\n",
       "      <td>502493</td>\n",
       "    </tr>\n",
       "  </tbody>\n",
       "</table>\n",
       "</div>"
      ],
      "text/plain": [
       "   COUNT(*)\n",
       "0    502493"
      ]
     },
     "execution_count": 10,
     "metadata": {},
     "output_type": "execute_result"
    }
   ],
   "source": [
    "query = \"\"\"\n",
    "SELECT COUNT(*)\n",
    "FROM user\n",
    "\"\"\"\n",
    "user = pd.read_sql(query, engine)\n",
    "user"
   ]
  },
  {
   "cell_type": "markdown",
   "id": "3a97c961",
   "metadata": {},
   "source": [
    "Пропуски составляют 0,27% от общего количества данных."
   ]
  },
  {
   "cell_type": "markdown",
   "id": "38466e1d",
   "metadata": {},
   "source": [
    "Проверим, что все значения в nps_score находятся в диапазоне от 1 до 10"
   ]
  },
  {
   "cell_type": "code",
   "execution_count": 11,
   "id": "1e4fe1ba",
   "metadata": {},
   "outputs": [
    {
     "data": {
      "text/html": [
       "<div>\n",
       "<style scoped>\n",
       "    .dataframe tbody tr th:only-of-type {\n",
       "        vertical-align: middle;\n",
       "    }\n",
       "\n",
       "    .dataframe tbody tr th {\n",
       "        vertical-align: top;\n",
       "    }\n",
       "\n",
       "    .dataframe thead th {\n",
       "        text-align: right;\n",
       "    }\n",
       "</style>\n",
       "<table border=\"1\" class=\"dataframe\">\n",
       "  <thead>\n",
       "    <tr style=\"text-align: right;\">\n",
       "      <th></th>\n",
       "      <th>COUNT(*)</th>\n",
       "    </tr>\n",
       "  </thead>\n",
       "  <tbody>\n",
       "    <tr>\n",
       "      <th>0</th>\n",
       "      <td>502493</td>\n",
       "    </tr>\n",
       "  </tbody>\n",
       "</table>\n",
       "</div>"
      ],
      "text/plain": [
       "   COUNT(*)\n",
       "0    502493"
      ]
     },
     "execution_count": 11,
     "metadata": {},
     "output_type": "execute_result"
    }
   ],
   "source": [
    "query = \"\"\"\n",
    "SELECT COUNT(*)\n",
    "FROM user\n",
    "WHERE nps_score BETWEEN 1 AND 10\n",
    "\"\"\"\n",
    "user = pd.read_sql(query, engine)\n",
    "user"
   ]
  },
  {
   "cell_type": "markdown",
   "id": "d8956598",
   "metadata": {},
   "source": [
    "Количество строк совпадает, с данными все ок."
   ]
  },
  {
   "cell_type": "markdown",
   "id": "d565dab0",
   "metadata": {},
   "source": [
    "Проверим столбец age на возможное наличие отрицательных значений, а заодно проверим количество строк и максимальное значение "
   ]
  },
  {
   "cell_type": "code",
   "execution_count": 12,
   "id": "fc9277a5",
   "metadata": {},
   "outputs": [
    {
     "data": {
      "text/html": [
       "<div>\n",
       "<style scoped>\n",
       "    .dataframe tbody tr th:only-of-type {\n",
       "        vertical-align: middle;\n",
       "    }\n",
       "\n",
       "    .dataframe tbody tr th {\n",
       "        vertical-align: top;\n",
       "    }\n",
       "\n",
       "    .dataframe thead th {\n",
       "        text-align: right;\n",
       "    }\n",
       "</style>\n",
       "<table border=\"1\" class=\"dataframe\">\n",
       "  <thead>\n",
       "    <tr style=\"text-align: right;\">\n",
       "      <th></th>\n",
       "      <th>COUNT(age)</th>\n",
       "      <th>MIN(age)</th>\n",
       "      <th>MAX(age)</th>\n",
       "    </tr>\n",
       "  </thead>\n",
       "  <tbody>\n",
       "    <tr>\n",
       "      <th>0</th>\n",
       "      <td>501939</td>\n",
       "      <td>10.0</td>\n",
       "      <td>89.0</td>\n",
       "    </tr>\n",
       "  </tbody>\n",
       "</table>\n",
       "</div>"
      ],
      "text/plain": [
       "   COUNT(age)  MIN(age)  MAX(age)\n",
       "0      501939      10.0      89.0"
      ]
     },
     "execution_count": 12,
     "metadata": {},
     "output_type": "execute_result"
    }
   ],
   "source": [
    "query = \"\"\"\n",
    "SELECT COUNT(age),\n",
    "       MIN(age),\n",
    "       MAX(age)\n",
    "FROM user\n",
    "\"\"\"\n",
    "user = pd.read_sql(query, engine)\n",
    "user"
   ]
  },
  {
   "cell_type": "markdown",
   "id": "30a0fa7e",
   "metadata": {},
   "source": [
    "Минимальный возраст клиента в опросе 10 лет, максимальный 89. Отрицательных значений возраста нет, но в данных есть пропуски."
   ]
  },
  {
   "cell_type": "markdown",
   "id": "c3240770",
   "metadata": {},
   "source": [
    "Продолжим проверять пропуски в остальных таблицах."
   ]
  },
  {
   "cell_type": "code",
   "execution_count": 13,
   "id": "b4a5ff72",
   "metadata": {},
   "outputs": [
    {
     "data": {
      "text/html": [
       "<div>\n",
       "<style scoped>\n",
       "    .dataframe tbody tr th:only-of-type {\n",
       "        vertical-align: middle;\n",
       "    }\n",
       "\n",
       "    .dataframe tbody tr th {\n",
       "        vertical-align: top;\n",
       "    }\n",
       "\n",
       "    .dataframe thead th {\n",
       "        text-align: right;\n",
       "    }\n",
       "</style>\n",
       "<table border=\"1\" class=\"dataframe\">\n",
       "  <thead>\n",
       "    <tr style=\"text-align: right;\">\n",
       "      <th></th>\n",
       "      <th>location_id</th>\n",
       "      <th>city</th>\n",
       "      <th>country</th>\n",
       "    </tr>\n",
       "  </thead>\n",
       "  <tbody>\n",
       "  </tbody>\n",
       "</table>\n",
       "</div>"
      ],
      "text/plain": [
       "Empty DataFrame\n",
       "Columns: [location_id, city, country]\n",
       "Index: []"
      ]
     },
     "execution_count": 13,
     "metadata": {},
     "output_type": "execute_result"
    }
   ],
   "source": [
    "query = \"\"\"\n",
    "SELECT *\n",
    "FROM location\n",
    "WHERE   location_id IS NULL OR\n",
    "        city IS NULL OR\n",
    "        country IS NULL;\n",
    "\"\"\"\n",
    "location = pd.read_sql(query, engine)\n",
    "location"
   ]
  },
  {
   "cell_type": "markdown",
   "id": "5f18ddc8",
   "metadata": {},
   "source": [
    "В таблице location нет пропусков"
   ]
  },
  {
   "cell_type": "markdown",
   "id": "e51104e9",
   "metadata": {},
   "source": [
    "В поле city проверим уникальные значения городов и стран:"
   ]
  },
  {
   "cell_type": "code",
   "execution_count": 14,
   "id": "056fc8c3",
   "metadata": {},
   "outputs": [
    {
     "data": {
      "text/html": [
       "<div>\n",
       "<style scoped>\n",
       "    .dataframe tbody tr th:only-of-type {\n",
       "        vertical-align: middle;\n",
       "    }\n",
       "\n",
       "    .dataframe tbody tr th {\n",
       "        vertical-align: top;\n",
       "    }\n",
       "\n",
       "    .dataframe thead th {\n",
       "        text-align: right;\n",
       "    }\n",
       "</style>\n",
       "<table border=\"1\" class=\"dataframe\">\n",
       "  <thead>\n",
       "    <tr style=\"text-align: right;\">\n",
       "      <th></th>\n",
       "      <th>city</th>\n",
       "      <th>country</th>\n",
       "    </tr>\n",
       "  </thead>\n",
       "  <tbody>\n",
       "    <tr>\n",
       "      <th>0</th>\n",
       "      <td>Архангельск</td>\n",
       "      <td>Россия</td>\n",
       "    </tr>\n",
       "    <tr>\n",
       "      <th>1</th>\n",
       "      <td>Астрахань</td>\n",
       "      <td>Россия</td>\n",
       "    </tr>\n",
       "    <tr>\n",
       "      <th>2</th>\n",
       "      <td>Балашиха</td>\n",
       "      <td>Россия</td>\n",
       "    </tr>\n",
       "    <tr>\n",
       "      <th>3</th>\n",
       "      <td>Барнаул</td>\n",
       "      <td>Россия</td>\n",
       "    </tr>\n",
       "    <tr>\n",
       "      <th>4</th>\n",
       "      <td>Белгород</td>\n",
       "      <td>Россия</td>\n",
       "    </tr>\n",
       "    <tr>\n",
       "      <th>...</th>\n",
       "      <td>...</td>\n",
       "      <td>...</td>\n",
       "    </tr>\n",
       "    <tr>\n",
       "      <th>57</th>\n",
       "      <td>Челябинск</td>\n",
       "      <td>Россия</td>\n",
       "    </tr>\n",
       "    <tr>\n",
       "      <th>58</th>\n",
       "      <td>Череповец</td>\n",
       "      <td>Россия</td>\n",
       "    </tr>\n",
       "    <tr>\n",
       "      <th>59</th>\n",
       "      <td>Чита</td>\n",
       "      <td>Россия</td>\n",
       "    </tr>\n",
       "    <tr>\n",
       "      <th>60</th>\n",
       "      <td>Якутск</td>\n",
       "      <td>Россия</td>\n",
       "    </tr>\n",
       "    <tr>\n",
       "      <th>61</th>\n",
       "      <td>Ярославль</td>\n",
       "      <td>Россия</td>\n",
       "    </tr>\n",
       "  </tbody>\n",
       "</table>\n",
       "<p>62 rows × 2 columns</p>\n",
       "</div>"
      ],
      "text/plain": [
       "           city country\n",
       "0   Архангельск  Россия\n",
       "1     Астрахань  Россия\n",
       "2      Балашиха  Россия\n",
       "3       Барнаул  Россия\n",
       "4      Белгород  Россия\n",
       "..          ...     ...\n",
       "57    Челябинск  Россия\n",
       "58    Череповец  Россия\n",
       "59         Чита  Россия\n",
       "60       Якутск  Россия\n",
       "61    Ярославль  Россия\n",
       "\n",
       "[62 rows x 2 columns]"
      ]
     },
     "execution_count": 14,
     "metadata": {},
     "output_type": "execute_result"
    }
   ],
   "source": [
    "query = \"\"\"\n",
    "SELECT DISTINCT city,\n",
    "                country\n",
    "FROM location\n",
    "\"\"\"\n",
    "user = pd.read_sql(query, engine)\n",
    "user"
   ]
  },
  {
   "cell_type": "markdown",
   "id": "ca3f752d",
   "metadata": {},
   "source": [
    "Продолжим проверять пропуски в оставшихся таблицах."
   ]
  },
  {
   "cell_type": "code",
   "execution_count": 15,
   "id": "3d94d38d",
   "metadata": {},
   "outputs": [
    {
     "data": {
      "text/html": [
       "<div>\n",
       "<style scoped>\n",
       "    .dataframe tbody tr th:only-of-type {\n",
       "        vertical-align: middle;\n",
       "    }\n",
       "\n",
       "    .dataframe tbody tr th {\n",
       "        vertical-align: top;\n",
       "    }\n",
       "\n",
       "    .dataframe thead th {\n",
       "        text-align: right;\n",
       "    }\n",
       "</style>\n",
       "<table border=\"1\" class=\"dataframe\">\n",
       "  <thead>\n",
       "    <tr style=\"text-align: right;\">\n",
       "      <th></th>\n",
       "      <th>age_gr_id</th>\n",
       "      <th>bucket_min</th>\n",
       "      <th>bucket_max</th>\n",
       "      <th>title</th>\n",
       "    </tr>\n",
       "  </thead>\n",
       "  <tbody>\n",
       "    <tr>\n",
       "      <th>0</th>\n",
       "      <td>1</td>\n",
       "      <td>NaN</td>\n",
       "      <td>15.0</td>\n",
       "      <td>01 до 16</td>\n",
       "    </tr>\n",
       "    <tr>\n",
       "      <th>1</th>\n",
       "      <td>7</td>\n",
       "      <td>66.0</td>\n",
       "      <td>NaN</td>\n",
       "      <td>07 66 +</td>\n",
       "    </tr>\n",
       "    <tr>\n",
       "      <th>2</th>\n",
       "      <td>8</td>\n",
       "      <td>NaN</td>\n",
       "      <td>NaN</td>\n",
       "      <td>08 n/a</td>\n",
       "    </tr>\n",
       "  </tbody>\n",
       "</table>\n",
       "</div>"
      ],
      "text/plain": [
       "   age_gr_id  bucket_min  bucket_max     title\n",
       "0          1         NaN        15.0  01 до 16\n",
       "1          7        66.0         NaN   07 66 +\n",
       "2          8         NaN         NaN    08 n/a"
      ]
     },
     "execution_count": 15,
     "metadata": {},
     "output_type": "execute_result"
    }
   ],
   "source": [
    "query = \"\"\"\n",
    "SELECT *\n",
    "FROM age_segment\n",
    "WHERE   age_gr_id IS NULL OR\n",
    "        bucket_min IS NULL OR\n",
    "        bucket_max IS NULL OR\n",
    "        title IS NULL;\n",
    "\"\"\"\n",
    "age_segment = pd.read_sql(query, engine)\n",
    "age_segment"
   ]
  },
  {
   "cell_type": "markdown",
   "id": "f4d0a1ee",
   "metadata": {},
   "source": [
    "В таблице age_segment 3 пропуска."
   ]
  },
  {
   "cell_type": "code",
   "execution_count": 16,
   "id": "7644fcef",
   "metadata": {},
   "outputs": [
    {
     "data": {
      "text/html": [
       "<div>\n",
       "<style scoped>\n",
       "    .dataframe tbody tr th:only-of-type {\n",
       "        vertical-align: middle;\n",
       "    }\n",
       "\n",
       "    .dataframe tbody tr th {\n",
       "        vertical-align: top;\n",
       "    }\n",
       "\n",
       "    .dataframe thead th {\n",
       "        text-align: right;\n",
       "    }\n",
       "</style>\n",
       "<table border=\"1\" class=\"dataframe\">\n",
       "  <thead>\n",
       "    <tr style=\"text-align: right;\">\n",
       "      <th></th>\n",
       "      <th>tr_gr_id</th>\n",
       "      <th>bucket_min</th>\n",
       "      <th>bucket_max</th>\n",
       "      <th>title</th>\n",
       "    </tr>\n",
       "  </thead>\n",
       "  <tbody>\n",
       "    <tr>\n",
       "      <th>0</th>\n",
       "      <td>25</td>\n",
       "      <td>100.0</td>\n",
       "      <td>None</td>\n",
       "      <td>24 100+</td>\n",
       "    </tr>\n",
       "  </tbody>\n",
       "</table>\n",
       "</div>"
      ],
      "text/plain": [
       "   tr_gr_id  bucket_min bucket_max    title\n",
       "0        25       100.0       None  24 100+"
      ]
     },
     "execution_count": 16,
     "metadata": {},
     "output_type": "execute_result"
    }
   ],
   "source": [
    "query = \"\"\"\n",
    "SELECT *\n",
    "FROM traffic_segment\n",
    "WHERE   tr_gr_id IS NULL OR\n",
    "        bucket_min IS NULL OR\n",
    "        bucket_max IS NULL OR\n",
    "        title IS NULL;\n",
    "\"\"\"\n",
    "traffic_segment = pd.read_sql(query, engine)\n",
    "traffic_segment"
   ]
  },
  {
   "cell_type": "markdown",
   "id": "35647c0a",
   "metadata": {},
   "source": [
    "В таблице traffic_segment всего 1 пропуск."
   ]
  },
  {
   "cell_type": "code",
   "execution_count": 17,
   "id": "a11ab606",
   "metadata": {},
   "outputs": [
    {
     "data": {
      "text/html": [
       "<div>\n",
       "<style scoped>\n",
       "    .dataframe tbody tr th:only-of-type {\n",
       "        vertical-align: middle;\n",
       "    }\n",
       "\n",
       "    .dataframe tbody tr th {\n",
       "        vertical-align: top;\n",
       "    }\n",
       "\n",
       "    .dataframe thead th {\n",
       "        text-align: right;\n",
       "    }\n",
       "</style>\n",
       "<table border=\"1\" class=\"dataframe\">\n",
       "  <thead>\n",
       "    <tr style=\"text-align: right;\">\n",
       "      <th></th>\n",
       "      <th>lt_gr_id</th>\n",
       "      <th>bucket_min</th>\n",
       "      <th>bucket_max</th>\n",
       "      <th>title</th>\n",
       "    </tr>\n",
       "  </thead>\n",
       "  <tbody>\n",
       "    <tr>\n",
       "      <th>0</th>\n",
       "      <td>8</td>\n",
       "      <td>36.0</td>\n",
       "      <td>None</td>\n",
       "      <td>08 36+</td>\n",
       "    </tr>\n",
       "  </tbody>\n",
       "</table>\n",
       "</div>"
      ],
      "text/plain": [
       "   lt_gr_id  bucket_min bucket_max   title\n",
       "0         8        36.0       None  08 36+"
      ]
     },
     "execution_count": 17,
     "metadata": {},
     "output_type": "execute_result"
    }
   ],
   "source": [
    "query = \"\"\"\n",
    "SELECT *\n",
    "FROM lifetime_segment\n",
    "WHERE   lt_gr_id IS NULL OR\n",
    "        bucket_min IS NULL OR\n",
    "        bucket_max IS NULL OR\n",
    "        title IS NULL;\n",
    "\"\"\"\n",
    "lifetime_segment = pd.read_sql(query, engine)\n",
    "lifetime_segment"
   ]
  },
  {
   "cell_type": "markdown",
   "id": "ecf41a21",
   "metadata": {},
   "source": [
    "В таблице traffic_segment также 1 пропуск."
   ]
  },
  {
   "cell_type": "markdown",
   "id": "995d75a0",
   "metadata": {},
   "source": [
    "Проверив пропуски, перейдем к объединению и сохранению файла.\n",
    "\n",
    "* Первым условием запишим деление клиентов на \"старый клиент\" и \"новый клиент\". Для этого используем условную конструкцию с оператором CASE. Клиента считают новым, если количество дней «жизни» составляет не более 365 дней.\n",
    "* Пол клиента из условий задачи определяется как: 1 – женщина, 0 – мужчина. \n",
    "* Методом substr() найдем указанное количество символов из строки, начиная с указанной позиции. \n",
    "* Чтобы оценить результаты опроса, оценки поделим на три группы:\n",
    "    * 9-10 баллов — «cторонники» (англ. promoters);\n",
    "    * 7-8 баллов — «нейтралы» (англ. passives);\n",
    "    * 0-6 баллов — «критики» (англ. detractors).\n",
    "* Объединим таблицы используя оператор INNER JOIN.\n",
    "\n",
    "\n",
    "Во время работы с файлом в Tableu, нашел города написанные слитно. Решил сразу пересохранить файл и исправить название городов, пока не сделал много презентаций и дашбордов."
   ]
  },
  {
   "cell_type": "code",
   "execution_count": 18,
   "id": "d8acaf8d",
   "metadata": {
    "scrolled": true
   },
   "outputs": [
    {
     "data": {
      "text/html": [
       "<div>\n",
       "<style scoped>\n",
       "    .dataframe tbody tr th:only-of-type {\n",
       "        vertical-align: middle;\n",
       "    }\n",
       "\n",
       "    .dataframe tbody tr th {\n",
       "        vertical-align: top;\n",
       "    }\n",
       "\n",
       "    .dataframe thead th {\n",
       "        text-align: right;\n",
       "    }\n",
       "</style>\n",
       "<table border=\"1\" class=\"dataframe\">\n",
       "  <thead>\n",
       "    <tr style=\"text-align: right;\">\n",
       "      <th></th>\n",
       "      <th>user_id</th>\n",
       "      <th>lt_day</th>\n",
       "      <th>is_new</th>\n",
       "      <th>age</th>\n",
       "      <th>gender_segment</th>\n",
       "      <th>os_name</th>\n",
       "      <th>cpe_type_name</th>\n",
       "      <th>country</th>\n",
       "      <th>city</th>\n",
       "      <th>age_segment</th>\n",
       "      <th>traffic_segment</th>\n",
       "      <th>lifetime_segment</th>\n",
       "      <th>nps_score</th>\n",
       "      <th>nps_group</th>\n",
       "    </tr>\n",
       "  </thead>\n",
       "  <tbody>\n",
       "    <tr>\n",
       "      <th>0</th>\n",
       "      <td>A001A2</td>\n",
       "      <td>2320</td>\n",
       "      <td>старый клиент</td>\n",
       "      <td>45.0</td>\n",
       "      <td>женщина</td>\n",
       "      <td>ANDROID</td>\n",
       "      <td>SMARTPHONE</td>\n",
       "      <td>Россия</td>\n",
       "      <td>Уфа</td>\n",
       "      <td>45-54</td>\n",
       "      <td>1-5</td>\n",
       "      <td>36+</td>\n",
       "      <td>10</td>\n",
       "      <td>cторонники</td>\n",
       "    </tr>\n",
       "    <tr>\n",
       "      <th>1</th>\n",
       "      <td>A001WF</td>\n",
       "      <td>2344</td>\n",
       "      <td>старый клиент</td>\n",
       "      <td>53.0</td>\n",
       "      <td>мужчина</td>\n",
       "      <td>ANDROID</td>\n",
       "      <td>SMARTPHONE</td>\n",
       "      <td>Россия</td>\n",
       "      <td>Киров</td>\n",
       "      <td>45-54</td>\n",
       "      <td>1-5</td>\n",
       "      <td>36+</td>\n",
       "      <td>10</td>\n",
       "      <td>cторонники</td>\n",
       "    </tr>\n",
       "    <tr>\n",
       "      <th>2</th>\n",
       "      <td>A003Q7</td>\n",
       "      <td>467</td>\n",
       "      <td>старый клиент</td>\n",
       "      <td>57.0</td>\n",
       "      <td>мужчина</td>\n",
       "      <td>ANDROID</td>\n",
       "      <td>SMARTPHONE</td>\n",
       "      <td>Россия</td>\n",
       "      <td>Москва</td>\n",
       "      <td>55-64</td>\n",
       "      <td>20-25</td>\n",
       "      <td>13-24</td>\n",
       "      <td>10</td>\n",
       "      <td>cторонники</td>\n",
       "    </tr>\n",
       "    <tr>\n",
       "      <th>3</th>\n",
       "      <td>A004TB</td>\n",
       "      <td>4190</td>\n",
       "      <td>старый клиент</td>\n",
       "      <td>44.0</td>\n",
       "      <td>женщина</td>\n",
       "      <td>IOS</td>\n",
       "      <td>SMARTPHONE</td>\n",
       "      <td>Россия</td>\n",
       "      <td>Ростов-на-Дону</td>\n",
       "      <td>35-44</td>\n",
       "      <td>0.1-1</td>\n",
       "      <td>36+</td>\n",
       "      <td>10</td>\n",
       "      <td>cторонники</td>\n",
       "    </tr>\n",
       "    <tr>\n",
       "      <th>4</th>\n",
       "      <td>A004XT</td>\n",
       "      <td>1163</td>\n",
       "      <td>старый клиент</td>\n",
       "      <td>24.0</td>\n",
       "      <td>мужчина</td>\n",
       "      <td>ANDROID</td>\n",
       "      <td>SMARTPHONE</td>\n",
       "      <td>Россия</td>\n",
       "      <td>Рязань</td>\n",
       "      <td>16-24</td>\n",
       "      <td>5-10</td>\n",
       "      <td>36+</td>\n",
       "      <td>10</td>\n",
       "      <td>cторонники</td>\n",
       "    </tr>\n",
       "    <tr>\n",
       "      <th>...</th>\n",
       "      <td>...</td>\n",
       "      <td>...</td>\n",
       "      <td>...</td>\n",
       "      <td>...</td>\n",
       "      <td>...</td>\n",
       "      <td>...</td>\n",
       "      <td>...</td>\n",
       "      <td>...</td>\n",
       "      <td>...</td>\n",
       "      <td>...</td>\n",
       "      <td>...</td>\n",
       "      <td>...</td>\n",
       "      <td>...</td>\n",
       "      <td>...</td>\n",
       "    </tr>\n",
       "    <tr>\n",
       "      <th>502488</th>\n",
       "      <td>ZZZKLD</td>\n",
       "      <td>1249</td>\n",
       "      <td>старый клиент</td>\n",
       "      <td>54.0</td>\n",
       "      <td>женщина</td>\n",
       "      <td>ANDROID</td>\n",
       "      <td>SMARTPHONE</td>\n",
       "      <td>Россия</td>\n",
       "      <td>Москва</td>\n",
       "      <td>45-54</td>\n",
       "      <td>1-5</td>\n",
       "      <td>36+</td>\n",
       "      <td>5</td>\n",
       "      <td>критики</td>\n",
       "    </tr>\n",
       "    <tr>\n",
       "      <th>502489</th>\n",
       "      <td>ZZZLWY</td>\n",
       "      <td>129</td>\n",
       "      <td>новый клиент</td>\n",
       "      <td>31.0</td>\n",
       "      <td>мужчина</td>\n",
       "      <td>ANDROID</td>\n",
       "      <td>SMARTPHONE</td>\n",
       "      <td>Россия</td>\n",
       "      <td>Москва</td>\n",
       "      <td>25-34</td>\n",
       "      <td>1-5</td>\n",
       "      <td>4-6</td>\n",
       "      <td>8</td>\n",
       "      <td>нейтралы</td>\n",
       "    </tr>\n",
       "    <tr>\n",
       "      <th>502490</th>\n",
       "      <td>ZZZQ5F</td>\n",
       "      <td>522</td>\n",
       "      <td>старый клиент</td>\n",
       "      <td>36.0</td>\n",
       "      <td>мужчина</td>\n",
       "      <td>ANDROID</td>\n",
       "      <td>SMARTPHONE</td>\n",
       "      <td>Россия</td>\n",
       "      <td>Сургут</td>\n",
       "      <td>35-44</td>\n",
       "      <td>25-30</td>\n",
       "      <td>13-24</td>\n",
       "      <td>10</td>\n",
       "      <td>cторонники</td>\n",
       "    </tr>\n",
       "    <tr>\n",
       "      <th>502491</th>\n",
       "      <td>ZZZQ8E</td>\n",
       "      <td>2936</td>\n",
       "      <td>старый клиент</td>\n",
       "      <td>37.0</td>\n",
       "      <td>женщина</td>\n",
       "      <td>ANDROID</td>\n",
       "      <td>SMARTPHONE</td>\n",
       "      <td>Россия</td>\n",
       "      <td>Улан-Удэ</td>\n",
       "      <td>35-44</td>\n",
       "      <td>65-70</td>\n",
       "      <td>36+</td>\n",
       "      <td>9</td>\n",
       "      <td>cторонники</td>\n",
       "    </tr>\n",
       "    <tr>\n",
       "      <th>502492</th>\n",
       "      <td>ZZZYH0</td>\n",
       "      <td>2471</td>\n",
       "      <td>старый клиент</td>\n",
       "      <td>37.0</td>\n",
       "      <td>мужчина</td>\n",
       "      <td>IOS</td>\n",
       "      <td>SMARTPHONE</td>\n",
       "      <td>Россия</td>\n",
       "      <td>Самара</td>\n",
       "      <td>35-44</td>\n",
       "      <td>10-15</td>\n",
       "      <td>36+</td>\n",
       "      <td>2</td>\n",
       "      <td>критики</td>\n",
       "    </tr>\n",
       "  </tbody>\n",
       "</table>\n",
       "<p>502493 rows × 14 columns</p>\n",
       "</div>"
      ],
      "text/plain": [
       "       user_id  lt_day         is_new   age gender_segment  os_name  \\\n",
       "0       A001A2    2320  старый клиент  45.0        женщина  ANDROID   \n",
       "1       A001WF    2344  старый клиент  53.0        мужчина  ANDROID   \n",
       "2       A003Q7     467  старый клиент  57.0        мужчина  ANDROID   \n",
       "3       A004TB    4190  старый клиент  44.0        женщина      IOS   \n",
       "4       A004XT    1163  старый клиент  24.0        мужчина  ANDROID   \n",
       "...        ...     ...            ...   ...            ...      ...   \n",
       "502488  ZZZKLD    1249  старый клиент  54.0        женщина  ANDROID   \n",
       "502489  ZZZLWY     129   новый клиент  31.0        мужчина  ANDROID   \n",
       "502490  ZZZQ5F     522  старый клиент  36.0        мужчина  ANDROID   \n",
       "502491  ZZZQ8E    2936  старый клиент  37.0        женщина  ANDROID   \n",
       "502492  ZZZYH0    2471  старый клиент  37.0        мужчина      IOS   \n",
       "\n",
       "       cpe_type_name country            city age_segment traffic_segment  \\\n",
       "0         SMARTPHONE  Россия             Уфа       45-54             1-5   \n",
       "1         SMARTPHONE  Россия           Киров       45-54             1-5   \n",
       "2         SMARTPHONE  Россия          Москва       55-64           20-25   \n",
       "3         SMARTPHONE  Россия  Ростов-на-Дону       35-44           0.1-1   \n",
       "4         SMARTPHONE  Россия          Рязань       16-24            5-10   \n",
       "...              ...     ...             ...         ...             ...   \n",
       "502488    SMARTPHONE  Россия          Москва       45-54             1-5   \n",
       "502489    SMARTPHONE  Россия          Москва       25-34             1-5   \n",
       "502490    SMARTPHONE  Россия          Сургут       35-44           25-30   \n",
       "502491    SMARTPHONE  Россия        Улан-Удэ       35-44           65-70   \n",
       "502492    SMARTPHONE  Россия          Самара       35-44           10-15   \n",
       "\n",
       "       lifetime_segment  nps_score   nps_group  \n",
       "0                   36+         10  cторонники  \n",
       "1                   36+         10  cторонники  \n",
       "2                 13-24         10  cторонники  \n",
       "3                   36+         10  cторонники  \n",
       "4                   36+         10  cторонники  \n",
       "...                 ...        ...         ...  \n",
       "502488              36+          5     критики  \n",
       "502489              4-6          8    нейтралы  \n",
       "502490            13-24         10  cторонники  \n",
       "502491              36+          9  cторонники  \n",
       "502492              36+          2     критики  \n",
       "\n",
       "[502493 rows x 14 columns]"
      ]
     },
     "execution_count": 18,
     "metadata": {},
     "output_type": "execute_result"
    }
   ],
   "source": [
    "query = \"\"\"\n",
    "    SELECT  user_id,\n",
    "            lt_day,\n",
    "            CASE\n",
    "               WHEN lt_day <= 365 THEN 'новый клиент'\n",
    "               WHEN lt_day > 365 THEN 'старый клиент'\n",
    "            END AS is_new,\n",
    "            age,\n",
    "            CASE\n",
    "               WHEN gender_segment = 0 THEN 'мужчина'\n",
    "               WHEN gender_segment = 1 THEN 'женщина'\n",
    "               ELSE 'неопределенный'\n",
    "            END AS gender_segment,\n",
    "            os_name,\n",
    "            cpe_type_name,\n",
    "            l.country,\n",
    "            l.city,\n",
    "            SUBSTR(a.title, 4) AS age_segment,\n",
    "            SUBSTR(t.title, 4) AS traffic_segment,\n",
    "            SUBSTR(ls.title, 4) AS lifetime_segment,\n",
    "            nps_score,\n",
    "            CASE\n",
    "               WHEN 9 <= nps_score AND nps_score <= 10 THEN 'cторонники'\n",
    "               WHEN 7 <= nps_score AND nps_score <= 8 THEN 'нейтралы'\n",
    "               WHEN 0 <= nps_score AND nps_score <= 6 THEN 'критики'\n",
    "            END AS nps_group\n",
    "    FROM user AS u\n",
    "    INNER JOIN (\n",
    "            SELECT location_id, \n",
    "                CASE\n",
    "                    WHEN city = 'СанктПетербург' THEN 'Санкт-Петербург'\n",
    "                    WHEN city = 'НижнийНовгород' THEN 'Нижний Новгород'\n",
    "                    WHEN city = 'РостовнаДону' THEN 'Ростов-на-Дону'\n",
    "                    WHEN city = 'УланУдэ' THEN 'Улан-Удэ'\n",
    "                    WHEN city = 'НижнийТагил' THEN 'Нижний Тагил'\n",
    "                    WHEN city = 'НабережныеЧелны' THEN 'Набережные Челны'\n",
    "                    ELSE city \n",
    "                END AS city, country\n",
    "            FROM location\n",
    "            ) AS l ON l.location_id = u.location_id\n",
    "    INNER JOIN age_segment AS a ON a.age_gr_id = u.age_gr_id\n",
    "    INNER JOIN traffic_segment AS t ON t.tr_gr_id = u.tr_gr_id\n",
    "    INNER JOIN lifetime_segment AS ls ON ls.lt_gr_id = u.lt_gr_id;\n",
    "\"\"\"\n",
    "df = pd.read_sql(query, engine)\n",
    "df"
   ]
  },
  {
   "cell_type": "markdown",
   "id": "9adfa189",
   "metadata": {},
   "source": [
    "Общее количество строк не изменилось."
   ]
  },
  {
   "cell_type": "code",
   "execution_count": 19,
   "id": "9db04858",
   "metadata": {},
   "outputs": [
    {
     "data": {
      "text/html": [
       "<div>\n",
       "<style scoped>\n",
       "    .dataframe tbody tr th:only-of-type {\n",
       "        vertical-align: middle;\n",
       "    }\n",
       "\n",
       "    .dataframe tbody tr th {\n",
       "        vertical-align: top;\n",
       "    }\n",
       "\n",
       "    .dataframe thead th {\n",
       "        text-align: right;\n",
       "    }\n",
       "</style>\n",
       "<table border=\"1\" class=\"dataframe\">\n",
       "  <thead>\n",
       "    <tr style=\"text-align: right;\">\n",
       "      <th></th>\n",
       "      <th>user_id</th>\n",
       "      <th>lt_day</th>\n",
       "      <th>is_new</th>\n",
       "      <th>age</th>\n",
       "      <th>gender_segment</th>\n",
       "      <th>os_name</th>\n",
       "      <th>cpe_type_name</th>\n",
       "      <th>country</th>\n",
       "      <th>city</th>\n",
       "      <th>age_segment</th>\n",
       "      <th>traffic_segment</th>\n",
       "      <th>lifetime_segment</th>\n",
       "      <th>nps_score</th>\n",
       "      <th>nps_group</th>\n",
       "    </tr>\n",
       "  </thead>\n",
       "  <tbody>\n",
       "    <tr>\n",
       "      <th>0</th>\n",
       "      <td>A001A2</td>\n",
       "      <td>2320</td>\n",
       "      <td>старый клиент</td>\n",
       "      <td>45.0</td>\n",
       "      <td>женщина</td>\n",
       "      <td>ANDROID</td>\n",
       "      <td>SMARTPHONE</td>\n",
       "      <td>Россия</td>\n",
       "      <td>Уфа</td>\n",
       "      <td>45-54</td>\n",
       "      <td>1-5</td>\n",
       "      <td>36+</td>\n",
       "      <td>10</td>\n",
       "      <td>cторонники</td>\n",
       "    </tr>\n",
       "    <tr>\n",
       "      <th>1</th>\n",
       "      <td>A001WF</td>\n",
       "      <td>2344</td>\n",
       "      <td>старый клиент</td>\n",
       "      <td>53.0</td>\n",
       "      <td>мужчина</td>\n",
       "      <td>ANDROID</td>\n",
       "      <td>SMARTPHONE</td>\n",
       "      <td>Россия</td>\n",
       "      <td>Киров</td>\n",
       "      <td>45-54</td>\n",
       "      <td>1-5</td>\n",
       "      <td>36+</td>\n",
       "      <td>10</td>\n",
       "      <td>cторонники</td>\n",
       "    </tr>\n",
       "    <tr>\n",
       "      <th>2</th>\n",
       "      <td>A003Q7</td>\n",
       "      <td>467</td>\n",
       "      <td>старый клиент</td>\n",
       "      <td>57.0</td>\n",
       "      <td>мужчина</td>\n",
       "      <td>ANDROID</td>\n",
       "      <td>SMARTPHONE</td>\n",
       "      <td>Россия</td>\n",
       "      <td>Москва</td>\n",
       "      <td>55-64</td>\n",
       "      <td>20-25</td>\n",
       "      <td>13-24</td>\n",
       "      <td>10</td>\n",
       "      <td>cторонники</td>\n",
       "    </tr>\n",
       "    <tr>\n",
       "      <th>3</th>\n",
       "      <td>A004TB</td>\n",
       "      <td>4190</td>\n",
       "      <td>старый клиент</td>\n",
       "      <td>44.0</td>\n",
       "      <td>женщина</td>\n",
       "      <td>IOS</td>\n",
       "      <td>SMARTPHONE</td>\n",
       "      <td>Россия</td>\n",
       "      <td>Ростов-на-Дону</td>\n",
       "      <td>35-44</td>\n",
       "      <td>0.1-1</td>\n",
       "      <td>36+</td>\n",
       "      <td>10</td>\n",
       "      <td>cторонники</td>\n",
       "    </tr>\n",
       "    <tr>\n",
       "      <th>4</th>\n",
       "      <td>A004XT</td>\n",
       "      <td>1163</td>\n",
       "      <td>старый клиент</td>\n",
       "      <td>24.0</td>\n",
       "      <td>мужчина</td>\n",
       "      <td>ANDROID</td>\n",
       "      <td>SMARTPHONE</td>\n",
       "      <td>Россия</td>\n",
       "      <td>Рязань</td>\n",
       "      <td>16-24</td>\n",
       "      <td>5-10</td>\n",
       "      <td>36+</td>\n",
       "      <td>10</td>\n",
       "      <td>cторонники</td>\n",
       "    </tr>\n",
       "    <tr>\n",
       "      <th>...</th>\n",
       "      <td>...</td>\n",
       "      <td>...</td>\n",
       "      <td>...</td>\n",
       "      <td>...</td>\n",
       "      <td>...</td>\n",
       "      <td>...</td>\n",
       "      <td>...</td>\n",
       "      <td>...</td>\n",
       "      <td>...</td>\n",
       "      <td>...</td>\n",
       "      <td>...</td>\n",
       "      <td>...</td>\n",
       "      <td>...</td>\n",
       "      <td>...</td>\n",
       "    </tr>\n",
       "    <tr>\n",
       "      <th>502488</th>\n",
       "      <td>ZZZKLD</td>\n",
       "      <td>1249</td>\n",
       "      <td>старый клиент</td>\n",
       "      <td>54.0</td>\n",
       "      <td>женщина</td>\n",
       "      <td>ANDROID</td>\n",
       "      <td>SMARTPHONE</td>\n",
       "      <td>Россия</td>\n",
       "      <td>Москва</td>\n",
       "      <td>45-54</td>\n",
       "      <td>1-5</td>\n",
       "      <td>36+</td>\n",
       "      <td>5</td>\n",
       "      <td>критики</td>\n",
       "    </tr>\n",
       "    <tr>\n",
       "      <th>502489</th>\n",
       "      <td>ZZZLWY</td>\n",
       "      <td>129</td>\n",
       "      <td>новый клиент</td>\n",
       "      <td>31.0</td>\n",
       "      <td>мужчина</td>\n",
       "      <td>ANDROID</td>\n",
       "      <td>SMARTPHONE</td>\n",
       "      <td>Россия</td>\n",
       "      <td>Москва</td>\n",
       "      <td>25-34</td>\n",
       "      <td>1-5</td>\n",
       "      <td>4-6</td>\n",
       "      <td>8</td>\n",
       "      <td>нейтралы</td>\n",
       "    </tr>\n",
       "    <tr>\n",
       "      <th>502490</th>\n",
       "      <td>ZZZQ5F</td>\n",
       "      <td>522</td>\n",
       "      <td>старый клиент</td>\n",
       "      <td>36.0</td>\n",
       "      <td>мужчина</td>\n",
       "      <td>ANDROID</td>\n",
       "      <td>SMARTPHONE</td>\n",
       "      <td>Россия</td>\n",
       "      <td>Сургут</td>\n",
       "      <td>35-44</td>\n",
       "      <td>25-30</td>\n",
       "      <td>13-24</td>\n",
       "      <td>10</td>\n",
       "      <td>cторонники</td>\n",
       "    </tr>\n",
       "    <tr>\n",
       "      <th>502491</th>\n",
       "      <td>ZZZQ8E</td>\n",
       "      <td>2936</td>\n",
       "      <td>старый клиент</td>\n",
       "      <td>37.0</td>\n",
       "      <td>женщина</td>\n",
       "      <td>ANDROID</td>\n",
       "      <td>SMARTPHONE</td>\n",
       "      <td>Россия</td>\n",
       "      <td>Улан-Удэ</td>\n",
       "      <td>35-44</td>\n",
       "      <td>65-70</td>\n",
       "      <td>36+</td>\n",
       "      <td>9</td>\n",
       "      <td>cторонники</td>\n",
       "    </tr>\n",
       "    <tr>\n",
       "      <th>502492</th>\n",
       "      <td>ZZZYH0</td>\n",
       "      <td>2471</td>\n",
       "      <td>старый клиент</td>\n",
       "      <td>37.0</td>\n",
       "      <td>мужчина</td>\n",
       "      <td>IOS</td>\n",
       "      <td>SMARTPHONE</td>\n",
       "      <td>Россия</td>\n",
       "      <td>Самара</td>\n",
       "      <td>35-44</td>\n",
       "      <td>10-15</td>\n",
       "      <td>36+</td>\n",
       "      <td>2</td>\n",
       "      <td>критики</td>\n",
       "    </tr>\n",
       "  </tbody>\n",
       "</table>\n",
       "<p>502493 rows × 14 columns</p>\n",
       "</div>"
      ],
      "text/plain": [
       "       user_id  lt_day         is_new   age gender_segment  os_name  \\\n",
       "0       A001A2    2320  старый клиент  45.0        женщина  ANDROID   \n",
       "1       A001WF    2344  старый клиент  53.0        мужчина  ANDROID   \n",
       "2       A003Q7     467  старый клиент  57.0        мужчина  ANDROID   \n",
       "3       A004TB    4190  старый клиент  44.0        женщина      IOS   \n",
       "4       A004XT    1163  старый клиент  24.0        мужчина  ANDROID   \n",
       "...        ...     ...            ...   ...            ...      ...   \n",
       "502488  ZZZKLD    1249  старый клиент  54.0        женщина  ANDROID   \n",
       "502489  ZZZLWY     129   новый клиент  31.0        мужчина  ANDROID   \n",
       "502490  ZZZQ5F     522  старый клиент  36.0        мужчина  ANDROID   \n",
       "502491  ZZZQ8E    2936  старый клиент  37.0        женщина  ANDROID   \n",
       "502492  ZZZYH0    2471  старый клиент  37.0        мужчина      IOS   \n",
       "\n",
       "       cpe_type_name country            city age_segment traffic_segment  \\\n",
       "0         SMARTPHONE  Россия             Уфа       45-54             1-5   \n",
       "1         SMARTPHONE  Россия           Киров       45-54             1-5   \n",
       "2         SMARTPHONE  Россия          Москва       55-64           20-25   \n",
       "3         SMARTPHONE  Россия  Ростов-на-Дону       35-44           0.1-1   \n",
       "4         SMARTPHONE  Россия          Рязань       16-24            5-10   \n",
       "...              ...     ...             ...         ...             ...   \n",
       "502488    SMARTPHONE  Россия          Москва       45-54             1-5   \n",
       "502489    SMARTPHONE  Россия          Москва       25-34             1-5   \n",
       "502490    SMARTPHONE  Россия          Сургут       35-44           25-30   \n",
       "502491    SMARTPHONE  Россия        Улан-Удэ       35-44           65-70   \n",
       "502492    SMARTPHONE  Россия          Самара       35-44           10-15   \n",
       "\n",
       "       lifetime_segment  nps_score   nps_group  \n",
       "0                   36+         10  cторонники  \n",
       "1                   36+         10  cторонники  \n",
       "2                 13-24         10  cторонники  \n",
       "3                   36+         10  cторонники  \n",
       "4                   36+         10  cторонники  \n",
       "...                 ...        ...         ...  \n",
       "502488              36+          5     критики  \n",
       "502489              4-6          8    нейтралы  \n",
       "502490            13-24         10  cторонники  \n",
       "502491              36+          9  cторонники  \n",
       "502492              36+          2     критики  \n",
       "\n",
       "[502493 rows x 14 columns]"
      ]
     },
     "execution_count": 19,
     "metadata": {},
     "output_type": "execute_result"
    }
   ],
   "source": [
    "df.to_csv('telecomm_csi_tableau.csv', index=False)\n",
    "df"
   ]
  },
  {
   "cell_type": "markdown",
   "id": "52e23f56",
   "metadata": {},
   "source": [
    "Добрый день! Направляю проектную работу: Сборный проект 2. Ссылка на дашборд и презентацию: https://public.tableau.com/views/DA42_Kudinov_SbP2_V3/NPS_7?:language=en-US&:sid=&:redirect=auth&:display_count=n&:origin=viz_share_link"
   ]
  }
 ],
 "metadata": {
  "ExecuteTimeLog": [
   {
    "duration": 554,
    "start_time": "2024-09-18T16:02:59.816Z"
   },
   {
    "duration": 70,
    "start_time": "2024-09-18T16:03:02.374Z"
   },
   {
    "duration": 3,
    "start_time": "2024-09-18T16:03:32.317Z"
   },
   {
    "duration": 555,
    "start_time": "2024-09-18T16:03:38.583Z"
   },
   {
    "duration": 3,
    "start_time": "2024-09-18T16:18:55.286Z"
   },
   {
    "duration": 4523,
    "start_time": "2024-09-18T16:18:57.105Z"
   },
   {
    "duration": 3704,
    "start_time": "2024-09-18T16:19:07.464Z"
   },
   {
    "duration": 690,
    "start_time": "2024-09-18T16:20:46.650Z"
   },
   {
    "duration": 701,
    "start_time": "2024-09-18T16:21:16.794Z"
   },
   {
    "duration": 705,
    "start_time": "2024-09-18T16:21:58.498Z"
   },
   {
    "duration": 702,
    "start_time": "2024-09-18T16:22:15.515Z"
   },
   {
    "duration": 74,
    "start_time": "2024-09-18T16:50:26.845Z"
   },
   {
    "duration": 3,
    "start_time": "2024-09-18T16:51:16.945Z"
   },
   {
    "duration": 19,
    "start_time": "2024-09-18T16:51:32.039Z"
   },
   {
    "duration": 700,
    "start_time": "2024-09-18T16:52:11.846Z"
   },
   {
    "duration": 696,
    "start_time": "2024-09-18T16:54:04.569Z"
   },
   {
    "duration": 697,
    "start_time": "2024-09-18T16:59:14.977Z"
   },
   {
    "duration": 698,
    "start_time": "2024-09-18T16:59:37.740Z"
   },
   {
    "duration": 3745,
    "start_time": "2024-09-18T17:01:57.894Z"
   },
   {
    "duration": 3,
    "start_time": "2024-09-18T18:43:17.270Z"
   },
   {
    "duration": 68,
    "start_time": "2024-09-18T18:43:19.291Z"
   },
   {
    "duration": 3,
    "start_time": "2024-09-18T18:43:20.654Z"
   },
   {
    "duration": 3685,
    "start_time": "2024-09-18T18:43:22.387Z"
   },
   {
    "duration": 700,
    "start_time": "2024-09-18T18:43:31.376Z"
   },
   {
    "duration": 702,
    "start_time": "2024-09-18T18:43:34.707Z"
   },
   {
    "duration": 697,
    "start_time": "2024-09-18T18:43:36.527Z"
   },
   {
    "duration": 700,
    "start_time": "2024-09-18T18:43:38.566Z"
   },
   {
    "duration": 706,
    "start_time": "2024-09-18T18:44:05.847Z"
   },
   {
    "duration": 705,
    "start_time": "2024-09-18T18:44:29.642Z"
   },
   {
    "duration": 10,
    "start_time": "2024-09-18T18:54:18.133Z"
   },
   {
    "duration": 704,
    "start_time": "2024-09-18T18:55:59.814Z"
   },
   {
    "duration": 117,
    "start_time": "2024-09-18T18:56:16.830Z"
   },
   {
    "duration": 4,
    "start_time": "2024-09-18T19:00:10.761Z"
   },
   {
    "duration": 87,
    "start_time": "2024-09-18T19:00:11.808Z"
   },
   {
    "duration": 2,
    "start_time": "2024-09-18T19:00:16.401Z"
   },
   {
    "duration": 3662,
    "start_time": "2024-09-18T19:00:19.246Z"
   },
   {
    "duration": 715,
    "start_time": "2024-09-18T19:00:25.474Z"
   },
   {
    "duration": 704,
    "start_time": "2024-09-18T19:00:30.561Z"
   },
   {
    "duration": 700,
    "start_time": "2024-09-18T19:00:35.616Z"
   },
   {
    "duration": 711,
    "start_time": "2024-09-18T19:00:39.602Z"
   },
   {
    "duration": 708,
    "start_time": "2024-09-18T19:01:08.529Z"
   },
   {
    "duration": 707,
    "start_time": "2024-09-18T19:01:14.642Z"
   },
   {
    "duration": 703,
    "start_time": "2024-09-18T19:01:22.098Z"
   },
   {
    "duration": 420,
    "start_time": "2024-09-18T19:04:15.677Z"
   },
   {
    "duration": 709,
    "start_time": "2024-09-18T19:04:57.805Z"
   },
   {
    "duration": 701,
    "start_time": "2024-09-18T19:05:21.621Z"
   },
   {
    "duration": 420,
    "start_time": "2024-09-18T19:45:24.731Z"
   },
   {
    "duration": 417,
    "start_time": "2024-09-18T19:46:11.881Z"
   },
   {
    "duration": 429,
    "start_time": "2024-09-18T19:46:36.176Z"
   },
   {
    "duration": 428,
    "start_time": "2024-09-18T19:47:19.959Z"
   },
   {
    "duration": 418,
    "start_time": "2024-09-18T19:47:52.986Z"
   },
   {
    "duration": 422,
    "start_time": "2024-09-18T19:48:52.386Z"
   },
   {
    "duration": 3,
    "start_time": "2024-09-18T19:49:57.155Z"
   },
   {
    "duration": 420,
    "start_time": "2024-09-18T19:50:11.419Z"
   },
   {
    "duration": 3,
    "start_time": "2024-09-18T19:50:40.284Z"
   },
   {
    "duration": 419,
    "start_time": "2024-09-18T19:50:42.027Z"
   },
   {
    "duration": 417,
    "start_time": "2024-09-18T19:52:02.244Z"
   },
   {
    "duration": 428,
    "start_time": "2024-09-18T19:56:09.735Z"
   },
   {
    "duration": 423,
    "start_time": "2024-09-18T19:58:06.194Z"
   },
   {
    "duration": 3,
    "start_time": "2024-09-18T19:58:16.054Z"
   },
   {
    "duration": 53,
    "start_time": "2024-09-18T19:58:16.960Z"
   },
   {
    "duration": 3,
    "start_time": "2024-09-18T19:58:18.439Z"
   },
   {
    "duration": 3799,
    "start_time": "2024-09-18T19:58:19.488Z"
   },
   {
    "duration": 693,
    "start_time": "2024-09-18T19:58:23.289Z"
   },
   {
    "duration": 695,
    "start_time": "2024-09-18T19:58:25.480Z"
   },
   {
    "duration": 698,
    "start_time": "2024-09-18T19:58:27.461Z"
   },
   {
    "duration": 699,
    "start_time": "2024-09-18T19:58:29.408Z"
   },
   {
    "duration": 520,
    "start_time": "2024-09-18T19:58:33.417Z"
   },
   {
    "duration": 751,
    "start_time": "2024-09-18T19:59:23.216Z"
   },
   {
    "duration": 5800,
    "start_time": "2024-09-18T19:59:55.107Z"
   },
   {
    "duration": 423,
    "start_time": "2024-09-18T20:02:01.850Z"
   },
   {
    "duration": 759,
    "start_time": "2024-09-18T20:02:41.299Z"
   },
   {
    "duration": 755,
    "start_time": "2024-09-18T20:03:06.502Z"
   },
   {
    "duration": 5865,
    "start_time": "2024-09-18T20:03:27.389Z"
   },
   {
    "duration": 4943,
    "start_time": "2024-09-18T20:04:46.838Z"
   },
   {
    "duration": 6017,
    "start_time": "2024-09-18T20:22:59.625Z"
   },
   {
    "duration": 3,
    "start_time": "2024-09-18T20:23:28.828Z"
   },
   {
    "duration": 65,
    "start_time": "2024-09-18T20:23:29.759Z"
   },
   {
    "duration": 3,
    "start_time": "2024-09-18T20:23:38.097Z"
   },
   {
    "duration": 3485,
    "start_time": "2024-09-18T20:23:39.497Z"
   },
   {
    "duration": 696,
    "start_time": "2024-09-18T20:23:45.184Z"
   },
   {
    "duration": 697,
    "start_time": "2024-09-18T20:23:48.577Z"
   },
   {
    "duration": 702,
    "start_time": "2024-09-18T20:23:51.130Z"
   },
   {
    "duration": 701,
    "start_time": "2024-09-18T20:23:54.769Z"
   },
   {
    "duration": 4828,
    "start_time": "2024-09-18T20:24:06.274Z"
   },
   {
    "duration": 567,
    "start_time": "2024-09-18T20:24:52.073Z"
   },
   {
    "duration": 59,
    "start_time": "2024-09-18T20:24:57.649Z"
   },
   {
    "duration": 2,
    "start_time": "2024-09-18T20:24:59.469Z"
   },
   {
    "duration": 4525,
    "start_time": "2024-09-18T20:25:00.466Z"
   },
   {
    "duration": 704,
    "start_time": "2024-09-18T20:25:06.165Z"
   },
   {
    "duration": 701,
    "start_time": "2024-09-18T20:25:08.162Z"
   },
   {
    "duration": 699,
    "start_time": "2024-09-18T20:25:09.754Z"
   },
   {
    "duration": 699,
    "start_time": "2024-09-18T20:25:11.378Z"
   },
   {
    "duration": 5997,
    "start_time": "2024-09-18T20:25:16.301Z"
   },
   {
    "duration": 4779,
    "start_time": "2024-09-18T20:27:27.091Z"
   },
   {
    "duration": 2,
    "start_time": "2024-09-18T20:28:05.939Z"
   },
   {
    "duration": 563,
    "start_time": "2024-09-19T15:56:54.550Z"
   },
   {
    "duration": 87,
    "start_time": "2024-09-19T15:56:56.629Z"
   },
   {
    "duration": 2,
    "start_time": "2024-09-19T15:56:59.269Z"
   },
   {
    "duration": 4011,
    "start_time": "2024-09-19T15:57:02.340Z"
   },
   {
    "duration": 585,
    "start_time": "2024-09-19T15:57:25.255Z"
   },
   {
    "duration": 592,
    "start_time": "2024-09-19T15:57:29.877Z"
   },
   {
    "duration": 569,
    "start_time": "2024-09-19T15:57:33.832Z"
   },
   {
    "duration": 568,
    "start_time": "2024-09-19T15:57:38.429Z"
   },
   {
    "duration": 614,
    "start_time": "2024-09-19T16:02:08.280Z"
   },
   {
    "duration": 462,
    "start_time": "2024-09-19T16:05:48.982Z"
   },
   {
    "duration": 379,
    "start_time": "2024-09-19T16:06:27.963Z"
   },
   {
    "duration": 693,
    "start_time": "2024-09-19T16:06:47.717Z"
   },
   {
    "duration": 550,
    "start_time": "2024-09-19T16:08:42.771Z"
   },
   {
    "duration": 584,
    "start_time": "2024-09-19T16:11:51.735Z"
   },
   {
    "duration": 591,
    "start_time": "2024-09-19T16:13:02.527Z"
   },
   {
    "duration": 560,
    "start_time": "2024-09-19T16:14:09.496Z"
   },
   {
    "duration": 592,
    "start_time": "2024-09-19T16:21:09.163Z"
   },
   {
    "duration": 561,
    "start_time": "2024-09-19T16:27:27.706Z"
   },
   {
    "duration": 556,
    "start_time": "2024-09-19T16:27:32.106Z"
   },
   {
    "duration": 587,
    "start_time": "2024-09-19T16:27:37.394Z"
   },
   {
    "duration": 554,
    "start_time": "2024-09-19T16:27:42.618Z"
   },
   {
    "duration": 7130,
    "start_time": "2024-09-19T16:36:21.849Z"
   },
   {
    "duration": 429,
    "start_time": "2024-09-19T17:51:44.216Z"
   },
   {
    "duration": 2,
    "start_time": "2024-09-19T17:52:16.555Z"
   },
   {
    "duration": 77,
    "start_time": "2024-09-19T17:52:17.139Z"
   },
   {
    "duration": 3,
    "start_time": "2024-09-19T17:52:17.617Z"
   },
   {
    "duration": 3757,
    "start_time": "2024-09-19T17:52:18.379Z"
   },
   {
    "duration": 586,
    "start_time": "2024-09-19T17:52:23.571Z"
   },
   {
    "duration": 556,
    "start_time": "2024-09-19T17:52:25.229Z"
   },
   {
    "duration": 550,
    "start_time": "2024-09-19T17:52:26.651Z"
   },
   {
    "duration": 571,
    "start_time": "2024-09-19T17:52:28.316Z"
   },
   {
    "duration": 701,
    "start_time": "2024-09-19T17:52:30.995Z"
   },
   {
    "duration": 618,
    "start_time": "2024-09-19T17:52:35.356Z"
   },
   {
    "duration": 578,
    "start_time": "2024-09-19T17:52:40.219Z"
   },
   {
    "duration": 560,
    "start_time": "2024-09-19T17:52:42.349Z"
   },
   {
    "duration": 588,
    "start_time": "2024-09-19T17:52:44.562Z"
   },
   {
    "duration": 546,
    "start_time": "2024-09-19T17:52:47.971Z"
   },
   {
    "duration": 593,
    "start_time": "2024-09-19T17:52:53.033Z"
   },
   {
    "duration": 385,
    "start_time": "2024-09-19T17:53:49.059Z"
   },
   {
    "duration": 682,
    "start_time": "2024-09-19T17:54:05.612Z"
   },
   {
    "duration": 6361,
    "start_time": "2024-09-19T17:54:56.126Z"
   },
   {
    "duration": 5910,
    "start_time": "2024-09-19T17:56:21.958Z"
   },
   {
    "duration": 3,
    "start_time": "2024-09-19T22:51:16.573Z"
   },
   {
    "duration": 63,
    "start_time": "2024-09-19T22:51:20.288Z"
   },
   {
    "duration": 3,
    "start_time": "2024-09-19T22:51:21.472Z"
   },
   {
    "duration": 3657,
    "start_time": "2024-09-19T22:51:23.409Z"
   },
   {
    "duration": 552,
    "start_time": "2024-09-19T22:51:30.498Z"
   },
   {
    "duration": 553,
    "start_time": "2024-09-19T22:51:32.036Z"
   },
   {
    "duration": 558,
    "start_time": "2024-09-19T22:51:34.096Z"
   },
   {
    "duration": 556,
    "start_time": "2024-09-19T22:51:36.672Z"
   },
   {
    "duration": 677,
    "start_time": "2024-09-19T22:52:31.913Z"
   },
   {
    "duration": 566,
    "start_time": "2024-09-19T22:53:17.610Z"
   },
   {
    "duration": 563,
    "start_time": "2024-09-19T22:54:16.242Z"
   },
   {
    "duration": 548,
    "start_time": "2024-09-19T22:54:23.091Z"
   },
   {
    "duration": 546,
    "start_time": "2024-09-19T22:54:25.706Z"
   },
   {
    "duration": 548,
    "start_time": "2024-09-19T22:54:30.811Z"
   },
   {
    "duration": 550,
    "start_time": "2024-09-19T22:54:40.522Z"
   },
   {
    "duration": 513,
    "start_time": "2024-09-19T23:05:18.288Z"
   },
   {
    "duration": 10,
    "start_time": "2024-09-19T23:05:18.803Z"
   },
   {
    "duration": 7,
    "start_time": "2024-09-19T23:05:18.814Z"
   },
   {
    "duration": 4366,
    "start_time": "2024-09-19T23:05:18.822Z"
   },
   {
    "duration": 1408,
    "start_time": "2024-09-19T23:05:23.189Z"
   },
   {
    "duration": 1210,
    "start_time": "2024-09-19T23:05:24.598Z"
   },
   {
    "duration": 1190,
    "start_time": "2024-09-19T23:05:25.810Z"
   },
   {
    "duration": 1092,
    "start_time": "2024-09-19T23:05:27.002Z"
   },
   {
    "duration": 1464,
    "start_time": "2024-09-19T23:05:28.095Z"
   },
   {
    "duration": 1162,
    "start_time": "2024-09-19T23:05:29.560Z"
   },
   {
    "duration": 1154,
    "start_time": "2024-09-19T23:05:30.723Z"
   },
   {
    "duration": 1309,
    "start_time": "2024-09-19T23:05:31.879Z"
   },
   {
    "duration": 1321,
    "start_time": "2024-09-19T23:05:33.190Z"
   },
   {
    "duration": 1280,
    "start_time": "2024-09-19T23:05:34.514Z"
   },
   {
    "duration": 6397,
    "start_time": "2024-09-19T23:05:35.796Z"
   },
   {
    "duration": 4720,
    "start_time": "2024-09-19T23:05:42.195Z"
   },
   {
    "duration": 512,
    "start_time": "2024-09-20T10:11:09.397Z"
   },
   {
    "duration": 10,
    "start_time": "2024-09-20T10:11:09.911Z"
   },
   {
    "duration": 10,
    "start_time": "2024-09-20T10:11:09.923Z"
   },
   {
    "duration": 4204,
    "start_time": "2024-09-20T10:11:09.935Z"
   },
   {
    "duration": 1066,
    "start_time": "2024-09-20T10:11:14.141Z"
   },
   {
    "duration": 1178,
    "start_time": "2024-09-20T10:11:15.209Z"
   },
   {
    "duration": 1940,
    "start_time": "2024-09-20T10:11:16.388Z"
   },
   {
    "duration": 1294,
    "start_time": "2024-09-20T10:11:18.329Z"
   },
   {
    "duration": 1647,
    "start_time": "2024-09-20T10:11:19.624Z"
   },
   {
    "duration": 1230,
    "start_time": "2024-09-20T10:11:21.273Z"
   },
   {
    "duration": 1277,
    "start_time": "2024-09-20T10:11:22.505Z"
   },
   {
    "duration": 1224,
    "start_time": "2024-09-20T10:11:23.784Z"
   },
   {
    "duration": 3201,
    "start_time": "2024-09-20T10:11:25.010Z"
   },
   {
    "duration": 1189,
    "start_time": "2024-09-20T10:11:28.213Z"
   },
   {
    "duration": 6581,
    "start_time": "2024-09-20T10:11:29.404Z"
   },
   {
    "duration": 5034,
    "start_time": "2024-09-20T10:11:35.986Z"
   },
   {
    "duration": 793,
    "start_time": "2024-09-20T10:23:38.160Z"
   },
   {
    "duration": 506,
    "start_time": "2024-09-20T10:56:18.803Z"
   },
   {
    "duration": 10,
    "start_time": "2024-09-20T10:56:19.311Z"
   },
   {
    "duration": 16,
    "start_time": "2024-09-20T10:56:19.323Z"
   },
   {
    "duration": 4554,
    "start_time": "2024-09-20T10:56:19.341Z"
   },
   {
    "duration": 1346,
    "start_time": "2024-09-20T10:56:23.898Z"
   },
   {
    "duration": 1540,
    "start_time": "2024-09-20T10:56:25.245Z"
   },
   {
    "duration": 1199,
    "start_time": "2024-09-20T10:56:26.787Z"
   },
   {
    "duration": 1294,
    "start_time": "2024-09-20T10:56:27.988Z"
   },
   {
    "duration": 1449,
    "start_time": "2024-09-20T10:56:29.283Z"
   },
   {
    "duration": 1381,
    "start_time": "2024-09-20T10:56:30.734Z"
   },
   {
    "duration": 1183,
    "start_time": "2024-09-20T10:56:32.117Z"
   },
   {
    "duration": 1245,
    "start_time": "2024-09-20T10:56:33.302Z"
   },
   {
    "duration": 1063,
    "start_time": "2024-09-20T10:56:34.549Z"
   },
   {
    "duration": 1202,
    "start_time": "2024-09-20T10:56:35.615Z"
   },
   {
    "duration": 6227,
    "start_time": "2024-09-20T10:56:36.819Z"
   },
   {
    "duration": 5021,
    "start_time": "2024-09-20T10:56:43.048Z"
   },
   {
    "duration": 548,
    "start_time": "2024-09-20T11:03:09.268Z"
   },
   {
    "duration": 12,
    "start_time": "2024-09-20T11:03:09.819Z"
   },
   {
    "duration": 41,
    "start_time": "2024-09-20T11:03:09.832Z"
   },
   {
    "duration": 4224,
    "start_time": "2024-09-20T11:03:09.874Z"
   },
   {
    "duration": 1106,
    "start_time": "2024-09-20T11:03:14.100Z"
   },
   {
    "duration": 1503,
    "start_time": "2024-09-20T11:03:15.208Z"
   },
   {
    "duration": 1143,
    "start_time": "2024-09-20T11:03:16.713Z"
   },
   {
    "duration": 1408,
    "start_time": "2024-09-20T11:03:17.857Z"
   },
   {
    "duration": 1598,
    "start_time": "2024-09-20T11:03:19.267Z"
   },
   {
    "duration": 1186,
    "start_time": "2024-09-20T11:03:20.866Z"
   },
   {
    "duration": 1625,
    "start_time": "2024-09-20T11:03:22.053Z"
   },
   {
    "duration": 1422,
    "start_time": "2024-09-20T11:03:23.680Z"
   },
   {
    "duration": 1277,
    "start_time": "2024-09-20T11:03:25.104Z"
   },
   {
    "duration": 1535,
    "start_time": "2024-09-20T11:03:26.383Z"
   },
   {
    "duration": 6659,
    "start_time": "2024-09-20T11:03:27.919Z"
   },
   {
    "duration": 5148,
    "start_time": "2024-09-20T11:03:34.580Z"
   },
   {
    "duration": 632,
    "start_time": "2024-09-20T11:49:24.877Z"
   },
   {
    "duration": 79,
    "start_time": "2024-09-20T11:49:26.550Z"
   },
   {
    "duration": 3,
    "start_time": "2024-09-20T11:49:40.940Z"
   },
   {
    "duration": 3095,
    "start_time": "2024-09-20T11:49:45.509Z"
   },
   {
    "duration": 562,
    "start_time": "2024-09-20T11:49:50.061Z"
   },
   {
    "duration": 562,
    "start_time": "2024-09-20T11:49:54.109Z"
   },
   {
    "duration": 570,
    "start_time": "2024-09-20T11:49:56.445Z"
   },
   {
    "duration": 563,
    "start_time": "2024-09-20T11:49:58.613Z"
   },
   {
    "duration": 673,
    "start_time": "2024-09-20T11:50:03.300Z"
   },
   {
    "duration": 579,
    "start_time": "2024-09-20T11:50:08.988Z"
   },
   {
    "duration": 616,
    "start_time": "2024-09-20T11:52:18.345Z"
   },
   {
    "duration": 612,
    "start_time": "2024-09-20T11:52:27.553Z"
   },
   {
    "duration": 618,
    "start_time": "2024-09-20T11:52:31.561Z"
   },
   {
    "duration": 628,
    "start_time": "2024-09-20T11:59:43.209Z"
   },
   {
    "duration": 543,
    "start_time": "2024-09-20T16:06:52.029Z"
   },
   {
    "duration": 127,
    "start_time": "2024-09-20T16:06:55.635Z"
   },
   {
    "duration": 2,
    "start_time": "2024-09-20T16:06:57.395Z"
   },
   {
    "duration": 3708,
    "start_time": "2024-09-20T16:07:05.827Z"
   },
   {
    "duration": 551,
    "start_time": "2024-09-20T16:07:10.909Z"
   },
   {
    "duration": 547,
    "start_time": "2024-09-20T16:07:17.980Z"
   },
   {
    "duration": 546,
    "start_time": "2024-09-20T16:07:19.555Z"
   },
   {
    "duration": 541,
    "start_time": "2024-09-20T16:07:22.907Z"
   },
   {
    "duration": 663,
    "start_time": "2024-09-20T16:07:30.571Z"
   },
   {
    "duration": 563,
    "start_time": "2024-09-20T16:07:35.701Z"
   },
   {
    "duration": 583,
    "start_time": "2024-09-20T16:09:20.196Z"
   },
   {
    "duration": 613,
    "start_time": "2024-09-20T16:09:59.556Z"
   },
   {
    "duration": 543,
    "start_time": "2024-09-20T16:18:01.540Z"
   },
   {
    "duration": 541,
    "start_time": "2024-09-20T16:18:42.130Z"
   },
   {
    "duration": 543,
    "start_time": "2024-09-20T16:22:49.001Z"
   },
   {
    "duration": 542,
    "start_time": "2024-09-20T16:25:47.615Z"
   },
   {
    "duration": 539,
    "start_time": "2024-09-20T16:28:02.042Z"
   },
   {
    "duration": 544,
    "start_time": "2024-09-20T16:29:11.554Z"
   },
   {
    "duration": 543,
    "start_time": "2024-09-20T16:33:26.468Z"
   },
   {
    "duration": 553,
    "start_time": "2024-09-20T16:34:35.313Z"
   },
   {
    "duration": 543,
    "start_time": "2024-09-20T16:38:50.058Z"
   },
   {
    "duration": 540,
    "start_time": "2024-09-20T16:39:24.105Z"
   },
   {
    "duration": 546,
    "start_time": "2024-09-20T16:39:26.200Z"
   },
   {
    "duration": 551,
    "start_time": "2024-09-20T16:39:31.632Z"
   },
   {
    "duration": 5752,
    "start_time": "2024-09-20T16:41:58.508Z"
   },
   {
    "duration": 4929,
    "start_time": "2024-09-20T16:50:40.415Z"
   },
   {
    "duration": 554,
    "start_time": "2024-09-21T14:25:26.661Z"
   },
   {
    "duration": 11,
    "start_time": "2024-09-21T14:25:27.217Z"
   },
   {
    "duration": 38,
    "start_time": "2024-09-21T14:25:27.230Z"
   },
   {
    "duration": 4236,
    "start_time": "2024-09-21T14:25:27.269Z"
   },
   {
    "duration": 1083,
    "start_time": "2024-09-21T14:25:31.507Z"
   },
   {
    "duration": 1310,
    "start_time": "2024-09-21T14:25:32.592Z"
   },
   {
    "duration": 1113,
    "start_time": "2024-09-21T14:25:33.903Z"
   },
   {
    "duration": 1146,
    "start_time": "2024-09-21T14:25:35.017Z"
   },
   {
    "duration": 1147,
    "start_time": "2024-09-21T14:25:36.164Z"
   },
   {
    "duration": 1290,
    "start_time": "2024-09-21T14:25:37.313Z"
   },
   {
    "duration": 1218,
    "start_time": "2024-09-21T14:25:38.605Z"
   },
   {
    "duration": 1246,
    "start_time": "2024-09-21T14:25:39.825Z"
   },
   {
    "duration": 1026,
    "start_time": "2024-09-21T14:25:41.072Z"
   },
   {
    "duration": 1294,
    "start_time": "2024-09-21T14:25:42.101Z"
   },
   {
    "duration": 1191,
    "start_time": "2024-09-21T14:25:43.397Z"
   },
   {
    "duration": 1105,
    "start_time": "2024-09-21T14:25:44.590Z"
   },
   {
    "duration": 1278,
    "start_time": "2024-09-21T14:25:45.697Z"
   },
   {
    "duration": 6166,
    "start_time": "2024-09-21T14:25:46.977Z"
   },
   {
    "duration": 5138,
    "start_time": "2024-09-21T14:25:53.144Z"
   },
   {
    "duration": 524,
    "start_time": "2024-09-21T14:31:17.507Z"
   },
   {
    "duration": 20,
    "start_time": "2024-09-21T14:31:18.033Z"
   },
   {
    "duration": 3,
    "start_time": "2024-09-21T14:31:18.055Z"
   },
   {
    "duration": 4365,
    "start_time": "2024-09-21T14:31:18.060Z"
   },
   {
    "duration": 1192,
    "start_time": "2024-09-21T14:31:22.447Z"
   },
   {
    "duration": 1134,
    "start_time": "2024-09-21T14:31:23.641Z"
   },
   {
    "duration": 1114,
    "start_time": "2024-09-21T14:31:24.776Z"
   },
   {
    "duration": 1120,
    "start_time": "2024-09-21T14:31:25.892Z"
   },
   {
    "duration": 1346,
    "start_time": "2024-09-21T14:31:27.013Z"
   },
   {
    "duration": 939,
    "start_time": "2024-09-21T14:31:28.360Z"
   },
   {
    "duration": 1063,
    "start_time": "2024-09-21T14:31:29.301Z"
   },
   {
    "duration": 1159,
    "start_time": "2024-09-21T14:31:30.365Z"
   },
   {
    "duration": 1097,
    "start_time": "2024-09-21T14:31:31.526Z"
   },
   {
    "duration": 1056,
    "start_time": "2024-09-21T14:31:32.625Z"
   },
   {
    "duration": 1564,
    "start_time": "2024-09-21T14:31:33.683Z"
   },
   {
    "duration": 1151,
    "start_time": "2024-09-21T14:31:35.248Z"
   },
   {
    "duration": 1285,
    "start_time": "2024-09-21T14:31:36.401Z"
   },
   {
    "duration": 7038,
    "start_time": "2024-09-21T14:31:37.687Z"
   },
   {
    "duration": 4859,
    "start_time": "2024-09-21T14:31:44.726Z"
   }
  ],
  "kernelspec": {
   "display_name": "Python 3 (ipykernel)",
   "language": "python",
   "name": "python3"
  },
  "language_info": {
   "codemirror_mode": {
    "name": "ipython",
    "version": 3
   },
   "file_extension": ".py",
   "mimetype": "text/x-python",
   "name": "python",
   "nbconvert_exporter": "python",
   "pygments_lexer": "ipython3",
   "version": "3.12.7"
  },
  "toc": {
   "base_numbering": 1,
   "nav_menu": {},
   "number_sections": true,
   "sideBar": true,
   "skip_h1_title": true,
   "title_cell": "Table of Contents",
   "title_sidebar": "Contents",
   "toc_cell": false,
   "toc_position": {},
   "toc_section_display": true,
   "toc_window_display": false
  }
 },
 "nbformat": 4,
 "nbformat_minor": 5
}
